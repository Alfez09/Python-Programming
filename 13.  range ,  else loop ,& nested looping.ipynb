{
 "cells": [
  {
   "cell_type": "markdown",
   "id": "a844c600",
   "metadata": {},
   "source": [
    "## range() function\n",
    "                                it returns a  range object.\n",
    "                                \n",
    "                       syntax:  range(start, stop, step)\n",
    "                       \n",
    "                       Return an object that produces a sequence of integers from start (inclusive)\n",
    "                       to stop (exclusive) by step.\n",
    "                         \n",
    "                        "
   ]
  },
  {
   "cell_type": "code",
   "execution_count": null,
   "id": "d74b2197",
   "metadata": {},
   "outputs": [],
   "source": []
  },
  {
   "cell_type": "code",
   "execution_count": 4,
   "id": "706a500f",
   "metadata": {},
   "outputs": [
    {
     "name": "stdout",
     "output_type": "stream",
     "text": [
      "2\n",
      "4\n",
      "6\n",
      "8\n",
      "10\n",
      "12\n",
      "14\n",
      "16\n",
      "18\n",
      "20\n",
      "22\n",
      "24\n",
      "26\n",
      "28\n"
     ]
    }
   ],
   "source": [
    " for i in range (2,30,2):\n",
    "    if i % 2 == 0:\n",
    "        print(i)"
   ]
  },
  {
   "cell_type": "code",
   "execution_count": null,
   "id": "cbac602a",
   "metadata": {},
   "outputs": [],
   "source": []
  },
  {
   "cell_type": "code",
   "execution_count": 7,
   "id": "7a7c8cc5",
   "metadata": {},
   "outputs": [],
   "source": []
  },
  {
   "cell_type": "code",
   "execution_count": 10,
   "id": "74efb972",
   "metadata": {
    "scrolled": true
   },
   "outputs": [
    {
     "name": "stdout",
     "output_type": "stream",
     "text": [
      "10\n",
      "15\n",
      "20\n",
      "25\n",
      "30\n",
      "35\n",
      "40\n",
      "45\n",
      "50\n",
      "55\n",
      "60\n",
      "65\n",
      "70\n",
      "75\n",
      "80\n",
      "85\n",
      "90\n",
      "95\n",
      "100\n",
      "105\n",
      "110\n",
      "115\n",
      "120\n",
      "125\n",
      "130\n",
      "135\n",
      "140\n",
      "145\n",
      "150\n",
      "155\n",
      "160\n",
      "165\n",
      "170\n",
      "175\n",
      "180\n",
      "185\n",
      "190\n",
      "195\n"
     ]
    }
   ],
   "source": [
    "for i in range (10,200,5):\n",
    "      print(i)"
   ]
  },
  {
   "cell_type": "code",
   "execution_count": null,
   "id": "b0b74703",
   "metadata": {},
   "outputs": [],
   "source": []
  },
  {
   "cell_type": "markdown",
   "id": "b0ccc622",
   "metadata": {},
   "source": [
    "# f string ()"
   ]
  },
  {
   "cell_type": "code",
   "execution_count": 3,
   "id": "35d69ca5",
   "metadata": {},
   "outputs": [
    {
     "name": "stdout",
     "output_type": "stream",
     "text": [
      "Enter your name: alfez\n",
      "Enter your age: 21\n",
      "hello alfez .your age is  21\n"
     ]
    }
   ],
   "source": [
    "name = input('Enter your name: ')\n",
    "age = int(input('Enter your age: '))\n",
    "print('hello',name, '.your age is ',age)"
   ]
  },
  {
   "cell_type": "code",
   "execution_count": null,
   "id": "f0ac196b",
   "metadata": {},
   "outputs": [],
   "source": []
  },
  {
   "cell_type": "code",
   "execution_count": null,
   "id": "5adc3db3",
   "metadata": {},
   "outputs": [],
   "source": []
  },
  {
   "cell_type": "code",
   "execution_count": 11,
   "id": "70a8e954",
   "metadata": {},
   "outputs": [
    {
     "name": "stdout",
     "output_type": "stream",
     "text": [
      "Enter your name: alfez\n",
      "Enter your age: 21\n",
      "hello alfez. your age is 21\n"
     ]
    }
   ],
   "source": [
    "name = input('Enter your name: ')\n",
    "age = int(input('Enter your age: '))\n",
    "print(f'hello {name}. your age is {age}')"
   ]
  },
  {
   "cell_type": "code",
   "execution_count": null,
   "id": "cf820702",
   "metadata": {},
   "outputs": [],
   "source": []
  },
  {
   "cell_type": "code",
   "execution_count": null,
   "id": "99cff0d8",
   "metadata": {},
   "outputs": [],
   "source": []
  },
  {
   "cell_type": "markdown",
   "id": "bddf2c66",
   "metadata": {},
   "source": [
    " # else with loop"
   ]
  },
  {
   "cell_type": "code",
   "execution_count": null,
   "id": "32d1cb71",
   "metadata": {},
   "outputs": [],
   "source": []
  },
  {
   "cell_type": "code",
   "execution_count": 14,
   "id": "63019056",
   "metadata": {},
   "outputs": [
    {
     "name": "stdout",
     "output_type": "stream",
     "text": [
      "23\n",
      "45\n",
      "12\n",
      "58\n",
      "31\n",
      "42\n",
      "80\n",
      "56\n",
      "78\n",
      "89\n",
      "End of loop\n"
     ]
    }
   ],
   "source": [
    "for i in [23,45,12,58,31,42,80,56,78,89]:\n",
    "    print(i)\n",
    "else:\n",
    "    print('End of loop')"
   ]
  },
  {
   "cell_type": "code",
   "execution_count": null,
   "id": "60cf6b1a",
   "metadata": {},
   "outputs": [],
   "source": []
  },
  {
   "cell_type": "code",
   "execution_count": 6,
   "id": "e74178b7",
   "metadata": {},
   "outputs": [],
   "source": [
    "import numpy as np"
   ]
  },
  {
   "cell_type": "code",
   "execution_count": 7,
   "id": "d59a2417",
   "metadata": {},
   "outputs": [],
   "source": [
    "data = list(np.random.randint(20, 50, 30))"
   ]
  },
  {
   "cell_type": "code",
   "execution_count": 8,
   "id": "d336a1ba",
   "metadata": {},
   "outputs": [
    {
     "name": "stdout",
     "output_type": "stream",
     "text": [
      "[30, 44, 24, 47, 23, 36, 44, 39, 44, 22, 40, 29, 24, 25, 38, 28, 36, 25, 33, 34, 49, 35, 39, 31, 38, 30, 49, 26, 24, 36]\n"
     ]
    }
   ],
   "source": [
    "print(data)"
   ]
  },
  {
   "cell_type": "code",
   "execution_count": null,
   "id": "2b040065",
   "metadata": {},
   "outputs": [],
   "source": []
  },
  {
   "cell_type": "code",
   "execution_count": 10,
   "id": "64f6df96",
   "metadata": {},
   "outputs": [
    {
     "name": "stdout",
     "output_type": "stream",
     "text": [
      "Enter a number to search: 49\n",
      "Element found at position 20\n"
     ]
    }
   ],
   "source": [
    "num = int(input('Enter a number to search: '))\n",
    "i = 0\n",
    "while i < len(data):\n",
    "    if data[i] == num:\n",
    "        index = i\n",
    "        print(f'Element found at position {index}')\n",
    "        break\n",
    "    i += 1\n",
    "else:\n",
    "    print('Element not found')"
   ]
  },
  {
   "cell_type": "code",
   "execution_count": null,
   "id": "9027e44d",
   "metadata": {},
   "outputs": [],
   "source": []
  },
  {
   "cell_type": "code",
   "execution_count": 11,
   "id": "f0f130a7",
   "metadata": {},
   "outputs": [
    {
     "name": "stdout",
     "output_type": "stream",
     "text": [
      "Enter a number to search: 60\n",
      "Element not found\n"
     ]
    }
   ],
   "source": [
    "num = int(input('Enter a number to search: '))\n",
    "i = 0\n",
    "while i < len(data):\n",
    "    if data[i] == num:\n",
    "        index = i\n",
    "        print(f'Element found at position {index}')\n",
    "        break\n",
    "    i += 1\n",
    "else:\n",
    "    print('Element not found')"
   ]
  },
  {
   "cell_type": "code",
   "execution_count": null,
   "id": "fece91f4",
   "metadata": {},
   "outputs": [],
   "source": []
  },
  {
   "cell_type": "code",
   "execution_count": null,
   "id": "dd8ee3cb",
   "metadata": {},
   "outputs": [],
   "source": []
  },
  {
   "cell_type": "code",
   "execution_count": null,
   "id": "9365b687",
   "metadata": {},
   "outputs": [],
   "source": []
  },
  {
   "cell_type": "code",
   "execution_count": null,
   "id": "400ab0b9",
   "metadata": {},
   "outputs": [],
   "source": []
  },
  {
   "cell_type": "code",
   "execution_count": null,
   "id": "92c0caf2",
   "metadata": {},
   "outputs": [],
   "source": []
  },
  {
   "cell_type": "code",
   "execution_count": null,
   "id": "7518bdbb",
   "metadata": {},
   "outputs": [],
   "source": []
  },
  {
   "cell_type": "code",
   "execution_count": null,
   "id": "e6d0ac21",
   "metadata": {},
   "outputs": [],
   "source": []
  },
  {
   "cell_type": "code",
   "execution_count": null,
   "id": "d91dad4f",
   "metadata": {},
   "outputs": [],
   "source": []
  },
  {
   "cell_type": "code",
   "execution_count": null,
   "id": "f5b6abb6",
   "metadata": {},
   "outputs": [],
   "source": []
  },
  {
   "cell_type": "code",
   "execution_count": null,
   "id": "415655c7",
   "metadata": {},
   "outputs": [],
   "source": []
  },
  {
   "cell_type": "code",
   "execution_count": null,
   "id": "54069fdd",
   "metadata": {},
   "outputs": [],
   "source": []
  },
  {
   "cell_type": "code",
   "execution_count": null,
   "id": "63c99ac4",
   "metadata": {},
   "outputs": [],
   "source": []
  }
 ],
 "metadata": {
  "kernelspec": {
   "display_name": "Python 3 (ipykernel)",
   "language": "python",
   "name": "python3"
  },
  "language_info": {
   "codemirror_mode": {
    "name": "ipython",
    "version": 3
   },
   "file_extension": ".py",
   "mimetype": "text/x-python",
   "name": "python",
   "nbconvert_exporter": "python",
   "pygments_lexer": "ipython3",
   "version": "3.11.4"
  }
 },
 "nbformat": 4,
 "nbformat_minor": 5
}
