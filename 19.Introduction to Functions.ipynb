{
 "cells": [
  {
   "cell_type": "markdown",
   "id": "f2d7551c",
   "metadata": {},
   "source": [
    "# Functions\n",
    "\n",
    "\n",
    "                    Set of instruction / code which performs a specific task\n",
    "                    \n",
    "                    "
   ]
  },
  {
   "cell_type": "markdown",
   "id": "93a5bbbc",
   "metadata": {},
   "source": [
    "`there are two types of function in python`"
   ]
  },
  {
   "cell_type": "markdown",
   "id": "9a02fc65",
   "metadata": {},
   "source": [
    "    1. Predefined / built - in functions\n",
    "    \n",
    "    2. User defined function"
   ]
  },
  {
   "cell_type": "code",
   "execution_count": null,
   "id": "062880e4",
   "metadata": {},
   "outputs": [],
   "source": []
  },
  {
   "cell_type": "markdown",
   "id": "f53b8b6e",
   "metadata": {},
   "source": [
    "### Pre defined\n",
    "\n",
    "        print()\n",
    "        len()\n",
    "        type()\n",
    "        zip()\n",
    "        range()\n",
    "        .\n",
    "        .\n",
    "        ."
   ]
  },
  {
   "cell_type": "code",
   "execution_count": null,
   "id": "6f20fc9a",
   "metadata": {},
   "outputs": [],
   "source": []
  },
  {
   "cell_type": "code",
   "execution_count": 1,
   "id": "1bd01a9c",
   "metadata": {},
   "outputs": [
    {
     "data": {
      "text/plain": [
       "4"
      ]
     },
     "execution_count": 1,
     "metadata": {},
     "output_type": "execute_result"
    }
   ],
   "source": [
    "len([23,45,56,78])"
   ]
  },
  {
   "cell_type": "code",
   "execution_count": null,
   "id": "7a44c907",
   "metadata": {},
   "outputs": [],
   "source": []
  },
  {
   "cell_type": "code",
   "execution_count": 2,
   "id": "edfb7c47",
   "metadata": {},
   "outputs": [],
   "source": [
    "a = 100\n",
    "b = 20"
   ]
  },
  {
   "cell_type": "code",
   "execution_count": 3,
   "id": "279f5521",
   "metadata": {},
   "outputs": [
    {
     "name": "stdout",
     "output_type": "stream",
     "text": [
      "100 is greater than 20\n"
     ]
    }
   ],
   "source": [
    "if a > b:\n",
    "    print(f'{a} is greater than {b}')\n",
    "else:\n",
    "    print(f'{b} is greater than {a}')\n",
    "    "
   ]
  },
  {
   "cell_type": "code",
   "execution_count": null,
   "id": "2df339cc",
   "metadata": {},
   "outputs": [],
   "source": []
  },
  {
   "cell_type": "code",
   "execution_count": 4,
   "id": "311b0390",
   "metadata": {},
   "outputs": [],
   "source": [
    "i = 34\n",
    "j = 56"
   ]
  },
  {
   "cell_type": "code",
   "execution_count": 5,
   "id": "eec90cb0",
   "metadata": {},
   "outputs": [
    {
     "name": "stdout",
     "output_type": "stream",
     "text": [
      "56 is greater than 34\n"
     ]
    }
   ],
   "source": [
    "if i > j:\n",
    "    print(f'{i} is greater than {j}')\n",
    "else:\n",
    "    print(f'{j} is greater than {i}')\n",
    "    "
   ]
  },
  {
   "cell_type": "code",
   "execution_count": null,
   "id": "ea131781",
   "metadata": {},
   "outputs": [],
   "source": []
  },
  {
   "cell_type": "markdown",
   "id": "d3e17479",
   "metadata": {},
   "source": [
    "    syntax:\n",
    "    \n",
    "            def function_name(arguments / paramerters):\n",
    "                # function body"
   ]
  },
  {
   "cell_type": "code",
   "execution_count": null,
   "id": "180e1926",
   "metadata": {},
   "outputs": [],
   "source": []
  },
  {
   "cell_type": "code",
   "execution_count": 7,
   "id": "c75037a9",
   "metadata": {},
   "outputs": [],
   "source": [
    "def greet():\n",
    "    print('Hello user')"
   ]
  },
  {
   "cell_type": "code",
   "execution_count": 8,
   "id": "76cf882b",
   "metadata": {},
   "outputs": [
    {
     "name": "stdout",
     "output_type": "stream",
     "text": [
      "Hello user\n"
     ]
    }
   ],
   "source": [
    "greet()"
   ]
  },
  {
   "cell_type": "code",
   "execution_count": 9,
   "id": "69b2cefc",
   "metadata": {},
   "outputs": [
    {
     "name": "stdout",
     "output_type": "stream",
     "text": [
      "Hello user\n"
     ]
    }
   ],
   "source": [
    "greet()"
   ]
  },
  {
   "cell_type": "code",
   "execution_count": null,
   "id": "ab57fc59",
   "metadata": {},
   "outputs": [],
   "source": []
  },
  {
   "cell_type": "code",
   "execution_count": 10,
   "id": "dea3feeb",
   "metadata": {},
   "outputs": [],
   "source": [
    "def compare(a,b):\n",
    "    if a > b:\n",
    "        print(f'{a} is greater than {b}')\n",
    "    else:\n",
    "        print(f'{b} is greater than {a}')"
   ]
  },
  {
   "cell_type": "code",
   "execution_count": 11,
   "id": "7271ffb7",
   "metadata": {},
   "outputs": [
    {
     "name": "stdout",
     "output_type": "stream",
     "text": [
      "6 is greater than 5\n"
     ]
    }
   ],
   "source": [
    "compare(5, 6)"
   ]
  },
  {
   "cell_type": "code",
   "execution_count": 12,
   "id": "c9d8fdc9",
   "metadata": {},
   "outputs": [
    {
     "name": "stdout",
     "output_type": "stream",
     "text": [
      "100 is greater than 50\n"
     ]
    }
   ],
   "source": [
    "compare(100, 50)"
   ]
  },
  {
   "cell_type": "code",
   "execution_count": null,
   "id": "6de03f92",
   "metadata": {},
   "outputs": [],
   "source": []
  },
  {
   "cell_type": "code",
   "execution_count": 17,
   "id": "449b7916",
   "metadata": {},
   "outputs": [],
   "source": [
    "def greet(name):\n",
    "     print(f\"Hello {name}\")"
   ]
  },
  {
   "cell_type": "code",
   "execution_count": 18,
   "id": "48efcc06",
   "metadata": {},
   "outputs": [
    {
     "name": "stdout",
     "output_type": "stream",
     "text": [
      "Hello ashish\n"
     ]
    }
   ],
   "source": [
    "greet('ashish')"
   ]
  },
  {
   "cell_type": "code",
   "execution_count": 19,
   "id": "0b2f428e",
   "metadata": {},
   "outputs": [
    {
     "name": "stdout",
     "output_type": "stream",
     "text": [
      "Hello aman\n"
     ]
    }
   ],
   "source": [
    "greet('aman')"
   ]
  },
  {
   "cell_type": "code",
   "execution_count": 20,
   "id": "f7701c03",
   "metadata": {},
   "outputs": [],
   "source": [
    "names = ['aman', 'anil', 'rahul']"
   ]
  },
  {
   "cell_type": "code",
   "execution_count": 21,
   "id": "34e82784",
   "metadata": {},
   "outputs": [
    {
     "name": "stdout",
     "output_type": "stream",
     "text": [
      "Hello aman\n",
      "Hello anil\n",
      "Hello rahul\n"
     ]
    }
   ],
   "source": [
    "for i in names:\n",
    "    greet(i)"
   ]
  },
  {
   "cell_type": "code",
   "execution_count": null,
   "id": "dfa6b676",
   "metadata": {},
   "outputs": [],
   "source": []
  },
  {
   "cell_type": "markdown",
   "id": "279b47aa",
   "metadata": {},
   "source": [
    "       sq_sum  --> fun name\n",
    "       \n",
    "       square sum of two numbers"
   ]
  },
  {
   "cell_type": "code",
   "execution_count": 22,
   "id": "bc016d99",
   "metadata": {},
   "outputs": [],
   "source": [
    "import builtins"
   ]
  },
  {
   "cell_type": "code",
   "execution_count": 29,
   "id": "dba8f55e",
   "metadata": {},
   "outputs": [
    {
     "name": "stdout",
     "output_type": "stream",
     "text": [
      "['ArithmeticError', 'AssertionError', 'AttributeError', 'BaseException', 'BlockingIOError', 'BrokenPipeError', 'BufferError', 'BytesWarning', 'ChildProcessError', 'ConnectionAbortedError', 'ConnectionError', 'ConnectionRefusedError', 'ConnectionResetError', 'DeprecationWarning', 'EOFError', 'Ellipsis', 'EncodingWarning', 'EnvironmentError', 'Exception', 'False', 'FileExistsError', 'FileNotFoundError', 'FloatingPointError', 'FutureWarning', 'GeneratorExit', 'IOError', 'ImportError', 'ImportWarning', 'IndentationError', 'IndexError', 'InterruptedError', 'IsADirectoryError', 'KeyError', 'KeyboardInterrupt', 'LookupError', 'MemoryError', 'ModuleNotFoundError', 'NameError', 'None', 'NotADirectoryError', 'NotImplemented', 'NotImplementedError', 'OSError', 'OverflowError', 'PendingDeprecationWarning', 'PermissionError', 'ProcessLookupError', 'RecursionError', 'ReferenceError', 'ResourceWarning', 'RuntimeError', 'RuntimeWarning', 'StopAsyncIteration', 'StopIteration', 'SyntaxError', 'SyntaxWarning', 'SystemError', 'SystemExit', 'TabError', 'TimeoutError', 'True', 'TypeError', 'UnboundLocalError', 'UnicodeDecodeError', 'UnicodeEncodeError', 'UnicodeError', 'UnicodeTranslateError', 'UnicodeWarning', 'UserWarning', 'ValueError', 'Warning', 'WindowsError', 'ZeroDivisionError', '__IPYTHON__', '__build_class__', '__debug__', '__doc__', '__import__', '__loader__', '__name__', '__package__', '__spec__', 'abs', 'aiter', 'all', 'anext', 'any', 'ascii', 'bin', 'bool', 'breakpoint', 'bytearray', 'bytes', 'callable', 'chr', 'classmethod', 'compile', 'complex', 'copyright', 'credits', 'delattr', 'dict', 'dir', 'display', 'divmod', 'enumerate', 'eval', 'exec', 'execfile', 'filter', 'float', 'format', 'frozenset', 'get_ipython', 'getattr', 'globals', 'hasattr', 'hash', 'help', 'hex', 'id', 'input', 'int', 'isinstance', 'issubclass', 'iter', 'len', 'license', 'list', 'locals', 'map', 'max', 'memoryview', 'min', 'next', 'object', 'oct', 'open', 'ord', 'pow', 'print', 'property', 'range', 'repr', 'reversed', 'round', 'runfile', 'set', 'setattr', 'slice', 'sorted', 'staticmethod', 'str', 'sum', 'super', 'tuple', 'type', 'vars', 'zip']\n"
     ]
    }
   ],
   "source": [
    "print(dir(builtins))"
   ]
  },
  {
   "cell_type": "code",
   "execution_count": null,
   "id": "7a84c229",
   "metadata": {},
   "outputs": [],
   "source": []
  },
  {
   "cell_type": "code",
   "execution_count": null,
   "id": "726bf968",
   "metadata": {},
   "outputs": [],
   "source": []
  },
  {
   "cell_type": "code",
   "execution_count": 30,
   "id": "092db86d",
   "metadata": {},
   "outputs": [],
   "source": [
    "def sq_sum(a,b):\n",
    "    print(a**2 + b**2)"
   ]
  },
  {
   "cell_type": "code",
   "execution_count": 31,
   "id": "900c67af",
   "metadata": {},
   "outputs": [
    {
     "name": "stdout",
     "output_type": "stream",
     "text": [
      "50\n"
     ]
    }
   ],
   "source": [
    "sq_sum(5,5)"
   ]
  },
  {
   "cell_type": "code",
   "execution_count": 33,
   "id": "83345bac",
   "metadata": {},
   "outputs": [
    {
     "name": "stdout",
     "output_type": "stream",
     "text": [
      "61\n",
      "None\n"
     ]
    }
   ],
   "source": [
    "print(sq_sum(5, 6))"
   ]
  },
  {
   "cell_type": "code",
   "execution_count": null,
   "id": "13731b42",
   "metadata": {},
   "outputs": [],
   "source": []
  },
  {
   "cell_type": "code",
   "execution_count": 35,
   "id": "5d3f8437",
   "metadata": {},
   "outputs": [
    {
     "name": "stdout",
     "output_type": "stream",
     "text": [
      "20\n"
     ]
    }
   ],
   "source": [
    "v = sq_sum(4,2)"
   ]
  },
  {
   "cell_type": "code",
   "execution_count": 37,
   "id": "f864771c",
   "metadata": {},
   "outputs": [
    {
     "name": "stdout",
     "output_type": "stream",
     "text": [
      "None\n"
     ]
    }
   ],
   "source": [
    "print(v)"
   ]
  },
  {
   "cell_type": "code",
   "execution_count": null,
   "id": "39f8e185",
   "metadata": {},
   "outputs": [],
   "source": []
  },
  {
   "cell_type": "code",
   "execution_count": 38,
   "id": "f0aa24b3",
   "metadata": {},
   "outputs": [],
   "source": [
    "def sq_sum(a,b):\n",
    "    return a**2 + b**2"
   ]
  },
  {
   "cell_type": "code",
   "execution_count": 39,
   "id": "a80e6c84",
   "metadata": {
    "scrolled": true
   },
   "outputs": [
    {
     "data": {
      "text/plain": [
       "50"
      ]
     },
     "execution_count": 39,
     "metadata": {},
     "output_type": "execute_result"
    }
   ],
   "source": [
    "sq_sum(5,5)"
   ]
  },
  {
   "cell_type": "code",
   "execution_count": 40,
   "id": "a98760e6",
   "metadata": {},
   "outputs": [],
   "source": [
    "value = sq_sum(2,3)"
   ]
  },
  {
   "cell_type": "code",
   "execution_count": 41,
   "id": "e5914c5a",
   "metadata": {},
   "outputs": [
    {
     "data": {
      "text/plain": [
       "13"
      ]
     },
     "execution_count": 41,
     "metadata": {},
     "output_type": "execute_result"
    }
   ],
   "source": [
    "value"
   ]
  },
  {
   "cell_type": "code",
   "execution_count": null,
   "id": "8dc59b42",
   "metadata": {},
   "outputs": [],
   "source": []
  },
  {
   "cell_type": "code",
   "execution_count": null,
   "id": "fb54f0aa",
   "metadata": {},
   "outputs": [],
   "source": []
  },
  {
   "cell_type": "code",
   "execution_count": 42,
   "id": "54a79c48",
   "metadata": {},
   "outputs": [
    {
     "data": {
      "text/plain": [
       "4"
      ]
     },
     "execution_count": 42,
     "metadata": {},
     "output_type": "execute_result"
    }
   ],
   "source": [
    "len([23,45,67,78])"
   ]
  },
  {
   "cell_type": "code",
   "execution_count": null,
   "id": "078db5c4",
   "metadata": {},
   "outputs": [],
   "source": [
    "i < len(ls)"
   ]
  },
  {
   "cell_type": "code",
   "execution_count": 43,
   "id": "981052b4",
   "metadata": {},
   "outputs": [
    {
     "data": {
      "text/plain": [
       "4"
      ]
     },
     "execution_count": 43,
     "metadata": {},
     "output_type": "execute_result"
    }
   ],
   "source": [
    "v = len([23,45,67,78])\n",
    "v"
   ]
  },
  {
   "cell_type": "code",
   "execution_count": 44,
   "id": "f007241f",
   "metadata": {},
   "outputs": [
    {
     "name": "stdout",
     "output_type": "stream",
     "text": [
      "hello world\n"
     ]
    }
   ],
   "source": [
    "print('hello world')"
   ]
  },
  {
   "cell_type": "code",
   "execution_count": 45,
   "id": "4ba19ea0",
   "metadata": {},
   "outputs": [
    {
     "name": "stdout",
     "output_type": "stream",
     "text": [
      "hello world\n"
     ]
    }
   ],
   "source": [
    "c = print('hello world')\n",
    "c"
   ]
  },
  {
   "cell_type": "code",
   "execution_count": 47,
   "id": "49f23b29",
   "metadata": {},
   "outputs": [
    {
     "name": "stdout",
     "output_type": "stream",
     "text": [
      "None\n"
     ]
    }
   ],
   "source": [
    "print(c)"
   ]
  },
  {
   "cell_type": "code",
   "execution_count": null,
   "id": "c74b8cbe",
   "metadata": {},
   "outputs": [],
   "source": []
  },
  {
   "cell_type": "markdown",
   "id": "b539a8db",
   "metadata": {},
   "source": [
    "### doc string"
   ]
  },
  {
   "cell_type": "code",
   "execution_count": 49,
   "id": "32caaf14",
   "metadata": {},
   "outputs": [],
   "source": [
    "def sq_sum(a,b):\n",
    "    \"\"\"a --> required argument (int)\n",
    "       b --> required argument (int)\n",
    "       \n",
    "       returns square sum of a and b\n",
    "    \"\"\"\n",
    "    return a**2 + b**2"
   ]
  },
  {
   "cell_type": "code",
   "execution_count": 51,
   "id": "8689bdde",
   "metadata": {},
   "outputs": [
    {
     "data": {
      "text/plain": [
       "50"
      ]
     },
     "execution_count": 51,
     "metadata": {},
     "output_type": "execute_result"
    }
   ],
   "source": [
    "sq_sum(5,5)"
   ]
  },
  {
   "cell_type": "code",
   "execution_count": null,
   "id": "5d09db4e",
   "metadata": {},
   "outputs": [],
   "source": []
  },
  {
   "cell_type": "code",
   "execution_count": 50,
   "id": "eec916a9",
   "metadata": {},
   "outputs": [],
   "source": [
    "import sys"
   ]
  },
  {
   "cell_type": "code",
   "execution_count": 53,
   "id": "a57a760b",
   "metadata": {},
   "outputs": [
    {
     "data": {
      "text/plain": [
       "['C:\\\\Users\\\\user\\\\Desktop\\\\Grras Solutions Pvt. Ltd\\\\Python 6.30pm',\n",
       " 'C:\\\\Anaconda3\\\\python310.zip',\n",
       " 'C:\\\\Anaconda3\\\\DLLs',\n",
       " 'C:\\\\Anaconda3\\\\lib',\n",
       " 'C:\\\\Anaconda3',\n",
       " '',\n",
       " 'C:\\\\Users\\\\user\\\\AppData\\\\Roaming\\\\Python\\\\Python310\\\\site-packages',\n",
       " 'C:\\\\Anaconda3\\\\lib\\\\site-packages',\n",
       " 'C:\\\\Anaconda3\\\\lib\\\\site-packages\\\\win32',\n",
       " 'C:\\\\Anaconda3\\\\lib\\\\site-packages\\\\win32\\\\lib',\n",
       " 'C:\\\\Anaconda3\\\\lib\\\\site-packages\\\\Pythonwin']"
      ]
     },
     "execution_count": 53,
     "metadata": {},
     "output_type": "execute_result"
    }
   ],
   "source": [
    "ls = sys.path\n",
    "ls"
   ]
  },
  {
   "cell_type": "code",
   "execution_count": null,
   "id": "cbc060b6",
   "metadata": {},
   "outputs": [],
   "source": []
  },
  {
   "cell_type": "code",
   "execution_count": 54,
   "id": "889b623a",
   "metadata": {},
   "outputs": [],
   "source": [
    "ls.clear()"
   ]
  },
  {
   "cell_type": "code",
   "execution_count": 55,
   "id": "a10c22db",
   "metadata": {},
   "outputs": [
    {
     "ename": "ModuleNotFoundError",
     "evalue": "No module named 'pandas'",
     "output_type": "error",
     "traceback": [
      "\u001b[1;31m---------------------------------------------------------------------------\u001b[0m",
      "\u001b[1;31mModuleNotFoundError\u001b[0m                       Traceback (most recent call last)",
      "Cell \u001b[1;32mIn[55], line 1\u001b[0m\n\u001b[1;32m----> 1\u001b[0m \u001b[38;5;28;01mimport\u001b[39;00m \u001b[38;5;21;01mpandas\u001b[39;00m \u001b[38;5;28;01mas\u001b[39;00m \u001b[38;5;21;01mpd\u001b[39;00m\n",
      "\u001b[1;31mModuleNotFoundError\u001b[0m: No module named 'pandas'"
     ]
    }
   ],
   "source": [
    "import pandas as pd"
   ]
  },
  {
   "cell_type": "markdown",
   "id": "f6505584",
   "metadata": {},
   "source": [
    "## types of arguments"
   ]
  },
  {
   "cell_type": "markdown",
   "id": "61983127",
   "metadata": {},
   "source": [
    "    1. required argument\n",
    "    \n",
    "    2. Default argument\n",
    "    \n",
    "    3. keyword argument\n",
    "    \n",
    "    4. variable length argument\n",
    "    \n",
    "    5. keyword variable length argument"
   ]
  },
  {
   "cell_type": "code",
   "execution_count": null,
   "id": "da94320a",
   "metadata": {},
   "outputs": [],
   "source": []
  },
  {
   "cell_type": "code",
   "execution_count": null,
   "id": "9575c920",
   "metadata": {},
   "outputs": [],
   "source": []
  },
  {
   "cell_type": "code",
   "execution_count": null,
   "id": "d1300a5f",
   "metadata": {},
   "outputs": [],
   "source": []
  },
  {
   "cell_type": "code",
   "execution_count": null,
   "id": "9d64b4b4",
   "metadata": {},
   "outputs": [],
   "source": []
  }
 ],
 "metadata": {
  "kernelspec": {
   "display_name": "Python 3 (ipykernel)",
   "language": "python",
   "name": "python3"
  },
  "language_info": {
   "codemirror_mode": {
    "name": "ipython",
    "version": 3
   },
   "file_extension": ".py",
   "mimetype": "text/x-python",
   "name": "python",
   "nbconvert_exporter": "python",
   "pygments_lexer": "ipython3",
   "version": "3.10.9"
  }
 },
 "nbformat": 4,
 "nbformat_minor": 5
}
