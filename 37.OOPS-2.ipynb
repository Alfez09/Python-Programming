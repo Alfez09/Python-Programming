{
 "cells": [
  {
   "cell_type": "code",
   "execution_count": null,
   "id": "8e3ecdf1-a338-4946-83db-ff5a41299666",
   "metadata": {},
   "outputs": [],
   "source": []
  },
  {
   "cell_type": "code",
   "execution_count": null,
   "id": "9763a5c8-4f5a-4af4-adcd-5f1b64e00ef3",
   "metadata": {},
   "outputs": [],
   "source": []
  },
  {
   "cell_type": "code",
   "execution_count": 4,
   "id": "1a3fbb2d-1e93-4226-9bd1-f1cdd946076c",
   "metadata": {},
   "outputs": [],
   "source": [
    "class Python6pm:\n",
    "\n",
    "    def __init__(self, name, age, address):\n",
    "        self.name = name\n",
    "        self.age = age\n",
    "        self.address = address\n",
    "    "
   ]
  },
  {
   "cell_type": "code",
   "execution_count": 5,
   "id": "3ed615c8-0db1-432f-a5e0-ac54906f9293",
   "metadata": {},
   "outputs": [],
   "source": [
    "obj1 = Python6pm('kunal', 23, 'jaipur')\n",
    "obj2 = Python6pm('Aman', 23, 'jaipur')\n",
    "obj3 = Python6pm('Nitin', 24, 'jaipur')\n",
    "obj4 = Python6pm('Rahul', 25, 'jaipur')"
   ]
  },
  {
   "cell_type": "code",
   "execution_count": 6,
   "id": "9fb96a09-7c91-4c90-b66d-d82d6948359f",
   "metadata": {},
   "outputs": [
    {
     "data": {
      "text/plain": [
       "{'name': 'kunal', 'age': 23, 'address': 'jaipur'}"
      ]
     },
     "execution_count": 6,
     "metadata": {},
     "output_type": "execute_result"
    }
   ],
   "source": [
    "obj1.__dict__"
   ]
  },
  {
   "cell_type": "code",
   "execution_count": 7,
   "id": "fc8b21d9-d5b2-4658-9ac8-8a803deeac9c",
   "metadata": {},
   "outputs": [
    {
     "data": {
      "text/plain": [
       "{'name': 'Aman', 'age': 23, 'address': 'jaipur'}"
      ]
     },
     "execution_count": 7,
     "metadata": {},
     "output_type": "execute_result"
    }
   ],
   "source": [
    "obj2.__dict__"
   ]
  },
  {
   "cell_type": "code",
   "execution_count": null,
   "id": "85cc850f-71b6-44ca-be34-48f96ae3e705",
   "metadata": {},
   "outputs": [],
   "source": []
  },
  {
   "cell_type": "code",
   "execution_count": 12,
   "id": "0ab0eda8-f462-4e5f-86c8-152d4da1f1c4",
   "metadata": {},
   "outputs": [],
   "source": [
    "class Python6pm:\n",
    "\n",
    "    def __init__(self, name, age, address):\n",
    "        self.name = name\n",
    "        self.age = age\n",
    "        self.address = address\n",
    "        \n",
    "    def show_details(self):\n",
    "        print(f\"Student name: {self.name}\")\n",
    "        print(f\"Student age: {self.age}\")\n",
    "        print(f\"Student address: {self.address}\")"
   ]
  },
  {
   "cell_type": "code",
   "execution_count": 13,
   "id": "a2f354ad-4a82-4bb2-9df8-492a4234398d",
   "metadata": {},
   "outputs": [],
   "source": [
    "obj1 = Python6pm('kunal', 23, 'jaipur')\n",
    "obj2 = Python6pm('Aman', 23, 'jaipur')\n",
    "obj3 = Python6pm('Nitin', 24, 'jaipur')\n",
    "obj4 = Python6pm('Rahul', 25, 'jaipur')"
   ]
  },
  {
   "cell_type": "code",
   "execution_count": 14,
   "id": "f65130dc-9d82-4cf5-b12d-a788d8203114",
   "metadata": {},
   "outputs": [
    {
     "name": "stdout",
     "output_type": "stream",
     "text": [
      "Student name: kunal\n",
      "Student age: 23\n",
      "Student address: jaipur\n"
     ]
    }
   ],
   "source": [
    "obj1.show_details()"
   ]
  },
  {
   "cell_type": "code",
   "execution_count": 15,
   "id": "38f5615a-8507-462f-8109-0e300fcc1734",
   "metadata": {},
   "outputs": [
    {
     "name": "stdout",
     "output_type": "stream",
     "text": [
      "Student name: Aman\n",
      "Student age: 23\n",
      "Student address: jaipur\n"
     ]
    }
   ],
   "source": [
    "obj2.show_details()"
   ]
  },
  {
   "cell_type": "code",
   "execution_count": null,
   "id": "efc98088-61e6-4de2-804c-1fc482213337",
   "metadata": {},
   "outputs": [],
   "source": []
  },
  {
   "cell_type": "code",
   "execution_count": null,
   "id": "1ad40f02-ae52-495a-a896-9f5d371f94d1",
   "metadata": {},
   "outputs": [],
   "source": []
  },
  {
   "cell_type": "code",
   "execution_count": 16,
   "id": "a3c3ff9a-51ca-4e02-9f60-5189494d69bb",
   "metadata": {},
   "outputs": [
    {
     "data": {
      "text/plain": [
       "'Nitin'"
      ]
     },
     "execution_count": 16,
     "metadata": {},
     "output_type": "execute_result"
    }
   ],
   "source": [
    "obj3.name"
   ]
  },
  {
   "cell_type": "code",
   "execution_count": 17,
   "id": "3e55366c-b841-4c21-8542-3b354196a51f",
   "metadata": {},
   "outputs": [
    {
     "data": {
      "text/plain": [
       "24"
      ]
     },
     "execution_count": 17,
     "metadata": {},
     "output_type": "execute_result"
    }
   ],
   "source": [
    "obj3.age"
   ]
  },
  {
   "cell_type": "code",
   "execution_count": 18,
   "id": "f47b59eb-064f-4d9c-a07f-5784cd175061",
   "metadata": {},
   "outputs": [
    {
     "data": {
      "text/plain": [
       "'jaipur'"
      ]
     },
     "execution_count": 18,
     "metadata": {},
     "output_type": "execute_result"
    }
   ],
   "source": [
    "obj3.address"
   ]
  },
  {
   "cell_type": "code",
   "execution_count": 19,
   "id": "0a7f6ec3-8d49-4e23-8ea9-1369145cd612",
   "metadata": {},
   "outputs": [],
   "source": [
    "obj3.address = 'ajmer'"
   ]
  },
  {
   "cell_type": "code",
   "execution_count": 20,
   "id": "d6dc3a18-419f-4737-a294-a5a0c7beb122",
   "metadata": {},
   "outputs": [
    {
     "name": "stdout",
     "output_type": "stream",
     "text": [
      "Student name: Nitin\n",
      "Student age: 24\n",
      "Student address: ajmer\n"
     ]
    }
   ],
   "source": [
    "obj3.show_details()"
   ]
  },
  {
   "cell_type": "code",
   "execution_count": null,
   "id": "1b9e258a-a697-4848-bcb0-076aa3a5eff2",
   "metadata": {},
   "outputs": [],
   "source": []
  },
  {
   "cell_type": "code",
   "execution_count": null,
   "id": "78954418-f1ac-427e-a543-3081b0131742",
   "metadata": {},
   "outputs": [],
   "source": []
  },
  {
   "cell_type": "markdown",
   "id": "c98aef93-a469-4a7e-a706-6e4949ea6cb3",
   "metadata": {},
   "source": [
    "    --->  class --> student\n",
    "\n",
    "                avg  ---> method\n",
    "                        returns avg of three subject marks\n",
    "                "
   ]
  },
  {
   "cell_type": "code",
   "execution_count": null,
   "id": "bbbb5257-8673-4288-9d0b-a65f3f726251",
   "metadata": {},
   "outputs": [],
   "source": []
  },
  {
   "cell_type": "code",
   "execution_count": 26,
   "id": "7ab85bff-e263-4f45-82dd-1696ccb07a1e",
   "metadata": {},
   "outputs": [],
   "source": [
    "class Student:\n",
    "\n",
    "    def __init__(self, m1, m2, m3):\n",
    "        self.m1 = m1\n",
    "        self.m2 = m2\n",
    "        self.m3 = m3\n",
    "\n",
    "    def avg(self):\n",
    "        return round((self.m1 + self.m2 + self.m3) / 3, 2)"
   ]
  },
  {
   "cell_type": "code",
   "execution_count": 27,
   "id": "bd96755d-712f-4d91-91d0-28397ada0a59",
   "metadata": {},
   "outputs": [],
   "source": [
    "s1 = Student(23,32,34)\n",
    "s2 = Student(22,33,42)"
   ]
  },
  {
   "cell_type": "code",
   "execution_count": 28,
   "id": "e70dc1fe-5a0b-430c-b95f-171a332a7cfd",
   "metadata": {},
   "outputs": [
    {
     "data": {
      "text/plain": [
       "29.67"
      ]
     },
     "execution_count": 28,
     "metadata": {},
     "output_type": "execute_result"
    }
   ],
   "source": [
    "s1.avg()"
   ]
  },
  {
   "cell_type": "code",
   "execution_count": 29,
   "id": "6731bac2-274f-4fa7-a59b-80246b29223f",
   "metadata": {},
   "outputs": [
    {
     "data": {
      "text/plain": [
       "32.33"
      ]
     },
     "execution_count": 29,
     "metadata": {},
     "output_type": "execute_result"
    }
   ],
   "source": [
    "s2.avg()"
   ]
  },
  {
   "cell_type": "code",
   "execution_count": 31,
   "id": "8df99ecf-c57c-4dcd-92a8-75f264b5a8f8",
   "metadata": {},
   "outputs": [
    {
     "data": {
      "text/plain": [
       "23"
      ]
     },
     "execution_count": 31,
     "metadata": {},
     "output_type": "execute_result"
    }
   ],
   "source": [
    "s1.m1"
   ]
  },
  {
   "cell_type": "code",
   "execution_count": 32,
   "id": "427410c6-01d3-4086-bd76-667b66b4dc50",
   "metadata": {},
   "outputs": [],
   "source": [
    "s1.m1 = 50"
   ]
  },
  {
   "cell_type": "code",
   "execution_count": 33,
   "id": "889b012d-8773-4110-97af-8e1e7c32f2f3",
   "metadata": {},
   "outputs": [
    {
     "data": {
      "text/plain": [
       "38.67"
      ]
     },
     "execution_count": 33,
     "metadata": {},
     "output_type": "execute_result"
    }
   ],
   "source": [
    "s1.avg()"
   ]
  },
  {
   "cell_type": "code",
   "execution_count": null,
   "id": "6b369048-92b8-4bc3-b0c0-88a171fba077",
   "metadata": {},
   "outputs": [],
   "source": []
  },
  {
   "cell_type": "code",
   "execution_count": 34,
   "id": "09bd835e-164b-48ee-8ffc-6dabf08007bd",
   "metadata": {},
   "outputs": [],
   "source": [
    "class Student:\n",
    "\n",
    "    def __init__(self, m1, m2, m3):\n",
    "        self.m1 = m1\n",
    "        self.m2 = m2\n",
    "        self.m3 = m3\n",
    "\n",
    "    def avg(self):\n",
    "        return round((self.m1 + self.m2 + self.m3) / 3, 2)\n",
    "\n",
    "    def set_m1(self):\n",
    "        self.m1 = int(input('Enter new m1: '))"
   ]
  },
  {
   "cell_type": "code",
   "execution_count": 35,
   "id": "8d1ddc78-4ced-4e45-8e23-43a9a609d537",
   "metadata": {},
   "outputs": [],
   "source": [
    "s1 = Student(23,32,34)\n",
    "s2 = Student(22,33,42)"
   ]
  },
  {
   "cell_type": "code",
   "execution_count": 36,
   "id": "1bc1a924-d025-4446-a59e-77360a773daa",
   "metadata": {},
   "outputs": [
    {
     "data": {
      "text/plain": [
       "29.67"
      ]
     },
     "execution_count": 36,
     "metadata": {},
     "output_type": "execute_result"
    }
   ],
   "source": [
    "s1.avg()"
   ]
  },
  {
   "cell_type": "code",
   "execution_count": 37,
   "id": "01b44b29-3b16-489e-9ae2-482c25eb6462",
   "metadata": {},
   "outputs": [
    {
     "data": {
      "text/plain": [
       "32.33"
      ]
     },
     "execution_count": 37,
     "metadata": {},
     "output_type": "execute_result"
    }
   ],
   "source": [
    "s2.avg()"
   ]
  },
  {
   "cell_type": "code",
   "execution_count": 38,
   "id": "edb3d861-70bd-4cf1-a9e5-446c9b08d75d",
   "metadata": {},
   "outputs": [
    {
     "name": "stdin",
     "output_type": "stream",
     "text": [
      "Enter new m1:  50\n"
     ]
    }
   ],
   "source": [
    "s1.set_m1()"
   ]
  },
  {
   "cell_type": "code",
   "execution_count": 39,
   "id": "914b3490-b342-4ff3-9146-572ce65f6403",
   "metadata": {},
   "outputs": [
    {
     "data": {
      "text/plain": [
       "38.67"
      ]
     },
     "execution_count": 39,
     "metadata": {},
     "output_type": "execute_result"
    }
   ],
   "source": [
    "s1.avg()"
   ]
  },
  {
   "cell_type": "code",
   "execution_count": null,
   "id": "b6f98629-4745-4091-b3ff-c20d301c7915",
   "metadata": {},
   "outputs": [],
   "source": []
  },
  {
   "cell_type": "code",
   "execution_count": null,
   "id": "f94c3dd0-d7a2-4d98-97e3-353805567a62",
   "metadata": {},
   "outputs": [],
   "source": []
  },
  {
   "cell_type": "code",
   "execution_count": 43,
   "id": "ea08ae49-0795-4fbd-9e5c-f4f0119a5e6a",
   "metadata": {},
   "outputs": [],
   "source": [
    "class Person:\n",
    "\n",
    "    def __init__(self, name, age):\n",
    "        self.name = name\n",
    "        self.age = age\n",
    "\n",
    "    def show_details(self):\n",
    "        for key, value in self.__dict__.items():\n",
    "            print(f\"{key} : {value}\")"
   ]
  },
  {
   "cell_type": "code",
   "execution_count": null,
   "id": "c6ba28b6-5920-40ef-9186-19f2199f7023",
   "metadata": {},
   "outputs": [],
   "source": []
  },
  {
   "cell_type": "code",
   "execution_count": 44,
   "id": "c97ee8e1-12fa-4d05-baa1-f09d3cf72ca8",
   "metadata": {},
   "outputs": [],
   "source": [
    "p1 = Person('akshat', 23)\n",
    "p2 = Person('aman', 24)"
   ]
  },
  {
   "cell_type": "code",
   "execution_count": 45,
   "id": "7d335bdb-f31f-4add-be25-669c1c7be038",
   "metadata": {},
   "outputs": [
    {
     "name": "stdout",
     "output_type": "stream",
     "text": [
      "name : akshat\n",
      "age : 23\n"
     ]
    }
   ],
   "source": [
    "p1.show_details()"
   ]
  },
  {
   "cell_type": "code",
   "execution_count": 46,
   "id": "72b4269a-e99e-49e8-948e-b27599c1e461",
   "metadata": {},
   "outputs": [
    {
     "name": "stdout",
     "output_type": "stream",
     "text": [
      "name : aman\n",
      "age : 24\n"
     ]
    }
   ],
   "source": [
    "p2.show_details()"
   ]
  },
  {
   "cell_type": "code",
   "execution_count": null,
   "id": "e5d89664-25be-456b-ba1d-353aa1cae1ef",
   "metadata": {},
   "outputs": [],
   "source": []
  },
  {
   "cell_type": "code",
   "execution_count": 47,
   "id": "674ad883-1544-4409-8495-2ff9f6ea7c21",
   "metadata": {},
   "outputs": [
    {
     "ename": "AttributeError",
     "evalue": "'Person' object has no attribute 'compare'",
     "output_type": "error",
     "traceback": [
      "\u001b[1;31m---------------------------------------------------------------------------\u001b[0m",
      "\u001b[1;31mAttributeError\u001b[0m                            Traceback (most recent call last)",
      "Cell \u001b[1;32mIn[47], line 1\u001b[0m\n\u001b[1;32m----> 1\u001b[0m p1\u001b[38;5;241m.\u001b[39mcompare(p2)\n",
      "\u001b[1;31mAttributeError\u001b[0m: 'Person' object has no attribute 'compare'"
     ]
    }
   ],
   "source": [
    "p1.compare(p2)"
   ]
  },
  {
   "cell_type": "code",
   "execution_count": null,
   "id": "a6315921-50c5-44e6-9fa6-995a7b6eb637",
   "metadata": {},
   "outputs": [],
   "source": []
  },
  {
   "cell_type": "code",
   "execution_count": 49,
   "id": "84b3dc54-c9dc-4bb1-b688-e39feea5fe35",
   "metadata": {},
   "outputs": [],
   "source": [
    "class Person:\n",
    "\n",
    "    def __init__(self, name, age):\n",
    "        self.name = name\n",
    "        self.age = age\n",
    "\n",
    "    def show_details(self):\n",
    "        for key, value in self.__dict__.items():\n",
    "            print(f\"{key} : {value}\")\n",
    "\n",
    "    def compare(self, obj):\n",
    "        if self.age > obj.age:\n",
    "            return True\n",
    "        else:\n",
    "            return False"
   ]
  },
  {
   "cell_type": "code",
   "execution_count": 50,
   "id": "95e57c63-c9cf-4ab0-8688-1838fa26ef42",
   "metadata": {},
   "outputs": [],
   "source": [
    "p1 = Person('akshat', 23)\n",
    "p2 = Person('aman', 24)"
   ]
  },
  {
   "cell_type": "code",
   "execution_count": 51,
   "id": "8ff82152-bf60-4acc-9f0a-61abfba06ef3",
   "metadata": {},
   "outputs": [
    {
     "data": {
      "text/plain": [
       "False"
      ]
     },
     "execution_count": 51,
     "metadata": {},
     "output_type": "execute_result"
    }
   ],
   "source": [
    "p1.compare(p2)\n"
   ]
  },
  {
   "cell_type": "code",
   "execution_count": 52,
   "id": "7050e349-5040-4343-b0b3-ae18e42b3315",
   "metadata": {},
   "outputs": [
    {
     "name": "stdout",
     "output_type": "stream",
     "text": [
      "aman is bigger than akshat\n"
     ]
    }
   ],
   "source": [
    "if p1.compare(p2):\n",
    "    print(f\"{p1.name} is bigger than {p2.name}\")\n",
    "else:\n",
    "    print(f\"{p2.name} is bigger than {p1.name}\")\n",
    "    "
   ]
  },
  {
   "cell_type": "code",
   "execution_count": null,
   "id": "5c62fd3e-9ba7-4339-8783-798ea758d301",
   "metadata": {},
   "outputs": [],
   "source": []
  },
  {
   "cell_type": "code",
   "execution_count": null,
   "id": "42c6a883-472a-45f7-b04d-b47d5f7238d7",
   "metadata": {},
   "outputs": [],
   "source": []
  },
  {
   "cell_type": "code",
   "execution_count": 73,
   "id": "f71db556-c3a7-4509-b708-b3bd2650270e",
   "metadata": {},
   "outputs": [],
   "source": [
    "class Student:\n",
    "\n",
    "    def __init__(self, *marks):\n",
    "        self.marks = marks\n",
    "\n",
    "    def avg(self):\n",
    "        return sum(self.marks) / len(self.marks)\n",
    "\n",
    "    def compare(self,other):\n",
    "        if sum(self.marks) > sum(other.marks):\n",
    "            return True\n",
    "        else:\n",
    "            return False"
   ]
  },
  {
   "cell_type": "code",
   "execution_count": 74,
   "id": "d2707903-008b-46ff-b2fb-b4cfc72f58d6",
   "metadata": {},
   "outputs": [],
   "source": [
    "s1 = Student(23,45,56,23)\n",
    "s2 = Student(32,45,23,45)"
   ]
  },
  {
   "cell_type": "code",
   "execution_count": 75,
   "id": "a565d062-43fc-4fc0-9cc6-5ef0969bb2ef",
   "metadata": {},
   "outputs": [
    {
     "data": {
      "text/plain": [
       "{'marks': (23, 45, 56, 23)}"
      ]
     },
     "execution_count": 75,
     "metadata": {},
     "output_type": "execute_result"
    }
   ],
   "source": [
    "s1.__dict__"
   ]
  },
  {
   "cell_type": "code",
   "execution_count": 76,
   "id": "0879f1f6-8024-4eed-ba8a-d37db96e6a75",
   "metadata": {},
   "outputs": [
    {
     "data": {
      "text/plain": [
       "{'marks': (32, 45, 23, 45)}"
      ]
     },
     "execution_count": 76,
     "metadata": {},
     "output_type": "execute_result"
    }
   ],
   "source": [
    "s2.__dict__"
   ]
  },
  {
   "cell_type": "code",
   "execution_count": 77,
   "id": "35865e34-ba6e-4814-aefd-b27fce96abfb",
   "metadata": {},
   "outputs": [
    {
     "data": {
      "text/plain": [
       "36.75"
      ]
     },
     "execution_count": 77,
     "metadata": {},
     "output_type": "execute_result"
    }
   ],
   "source": [
    "s1.avg()"
   ]
  },
  {
   "cell_type": "code",
   "execution_count": 78,
   "id": "f18000b8-0663-439d-94a1-b83fbcc8377e",
   "metadata": {},
   "outputs": [
    {
     "data": {
      "text/plain": [
       "36.25"
      ]
     },
     "execution_count": 78,
     "metadata": {},
     "output_type": "execute_result"
    }
   ],
   "source": [
    "s2.avg()"
   ]
  },
  {
   "cell_type": "code",
   "execution_count": 79,
   "id": "f4371ffc-ec40-4529-8062-6ef14a56d972",
   "metadata": {},
   "outputs": [],
   "source": [
    "tp = (23,45,67,89)"
   ]
  },
  {
   "cell_type": "code",
   "execution_count": 80,
   "id": "e3e9dcb5-1b1f-4290-9f95-de7f061124e0",
   "metadata": {},
   "outputs": [
    {
     "data": {
      "text/plain": [
       "56.0"
      ]
     },
     "execution_count": 80,
     "metadata": {},
     "output_type": "execute_result"
    }
   ],
   "source": [
    "sum(tp) / len(tp) "
   ]
  },
  {
   "cell_type": "code",
   "execution_count": 81,
   "id": "4acc033d-1cc3-48f3-8a3b-d16ef5ddbf56",
   "metadata": {},
   "outputs": [
    {
     "data": {
      "text/plain": [
       "True"
      ]
     },
     "execution_count": 81,
     "metadata": {},
     "output_type": "execute_result"
    }
   ],
   "source": [
    "s1.compare(s2)"
   ]
  },
  {
   "cell_type": "code",
   "execution_count": null,
   "id": "48c6b922-cc52-43fa-903a-acc9f41afe4a",
   "metadata": {},
   "outputs": [],
   "source": []
  },
  {
   "cell_type": "code",
   "execution_count": null,
   "id": "35d855eb-4f1e-4b8b-91dd-a5230c7d8b07",
   "metadata": {},
   "outputs": [],
   "source": []
  },
  {
   "cell_type": "code",
   "execution_count": null,
   "id": "e5225420-009e-486f-916c-03a326be9452",
   "metadata": {},
   "outputs": [],
   "source": []
  },
  {
   "cell_type": "code",
   "execution_count": null,
   "id": "bbf4759c-66bc-4a5a-976d-70ccc78de3c8",
   "metadata": {},
   "outputs": [],
   "source": []
  }
 ],
 "metadata": {
  "kernelspec": {
   "display_name": "Python 3 (ipykernel)",
   "language": "python",
   "name": "python3"
  },
  "language_info": {
   "codemirror_mode": {
    "name": "ipython",
    "version": 3
   },
   "file_extension": ".py",
   "mimetype": "text/x-python",
   "name": "python",
   "nbconvert_exporter": "python",
   "pygments_lexer": "ipython3",
   "version": "3.11.7"
  }
 },
 "nbformat": 4,
 "nbformat_minor": 5
}
