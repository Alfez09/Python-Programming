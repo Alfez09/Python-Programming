{
 "cells": [
  {
   "cell_type": "markdown",
   "id": "d36e6d5d",
   "metadata": {},
   "source": [
    "## nested function"
   ]
  },
  {
   "cell_type": "code",
   "execution_count": null,
   "id": "389bd246",
   "metadata": {},
   "outputs": [],
   "source": []
  },
  {
   "cell_type": "code",
   "execution_count": null,
   "id": "b775e9b6",
   "metadata": {},
   "outputs": [],
   "source": []
  },
  {
   "cell_type": "code",
   "execution_count": 2,
   "id": "62c82691",
   "metadata": {},
   "outputs": [],
   "source": [
    "def fun1():\n",
    "    a = 10\n",
    "    def fun2():\n",
    "        z = 100\n",
    "        print(z)\n",
    "    fun2()"
   ]
  },
  {
   "cell_type": "code",
   "execution_count": null,
   "id": "31499cda",
   "metadata": {},
   "outputs": [],
   "source": []
  },
  {
   "cell_type": "code",
   "execution_count": 3,
   "id": "aa8d8d5c",
   "metadata": {},
   "outputs": [
    {
     "name": "stdout",
     "output_type": "stream",
     "text": [
      "100\n"
     ]
    }
   ],
   "source": [
    "fun1()"
   ]
  },
  {
   "cell_type": "code",
   "execution_count": null,
   "id": "b14b423e",
   "metadata": {},
   "outputs": [],
   "source": []
  },
  {
   "cell_type": "code",
   "execution_count": 6,
   "id": "1f908285",
   "metadata": {},
   "outputs": [],
   "source": [
    "a = 100\n",
    "def demo():\n",
    "    a = 20\n",
    "    def func():\n",
    "        a = 5\n",
    "        print(a)\n",
    "    func()"
   ]
  },
  {
   "cell_type": "code",
   "execution_count": 7,
   "id": "1f81a0ab",
   "metadata": {},
   "outputs": [
    {
     "name": "stdout",
     "output_type": "stream",
     "text": [
      "5\n"
     ]
    }
   ],
   "source": [
    "demo()"
   ]
  },
  {
   "cell_type": "code",
   "execution_count": null,
   "id": "d6c1c3db",
   "metadata": {},
   "outputs": [],
   "source": []
  },
  {
   "cell_type": "code",
   "execution_count": 8,
   "id": "1c80b611",
   "metadata": {},
   "outputs": [],
   "source": [
    "a = 100\n",
    "def demo():\n",
    "    a = 20\n",
    "    def func():\n",
    "        print(a)\n",
    "    func()"
   ]
  },
  {
   "cell_type": "code",
   "execution_count": 9,
   "id": "2b003da5",
   "metadata": {},
   "outputs": [
    {
     "name": "stdout",
     "output_type": "stream",
     "text": [
      "20\n"
     ]
    }
   ],
   "source": [
    "demo()"
   ]
  },
  {
   "cell_type": "code",
   "execution_count": null,
   "id": "2f2d77f8",
   "metadata": {},
   "outputs": [],
   "source": []
  },
  {
   "cell_type": "code",
   "execution_count": 10,
   "id": "def7cfbe",
   "metadata": {},
   "outputs": [],
   "source": [
    "a = 100\n",
    "def demo():\n",
    "    def func():\n",
    "        print(a)\n",
    "    func()"
   ]
  },
  {
   "cell_type": "code",
   "execution_count": 11,
   "id": "e9b4cbf1",
   "metadata": {},
   "outputs": [
    {
     "name": "stdout",
     "output_type": "stream",
     "text": [
      "100\n"
     ]
    }
   ],
   "source": [
    "demo()"
   ]
  },
  {
   "cell_type": "code",
   "execution_count": null,
   "id": "c2b683bd",
   "metadata": {},
   "outputs": [],
   "source": []
  },
  {
   "cell_type": "code",
   "execution_count": 14,
   "id": "d4354746",
   "metadata": {},
   "outputs": [],
   "source": [
    "a = 100\n",
    "def demo():\n",
    "    a = 20\n",
    "    def func():\n",
    "        a = 5\n",
    "        a = a + 5\n",
    "        print(a)\n",
    "    func()"
   ]
  },
  {
   "cell_type": "code",
   "execution_count": 15,
   "id": "c7eaab9e",
   "metadata": {},
   "outputs": [
    {
     "name": "stdout",
     "output_type": "stream",
     "text": [
      "10\n"
     ]
    }
   ],
   "source": [
    "demo()"
   ]
  },
  {
   "cell_type": "code",
   "execution_count": null,
   "id": "1ef3d179",
   "metadata": {},
   "outputs": [],
   "source": []
  },
  {
   "cell_type": "code",
   "execution_count": 16,
   "id": "e9ab9114",
   "metadata": {},
   "outputs": [],
   "source": [
    "a = 100\n",
    "def demo():\n",
    "    a = 20\n",
    "    def func():\n",
    "        a = a + 5\n",
    "        print(a)\n",
    "    func()"
   ]
  },
  {
   "cell_type": "code",
   "execution_count": 17,
   "id": "c85d9c6b",
   "metadata": {},
   "outputs": [
    {
     "ename": "UnboundLocalError",
     "evalue": "local variable 'a' referenced before assignment",
     "output_type": "error",
     "traceback": [
      "\u001b[1;31m---------------------------------------------------------------------------\u001b[0m",
      "\u001b[1;31mUnboundLocalError\u001b[0m                         Traceback (most recent call last)",
      "Cell \u001b[1;32mIn[17], line 1\u001b[0m\n\u001b[1;32m----> 1\u001b[0m \u001b[43mdemo\u001b[49m\u001b[43m(\u001b[49m\u001b[43m)\u001b[49m\n",
      "Cell \u001b[1;32mIn[16], line 7\u001b[0m, in \u001b[0;36mdemo\u001b[1;34m()\u001b[0m\n\u001b[0;32m      5\u001b[0m     a \u001b[38;5;241m=\u001b[39m a \u001b[38;5;241m+\u001b[39m \u001b[38;5;241m5\u001b[39m\n\u001b[0;32m      6\u001b[0m     \u001b[38;5;28mprint\u001b[39m(a)\n\u001b[1;32m----> 7\u001b[0m \u001b[43mfunc\u001b[49m\u001b[43m(\u001b[49m\u001b[43m)\u001b[49m\n",
      "Cell \u001b[1;32mIn[16], line 5\u001b[0m, in \u001b[0;36mdemo.<locals>.func\u001b[1;34m()\u001b[0m\n\u001b[0;32m      4\u001b[0m \u001b[38;5;28;01mdef\u001b[39;00m \u001b[38;5;21mfunc\u001b[39m():\n\u001b[1;32m----> 5\u001b[0m     a \u001b[38;5;241m=\u001b[39m \u001b[43ma\u001b[49m \u001b[38;5;241m+\u001b[39m \u001b[38;5;241m5\u001b[39m\n\u001b[0;32m      6\u001b[0m     \u001b[38;5;28mprint\u001b[39m(a)\n",
      "\u001b[1;31mUnboundLocalError\u001b[0m: local variable 'a' referenced before assignment"
     ]
    }
   ],
   "source": [
    "demo()"
   ]
  },
  {
   "cell_type": "code",
   "execution_count": null,
   "id": "7985b98c",
   "metadata": {},
   "outputs": [],
   "source": []
  },
  {
   "cell_type": "code",
   "execution_count": 18,
   "id": "5fe56fea",
   "metadata": {},
   "outputs": [],
   "source": [
    "a = 100\n",
    "def demo():\n",
    "    a = 20\n",
    "    def func():\n",
    "        nonlocal a\n",
    "        a = a + 5\n",
    "        print(a)\n",
    "    func()"
   ]
  },
  {
   "cell_type": "code",
   "execution_count": 19,
   "id": "84b0c5cc",
   "metadata": {},
   "outputs": [
    {
     "name": "stdout",
     "output_type": "stream",
     "text": [
      "25\n"
     ]
    }
   ],
   "source": [
    "demo()"
   ]
  },
  {
   "cell_type": "code",
   "execution_count": 20,
   "id": "8b92a4d9",
   "metadata": {},
   "outputs": [
    {
     "ename": "SyntaxError",
     "evalue": "no binding for nonlocal 'a' found (1463836219.py, line 4)",
     "output_type": "error",
     "traceback": [
      "\u001b[1;36m  Cell \u001b[1;32mIn[20], line 4\u001b[1;36m\u001b[0m\n\u001b[1;33m    nonlocal a\u001b[0m\n\u001b[1;37m    ^\u001b[0m\n\u001b[1;31mSyntaxError\u001b[0m\u001b[1;31m:\u001b[0m no binding for nonlocal 'a' found\n"
     ]
    }
   ],
   "source": [
    "a = 100\n",
    "def demo():\n",
    "    def func():\n",
    "        nonlocal a\n",
    "        a = a + 5\n",
    "        print(a)\n",
    "    func()"
   ]
  },
  {
   "cell_type": "code",
   "execution_count": null,
   "id": "fb77e31e",
   "metadata": {},
   "outputs": [],
   "source": []
  },
  {
   "cell_type": "code",
   "execution_count": 21,
   "id": "21e4951b",
   "metadata": {},
   "outputs": [],
   "source": [
    "a = 100\n",
    "def demo():\n",
    "    def func():\n",
    "        global a\n",
    "        a = a + 5\n",
    "        print(a)\n",
    "    func()"
   ]
  },
  {
   "cell_type": "code",
   "execution_count": 22,
   "id": "b7a2ab71",
   "metadata": {},
   "outputs": [
    {
     "name": "stdout",
     "output_type": "stream",
     "text": [
      "105\n"
     ]
    }
   ],
   "source": [
    "demo()"
   ]
  },
  {
   "cell_type": "code",
   "execution_count": 23,
   "id": "abafa0e1",
   "metadata": {},
   "outputs": [
    {
     "name": "stdout",
     "output_type": "stream",
     "text": [
      "105\n"
     ]
    }
   ],
   "source": [
    "print(a)"
   ]
  },
  {
   "cell_type": "code",
   "execution_count": null,
   "id": "a6aef1e7",
   "metadata": {},
   "outputs": [],
   "source": []
  },
  {
   "cell_type": "code",
   "execution_count": 25,
   "id": "8dc3ba69",
   "metadata": {},
   "outputs": [
    {
     "data": {
      "text/plain": [
       "105"
      ]
     },
     "execution_count": 25,
     "metadata": {},
     "output_type": "execute_result"
    }
   ],
   "source": [
    "globals()['a']"
   ]
  },
  {
   "cell_type": "code",
   "execution_count": 26,
   "id": "d236de83",
   "metadata": {},
   "outputs": [],
   "source": [
    "globals()['a'] = 500"
   ]
  },
  {
   "cell_type": "code",
   "execution_count": 27,
   "id": "e5511f62",
   "metadata": {},
   "outputs": [
    {
     "data": {
      "text/plain": [
       "500"
      ]
     },
     "execution_count": 27,
     "metadata": {},
     "output_type": "execute_result"
    }
   ],
   "source": [
    "a"
   ]
  },
  {
   "cell_type": "code",
   "execution_count": null,
   "id": "883fc87c",
   "metadata": {},
   "outputs": [],
   "source": []
  },
  {
   "cell_type": "code",
   "execution_count": null,
   "id": "27695805",
   "metadata": {},
   "outputs": [],
   "source": []
  },
  {
   "cell_type": "code",
   "execution_count": null,
   "id": "2d36b6b5",
   "metadata": {},
   "outputs": [],
   "source": []
  },
  {
   "cell_type": "code",
   "execution_count": null,
   "id": "1d788257",
   "metadata": {},
   "outputs": [],
   "source": []
  },
  {
   "cell_type": "code",
   "execution_count": null,
   "id": "ebfce01d",
   "metadata": {},
   "outputs": [],
   "source": []
  }
 ],
 "metadata": {
  "kernelspec": {
   "display_name": "Python 3 (ipykernel)",
   "language": "python",
   "name": "python3"
  },
  "language_info": {
   "codemirror_mode": {
    "name": "ipython",
    "version": 3
   },
   "file_extension": ".py",
   "mimetype": "text/x-python",
   "name": "python",
   "nbconvert_exporter": "python",
   "pygments_lexer": "ipython3",
   "version": "3.10.9"
  }
 },
 "nbformat": 4,
 "nbformat_minor": 5
}
