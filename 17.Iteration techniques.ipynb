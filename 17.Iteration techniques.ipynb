{
 "cells": [
  {
   "cell_type": "markdown",
   "id": "149cebb3",
   "metadata": {},
   "source": [
    "##    zip() \n",
    "##    enumerate()\n"
   ]
  },
  {
   "cell_type": "markdown",
   "id": "79b7ebc6",
   "metadata": {},
   "source": [
    "### range()"
   ]
  },
  {
   "cell_type": "code",
   "execution_count": null,
   "id": "2ecace07",
   "metadata": {},
   "outputs": [],
   "source": []
  },
  {
   "cell_type": "markdown",
   "id": "f1309e64",
   "metadata": {},
   "source": [
    "#### range()\n",
    "\n",
    "\n",
    "                range(start, end, step)"
   ]
  },
  {
   "cell_type": "code",
   "execution_count": null,
   "id": "f3d29e66",
   "metadata": {},
   "outputs": [],
   "source": []
  },
  {
   "cell_type": "code",
   "execution_count": 1,
   "id": "6b8f4d14",
   "metadata": {},
   "outputs": [],
   "source": [
    "ls = [23,45,56,78,890,34,78,90,3,78,90,4,89,34,67,54,32,67,89]"
   ]
  },
  {
   "cell_type": "code",
   "execution_count": null,
   "id": "0738731a",
   "metadata": {},
   "outputs": [],
   "source": []
  },
  {
   "cell_type": "code",
   "execution_count": 3,
   "id": "817415d7",
   "metadata": {},
   "outputs": [
    {
     "data": {
      "text/plain": [
       "range(1, 21)"
      ]
     },
     "execution_count": 3,
     "metadata": {},
     "output_type": "execute_result"
    }
   ],
   "source": [
    "obj = range(1, 21)\n",
    "obj"
   ]
  },
  {
   "cell_type": "code",
   "execution_count": 4,
   "id": "e33c51cc",
   "metadata": {},
   "outputs": [
    {
     "data": {
      "text/plain": [
       "range"
      ]
     },
     "execution_count": 4,
     "metadata": {},
     "output_type": "execute_result"
    }
   ],
   "source": [
    "type(obj)"
   ]
  },
  {
   "cell_type": "markdown",
   "id": "8386f1a4",
   "metadata": {},
   "source": [
    "    range(i=1, i<=20)"
   ]
  },
  {
   "cell_type": "code",
   "execution_count": 5,
   "id": "64680817",
   "metadata": {},
   "outputs": [
    {
     "name": "stdout",
     "output_type": "stream",
     "text": [
      "1\n",
      "2\n",
      "3\n",
      "4\n",
      "5\n",
      "6\n",
      "7\n",
      "8\n",
      "9\n",
      "10\n",
      "11\n",
      "12\n",
      "13\n",
      "14\n",
      "15\n",
      "16\n",
      "17\n",
      "18\n",
      "19\n",
      "20\n"
     ]
    }
   ],
   "source": [
    "for i in obj:\n",
    "    print(i)"
   ]
  },
  {
   "cell_type": "code",
   "execution_count": 8,
   "id": "a0a7c448",
   "metadata": {},
   "outputs": [
    {
     "name": "stdout",
     "output_type": "stream",
     "text": [
      "0\n",
      "200\n",
      "400\n",
      "600\n",
      "800\n",
      "1000\n",
      "1200\n",
      "1400\n",
      "1600\n",
      "1800\n",
      "2000\n"
     ]
    }
   ],
   "source": [
    "for i in range(0, 2001, 200):\n",
    "    print(i)"
   ]
  },
  {
   "cell_type": "code",
   "execution_count": null,
   "id": "49636d2d",
   "metadata": {},
   "outputs": [],
   "source": []
  },
  {
   "cell_type": "code",
   "execution_count": 9,
   "id": "e53a7929",
   "metadata": {},
   "outputs": [
    {
     "name": "stdout",
     "output_type": "stream",
     "text": [
      "2\n",
      "4\n",
      "6\n",
      "8\n",
      "10\n",
      "12\n",
      "14\n",
      "16\n",
      "18\n",
      "20\n"
     ]
    }
   ],
   "source": [
    "for i in range(2, 21, 2):\n",
    "    print(i)"
   ]
  },
  {
   "cell_type": "code",
   "execution_count": 11,
   "id": "711cf362",
   "metadata": {},
   "outputs": [
    {
     "data": {
      "text/plain": [
       "range(50, 0, 10)"
      ]
     },
     "execution_count": 11,
     "metadata": {},
     "output_type": "execute_result"
    }
   ],
   "source": [
    "range(50, 0, 10)"
   ]
  },
  {
   "cell_type": "code",
   "execution_count": 10,
   "id": "cad89485",
   "metadata": {},
   "outputs": [],
   "source": [
    "for i in range(50, 0, 10):\n",
    "    print(i)"
   ]
  },
  {
   "cell_type": "code",
   "execution_count": null,
   "id": "8d53d02d",
   "metadata": {},
   "outputs": [],
   "source": []
  },
  {
   "cell_type": "code",
   "execution_count": 12,
   "id": "2dcf02a2",
   "metadata": {},
   "outputs": [
    {
     "name": "stdout",
     "output_type": "stream",
     "text": [
      "50\n",
      "40\n",
      "30\n",
      "20\n",
      "10\n"
     ]
    }
   ],
   "source": [
    "for i in range(50, 0, -10):\n",
    "    print(i)"
   ]
  },
  {
   "cell_type": "code",
   "execution_count": null,
   "id": "eb24433d",
   "metadata": {},
   "outputs": [],
   "source": []
  },
  {
   "cell_type": "code",
   "execution_count": 17,
   "id": "2338147c",
   "metadata": {},
   "outputs": [
    {
     "name": "stdout",
     "output_type": "stream",
     "text": [
      "0\n",
      "1\n",
      "2\n",
      "3\n",
      "4\n",
      "5\n",
      "6\n",
      "7\n",
      "8\n",
      "9\n"
     ]
    }
   ],
   "source": [
    "for i in range(10):\n",
    "    print(i)"
   ]
  },
  {
   "cell_type": "code",
   "execution_count": null,
   "id": "bdeebed7",
   "metadata": {},
   "outputs": [],
   "source": []
  },
  {
   "cell_type": "code",
   "execution_count": null,
   "id": "dbf2c13c",
   "metadata": {},
   "outputs": [],
   "source": []
  },
  {
   "cell_type": "code",
   "execution_count": null,
   "id": "f42bfd5f",
   "metadata": {},
   "outputs": [],
   "source": []
  },
  {
   "cell_type": "code",
   "execution_count": 15,
   "id": "097f836e",
   "metadata": {},
   "outputs": [],
   "source": [
    "ls = [23,34,56,678,89,34,67,89]"
   ]
  },
  {
   "cell_type": "code",
   "execution_count": 16,
   "id": "06303919",
   "metadata": {},
   "outputs": [
    {
     "data": {
      "text/plain": [
       "8"
      ]
     },
     "execution_count": 16,
     "metadata": {},
     "output_type": "execute_result"
    }
   ],
   "source": [
    "len(ls)"
   ]
  },
  {
   "cell_type": "code",
   "execution_count": 21,
   "id": "e36257e3",
   "metadata": {},
   "outputs": [
    {
     "name": "stdout",
     "output_type": "stream",
     "text": [
      "23\n",
      "34\n",
      "56\n",
      "678\n",
      "89\n",
      "34\n",
      "67\n",
      "89\n"
     ]
    }
   ],
   "source": [
    "for i in range(len(ls)):\n",
    "    print(ls[i])"
   ]
  },
  {
   "cell_type": "code",
   "execution_count": null,
   "id": "2bc79fa4",
   "metadata": {},
   "outputs": [],
   "source": []
  },
  {
   "cell_type": "code",
   "execution_count": 22,
   "id": "889c35a5",
   "metadata": {},
   "outputs": [
    {
     "data": {
      "text/plain": [
       "[23, 34, 56, 678, 89, 34, 67, 89]"
      ]
     },
     "execution_count": 22,
     "metadata": {},
     "output_type": "execute_result"
    }
   ],
   "source": [
    "ls"
   ]
  },
  {
   "cell_type": "code",
   "execution_count": 23,
   "id": "3cca6082",
   "metadata": {},
   "outputs": [],
   "source": [
    "ls[2] = 56//2"
   ]
  },
  {
   "cell_type": "code",
   "execution_count": 24,
   "id": "5bdb1298",
   "metadata": {},
   "outputs": [
    {
     "data": {
      "text/plain": [
       "[23, 34, 28, 678, 89, 34, 67, 89]"
      ]
     },
     "execution_count": 24,
     "metadata": {},
     "output_type": "execute_result"
    }
   ],
   "source": [
    "ls"
   ]
  },
  {
   "cell_type": "code",
   "execution_count": null,
   "id": "2d1c49cb",
   "metadata": {},
   "outputs": [],
   "source": []
  },
  {
   "cell_type": "markdown",
   "id": "7fcd7e8a",
   "metadata": {},
   "source": [
    "    replace all value of list by their half \n",
    "            with the help of while loop & for loop both"
   ]
  },
  {
   "cell_type": "code",
   "execution_count": null,
   "id": "1fd80da2",
   "metadata": {},
   "outputs": [],
   "source": []
  },
  {
   "cell_type": "code",
   "execution_count": 25,
   "id": "566e13d0",
   "metadata": {},
   "outputs": [
    {
     "data": {
      "text/plain": [
       "[23, 34, 28, 678, 89, 34, 67, 89]"
      ]
     },
     "execution_count": 25,
     "metadata": {},
     "output_type": "execute_result"
    }
   ],
   "source": [
    "ls"
   ]
  },
  {
   "cell_type": "code",
   "execution_count": null,
   "id": "1cca26a8",
   "metadata": {},
   "outputs": [],
   "source": []
  },
  {
   "cell_type": "code",
   "execution_count": 26,
   "id": "7ab9ed9f",
   "metadata": {},
   "outputs": [],
   "source": [
    "i = 0\n",
    "\n",
    "while i < len(ls):\n",
    "    ls[i] = ls[i] // 2\n",
    "    i += 1"
   ]
  },
  {
   "cell_type": "code",
   "execution_count": 27,
   "id": "b52e6e1a",
   "metadata": {},
   "outputs": [
    {
     "name": "stdout",
     "output_type": "stream",
     "text": [
      "[11, 17, 14, 339, 44, 17, 33, 44]\n"
     ]
    }
   ],
   "source": [
    "print(ls)"
   ]
  },
  {
   "cell_type": "code",
   "execution_count": null,
   "id": "31779e6a",
   "metadata": {},
   "outputs": [],
   "source": []
  },
  {
   "cell_type": "code",
   "execution_count": 28,
   "id": "3cbdf3e8",
   "metadata": {},
   "outputs": [
    {
     "data": {
      "text/plain": [
       "[11, 17, 14, 339, 44, 17, 33, 44]"
      ]
     },
     "execution_count": 28,
     "metadata": {},
     "output_type": "execute_result"
    }
   ],
   "source": [
    "ls"
   ]
  },
  {
   "cell_type": "code",
   "execution_count": 29,
   "id": "dc3212f9",
   "metadata": {},
   "outputs": [],
   "source": [
    "for i in range(len(ls)):\n",
    "    ls[i] = ls[i] // 2"
   ]
  },
  {
   "cell_type": "code",
   "execution_count": 30,
   "id": "a41ef0db",
   "metadata": {},
   "outputs": [
    {
     "data": {
      "text/plain": [
       "[5, 8, 7, 169, 22, 8, 16, 22]"
      ]
     },
     "execution_count": 30,
     "metadata": {},
     "output_type": "execute_result"
    }
   ],
   "source": [
    "ls"
   ]
  },
  {
   "cell_type": "code",
   "execution_count": null,
   "id": "764b1d07",
   "metadata": {},
   "outputs": [],
   "source": []
  },
  {
   "cell_type": "code",
   "execution_count": null,
   "id": "7c669427",
   "metadata": {},
   "outputs": [],
   "source": []
  },
  {
   "cell_type": "code",
   "execution_count": 31,
   "id": "c8b6dc20",
   "metadata": {},
   "outputs": [],
   "source": [
    "ls  = [10,20,30,40,50]"
   ]
  },
  {
   "cell_type": "code",
   "execution_count": 33,
   "id": "04f69979",
   "metadata": {},
   "outputs": [
    {
     "data": {
      "text/plain": [
       "10"
      ]
     },
     "execution_count": 33,
     "metadata": {},
     "output_type": "execute_result"
    }
   ],
   "source": [
    "ls[0]"
   ]
  },
  {
   "cell_type": "code",
   "execution_count": 34,
   "id": "a17988b0",
   "metadata": {},
   "outputs": [
    {
     "data": {
      "text/plain": [
       "'[10, 20, 30, 40, 50]'"
      ]
     },
     "execution_count": 34,
     "metadata": {},
     "output_type": "execute_result"
    }
   ],
   "source": [
    "s = str(ls)\n",
    "s"
   ]
  },
  {
   "cell_type": "code",
   "execution_count": 35,
   "id": "c8089d1a",
   "metadata": {},
   "outputs": [
    {
     "data": {
      "text/plain": [
       "'['"
      ]
     },
     "execution_count": 35,
     "metadata": {},
     "output_type": "execute_result"
    }
   ],
   "source": [
    "s[0]"
   ]
  },
  {
   "cell_type": "code",
   "execution_count": 36,
   "id": "e3469699",
   "metadata": {},
   "outputs": [
    {
     "data": {
      "text/plain": [
       "'1'"
      ]
     },
     "execution_count": 36,
     "metadata": {},
     "output_type": "execute_result"
    }
   ],
   "source": [
    "s[1]"
   ]
  },
  {
   "cell_type": "code",
   "execution_count": null,
   "id": "16c8c577",
   "metadata": {},
   "outputs": [],
   "source": []
  },
  {
   "cell_type": "code",
   "execution_count": 38,
   "id": "7c971ca5",
   "metadata": {},
   "outputs": [
    {
     "name": "stdout",
     "output_type": "stream",
     "text": [
      "['[', '1', '0', ',', ' ', '2', '0', ',', ' ', '3', '0', ',', ' ', '4', '0', ',', ' ', '5', '0', ']']\n"
     ]
    }
   ],
   "source": [
    "print(list(s))"
   ]
  },
  {
   "cell_type": "code",
   "execution_count": null,
   "id": "1d681308",
   "metadata": {},
   "outputs": [],
   "source": []
  },
  {
   "cell_type": "code",
   "execution_count": 39,
   "id": "0972702a",
   "metadata": {},
   "outputs": [
    {
     "data": {
      "text/plain": [
       "'[10, 20, 30, 40, 50]'"
      ]
     },
     "execution_count": 39,
     "metadata": {},
     "output_type": "execute_result"
    }
   ],
   "source": [
    "s"
   ]
  },
  {
   "cell_type": "code",
   "execution_count": 40,
   "id": "89cb855d",
   "metadata": {},
   "outputs": [
    {
     "data": {
      "text/plain": [
       "'10, 20, 30, 40, 50'"
      ]
     },
     "execution_count": 40,
     "metadata": {},
     "output_type": "execute_result"
    }
   ],
   "source": [
    "s[1:-1]"
   ]
  },
  {
   "cell_type": "code",
   "execution_count": 42,
   "id": "fcf81c1a",
   "metadata": {},
   "outputs": [
    {
     "data": {
      "text/plain": [
       "'10, 20, 30, 40, 50'"
      ]
     },
     "execution_count": 42,
     "metadata": {},
     "output_type": "execute_result"
    }
   ],
   "source": [
    "s1 = s.strip('[]')\n",
    "s1"
   ]
  },
  {
   "cell_type": "code",
   "execution_count": 44,
   "id": "0c7503f1",
   "metadata": {},
   "outputs": [
    {
     "data": {
      "text/plain": [
       "['10', '20', '30', '40', '50']"
      ]
     },
     "execution_count": 44,
     "metadata": {},
     "output_type": "execute_result"
    }
   ],
   "source": [
    "ls = s1.split(', ')\n",
    "ls"
   ]
  },
  {
   "cell_type": "code",
   "execution_count": 45,
   "id": "ae65bb76",
   "metadata": {},
   "outputs": [],
   "source": [
    "for i in range(len(ls)):\n",
    "    ls[i] = int(ls[i])"
   ]
  },
  {
   "cell_type": "code",
   "execution_count": 46,
   "id": "fb0a294a",
   "metadata": {},
   "outputs": [
    {
     "data": {
      "text/plain": [
       "[10, 20, 30, 40, 50]"
      ]
     },
     "execution_count": 46,
     "metadata": {},
     "output_type": "execute_result"
    }
   ],
   "source": [
    "ls"
   ]
  },
  {
   "cell_type": "code",
   "execution_count": null,
   "id": "aad21de5",
   "metadata": {},
   "outputs": [],
   "source": []
  },
  {
   "cell_type": "code",
   "execution_count": null,
   "id": "fad2503e",
   "metadata": {},
   "outputs": [],
   "source": []
  },
  {
   "cell_type": "code",
   "execution_count": 47,
   "id": "c7d2c570",
   "metadata": {},
   "outputs": [],
   "source": [
    "names = ['rahul', 'anil', 'nitin', 'vaibhav']\n",
    "ages = [23, 21, 25, 27]\n"
   ]
  },
  {
   "cell_type": "code",
   "execution_count": null,
   "id": "364fd3c1",
   "metadata": {},
   "outputs": [],
   "source": []
  },
  {
   "cell_type": "markdown",
   "id": "26bb3eae",
   "metadata": {},
   "source": [
    "    student_name: rahul\n",
    "    student_age: 23\n",
    "    \n",
    "    student_name: anil\n",
    "    student_age: 21"
   ]
  },
  {
   "cell_type": "code",
   "execution_count": 48,
   "id": "c8442bef",
   "metadata": {},
   "outputs": [
    {
     "name": "stdout",
     "output_type": "stream",
     "text": [
      "Student_name: rahul\n",
      "Student_age: 23\n",
      "\n",
      "Student_name: anil\n",
      "Student_age: 21\n",
      "\n",
      "Student_name: nitin\n",
      "Student_age: 25\n",
      "\n",
      "Student_name: vaibhav\n",
      "Student_age: 27\n",
      "\n"
     ]
    }
   ],
   "source": [
    "for i in range(len(names)):\n",
    "    print(f\"Student_name: {names[i]}\")\n",
    "    print(f\"Student_age: {ages[i]}\")\n",
    "    print()"
   ]
  },
  {
   "cell_type": "code",
   "execution_count": null,
   "id": "fdaccb5c",
   "metadata": {},
   "outputs": [],
   "source": []
  },
  {
   "cell_type": "markdown",
   "id": "210d3925",
   "metadata": {},
   "source": [
    "    5 * 1 = 5\n",
    "    5 * 2 = 10\n",
    "    5 * 3 = 15\n",
    "    5 * 4 = 20\n",
    "    .\n",
    "    .\n",
    "    ."
   ]
  },
  {
   "cell_type": "code",
   "execution_count": 51,
   "id": "8fa80630",
   "metadata": {},
   "outputs": [
    {
     "name": "stdout",
     "output_type": "stream",
     "text": [
      "Enter a number: 10\n",
      "10 * 1 = 10\n",
      "10 * 2 = 20\n",
      "10 * 3 = 30\n",
      "10 * 4 = 40\n",
      "10 * 5 = 50\n",
      "10 * 6 = 60\n",
      "10 * 7 = 70\n",
      "10 * 8 = 80\n",
      "10 * 9 = 90\n",
      "10 * 10 = 100\n"
     ]
    }
   ],
   "source": [
    "N = int(input('Enter a number: '))\n",
    "\n",
    "for i in range(1, 11):\n",
    "    print(f\"{N} * {i} = {N*i}\")"
   ]
  },
  {
   "cell_type": "code",
   "execution_count": null,
   "id": "2827e317",
   "metadata": {},
   "outputs": [],
   "source": []
  },
  {
   "cell_type": "code",
   "execution_count": null,
   "id": "9b205636",
   "metadata": {},
   "outputs": [],
   "source": []
  },
  {
   "cell_type": "markdown",
   "id": "ce64d052",
   "metadata": {},
   "source": [
    "## zip()\n",
    "\n",
    "                zip(*iterables)"
   ]
  },
  {
   "cell_type": "code",
   "execution_count": null,
   "id": "fa7fac2d",
   "metadata": {},
   "outputs": [],
   "source": []
  },
  {
   "cell_type": "code",
   "execution_count": 1,
   "id": "7e5a0f63",
   "metadata": {},
   "outputs": [
    {
     "data": {
      "text/plain": [
       "<zip at 0x235177402c0>"
      ]
     },
     "execution_count": 1,
     "metadata": {},
     "output_type": "execute_result"
    }
   ],
   "source": [
    "zip([10,20,30], [100,200,300])"
   ]
  },
  {
   "cell_type": "code",
   "execution_count": null,
   "id": "01c92b89",
   "metadata": {},
   "outputs": [],
   "source": []
  },
  {
   "cell_type": "code",
   "execution_count": 53,
   "id": "5e56f20b",
   "metadata": {},
   "outputs": [
    {
     "name": "stdout",
     "output_type": "stream",
     "text": [
      "(10, 100)\n",
      "(20, 200)\n",
      "(30, 300)\n"
     ]
    }
   ],
   "source": [
    "for i in zip([10,20,30], [100,200,300]):\n",
    "    print(i)"
   ]
  },
  {
   "cell_type": "code",
   "execution_count": null,
   "id": "3b6c8830",
   "metadata": {},
   "outputs": [],
   "source": []
  },
  {
   "cell_type": "code",
   "execution_count": 2,
   "id": "faa0591c",
   "metadata": {},
   "outputs": [],
   "source": [
    "it_1 = [10,20,30]\n",
    "it_2 = [100,200,300]"
   ]
  },
  {
   "cell_type": "code",
   "execution_count": 3,
   "id": "3badb79f",
   "metadata": {},
   "outputs": [
    {
     "name": "stdout",
     "output_type": "stream",
     "text": [
      "(10, 100)\n",
      "(20, 200)\n",
      "(30, 300)\n"
     ]
    }
   ],
   "source": [
    "for i in range(len(it_1)):\n",
    "    tp = (it_1[i], it_2[i])\n",
    "    print(tp)"
   ]
  },
  {
   "cell_type": "code",
   "execution_count": null,
   "id": "d70c1f62",
   "metadata": {},
   "outputs": [],
   "source": []
  },
  {
   "cell_type": "code",
   "execution_count": 4,
   "id": "98447242",
   "metadata": {},
   "outputs": [],
   "source": [
    "names = ['rahul', 'vaibhav', 'akshat', 'aman', 'sunil']\n",
    "ages = [25, 26, 24, 23, 25]\n",
    "address = ['jaipur', 'ajmer', 'alwar', 'jaipur', 'jaipur']"
   ]
  },
  {
   "cell_type": "code",
   "execution_count": null,
   "id": "8800beb2",
   "metadata": {},
   "outputs": [],
   "source": []
  },
  {
   "cell_type": "markdown",
   "id": "15656c17",
   "metadata": {},
   "source": [
    "    user_name: rahul\n",
    "    user_age: 25\n",
    "    user_address: jaipur"
   ]
  },
  {
   "cell_type": "code",
   "execution_count": 5,
   "id": "dd800624",
   "metadata": {},
   "outputs": [
    {
     "name": "stdout",
     "output_type": "stream",
     "text": [
      "User_name: rahul\n",
      "User_age: 25\n",
      "User_address: jaipur\n",
      "\n",
      "User_name: vaibhav\n",
      "User_age: 26\n",
      "User_address: ajmer\n",
      "\n",
      "User_name: akshat\n",
      "User_age: 24\n",
      "User_address: alwar\n",
      "\n",
      "User_name: aman\n",
      "User_age: 23\n",
      "User_address: jaipur\n",
      "\n",
      "User_name: sunil\n",
      "User_age: 25\n",
      "User_address: jaipur\n",
      "\n"
     ]
    }
   ],
   "source": [
    "for i in range(len(names)):\n",
    "    print(f\"User_name: {names[i]}\")\n",
    "    print(f\"User_age: {ages[i]}\")\n",
    "    print(f\"User_address: {address[i]}\")\n",
    "    print()"
   ]
  },
  {
   "cell_type": "code",
   "execution_count": null,
   "id": "398f2b3d",
   "metadata": {},
   "outputs": [],
   "source": []
  },
  {
   "cell_type": "code",
   "execution_count": 6,
   "id": "5b427fc5",
   "metadata": {},
   "outputs": [],
   "source": [
    "names = ['rahul', 'vaibhav', 'akshat', 'aman', 'sunil', 'rohan']\n",
    "ages = [25, 26, 24, 23, 25]\n",
    "address = ['jaipur', 'ajmer', 'alwar', 'jaipur', 'jaipur']"
   ]
  },
  {
   "cell_type": "code",
   "execution_count": 7,
   "id": "61443f1c",
   "metadata": {},
   "outputs": [
    {
     "name": "stdout",
     "output_type": "stream",
     "text": [
      "User_name: rahul\n",
      "User_age: 25\n",
      "User_address: jaipur\n",
      "\n",
      "User_name: vaibhav\n",
      "User_age: 26\n",
      "User_address: ajmer\n",
      "\n",
      "User_name: akshat\n",
      "User_age: 24\n",
      "User_address: alwar\n",
      "\n",
      "User_name: aman\n",
      "User_age: 23\n",
      "User_address: jaipur\n",
      "\n",
      "User_name: sunil\n",
      "User_age: 25\n",
      "User_address: jaipur\n",
      "\n",
      "User_name: rohan\n"
     ]
    },
    {
     "ename": "IndexError",
     "evalue": "list index out of range",
     "output_type": "error",
     "traceback": [
      "\u001b[1;31m---------------------------------------------------------------------------\u001b[0m",
      "\u001b[1;31mIndexError\u001b[0m                                Traceback (most recent call last)",
      "Cell \u001b[1;32mIn[7], line 3\u001b[0m\n\u001b[0;32m      1\u001b[0m \u001b[38;5;28;01mfor\u001b[39;00m i \u001b[38;5;129;01min\u001b[39;00m \u001b[38;5;28mrange\u001b[39m(\u001b[38;5;28mlen\u001b[39m(names)):\n\u001b[0;32m      2\u001b[0m     \u001b[38;5;28mprint\u001b[39m(\u001b[38;5;124mf\u001b[39m\u001b[38;5;124m\"\u001b[39m\u001b[38;5;124mUser_name: \u001b[39m\u001b[38;5;132;01m{\u001b[39;00mnames[i]\u001b[38;5;132;01m}\u001b[39;00m\u001b[38;5;124m\"\u001b[39m)\n\u001b[1;32m----> 3\u001b[0m     \u001b[38;5;28mprint\u001b[39m(\u001b[38;5;124mf\u001b[39m\u001b[38;5;124m\"\u001b[39m\u001b[38;5;124mUser_age: \u001b[39m\u001b[38;5;132;01m{\u001b[39;00mages[i]\u001b[38;5;132;01m}\u001b[39;00m\u001b[38;5;124m\"\u001b[39m)\n\u001b[0;32m      4\u001b[0m     \u001b[38;5;28mprint\u001b[39m(\u001b[38;5;124mf\u001b[39m\u001b[38;5;124m\"\u001b[39m\u001b[38;5;124mUser_address: \u001b[39m\u001b[38;5;132;01m{\u001b[39;00maddress[i]\u001b[38;5;132;01m}\u001b[39;00m\u001b[38;5;124m\"\u001b[39m)\n\u001b[0;32m      5\u001b[0m     \u001b[38;5;28mprint\u001b[39m()\n",
      "\u001b[1;31mIndexError\u001b[0m: list index out of range"
     ]
    }
   ],
   "source": [
    "for i in range(len(names)):\n",
    "    print(f\"User_name: {names[i]}\")\n",
    "    print(f\"User_age: {ages[i]}\")\n",
    "    print(f\"User_address: {address[i]}\")\n",
    "    print()"
   ]
  },
  {
   "cell_type": "code",
   "execution_count": null,
   "id": "d438d79e",
   "metadata": {},
   "outputs": [],
   "source": []
  },
  {
   "cell_type": "code",
   "execution_count": null,
   "id": "65160f08",
   "metadata": {},
   "outputs": [],
   "source": []
  },
  {
   "cell_type": "code",
   "execution_count": 8,
   "id": "e2fdcdf5",
   "metadata": {},
   "outputs": [],
   "source": [
    "names = ['rahul', 'vaibhav', 'akshat', 'aman', 'sunil', 'rohan']\n",
    "ages = [25, 26, 24, 23, 25]\n",
    "address = ['jaipur', 'ajmer', 'alwar', 'jaipur', 'jaipur']"
   ]
  },
  {
   "cell_type": "code",
   "execution_count": 9,
   "id": "e61f670c",
   "metadata": {},
   "outputs": [
    {
     "data": {
      "text/plain": [
       "<zip at 0x23518199680>"
      ]
     },
     "execution_count": 9,
     "metadata": {},
     "output_type": "execute_result"
    }
   ],
   "source": [
    "zip(names, ages, address)"
   ]
  },
  {
   "cell_type": "code",
   "execution_count": 10,
   "id": "8802acdf",
   "metadata": {},
   "outputs": [
    {
     "name": "stdout",
     "output_type": "stream",
     "text": [
      "('rahul', 25, 'jaipur')\n",
      "('vaibhav', 26, 'ajmer')\n",
      "('akshat', 24, 'alwar')\n",
      "('aman', 23, 'jaipur')\n",
      "('sunil', 25, 'jaipur')\n"
     ]
    }
   ],
   "source": [
    "for i in zip(names, ages, address):\n",
    "    print(i)"
   ]
  },
  {
   "cell_type": "code",
   "execution_count": null,
   "id": "08fd7bca",
   "metadata": {},
   "outputs": [],
   "source": []
  },
  {
   "cell_type": "code",
   "execution_count": null,
   "id": "692d4d8c",
   "metadata": {},
   "outputs": [],
   "source": []
  },
  {
   "cell_type": "markdown",
   "id": "7eba130e",
   "metadata": {},
   "source": [
    "### unpacking"
   ]
  },
  {
   "cell_type": "code",
   "execution_count": 11,
   "id": "2b1cce32",
   "metadata": {},
   "outputs": [],
   "source": [
    "ls = [23,34,56,67,34]"
   ]
  },
  {
   "cell_type": "code",
   "execution_count": 12,
   "id": "5443a78f",
   "metadata": {},
   "outputs": [],
   "source": [
    "a,b,c,d,e = ls"
   ]
  },
  {
   "cell_type": "code",
   "execution_count": 13,
   "id": "bd2a4060",
   "metadata": {},
   "outputs": [
    {
     "data": {
      "text/plain": [
       "23"
      ]
     },
     "execution_count": 13,
     "metadata": {},
     "output_type": "execute_result"
    }
   ],
   "source": [
    "a"
   ]
  },
  {
   "cell_type": "code",
   "execution_count": 14,
   "id": "71dfd7fd",
   "metadata": {},
   "outputs": [
    {
     "data": {
      "text/plain": [
       "34"
      ]
     },
     "execution_count": 14,
     "metadata": {},
     "output_type": "execute_result"
    }
   ],
   "source": [
    "b"
   ]
  },
  {
   "cell_type": "code",
   "execution_count": 15,
   "id": "4e739a4f",
   "metadata": {},
   "outputs": [
    {
     "data": {
      "text/plain": [
       "56"
      ]
     },
     "execution_count": 15,
     "metadata": {},
     "output_type": "execute_result"
    }
   ],
   "source": [
    "c"
   ]
  },
  {
   "cell_type": "code",
   "execution_count": 16,
   "id": "11c538c6",
   "metadata": {},
   "outputs": [
    {
     "data": {
      "text/plain": [
       "67"
      ]
     },
     "execution_count": 16,
     "metadata": {},
     "output_type": "execute_result"
    }
   ],
   "source": [
    "d"
   ]
  },
  {
   "cell_type": "code",
   "execution_count": 17,
   "id": "77d312a7",
   "metadata": {},
   "outputs": [
    {
     "data": {
      "text/plain": [
       "34"
      ]
     },
     "execution_count": 17,
     "metadata": {},
     "output_type": "execute_result"
    }
   ],
   "source": [
    "e"
   ]
  },
  {
   "cell_type": "code",
   "execution_count": 18,
   "id": "56ac8a22",
   "metadata": {},
   "outputs": [
    {
     "data": {
      "text/plain": [
       "[23, 34, 56, 67, 34]"
      ]
     },
     "execution_count": 18,
     "metadata": {},
     "output_type": "execute_result"
    }
   ],
   "source": [
    "ls"
   ]
  },
  {
   "cell_type": "code",
   "execution_count": 19,
   "id": "2ccd1e81",
   "metadata": {},
   "outputs": [
    {
     "ename": "ValueError",
     "evalue": "too many values to unpack (expected 2)",
     "output_type": "error",
     "traceback": [
      "\u001b[1;31m---------------------------------------------------------------------------\u001b[0m",
      "\u001b[1;31mValueError\u001b[0m                                Traceback (most recent call last)",
      "Cell \u001b[1;32mIn[19], line 1\u001b[0m\n\u001b[1;32m----> 1\u001b[0m a,b \u001b[38;5;241m=\u001b[39m ls\n",
      "\u001b[1;31mValueError\u001b[0m: too many values to unpack (expected 2)"
     ]
    }
   ],
   "source": [
    "a,b = ls"
   ]
  },
  {
   "cell_type": "code",
   "execution_count": 21,
   "id": "78df7ab5",
   "metadata": {},
   "outputs": [],
   "source": [
    "tp = (23,34,67)"
   ]
  },
  {
   "cell_type": "code",
   "execution_count": 22,
   "id": "866652e3",
   "metadata": {},
   "outputs": [
    {
     "ename": "ValueError",
     "evalue": "too many values to unpack (expected 2)",
     "output_type": "error",
     "traceback": [
      "\u001b[1;31m---------------------------------------------------------------------------\u001b[0m",
      "\u001b[1;31mValueError\u001b[0m                                Traceback (most recent call last)",
      "Cell \u001b[1;32mIn[22], line 1\u001b[0m\n\u001b[1;32m----> 1\u001b[0m a,b \u001b[38;5;241m=\u001b[39m tp\n",
      "\u001b[1;31mValueError\u001b[0m: too many values to unpack (expected 2)"
     ]
    }
   ],
   "source": [
    "a,b = tp"
   ]
  },
  {
   "cell_type": "code",
   "execution_count": 23,
   "id": "4b318a99",
   "metadata": {},
   "outputs": [
    {
     "ename": "ValueError",
     "evalue": "not enough values to unpack (expected 4, got 3)",
     "output_type": "error",
     "traceback": [
      "\u001b[1;31m---------------------------------------------------------------------------\u001b[0m",
      "\u001b[1;31mValueError\u001b[0m                                Traceback (most recent call last)",
      "Cell \u001b[1;32mIn[23], line 1\u001b[0m\n\u001b[1;32m----> 1\u001b[0m a,b,c,d \u001b[38;5;241m=\u001b[39m tp\n",
      "\u001b[1;31mValueError\u001b[0m: not enough values to unpack (expected 4, got 3)"
     ]
    }
   ],
   "source": [
    "a,b,c,d = tp"
   ]
  },
  {
   "cell_type": "code",
   "execution_count": null,
   "id": "fdc2dbe2",
   "metadata": {},
   "outputs": [],
   "source": []
  },
  {
   "cell_type": "code",
   "execution_count": 24,
   "id": "af0a05cb",
   "metadata": {},
   "outputs": [],
   "source": [
    "string = 'python'"
   ]
  },
  {
   "cell_type": "code",
   "execution_count": 25,
   "id": "5cadfed5",
   "metadata": {},
   "outputs": [],
   "source": [
    "a,b,c,d,e,f = string"
   ]
  },
  {
   "cell_type": "code",
   "execution_count": 26,
   "id": "1a67107b",
   "metadata": {},
   "outputs": [
    {
     "data": {
      "text/plain": [
       "'p'"
      ]
     },
     "execution_count": 26,
     "metadata": {},
     "output_type": "execute_result"
    }
   ],
   "source": [
    "a"
   ]
  },
  {
   "cell_type": "code",
   "execution_count": 27,
   "id": "5c0dd69d",
   "metadata": {},
   "outputs": [
    {
     "data": {
      "text/plain": [
       "'y'"
      ]
     },
     "execution_count": 27,
     "metadata": {},
     "output_type": "execute_result"
    }
   ],
   "source": [
    "b"
   ]
  },
  {
   "cell_type": "code",
   "execution_count": 28,
   "id": "8e22a1eb",
   "metadata": {},
   "outputs": [
    {
     "data": {
      "text/plain": [
       "'t'"
      ]
     },
     "execution_count": 28,
     "metadata": {},
     "output_type": "execute_result"
    }
   ],
   "source": [
    "c"
   ]
  },
  {
   "cell_type": "code",
   "execution_count": 29,
   "id": "926d3159",
   "metadata": {},
   "outputs": [
    {
     "data": {
      "text/plain": [
       "'h'"
      ]
     },
     "execution_count": 29,
     "metadata": {},
     "output_type": "execute_result"
    }
   ],
   "source": [
    "d"
   ]
  },
  {
   "cell_type": "code",
   "execution_count": null,
   "id": "f3564fe2",
   "metadata": {},
   "outputs": [],
   "source": []
  },
  {
   "cell_type": "code",
   "execution_count": 30,
   "id": "cfa182c8",
   "metadata": {},
   "outputs": [
    {
     "data": {
      "text/plain": [
       "{'name': 'aman', 'age': 25, 'address': 'jaipur'}"
      ]
     },
     "execution_count": 30,
     "metadata": {},
     "output_type": "execute_result"
    }
   ],
   "source": [
    "d1 = {'name':'aman', 'age':25, 'address':'jaipur'}\n",
    "d1"
   ]
  },
  {
   "cell_type": "code",
   "execution_count": null,
   "id": "52b81add",
   "metadata": {},
   "outputs": [],
   "source": []
  },
  {
   "cell_type": "code",
   "execution_count": 31,
   "id": "e4a20bae",
   "metadata": {},
   "outputs": [],
   "source": [
    "name, age, address = d1"
   ]
  },
  {
   "cell_type": "code",
   "execution_count": 32,
   "id": "e240d001",
   "metadata": {},
   "outputs": [
    {
     "data": {
      "text/plain": [
       "'name'"
      ]
     },
     "execution_count": 32,
     "metadata": {},
     "output_type": "execute_result"
    }
   ],
   "source": [
    "name"
   ]
  },
  {
   "cell_type": "code",
   "execution_count": 33,
   "id": "f965d67d",
   "metadata": {},
   "outputs": [
    {
     "data": {
      "text/plain": [
       "'age'"
      ]
     },
     "execution_count": 33,
     "metadata": {},
     "output_type": "execute_result"
    }
   ],
   "source": [
    "age"
   ]
  },
  {
   "cell_type": "code",
   "execution_count": 34,
   "id": "0f28a503",
   "metadata": {},
   "outputs": [
    {
     "data": {
      "text/plain": [
       "'address'"
      ]
     },
     "execution_count": 34,
     "metadata": {},
     "output_type": "execute_result"
    }
   ],
   "source": [
    "address"
   ]
  },
  {
   "cell_type": "code",
   "execution_count": null,
   "id": "e5808c91",
   "metadata": {},
   "outputs": [],
   "source": []
  },
  {
   "cell_type": "code",
   "execution_count": 35,
   "id": "00b97268",
   "metadata": {},
   "outputs": [
    {
     "ename": "ValueError",
     "evalue": "too many values to unpack (expected 3)",
     "output_type": "error",
     "traceback": [
      "\u001b[1;31m---------------------------------------------------------------------------\u001b[0m",
      "\u001b[1;31mValueError\u001b[0m                                Traceback (most recent call last)",
      "Cell \u001b[1;32mIn[35], line 1\u001b[0m\n\u001b[1;32m----> 1\u001b[0m a,b,c \u001b[38;5;241m=\u001b[39m \u001b[38;5;124m'\u001b[39m\u001b[38;5;124mpython\u001b[39m\u001b[38;5;124m'\u001b[39m\n",
      "\u001b[1;31mValueError\u001b[0m: too many values to unpack (expected 3)"
     ]
    }
   ],
   "source": [
    "a,b,c = 'python'"
   ]
  },
  {
   "cell_type": "code",
   "execution_count": 36,
   "id": "7758381e",
   "metadata": {},
   "outputs": [
    {
     "ename": "ValueError",
     "evalue": "too many values to unpack (expected 3)",
     "output_type": "error",
     "traceback": [
      "\u001b[1;31m---------------------------------------------------------------------------\u001b[0m",
      "\u001b[1;31mValueError\u001b[0m                                Traceback (most recent call last)",
      "Cell \u001b[1;32mIn[36], line 1\u001b[0m\n\u001b[1;32m----> 1\u001b[0m a,b,c \u001b[38;5;241m=\u001b[39m \u001b[38;5;124m'\u001b[39m\u001b[38;5;124mwe are learning python\u001b[39m\u001b[38;5;124m'\u001b[39m\n",
      "\u001b[1;31mValueError\u001b[0m: too many values to unpack (expected 3)"
     ]
    }
   ],
   "source": [
    "a,b,c = 'we are learning python'"
   ]
  },
  {
   "cell_type": "code",
   "execution_count": 37,
   "id": "cb94de09",
   "metadata": {},
   "outputs": [
    {
     "data": {
      "text/plain": [
       "{'name': 'aman', 'age': 25, 'address': 'jaipur'}"
      ]
     },
     "execution_count": 37,
     "metadata": {},
     "output_type": "execute_result"
    }
   ],
   "source": [
    "d1"
   ]
  },
  {
   "cell_type": "code",
   "execution_count": 38,
   "id": "9be6d136",
   "metadata": {},
   "outputs": [],
   "source": [
    "name, age, address = d1.values()"
   ]
  },
  {
   "cell_type": "code",
   "execution_count": 40,
   "id": "8b83005b",
   "metadata": {},
   "outputs": [
    {
     "data": {
      "text/plain": [
       "'aman'"
      ]
     },
     "execution_count": 40,
     "metadata": {},
     "output_type": "execute_result"
    }
   ],
   "source": [
    "name"
   ]
  },
  {
   "cell_type": "code",
   "execution_count": 41,
   "id": "bb00b43a",
   "metadata": {},
   "outputs": [
    {
     "data": {
      "text/plain": [
       "25"
      ]
     },
     "execution_count": 41,
     "metadata": {},
     "output_type": "execute_result"
    }
   ],
   "source": [
    "age"
   ]
  },
  {
   "cell_type": "code",
   "execution_count": 42,
   "id": "b3d58536",
   "metadata": {},
   "outputs": [
    {
     "data": {
      "text/plain": [
       "'jaipur'"
      ]
     },
     "execution_count": 42,
     "metadata": {},
     "output_type": "execute_result"
    }
   ],
   "source": [
    "address"
   ]
  },
  {
   "cell_type": "code",
   "execution_count": null,
   "id": "9c9008ec",
   "metadata": {},
   "outputs": [],
   "source": []
  },
  {
   "cell_type": "code",
   "execution_count": 54,
   "id": "612bb041",
   "metadata": {},
   "outputs": [],
   "source": [
    "names = ['rahul', 'vaibhav', 'akshat', 'aman', 'sunil', 'rohan']\n",
    "ages = [25, 26, 24, 23, 25]\n",
    "address = ['jaipur', 'ajmer', 'alwar', 'jaipur', 'jaipur']"
   ]
  },
  {
   "cell_type": "code",
   "execution_count": 49,
   "id": "50e1a8e6",
   "metadata": {},
   "outputs": [
    {
     "name": "stdout",
     "output_type": "stream",
     "text": [
      "User_name: rahul\n",
      "User_age: 25\n",
      "User_address: jaipur\n",
      "\n",
      "User_name: vaibhav\n",
      "User_age: 26\n",
      "User_address: ajmer\n",
      "\n",
      "User_name: akshat\n",
      "User_age: 24\n",
      "User_address: alwar\n",
      "\n",
      "User_name: aman\n",
      "User_age: 23\n",
      "User_address: jaipur\n",
      "\n",
      "User_name: sunil\n",
      "User_age: 25\n",
      "User_address: jaipur\n",
      "\n"
     ]
    }
   ],
   "source": [
    "for i in zip(names, ages, address):\n",
    "    print(f\"User_name: {i[0]}\")\n",
    "    print(f\"User_age: {i[1]}\")\n",
    "    print(f\"User_address: {i[2]}\")\n",
    "    print()"
   ]
  },
  {
   "cell_type": "markdown",
   "id": "0e4e3edb",
   "metadata": {},
   "source": [
    "    i = ('rahul', 25, 'jaipur')\n",
    "    i = ('vaibhav', 26, 'ajmer')\n",
    "    i = ('akshat', 24, 'alwar')\n",
    "    i = ('aman', 23, 'jaipur')\n",
    "    i = ('sunil', 25, 'jaipur')"
   ]
  },
  {
   "cell_type": "code",
   "execution_count": 51,
   "id": "5254c5d2",
   "metadata": {},
   "outputs": [
    {
     "name": "stdout",
     "output_type": "stream",
     "text": [
      "rahul\n",
      "25\n",
      "jaipur\n",
      "\n",
      "vaibhav\n",
      "26\n",
      "ajmer\n",
      "\n",
      "akshat\n",
      "24\n",
      "alwar\n",
      "\n",
      "aman\n",
      "23\n",
      "jaipur\n",
      "\n",
      "sunil\n",
      "25\n",
      "jaipur\n",
      "\n"
     ]
    }
   ],
   "source": [
    "for i in zip(names, ages, address):\n",
    "    name, age, add = i\n",
    "    print(name)\n",
    "    print(age)\n",
    "    print(add)\n",
    "    print()"
   ]
  },
  {
   "cell_type": "code",
   "execution_count": 55,
   "id": "080f3bf4",
   "metadata": {},
   "outputs": [
    {
     "name": "stdout",
     "output_type": "stream",
     "text": [
      "rahul\n",
      "25\n",
      "jaipur\n",
      "\n",
      "vaibhav\n",
      "26\n",
      "ajmer\n",
      "\n",
      "akshat\n",
      "24\n",
      "alwar\n",
      "\n",
      "aman\n",
      "23\n",
      "jaipur\n",
      "\n",
      "sunil\n",
      "25\n",
      "jaipur\n",
      "\n"
     ]
    }
   ],
   "source": [
    "for name, age, add in zip(names, ages, address):\n",
    "    print(name)\n",
    "    print(age)\n",
    "    print(add)\n",
    "    print()"
   ]
  },
  {
   "cell_type": "code",
   "execution_count": null,
   "id": "e518b56f",
   "metadata": {},
   "outputs": [],
   "source": []
  },
  {
   "cell_type": "code",
   "execution_count": 56,
   "id": "8b480ba0",
   "metadata": {},
   "outputs": [
    {
     "data": {
      "text/plain": [
       "{'name': 'aman', 'age': 25, 'address': 'jaipur'}"
      ]
     },
     "execution_count": 56,
     "metadata": {},
     "output_type": "execute_result"
    }
   ],
   "source": [
    "d1"
   ]
  },
  {
   "cell_type": "code",
   "execution_count": 57,
   "id": "529eaa4b",
   "metadata": {},
   "outputs": [
    {
     "data": {
      "text/plain": [
       "dict_items([('name', 'aman'), ('age', 25), ('address', 'jaipur')])"
      ]
     },
     "execution_count": 57,
     "metadata": {},
     "output_type": "execute_result"
    }
   ],
   "source": [
    "d1.items()"
   ]
  },
  {
   "cell_type": "code",
   "execution_count": 58,
   "id": "38d51e6e",
   "metadata": {},
   "outputs": [
    {
     "name": "stdout",
     "output_type": "stream",
     "text": [
      "('name', 'aman')\n",
      "('age', 25)\n",
      "('address', 'jaipur')\n"
     ]
    }
   ],
   "source": [
    "for i in d1.items():\n",
    "    print(i)"
   ]
  },
  {
   "cell_type": "code",
   "execution_count": 59,
   "id": "3f603a73",
   "metadata": {},
   "outputs": [
    {
     "name": "stdout",
     "output_type": "stream",
     "text": [
      "name : aman\n",
      "age : 25\n",
      "address : jaipur\n"
     ]
    }
   ],
   "source": [
    "for key, value in d1.items():\n",
    "    print(f\"{key} : {value}\")"
   ]
  },
  {
   "cell_type": "code",
   "execution_count": null,
   "id": "9dc3df42",
   "metadata": {},
   "outputs": [],
   "source": []
  },
  {
   "cell_type": "markdown",
   "id": "aaff7557",
   "metadata": {},
   "source": [
    "## enumerate()"
   ]
  },
  {
   "cell_type": "code",
   "execution_count": 60,
   "id": "ba7b65c4",
   "metadata": {},
   "outputs": [
    {
     "data": {
      "text/plain": [
       "<enumerate at 0x2351a4e0580>"
      ]
     },
     "execution_count": 60,
     "metadata": {},
     "output_type": "execute_result"
    }
   ],
   "source": [
    "enumerate([10,20,30,40])"
   ]
  },
  {
   "cell_type": "markdown",
   "id": "5354d853",
   "metadata": {},
   "source": [
    "        (0, 10)\n",
    "        (1, 20)\n",
    "        (2, 30)\n",
    "        (3, 40)"
   ]
  },
  {
   "cell_type": "code",
   "execution_count": 61,
   "id": "0ae5de81",
   "metadata": {},
   "outputs": [
    {
     "name": "stdout",
     "output_type": "stream",
     "text": [
      "(0, 10)\n",
      "(1, 20)\n",
      "(2, 30)\n",
      "(3, 40)\n"
     ]
    }
   ],
   "source": [
    "for i in enumerate([10,20,30,40]):\n",
    "    print(i)"
   ]
  },
  {
   "cell_type": "code",
   "execution_count": null,
   "id": "1e03eae9",
   "metadata": {},
   "outputs": [],
   "source": []
  },
  {
   "cell_type": "code",
   "execution_count": null,
   "id": "18200c5d",
   "metadata": {},
   "outputs": [],
   "source": []
  },
  {
   "cell_type": "code",
   "execution_count": 62,
   "id": "698b698f",
   "metadata": {},
   "outputs": [
    {
     "name": "stdout",
     "output_type": "stream",
     "text": [
      "(100, 10)\n",
      "(101, 20)\n",
      "(102, 30)\n",
      "(103, 40)\n"
     ]
    }
   ],
   "source": [
    "for i in enumerate([10,20,30,40], 100):\n",
    "    print(i)"
   ]
  },
  {
   "cell_type": "code",
   "execution_count": 63,
   "id": "07a469ae",
   "metadata": {},
   "outputs": [
    {
     "data": {
      "text/plain": [
       "['rahul', 'vaibhav', 'akshat', 'aman', 'sunil', 'rohan']"
      ]
     },
     "execution_count": 63,
     "metadata": {},
     "output_type": "execute_result"
    }
   ],
   "source": [
    "names"
   ]
  },
  {
   "cell_type": "code",
   "execution_count": 64,
   "id": "48d2dfeb",
   "metadata": {},
   "outputs": [],
   "source": [
    "names.sort()"
   ]
  },
  {
   "cell_type": "code",
   "execution_count": 65,
   "id": "6c2340fa",
   "metadata": {},
   "outputs": [
    {
     "data": {
      "text/plain": [
       "['akshat', 'aman', 'rahul', 'rohan', 'sunil', 'vaibhav']"
      ]
     },
     "execution_count": 65,
     "metadata": {},
     "output_type": "execute_result"
    }
   ],
   "source": [
    "names"
   ]
  },
  {
   "cell_type": "code",
   "execution_count": 66,
   "id": "6117d55b",
   "metadata": {},
   "outputs": [
    {
     "name": "stdout",
     "output_type": "stream",
     "text": [
      "1 : akshat\n",
      "2 : aman\n",
      "3 : rahul\n",
      "4 : rohan\n",
      "5 : sunil\n",
      "6 : vaibhav\n"
     ]
    }
   ],
   "source": [
    "for roll_no, name in enumerate(names, 1):\n",
    "    print(f\"{roll_no} : {name}\")\n",
    "    \n"
   ]
  },
  {
   "cell_type": "code",
   "execution_count": null,
   "id": "2724de32",
   "metadata": {},
   "outputs": [],
   "source": []
  },
  {
   "cell_type": "code",
   "execution_count": 67,
   "id": "d016fef0",
   "metadata": {},
   "outputs": [
    {
     "data": {
      "text/plain": [
       "{'name': 'aman', 'age': 25, 'address': 'jaipur'}"
      ]
     },
     "execution_count": 67,
     "metadata": {},
     "output_type": "execute_result"
    }
   ],
   "source": [
    "d1"
   ]
  },
  {
   "cell_type": "code",
   "execution_count": 68,
   "id": "545969b0",
   "metadata": {},
   "outputs": [
    {
     "name": "stdout",
     "output_type": "stream",
     "text": [
      "('name', 'aman')\n",
      "('age', 25)\n",
      "('address', 'jaipur')\n"
     ]
    }
   ],
   "source": [
    "for i in zip(d1, d1.values()):\n",
    "    print(i)"
   ]
  },
  {
   "cell_type": "code",
   "execution_count": null,
   "id": "54933e16",
   "metadata": {},
   "outputs": [],
   "source": []
  },
  {
   "cell_type": "code",
   "execution_count": null,
   "id": "9566b71d",
   "metadata": {},
   "outputs": [],
   "source": []
  },
  {
   "cell_type": "code",
   "execution_count": 71,
   "id": "2d475d6f",
   "metadata": {},
   "outputs": [],
   "source": [
    "ls = [10,20,30,40,50]"
   ]
  },
  {
   "cell_type": "code",
   "execution_count": 72,
   "id": "e59a20de",
   "metadata": {},
   "outputs": [
    {
     "name": "stdout",
     "output_type": "stream",
     "text": [
      "hello world\n",
      "hello world\n",
      "hello world\n",
      "hello world\n",
      "hello world\n",
      "[10, 20, 30, 40, 40]\n"
     ]
    }
   ],
   "source": [
    "for ls[-1] in ls:\n",
    "    print('hello world')\n",
    "else:\n",
    "    print(ls)"
   ]
  },
  {
   "cell_type": "code",
   "execution_count": null,
   "id": "83428d63",
   "metadata": {},
   "outputs": [],
   "source": []
  },
  {
   "cell_type": "code",
   "execution_count": null,
   "id": "6070e2be",
   "metadata": {},
   "outputs": [],
   "source": []
  },
  {
   "cell_type": "code",
   "execution_count": null,
   "id": "bdd703a9",
   "metadata": {},
   "outputs": [],
   "source": []
  }
 ],
 "metadata": {
  "kernelspec": {
   "display_name": "Python 3 (ipykernel)",
   "language": "python",
   "name": "python3"
  },
  "language_info": {
   "codemirror_mode": {
    "name": "ipython",
    "version": 3
   },
   "file_extension": ".py",
   "mimetype": "text/x-python",
   "name": "python",
   "nbconvert_exporter": "python",
   "pygments_lexer": "ipython3",
   "version": "3.10.9"
  }
 },
 "nbformat": 4,
 "nbformat_minor": 5
}
