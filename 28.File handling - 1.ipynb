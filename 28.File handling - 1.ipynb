{
 "cells": [
  {
   "cell_type": "markdown",
   "id": "8cbf02ef-7992-4a46-8eea-6eeb0c24696c",
   "metadata": {},
   "source": [
    "# File handling"
   ]
  },
  {
   "cell_type": "code",
   "execution_count": null,
   "id": "35e72733-0256-465d-a639-0c280de4e01a",
   "metadata": {},
   "outputs": [],
   "source": []
  },
  {
   "cell_type": "markdown",
   "id": "d3198cb2-fdee-4cf1-9789-050ff2392c63",
   "metadata": {},
   "source": [
    "#### what is file ?"
   ]
  },
  {
   "cell_type": "markdown",
   "id": "f139ce95-08d9-420a-89f5-52c228fb0c60",
   "metadata": {},
   "source": [
    "    collection of data or information"
   ]
  },
  {
   "cell_type": "code",
   "execution_count": null,
   "id": "d63913b0-3a86-4434-bd26-4c074f96dffe",
   "metadata": {},
   "outputs": [],
   "source": []
  },
  {
   "cell_type": "markdown",
   "id": "0eac0360-2c97-4523-a367-02478848b9a4",
   "metadata": {},
   "source": [
    "#### types of files \n",
    "\n",
    "                    .txt .png .jpeg .pdf .mp3 .mp4 .exe .docx .csv   ---> file formats"
   ]
  },
  {
   "cell_type": "markdown",
   "id": "b50e86a4-0b94-44ce-8b47-8abd7d86717a",
   "metadata": {},
   "source": [
    "    Two types of file :\n",
    "\n",
    "            1. Human readable file\n",
    "\n",
    "            2. Machine readable file"
   ]
  },
  {
   "cell_type": "code",
   "execution_count": null,
   "id": "05ed2ce3-92bb-4ad2-abc2-69eb4c947713",
   "metadata": {},
   "outputs": [],
   "source": []
  },
  {
   "cell_type": "markdown",
   "id": "cf7aa766-502a-4437-beee-83897cab5303",
   "metadata": {},
   "source": [
    "    open()   ---> used to open the file"
   ]
  },
  {
   "cell_type": "code",
   "execution_count": null,
   "id": "c0b639d4-fa5c-4d1a-91f0-e90ef651cc34",
   "metadata": {},
   "outputs": [],
   "source": []
  },
  {
   "cell_type": "markdown",
   "id": "d22ba2f0-c5b3-429f-a3a3-14dac7b91a53",
   "metadata": {},
   "source": [
    "    standard library:\n",
    "\n",
    "            os\n",
    "\n",
    "            shutil\n",
    "\n",
    "            sys\n",
    "\n",
    "            psutil\n",
    "\n",
    "            subprocess"
   ]
  },
  {
   "cell_type": "code",
   "execution_count": null,
   "id": "9d9922de-c9b0-4855-801e-71061ccf16d4",
   "metadata": {},
   "outputs": [],
   "source": []
  },
  {
   "cell_type": "code",
   "execution_count": 1,
   "id": "d074e2dd-8191-458c-8a4c-06fb86d43986",
   "metadata": {},
   "outputs": [],
   "source": [
    "import os"
   ]
  },
  {
   "cell_type": "code",
   "execution_count": 2,
   "id": "a76e2a42-4964-45d8-95a4-a7ed6727b228",
   "metadata": {},
   "outputs": [
    {
     "name": "stdout",
     "output_type": "stream",
     "text": [
      "['DirEntry', 'EX_OK', 'F_OK', 'GenericAlias', 'Mapping', 'MutableMapping', 'O_APPEND', 'O_BINARY', 'O_CREAT', 'O_EXCL', 'O_NOINHERIT', 'O_RANDOM', 'O_RDONLY', 'O_RDWR', 'O_SEQUENTIAL', 'O_SHORT_LIVED', 'O_TEMPORARY', 'O_TEXT', 'O_TRUNC', 'O_WRONLY', 'P_DETACH', 'P_NOWAIT', 'P_NOWAITO', 'P_OVERLAY', 'P_WAIT', 'PathLike', 'R_OK', 'SEEK_CUR', 'SEEK_END', 'SEEK_SET', 'TMP_MAX', 'W_OK', 'X_OK', '_AddedDllDirectory', '_Environ', '__all__', '__builtins__', '__doc__', '__file__', '__loader__', '__name__', '__package__', '__spec__', '_check_methods', '_execvpe', '_exists', '_exit', '_fspath', '_get_exports_list', '_walk', '_wrap_close', 'abc', 'abort', 'access', 'add_dll_directory', 'altsep', 'chdir', 'chmod', 'close', 'closerange', 'cpu_count', 'curdir', 'defpath', 'device_encoding', 'devnull', 'dup', 'dup2', 'environ', 'error', 'execl', 'execle', 'execlp', 'execlpe', 'execv', 'execve', 'execvp', 'execvpe', 'extsep', 'fdopen', 'fsdecode', 'fsencode', 'fspath', 'fstat', 'fsync', 'ftruncate', 'get_exec_path', 'get_handle_inheritable', 'get_inheritable', 'get_terminal_size', 'getcwd', 'getcwdb', 'getenv', 'getlogin', 'getpid', 'getppid', 'isatty', 'kill', 'linesep', 'link', 'listdir', 'lseek', 'lstat', 'makedirs', 'mkdir', 'name', 'open', 'pardir', 'path', 'pathsep', 'pipe', 'popen', 'putenv', 'read', 'readlink', 'remove', 'removedirs', 'rename', 'renames', 'replace', 'rmdir', 'scandir', 'sep', 'set_handle_inheritable', 'set_inheritable', 'spawnl', 'spawnle', 'spawnv', 'spawnve', 'st', 'startfile', 'stat', 'stat_result', 'statvfs_result', 'strerror', 'supports_bytes_environ', 'supports_dir_fd', 'supports_effective_ids', 'supports_fd', 'supports_follow_symlinks', 'symlink', 'sys', 'system', 'terminal_size', 'times', 'times_result', 'truncate', 'umask', 'uname_result', 'unlink', 'unsetenv', 'urandom', 'utime', 'waitpid', 'waitstatus_to_exitcode', 'walk', 'write']\n"
     ]
    }
   ],
   "source": [
    "print(dir(os))"
   ]
  },
  {
   "cell_type": "code",
   "execution_count": null,
   "id": "7bb5b94f-2afb-46db-ab08-b41f7ccab953",
   "metadata": {},
   "outputs": [],
   "source": []
  },
  {
   "cell_type": "code",
   "execution_count": null,
   "id": "6dc11da7-6aa5-4d35-bb5e-ef313c842fa3",
   "metadata": {},
   "outputs": [],
   "source": []
  },
  {
   "cell_type": "code",
   "execution_count": 3,
   "id": "f14f3d79-e9e3-4895-90fe-438b51d515b5",
   "metadata": {},
   "outputs": [
    {
     "data": {
      "text/plain": [
       "\"C:\\\\Users\\\\hello\\\\Grras Solution Pvt. Ltd\\\\Python132_Mar6th '24'_6.30 pm - Live Class 📺\\\\classcode\""
      ]
     },
     "execution_count": 3,
     "metadata": {},
     "output_type": "execute_result"
    }
   ],
   "source": [
    "os.getcwd()"
   ]
  },
  {
   "cell_type": "code",
   "execution_count": 4,
   "id": "feb43ba1-01e1-471e-b57b-d1b21d2da916",
   "metadata": {},
   "outputs": [
    {
     "data": {
      "text/plain": [
       "['.ipynb_checkpoints',\n",
       " '1.Data Types, variables, input & output.ipynb',\n",
       " '10.Introduction to loops.ipynb',\n",
       " '11.While loop - 1.ipynb',\n",
       " '12.While loop - 2.ipynb',\n",
       " '13.While loop - 3.ipynb',\n",
       " '14.Nested While loop.ipynb',\n",
       " '15.Nested while loop - 2.ipynb',\n",
       " '16.For loop - 1.ipynb',\n",
       " '17.Iteration techniques.ipynb',\n",
       " '18.List Comprehension.ipynb',\n",
       " '19.Google play Scrapper.ipynb',\n",
       " '2.String data type.ipynb',\n",
       " '20.Introduction to Functions.ipynb',\n",
       " '21.Types of arguments - 1.ipynb',\n",
       " '22. Types of Argument - 2.ipynb',\n",
       " '3.List.ipynb',\n",
       " '4.Tuple.ipynb',\n",
       " '5.Dictionary.ipynb',\n",
       " '6.Set.ipynb',\n",
       " '7.Operators.ipynb',\n",
       " '8.Slicing.ipynb',\n",
       " '9.Introduction to control flow.ipynb',\n",
       " 'Bank Application.ipynb',\n",
       " 'Closures & Decorators.ipynb',\n",
       " 'File handling - 1.ipynb',\n",
       " 'hello.py',\n",
       " 'module-1.ipynb',\n",
       " 'Modules.ipynb',\n",
       " 'Number Guessing Game.ipynb',\n",
       " 'Password validation.ipynb',\n",
       " 'Patterns.ipynb',\n",
       " '__pycache__']"
      ]
     },
     "execution_count": 4,
     "metadata": {},
     "output_type": "execute_result"
    }
   ],
   "source": [
    "os.listdir()"
   ]
  },
  {
   "cell_type": "code",
   "execution_count": null,
   "id": "62adb266-aee9-4d66-b047-c818eeeb52a0",
   "metadata": {},
   "outputs": [],
   "source": []
  },
  {
   "cell_type": "code",
   "execution_count": 5,
   "id": "23d8ace6-7e76-4f04-9b9a-5c9c0c3c037e",
   "metadata": {},
   "outputs": [
    {
     "data": {
      "text/plain": [
       "\"C:\\\\Users\\\\hello\\\\Grras Solution Pvt. Ltd\\\\Python132_Mar6th '24'_6.30 pm - Live Class 📺\\\\classcode\""
      ]
     },
     "execution_count": 5,
     "metadata": {},
     "output_type": "execute_result"
    }
   ],
   "source": [
    "pwd"
   ]
  },
  {
   "cell_type": "code",
   "execution_count": null,
   "id": "7463ed6c-5539-4c81-9845-7153e27f5807",
   "metadata": {},
   "outputs": [],
   "source": []
  },
  {
   "cell_type": "code",
   "execution_count": 6,
   "id": "e3ab8920-ea3f-41c4-b353-6f5760ddfb04",
   "metadata": {},
   "outputs": [],
   "source": [
    "os.chdir(\"C:\\\\Users\\\\hello\\\\Grras Solution Pvt. Ltd\")"
   ]
  },
  {
   "cell_type": "code",
   "execution_count": 8,
   "id": "1a42c9a0-790a-4b50-a3e6-38a729394eaf",
   "metadata": {},
   "outputs": [
    {
     "data": {
      "text/plain": [
       "[\"Data Science Machine learning _Feb12th'24' _4.30 pm - Live Class 📺\",\n",
       " \"Data Science Machine Learning_Feb19th'24'_9.00pm - Live Class 📺\",\n",
       " 'Data Science_Sept12th_9am - Live Class 📺',\n",
       " 'desktop.ini',\n",
       " 'Internship2024_ds ml_101 - Live Class 📺',\n",
       " \"Python132_Mar6th '24'_6.30 pm - Live Class 📺\",\n",
       " 'Python135_Apr30th_5.00pm - Live Class 📺',\n",
       " 'Python_130_Jan24th_10am - Live Class 📺']"
      ]
     },
     "execution_count": 8,
     "metadata": {},
     "output_type": "execute_result"
    }
   ],
   "source": [
    "os.listdir()"
   ]
  },
  {
   "cell_type": "code",
   "execution_count": null,
   "id": "2dea684f-77a7-458f-b93e-5f92d4f259b5",
   "metadata": {},
   "outputs": [],
   "source": []
  },
  {
   "cell_type": "code",
   "execution_count": 9,
   "id": "621a6227-c99e-4d6e-b2e0-fbf7949c8488",
   "metadata": {},
   "outputs": [
    {
     "ename": "SyntaxError",
     "evalue": "(unicode error) 'unicodeescape' codec can't decode bytes in position 2-3: truncated \\UXXXXXXXX escape (2488838013.py, line 1)",
     "output_type": "error",
     "traceback": [
      "\u001b[1;36m  Cell \u001b[1;32mIn[9], line 1\u001b[1;36m\u001b[0m\n\u001b[1;33m    os.chdir(\"C:\\Users\\hello\\Downloads\\New folder\")\u001b[0m\n\u001b[1;37m                                                  ^\u001b[0m\n\u001b[1;31mSyntaxError\u001b[0m\u001b[1;31m:\u001b[0m (unicode error) 'unicodeescape' codec can't decode bytes in position 2-3: truncated \\UXXXXXXXX escape\n"
     ]
    }
   ],
   "source": [
    "os.chdir(\"C:\\Users\\hello\\Downloads\\New folder\")"
   ]
  },
  {
   "cell_type": "code",
   "execution_count": null,
   "id": "3dcf622f-65c6-41d3-87f4-15b8ccc89461",
   "metadata": {},
   "outputs": [],
   "source": []
  },
  {
   "cell_type": "code",
   "execution_count": 10,
   "id": "a64fda53-0a86-40bc-8b8e-97301884379e",
   "metadata": {},
   "outputs": [],
   "source": [
    "os.chdir(\"C:\\\\Users\\\\hello\\\\Downloads\\\\New folder\")\n"
   ]
  },
  {
   "cell_type": "code",
   "execution_count": 11,
   "id": "0ca1d20b-a14e-42a6-887c-b23aa953b745",
   "metadata": {},
   "outputs": [
    {
     "data": {
      "text/plain": [
       "[]"
      ]
     },
     "execution_count": 11,
     "metadata": {},
     "output_type": "execute_result"
    }
   ],
   "source": [
    "os.listdir()"
   ]
  },
  {
   "cell_type": "code",
   "execution_count": null,
   "id": "9287333b-1487-4424-a48c-f960761b9f79",
   "metadata": {},
   "outputs": [],
   "source": []
  },
  {
   "cell_type": "code",
   "execution_count": 12,
   "id": "f898ac4d-6596-4c90-9d80-12b00d8816b4",
   "metadata": {},
   "outputs": [],
   "source": [
    "os.mkdir('hello')"
   ]
  },
  {
   "cell_type": "code",
   "execution_count": 13,
   "id": "afb72238-4f7b-4e8c-a51a-4f1458cade8a",
   "metadata": {},
   "outputs": [
    {
     "name": "stdin",
     "output_type": "stream",
     "text": [
      "Enter number of folders:  3\n",
      "Enter folder name:  new\n",
      "Enter folder name:  new1\n",
      "Enter folder name:  new2\n"
     ]
    }
   ],
   "source": [
    "for i in range(int(input('Enter number of folders: '))):\n",
    "    folder = input('Enter folder name: ')\n",
    "    os.mkdir(folder)\n",
    "    "
   ]
  },
  {
   "cell_type": "code",
   "execution_count": null,
   "id": "6db357c2-e333-433a-a147-9d7cad9fa575",
   "metadata": {},
   "outputs": [],
   "source": []
  },
  {
   "cell_type": "code",
   "execution_count": 14,
   "id": "e8f329c0-6bdf-43c8-b755-3d7721eafb2b",
   "metadata": {},
   "outputs": [
    {
     "name": "stdout",
     "output_type": "stream",
     "text": [
      "['DirEntry', 'EX_OK', 'F_OK', 'GenericAlias', 'Mapping', 'MutableMapping', 'O_APPEND', 'O_BINARY', 'O_CREAT', 'O_EXCL', 'O_NOINHERIT', 'O_RANDOM', 'O_RDONLY', 'O_RDWR', 'O_SEQUENTIAL', 'O_SHORT_LIVED', 'O_TEMPORARY', 'O_TEXT', 'O_TRUNC', 'O_WRONLY', 'P_DETACH', 'P_NOWAIT', 'P_NOWAITO', 'P_OVERLAY', 'P_WAIT', 'PathLike', 'R_OK', 'SEEK_CUR', 'SEEK_END', 'SEEK_SET', 'TMP_MAX', 'W_OK', 'X_OK', '_AddedDllDirectory', '_Environ', '__all__', '__builtins__', '__doc__', '__file__', '__loader__', '__name__', '__package__', '__spec__', '_check_methods', '_execvpe', '_exists', '_exit', '_fspath', '_get_exports_list', '_walk', '_wrap_close', 'abc', 'abort', 'access', 'add_dll_directory', 'altsep', 'chdir', 'chmod', 'close', 'closerange', 'cpu_count', 'curdir', 'defpath', 'device_encoding', 'devnull', 'dup', 'dup2', 'environ', 'error', 'execl', 'execle', 'execlp', 'execlpe', 'execv', 'execve', 'execvp', 'execvpe', 'extsep', 'fdopen', 'fsdecode', 'fsencode', 'fspath', 'fstat', 'fsync', 'ftruncate', 'get_exec_path', 'get_handle_inheritable', 'get_inheritable', 'get_terminal_size', 'getcwd', 'getcwdb', 'getenv', 'getlogin', 'getpid', 'getppid', 'isatty', 'kill', 'linesep', 'link', 'listdir', 'lseek', 'lstat', 'makedirs', 'mkdir', 'name', 'open', 'pardir', 'path', 'pathsep', 'pipe', 'popen', 'putenv', 'read', 'readlink', 'remove', 'removedirs', 'rename', 'renames', 'replace', 'rmdir', 'scandir', 'sep', 'set_handle_inheritable', 'set_inheritable', 'spawnl', 'spawnle', 'spawnv', 'spawnve', 'st', 'startfile', 'stat', 'stat_result', 'statvfs_result', 'strerror', 'supports_bytes_environ', 'supports_dir_fd', 'supports_effective_ids', 'supports_fd', 'supports_follow_symlinks', 'symlink', 'sys', 'system', 'terminal_size', 'times', 'times_result', 'truncate', 'umask', 'uname_result', 'unlink', 'unsetenv', 'urandom', 'utime', 'waitpid', 'waitstatus_to_exitcode', 'walk', 'write']\n"
     ]
    }
   ],
   "source": [
    "print(dir(os))"
   ]
  },
  {
   "cell_type": "code",
   "execution_count": null,
   "id": "93b357db-61ee-4b94-af47-389f4704a8df",
   "metadata": {},
   "outputs": [],
   "source": []
  },
  {
   "cell_type": "code",
   "execution_count": 15,
   "id": "25216001-90e2-4daa-8f41-94073c550e2e",
   "metadata": {},
   "outputs": [],
   "source": [
    "path = \"C://Users//hello//Downloads/AWS Certified Solutions Architect Slides v32.pdf\""
   ]
  },
  {
   "cell_type": "code",
   "execution_count": 16,
   "id": "1866d509-02db-4eeb-b082-dc4dee378906",
   "metadata": {},
   "outputs": [],
   "source": [
    "os.startfile(path)"
   ]
  },
  {
   "cell_type": "code",
   "execution_count": 17,
   "id": "1a0ef163-2235-43d4-ad05-1df3b2b47fc6",
   "metadata": {},
   "outputs": [
    {
     "data": {
      "text/plain": [
       "'C:\\\\Users\\\\hello\\\\Downloads\\\\New folder'"
      ]
     },
     "execution_count": 17,
     "metadata": {},
     "output_type": "execute_result"
    }
   ],
   "source": [
    "pwd"
   ]
  },
  {
   "cell_type": "code",
   "execution_count": 18,
   "id": "318ddf27-db55-48d3-a49f-e167ad3760f2",
   "metadata": {},
   "outputs": [
    {
     "data": {
      "text/plain": [
       "['hello', 'new', 'new1', 'new2']"
      ]
     },
     "execution_count": 18,
     "metadata": {},
     "output_type": "execute_result"
    }
   ],
   "source": [
    "os.listdir()"
   ]
  },
  {
   "cell_type": "code",
   "execution_count": null,
   "id": "0ebf3e7f-2e3e-411b-bdea-e018f1e7b4f7",
   "metadata": {},
   "outputs": [],
   "source": []
  },
  {
   "cell_type": "code",
   "execution_count": 19,
   "id": "a9c57e1e-ddec-454f-b11d-048f0d59da08",
   "metadata": {},
   "outputs": [],
   "source": [
    "os.rmdir('hello')"
   ]
  },
  {
   "cell_type": "code",
   "execution_count": 20,
   "id": "50e8f00b-4ca1-4ed0-89b8-bfed29db2051",
   "metadata": {},
   "outputs": [
    {
     "data": {
      "text/plain": [
       "['new', 'new1', 'new2']"
      ]
     },
     "execution_count": 20,
     "metadata": {},
     "output_type": "execute_result"
    }
   ],
   "source": [
    "os.listdir()"
   ]
  },
  {
   "cell_type": "code",
   "execution_count": 21,
   "id": "fd066a75-f1b1-476c-a1ba-1891175231c6",
   "metadata": {},
   "outputs": [],
   "source": [
    "os.rmdir('new')"
   ]
  },
  {
   "cell_type": "code",
   "execution_count": 22,
   "id": "01cb101f-f437-494d-b049-7608c3063a8a",
   "metadata": {},
   "outputs": [
    {
     "ename": "OSError",
     "evalue": "[WinError 145] The directory is not empty: 'new2'",
     "output_type": "error",
     "traceback": [
      "\u001b[1;31m---------------------------------------------------------------------------\u001b[0m",
      "\u001b[1;31mOSError\u001b[0m                                   Traceback (most recent call last)",
      "Cell \u001b[1;32mIn[22], line 1\u001b[0m\n\u001b[1;32m----> 1\u001b[0m os\u001b[38;5;241m.\u001b[39mrmdir(\u001b[38;5;124m'\u001b[39m\u001b[38;5;124mnew2\u001b[39m\u001b[38;5;124m'\u001b[39m)\n",
      "\u001b[1;31mOSError\u001b[0m: [WinError 145] The directory is not empty: 'new2'"
     ]
    }
   ],
   "source": [
    "os.rmdir('new2')\n"
   ]
  },
  {
   "cell_type": "code",
   "execution_count": null,
   "id": "6c3d9732-8514-4f7b-a9db-de0991e61b1c",
   "metadata": {},
   "outputs": [],
   "source": []
  },
  {
   "cell_type": "code",
   "execution_count": 1,
   "id": "03285035-3d74-42c7-92fe-d4f2ae995e58",
   "metadata": {},
   "outputs": [],
   "source": [
    "import os\n",
    "import shutil"
   ]
  },
  {
   "cell_type": "code",
   "execution_count": 2,
   "id": "fd1da710-8bed-43f3-ac1a-a3e6439edef9",
   "metadata": {},
   "outputs": [
    {
     "data": {
      "text/plain": [
       "'C:\\\\Users\\\\hello\\\\Grras_Data\\\\Grras Solutions Pvt. Ltd\\\\Python 6.30pm'"
      ]
     },
     "execution_count": 2,
     "metadata": {},
     "output_type": "execute_result"
    }
   ],
   "source": [
    "os.getcwd()"
   ]
  },
  {
   "cell_type": "code",
   "execution_count": 3,
   "id": "64582967-2942-4ed7-90af-21541fe142da",
   "metadata": {},
   "outputs": [],
   "source": [
    "os.chdir('C:\\\\Users\\\\hello\\\\Downloads\\\\New folder')"
   ]
  },
  {
   "cell_type": "code",
   "execution_count": 4,
   "id": "e4fc3e1d-5298-44bf-a37e-146c93560b1d",
   "metadata": {},
   "outputs": [
    {
     "data": {
      "text/plain": [
       "'C:\\\\Users\\\\hello\\\\Downloads\\\\New folder'"
      ]
     },
     "execution_count": 4,
     "metadata": {},
     "output_type": "execute_result"
    }
   ],
   "source": [
    "os.getcwd()"
   ]
  },
  {
   "cell_type": "code",
   "execution_count": 5,
   "id": "be64e694-41f4-43e0-a7d8-8c093707ec0f",
   "metadata": {},
   "outputs": [
    {
     "data": {
      "text/plain": [
       "['new1', 'new2']"
      ]
     },
     "execution_count": 5,
     "metadata": {},
     "output_type": "execute_result"
    }
   ],
   "source": [
    "os.listdir()"
   ]
  },
  {
   "cell_type": "code",
   "execution_count": 6,
   "id": "ebb6c8e8-ff53-4217-be3f-ecc6674b6093",
   "metadata": {},
   "outputs": [
    {
     "ename": "OSError",
     "evalue": "[WinError 145] The directory is not empty: 'new2'",
     "output_type": "error",
     "traceback": [
      "\u001b[1;31m---------------------------------------------------------------------------\u001b[0m",
      "\u001b[1;31mOSError\u001b[0m                                   Traceback (most recent call last)",
      "Cell \u001b[1;32mIn[6], line 1\u001b[0m\n\u001b[1;32m----> 1\u001b[0m os\u001b[38;5;241m.\u001b[39mrmdir(\u001b[38;5;124m'\u001b[39m\u001b[38;5;124mnew2\u001b[39m\u001b[38;5;124m'\u001b[39m)\n",
      "\u001b[1;31mOSError\u001b[0m: [WinError 145] The directory is not empty: 'new2'"
     ]
    }
   ],
   "source": [
    "os.rmdir('new2')"
   ]
  },
  {
   "cell_type": "code",
   "execution_count": 7,
   "id": "40c89cc7-b538-488b-8540-7fb05ddb3bc0",
   "metadata": {},
   "outputs": [],
   "source": [
    "shutil.rmtree('new2')"
   ]
  },
  {
   "cell_type": "code",
   "execution_count": null,
   "id": "c4b01930-fbec-49f7-a7ec-ff7a9ea5e4fb",
   "metadata": {},
   "outputs": [],
   "source": []
  },
  {
   "cell_type": "markdown",
   "id": "9beae203-9192-4553-8375-8a3c4bc79100",
   "metadata": {},
   "source": [
    "## open()\n",
    "\n",
    "            used to open a file in particular mode"
   ]
  },
  {
   "cell_type": "markdown",
   "id": "d0f73598-6b66-48f0-a6b1-64d37bf67341",
   "metadata": {},
   "source": [
    "    modes:\n",
    "\n",
    "            r   ---> read\n",
    "\n",
    "            w  ----> write\n",
    "\n",
    "            a  -----> append\n",
    "\n",
    "            x ---->  new file\n",
    "\n",
    "            r+\n",
    "\n",
    "            w+\n",
    "\n",
    "            a+ \n",
    "\n",
    "            x+"
   ]
  },
  {
   "cell_type": "code",
   "execution_count": 8,
   "id": "a0a8b24e-7a7c-42c8-a217-a3727c502b1a",
   "metadata": {},
   "outputs": [
    {
     "data": {
      "text/plain": [
       "'C:\\\\Users\\\\hello\\\\Downloads\\\\New folder'"
      ]
     },
     "execution_count": 8,
     "metadata": {},
     "output_type": "execute_result"
    }
   ],
   "source": [
    "pwd"
   ]
  },
  {
   "cell_type": "code",
   "execution_count": null,
   "id": "51214cb4-cd10-4fba-84db-9c4cdb1390ee",
   "metadata": {},
   "outputs": [],
   "source": [
    "open()"
   ]
  },
  {
   "cell_type": "code",
   "execution_count": null,
   "id": "20c3a9c2-a40f-4ba8-87a3-aa17ad26ca4f",
   "metadata": {},
   "outputs": [],
   "source": []
  },
  {
   "cell_type": "code",
   "execution_count": 1,
   "id": "9e4aa28a-83d9-4a1e-a70a-f582de83ff17",
   "metadata": {},
   "outputs": [
    {
     "data": {
      "text/plain": [
       "'C:\\\\Users\\\\hello\\\\Grras_Data\\\\Grras Solutions Pvt. Ltd\\\\Python 6.30pm'"
      ]
     },
     "execution_count": 1,
     "metadata": {},
     "output_type": "execute_result"
    }
   ],
   "source": [
    "pwd"
   ]
  },
  {
   "cell_type": "code",
   "execution_count": 2,
   "id": "e974b49e-de53-4dd5-8566-0effefab1ecb",
   "metadata": {},
   "outputs": [
    {
     "data": {
      "text/plain": [
       "'C:\\\\Users\\\\hello\\\\Grras_Data\\\\Grras Solutions Pvt. Ltd\\\\Python 6.30pm'"
      ]
     },
     "execution_count": 2,
     "metadata": {},
     "output_type": "execute_result"
    }
   ],
   "source": [
    "pwd"
   ]
  },
  {
   "cell_type": "code",
   "execution_count": null,
   "id": "764807ea-f2af-41e1-b212-d6b7d72b83cb",
   "metadata": {},
   "outputs": [],
   "source": []
  },
  {
   "cell_type": "code",
   "execution_count": 4,
   "id": "529935c7-1261-40ef-8953-3d5ca99fc5ad",
   "metadata": {},
   "outputs": [],
   "source": [
    "file = open('new.txt', mode='r')"
   ]
  },
  {
   "cell_type": "code",
   "execution_count": 5,
   "id": "aa159d32-7a5a-4469-90ac-cd29f46163ca",
   "metadata": {},
   "outputs": [
    {
     "data": {
      "text/plain": [
       "<_io.TextIOWrapper name='new.txt' mode='r' encoding='cp1252'>"
      ]
     },
     "execution_count": 5,
     "metadata": {},
     "output_type": "execute_result"
    }
   ],
   "source": [
    "file"
   ]
  },
  {
   "cell_type": "code",
   "execution_count": 6,
   "id": "3fc0fc13-2b3b-45f2-a59d-00002fb2c0cd",
   "metadata": {},
   "outputs": [
    {
     "name": "stdout",
     "output_type": "stream",
     "text": [
      "['_CHUNK_SIZE', '__class__', '__del__', '__delattr__', '__dict__', '__dir__', '__doc__', '__enter__', '__eq__', '__exit__', '__format__', '__ge__', '__getattribute__', '__getstate__', '__gt__', '__hash__', '__init__', '__init_subclass__', '__iter__', '__le__', '__lt__', '__ne__', '__new__', '__next__', '__reduce__', '__reduce_ex__', '__repr__', '__setattr__', '__sizeof__', '__str__', '__subclasshook__', '_checkClosed', '_checkReadable', '_checkSeekable', '_checkWritable', '_finalizing', 'buffer', 'close', 'closed', 'detach', 'encoding', 'errors', 'fileno', 'flush', 'isatty', 'line_buffering', 'mode', 'name', 'newlines', 'read', 'readable', 'readline', 'readlines', 'reconfigure', 'seek', 'seekable', 'tell', 'truncate', 'writable', 'write', 'write_through', 'writelines']\n"
     ]
    }
   ],
   "source": [
    "print(dir(file))"
   ]
  },
  {
   "cell_type": "code",
   "execution_count": 7,
   "id": "ef4d57b8-73ad-4eda-89ef-9638f5f6a1c0",
   "metadata": {},
   "outputs": [
    {
     "data": {
      "text/plain": [
       "'hello world'"
      ]
     },
     "execution_count": 7,
     "metadata": {},
     "output_type": "execute_result"
    }
   ],
   "source": [
    "file.read()"
   ]
  },
  {
   "cell_type": "code",
   "execution_count": 8,
   "id": "bd172ef5-dbb4-468f-9882-ccfda2b56744",
   "metadata": {},
   "outputs": [
    {
     "data": {
      "text/plain": [
       "''"
      ]
     },
     "execution_count": 8,
     "metadata": {},
     "output_type": "execute_result"
    }
   ],
   "source": [
    "file.read()"
   ]
  },
  {
   "cell_type": "code",
   "execution_count": 9,
   "id": "9bffb30c-4f32-4d5a-a41f-f8116c723ca8",
   "metadata": {},
   "outputs": [],
   "source": [
    "file.close()"
   ]
  },
  {
   "cell_type": "code",
   "execution_count": null,
   "id": "79b2fd70-278c-48aa-bdbb-47d945a8157f",
   "metadata": {},
   "outputs": [],
   "source": []
  },
  {
   "cell_type": "code",
   "execution_count": null,
   "id": "c8a46065-0021-4953-9781-44dd58024ab1",
   "metadata": {},
   "outputs": [],
   "source": []
  },
  {
   "cell_type": "code",
   "execution_count": 10,
   "id": "d6a1088e-7985-4df1-a9b0-95e8442f9ea8",
   "metadata": {},
   "outputs": [],
   "source": [
    "file = open('file.txt')\n",
    "data = file.read()\n",
    "file.close()"
   ]
  },
  {
   "cell_type": "code",
   "execution_count": 12,
   "id": "10cd608c-9db3-4e87-9b0f-175348a131ff",
   "metadata": {},
   "outputs": [
    {
     "name": "stdout",
     "output_type": "stream",
     "text": [
      "hello we are learning file handling\n",
      "python is awesome\n",
      "ashish is a good student\n",
      "he is working very hard\n"
     ]
    }
   ],
   "source": [
    "print(data)"
   ]
  },
  {
   "cell_type": "code",
   "execution_count": null,
   "id": "5f539ca9-d475-4e07-9cdb-adc931dd6af9",
   "metadata": {},
   "outputs": [],
   "source": []
  },
  {
   "cell_type": "code",
   "execution_count": 13,
   "id": "049c2bb7-732b-4db8-b0a5-242c54f31662",
   "metadata": {},
   "outputs": [],
   "source": [
    "file = open('file.txt')\n"
   ]
  },
  {
   "cell_type": "code",
   "execution_count": 14,
   "id": "0956511a-f7f0-4dfd-aeb0-08dcfc497c51",
   "metadata": {},
   "outputs": [
    {
     "data": {
      "text/plain": [
       "True"
      ]
     },
     "execution_count": 14,
     "metadata": {},
     "output_type": "execute_result"
    }
   ],
   "source": [
    "file.readable()"
   ]
  },
  {
   "cell_type": "code",
   "execution_count": 15,
   "id": "bb477dad-9279-49c4-90b0-4714e725158f",
   "metadata": {},
   "outputs": [
    {
     "data": {
      "text/plain": [
       "'hello we are learning file handling\\n'"
      ]
     },
     "execution_count": 15,
     "metadata": {},
     "output_type": "execute_result"
    }
   ],
   "source": [
    "file.readline()"
   ]
  },
  {
   "cell_type": "code",
   "execution_count": 16,
   "id": "f426f20e-6bcd-4905-8ea5-092fd3107a16",
   "metadata": {},
   "outputs": [
    {
     "data": {
      "text/plain": [
       "'python is awesome\\n'"
      ]
     },
     "execution_count": 16,
     "metadata": {},
     "output_type": "execute_result"
    }
   ],
   "source": [
    "file.readline()"
   ]
  },
  {
   "cell_type": "code",
   "execution_count": 17,
   "id": "5201e5a0-20fd-4804-a1b6-6619de7ea7fc",
   "metadata": {},
   "outputs": [
    {
     "data": {
      "text/plain": [
       "'ashish is a good student\\n'"
      ]
     },
     "execution_count": 17,
     "metadata": {},
     "output_type": "execute_result"
    }
   ],
   "source": [
    "file.readline()\n"
   ]
  },
  {
   "cell_type": "code",
   "execution_count": 18,
   "id": "e904a978-bda8-4dcb-b5f7-d1512c485983",
   "metadata": {},
   "outputs": [
    {
     "data": {
      "text/plain": [
       "'he is working very hard'"
      ]
     },
     "execution_count": 18,
     "metadata": {},
     "output_type": "execute_result"
    }
   ],
   "source": [
    "file.readline()\n"
   ]
  },
  {
   "cell_type": "code",
   "execution_count": 19,
   "id": "98afe6a3-1bdd-45eb-bd2e-a0f3bb4feb3c",
   "metadata": {},
   "outputs": [
    {
     "data": {
      "text/plain": [
       "''"
      ]
     },
     "execution_count": 19,
     "metadata": {},
     "output_type": "execute_result"
    }
   ],
   "source": [
    "file.readline()\n"
   ]
  },
  {
   "cell_type": "code",
   "execution_count": 20,
   "id": "0e28d5b6-97cc-4e7d-920f-53caa51d8e39",
   "metadata": {},
   "outputs": [
    {
     "data": {
      "text/plain": [
       "102"
      ]
     },
     "execution_count": 20,
     "metadata": {},
     "output_type": "execute_result"
    }
   ],
   "source": [
    "file.tell()"
   ]
  },
  {
   "cell_type": "code",
   "execution_count": 21,
   "id": "5b7fa120-2c9c-4fc0-b741-b730c113a1fc",
   "metadata": {},
   "outputs": [
    {
     "data": {
      "text/plain": [
       "0"
      ]
     },
     "execution_count": 21,
     "metadata": {},
     "output_type": "execute_result"
    }
   ],
   "source": [
    "file.seek(0)"
   ]
  },
  {
   "cell_type": "code",
   "execution_count": 22,
   "id": "652cdcc8-2128-42fc-8485-e42c2b8d3cd4",
   "metadata": {},
   "outputs": [
    {
     "data": {
      "text/plain": [
       "0"
      ]
     },
     "execution_count": 22,
     "metadata": {},
     "output_type": "execute_result"
    }
   ],
   "source": [
    "file.tell()"
   ]
  },
  {
   "cell_type": "code",
   "execution_count": 23,
   "id": "ffd3141b-22d4-4c30-a02e-76464d2d1c05",
   "metadata": {},
   "outputs": [
    {
     "data": {
      "text/plain": [
       "'hello we are learning file handling\\n'"
      ]
     },
     "execution_count": 23,
     "metadata": {},
     "output_type": "execute_result"
    }
   ],
   "source": [
    "file.readline()"
   ]
  },
  {
   "cell_type": "code",
   "execution_count": 24,
   "id": "14092569-cf22-4d0f-9def-2714d9846410",
   "metadata": {},
   "outputs": [
    {
     "name": "stdout",
     "output_type": "stream",
     "text": [
      "python is awesome\n",
      "ashish is a good student\n",
      "he is working very hard\n"
     ]
    }
   ],
   "source": [
    "print(file.read())"
   ]
  },
  {
   "cell_type": "code",
   "execution_count": null,
   "id": "ccfafa85-5684-44f8-bc97-0a8d78191fc6",
   "metadata": {},
   "outputs": [],
   "source": []
  },
  {
   "cell_type": "code",
   "execution_count": 25,
   "id": "e87d4f52-9a18-40be-86ef-5a20857d9b09",
   "metadata": {},
   "outputs": [
    {
     "data": {
      "text/plain": [
       "''"
      ]
     },
     "execution_count": 25,
     "metadata": {},
     "output_type": "execute_result"
    }
   ],
   "source": [
    "file.read()"
   ]
  },
  {
   "cell_type": "code",
   "execution_count": 26,
   "id": "85d643a6-231c-456d-88fb-33f23c55d13b",
   "metadata": {},
   "outputs": [
    {
     "data": {
      "text/plain": [
       "10"
      ]
     },
     "execution_count": 26,
     "metadata": {},
     "output_type": "execute_result"
    }
   ],
   "source": [
    "file.seek(10)"
   ]
  },
  {
   "cell_type": "code",
   "execution_count": 27,
   "id": "b65fcdec-8db1-4fd7-80a5-949d3c60adaf",
   "metadata": {},
   "outputs": [
    {
     "data": {
      "text/plain": [
       "'re learning file handling\\npython is awesome\\nashish is a good student\\nhe is working very hard'"
      ]
     },
     "execution_count": 27,
     "metadata": {},
     "output_type": "execute_result"
    }
   ],
   "source": [
    "file.read()"
   ]
  },
  {
   "cell_type": "code",
   "execution_count": null,
   "id": "d3a32f52-3fde-4e36-be30-1d23707ccbfd",
   "metadata": {},
   "outputs": [],
   "source": []
  },
  {
   "cell_type": "code",
   "execution_count": 28,
   "id": "b346689f-1f06-40c5-9d48-698b1a917d2b",
   "metadata": {},
   "outputs": [],
   "source": [
    "file.close()"
   ]
  },
  {
   "cell_type": "code",
   "execution_count": null,
   "id": "6008ef55-62cf-4c14-a6ff-d88a79e253e4",
   "metadata": {},
   "outputs": [],
   "source": []
  },
  {
   "cell_type": "code",
   "execution_count": 29,
   "id": "529c2dd0-fe83-4c6a-993b-058119dbb7b2",
   "metadata": {},
   "outputs": [],
   "source": [
    "file = open('file.txt')\n",
    "data = file.readlines()\n",
    "file.close()"
   ]
  },
  {
   "cell_type": "code",
   "execution_count": 30,
   "id": "158518c7-3284-4097-b2a5-d8639ba08d56",
   "metadata": {},
   "outputs": [
    {
     "data": {
      "text/plain": [
       "['hello we are learning file handling\\n',\n",
       " 'python is awesome\\n',\n",
       " 'ashish is a good student\\n',\n",
       " 'he is working very hard']"
      ]
     },
     "execution_count": 30,
     "metadata": {},
     "output_type": "execute_result"
    }
   ],
   "source": [
    "data"
   ]
  },
  {
   "cell_type": "code",
   "execution_count": null,
   "id": "f1f069f2-ac9b-4386-9400-141c1f671ad4",
   "metadata": {},
   "outputs": [],
   "source": []
  },
  {
   "cell_type": "code",
   "execution_count": null,
   "id": "c4d50478-d8a1-4e67-8b60-0259e6d3e0ce",
   "metadata": {},
   "outputs": [],
   "source": []
  },
  {
   "cell_type": "code",
   "execution_count": null,
   "id": "60e04429-c9b9-48c5-bda3-553990404051",
   "metadata": {},
   "outputs": [],
   "source": []
  },
  {
   "cell_type": "code",
   "execution_count": null,
   "id": "a53f6261-6887-46a6-aceb-a717f25ab6eb",
   "metadata": {},
   "outputs": [],
   "source": []
  },
  {
   "cell_type": "code",
   "execution_count": null,
   "id": "773f464a-2ba5-460c-b77a-982336f9dc77",
   "metadata": {},
   "outputs": [],
   "source": []
  },
  {
   "cell_type": "markdown",
   "id": "4c4e94e6-0af4-4285-8109-1688d53c5207",
   "metadata": {},
   "source": [
    "## write mode"
   ]
  },
  {
   "cell_type": "code",
   "execution_count": null,
   "id": "ef59dd38-d1b7-48b8-abaa-2c2f444e4cfc",
   "metadata": {},
   "outputs": [],
   "source": []
  },
  {
   "cell_type": "code",
   "execution_count": 32,
   "id": "7c3e7371-3b1d-4353-adde-ca0ccf6ed619",
   "metadata": {},
   "outputs": [],
   "source": [
    "path = \"C:/Users/hello/Downloads/New folder/new1/file.txt\""
   ]
  },
  {
   "cell_type": "code",
   "execution_count": null,
   "id": "f49f9592-a238-40f2-b126-eb0286464bb5",
   "metadata": {},
   "outputs": [],
   "source": []
  },
  {
   "cell_type": "code",
   "execution_count": 33,
   "id": "110091bb-9270-4a4f-aa65-dfe073f272ac",
   "metadata": {},
   "outputs": [],
   "source": [
    "import os"
   ]
  },
  {
   "cell_type": "code",
   "execution_count": 34,
   "id": "a7f4ec44-058e-4fd9-a298-2e690ea4baaf",
   "metadata": {},
   "outputs": [
    {
     "data": {
      "text/plain": [
       "True"
      ]
     },
     "execution_count": 34,
     "metadata": {},
     "output_type": "execute_result"
    }
   ],
   "source": [
    "os.path.exists(path)"
   ]
  },
  {
   "cell_type": "code",
   "execution_count": null,
   "id": "11559aa9-604b-4d52-b605-21f4d39974a6",
   "metadata": {},
   "outputs": [],
   "source": []
  },
  {
   "cell_type": "code",
   "execution_count": 35,
   "id": "3e563833-fa97-4ed3-86af-dec390adff25",
   "metadata": {},
   "outputs": [
    {
     "data": {
      "text/plain": [
       "True"
      ]
     },
     "execution_count": 35,
     "metadata": {},
     "output_type": "execute_result"
    }
   ],
   "source": [
    "os.path.isfile(path)"
   ]
  },
  {
   "cell_type": "code",
   "execution_count": 36,
   "id": "a3561e72-0cbe-4a5c-85c1-1181a73e0b5b",
   "metadata": {},
   "outputs": [
    {
     "data": {
      "text/plain": [
       "False"
      ]
     },
     "execution_count": 36,
     "metadata": {},
     "output_type": "execute_result"
    }
   ],
   "source": [
    "os.path.isdir(path)"
   ]
  },
  {
   "cell_type": "code",
   "execution_count": null,
   "id": "a41dda89-fddb-4ec3-843a-5e50970022bd",
   "metadata": {},
   "outputs": [],
   "source": []
  },
  {
   "cell_type": "code",
   "execution_count": 38,
   "id": "bcb330db-7481-4210-9ab9-f0993dd579e0",
   "metadata": {},
   "outputs": [],
   "source": [
    "if os.path.exists(path) and os.path.isfile(path):\n",
    "    file = open(path, 'r')\n",
    "    data = file.read()\n",
    "    file.close()\n",
    "else:\n",
    "    print('Given path is not exists or it is not a file')"
   ]
  },
  {
   "cell_type": "code",
   "execution_count": 39,
   "id": "84bc11a4-7f25-4441-a368-3d6d745362a3",
   "metadata": {},
   "outputs": [
    {
     "data": {
      "text/plain": [
       "'python is awesome\\nashish is a good student\\nhe is working very hard'"
      ]
     },
     "execution_count": 39,
     "metadata": {},
     "output_type": "execute_result"
    }
   ],
   "source": [
    "data"
   ]
  },
  {
   "cell_type": "code",
   "execution_count": null,
   "id": "3e6f202d-2be8-4204-aadc-b24b763e5fbf",
   "metadata": {},
   "outputs": [],
   "source": []
  },
  {
   "cell_type": "code",
   "execution_count": null,
   "id": "efec4ca5-0e1d-4efa-8c29-ac800171c6a7",
   "metadata": {},
   "outputs": [],
   "source": []
  },
  {
   "cell_type": "code",
   "execution_count": 40,
   "id": "73ca2b18-acbb-48e0-aa87-2512c3266cd1",
   "metadata": {},
   "outputs": [],
   "source": [
    "path = \"C:/Users/hello/Downloads/New folder/new1/\"\n"
   ]
  },
  {
   "cell_type": "code",
   "execution_count": 41,
   "id": "c8cc06b5-9b12-4388-83a4-35590148e689",
   "metadata": {},
   "outputs": [
    {
     "data": {
      "text/plain": [
       "'C:\\\\Users\\\\hello\\\\Grras_Data\\\\Grras Solutions Pvt. Ltd\\\\Python 6.30pm'"
      ]
     },
     "execution_count": 41,
     "metadata": {},
     "output_type": "execute_result"
    }
   ],
   "source": [
    "old_path = os.getcwd()\n",
    "old_path"
   ]
  },
  {
   "cell_type": "code",
   "execution_count": null,
   "id": "63ead93a-1d6d-4798-9c34-4d2fa51b533a",
   "metadata": {},
   "outputs": [],
   "source": []
  },
  {
   "cell_type": "code",
   "execution_count": 42,
   "id": "18b19116-02a0-460c-a43f-1ea3c4cbd210",
   "metadata": {},
   "outputs": [],
   "source": [
    "os.chdir(path)"
   ]
  },
  {
   "cell_type": "code",
   "execution_count": 43,
   "id": "915617eb-b95d-45fc-9bf8-f0674464842f",
   "metadata": {},
   "outputs": [
    {
     "data": {
      "text/plain": [
       "'C:\\\\Users\\\\hello\\\\Downloads\\\\New folder\\\\new1'"
      ]
     },
     "execution_count": 43,
     "metadata": {},
     "output_type": "execute_result"
    }
   ],
   "source": [
    "os.getcwd()"
   ]
  },
  {
   "cell_type": "code",
   "execution_count": 45,
   "id": "9eda0943-11f4-490d-a3e4-94ab218191b9",
   "metadata": {},
   "outputs": [
    {
     "data": {
      "text/plain": [
       "['.ipynb_checkpoints', 'file.txt', 'file1.txt', 'file2.txt']"
      ]
     },
     "execution_count": 45,
     "metadata": {},
     "output_type": "execute_result"
    }
   ],
   "source": [
    "ls = os.listdir()\n",
    "ls"
   ]
  },
  {
   "cell_type": "code",
   "execution_count": 46,
   "id": "9544688d-425d-462d-a7ac-440302a87d89",
   "metadata": {},
   "outputs": [
    {
     "data": {
      "text/plain": [
       "'file.txt'"
      ]
     },
     "execution_count": 46,
     "metadata": {},
     "output_type": "execute_result"
    }
   ],
   "source": [
    "ls[1]"
   ]
  },
  {
   "cell_type": "code",
   "execution_count": 47,
   "id": "dbc02a8b-67c1-4a1e-a69c-25c1802d1116",
   "metadata": {},
   "outputs": [
    {
     "data": {
      "text/plain": [
       "'C:/Users/hello/Downloads/New folder/new1/'"
      ]
     },
     "execution_count": 47,
     "metadata": {},
     "output_type": "execute_result"
    }
   ],
   "source": [
    "path"
   ]
  },
  {
   "cell_type": "code",
   "execution_count": 48,
   "id": "81cfd2ef-2b47-4597-a925-0e346210f702",
   "metadata": {},
   "outputs": [
    {
     "data": {
      "text/plain": [
       "'file.txt'"
      ]
     },
     "execution_count": 48,
     "metadata": {},
     "output_type": "execute_result"
    }
   ],
   "source": [
    "ls[1]"
   ]
  },
  {
   "cell_type": "code",
   "execution_count": 49,
   "id": "b55331d5-dd9f-44e3-ba26-7461f4de1a16",
   "metadata": {},
   "outputs": [
    {
     "data": {
      "text/plain": [
       "'C:/Users/hello/Downloads/New folder/new1/file.txt'"
      ]
     },
     "execution_count": 49,
     "metadata": {},
     "output_type": "execute_result"
    }
   ],
   "source": [
    "path + ls[1]"
   ]
  },
  {
   "cell_type": "code",
   "execution_count": null,
   "id": "cf25ec75-f77e-4bc0-bc58-6cf000b05f02",
   "metadata": {},
   "outputs": [],
   "source": []
  },
  {
   "cell_type": "code",
   "execution_count": 50,
   "id": "ad2c191d-791d-4307-9930-9c6fbc6c10d3",
   "metadata": {},
   "outputs": [
    {
     "data": {
      "text/plain": [
       "'C:/Users/hello/Downloads/New folder/new1/file.txt'"
      ]
     },
     "execution_count": 50,
     "metadata": {},
     "output_type": "execute_result"
    }
   ],
   "source": [
    "os.path.join(path, ls[1])"
   ]
  },
  {
   "cell_type": "code",
   "execution_count": null,
   "id": "fc4e08f0-f8eb-49c5-84bb-ebb20df91541",
   "metadata": {},
   "outputs": [],
   "source": []
  },
  {
   "cell_type": "code",
   "execution_count": null,
   "id": "b8cf3cdb-8df5-4ef9-9260-a7e8d97f5236",
   "metadata": {},
   "outputs": [],
   "source": []
  }
 ],
 "metadata": {
  "kernelspec": {
   "display_name": "Python 3 (ipykernel)",
   "language": "python",
   "name": "python3"
  },
  "language_info": {
   "codemirror_mode": {
    "name": "ipython",
    "version": 3
   },
   "file_extension": ".py",
   "mimetype": "text/x-python",
   "name": "python",
   "nbconvert_exporter": "python",
   "pygments_lexer": "ipython3",
   "version": "3.12.4"
  }
 },
 "nbformat": 4,
 "nbformat_minor": 5
}
