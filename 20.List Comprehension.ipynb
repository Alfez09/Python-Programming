{
 "cells": [
  {
   "cell_type": "code",
   "execution_count": 4,
   "id": "346258f8",
   "metadata": {},
   "outputs": [],
   "source": [
    "ls = [10,20,30,40,50]"
   ]
  },
  {
   "cell_type": "markdown",
   "id": "6ddb9622",
   "metadata": {},
   "source": [
    "    for var in iterable:\n",
    "        st"
   ]
  },
  {
   "cell_type": "code",
   "execution_count": null,
   "id": "69e11b14",
   "metadata": {},
   "outputs": [],
   "source": [
    "for i in ls:\n",
    "    print(i)"
   ]
  },
  {
   "cell_type": "code",
   "execution_count": null,
   "id": "7b2641ee",
   "metadata": {},
   "outputs": [],
   "source": []
  },
  {
   "cell_type": "code",
   "execution_count": 2,
   "id": "ba8faf12",
   "metadata": {},
   "outputs": [
    {
     "name": "stdout",
     "output_type": "stream",
     "text": [
      "[10, 20, 30, 40, 40]\n"
     ]
    }
   ],
   "source": [
    "for ls[-1] in ls:\n",
    "    pass\n",
    "else:\n",
    "    print(ls)"
   ]
  },
  {
   "cell_type": "code",
   "execution_count": 5,
   "id": "8cf064ed",
   "metadata": {},
   "outputs": [
    {
     "name": "stdout",
     "output_type": "stream",
     "text": [
      "[10, 20, 30, 40, 10]\n",
      "[10, 20, 30, 40, 20]\n",
      "[10, 20, 30, 40, 30]\n",
      "[10, 20, 30, 40, 40]\n",
      "[10, 20, 30, 40, 40]\n"
     ]
    }
   ],
   "source": [
    "for ls[-1] in ls:\n",
    "    print(ls)"
   ]
  },
  {
   "cell_type": "code",
   "execution_count": null,
   "id": "82b5d3ca",
   "metadata": {},
   "outputs": [],
   "source": []
  },
  {
   "cell_type": "code",
   "execution_count": null,
   "id": "985f1cc2",
   "metadata": {},
   "outputs": [],
   "source": []
  },
  {
   "cell_type": "code",
   "execution_count": 6,
   "id": "04bb00ed",
   "metadata": {},
   "outputs": [
    {
     "data": {
      "text/plain": [
       "[10, 20, 30, 40, 40]"
      ]
     },
     "execution_count": 6,
     "metadata": {},
     "output_type": "execute_result"
    }
   ],
   "source": [
    "ls"
   ]
  },
  {
   "cell_type": "code",
   "execution_count": 7,
   "id": "d8fd38fd",
   "metadata": {},
   "outputs": [],
   "source": [
    "ls = [10,20,30,40,50]"
   ]
  },
  {
   "cell_type": "code",
   "execution_count": 8,
   "id": "58a72296",
   "metadata": {},
   "outputs": [
    {
     "name": "stdout",
     "output_type": "stream",
     "text": [
      "[50, 20, 30, 40, 50]\n"
     ]
    }
   ],
   "source": [
    "for ls[0] in ls:\n",
    "    pass\n",
    "else:\n",
    "    print(ls)"
   ]
  },
  {
   "cell_type": "code",
   "execution_count": null,
   "id": "c421673f",
   "metadata": {},
   "outputs": [],
   "source": []
  },
  {
   "cell_type": "code",
   "execution_count": 9,
   "id": "17b6be76",
   "metadata": {},
   "outputs": [],
   "source": [
    "ls = [10,20,30,40,50]"
   ]
  },
  {
   "cell_type": "code",
   "execution_count": 10,
   "id": "1c872397",
   "metadata": {},
   "outputs": [
    {
     "name": "stdout",
     "output_type": "stream",
     "text": [
      "[10, 20, 30, 50, 50]\n"
     ]
    }
   ],
   "source": [
    "for ls[-2] in ls:\n",
    "    pass\n",
    "else:\n",
    "    print(ls)"
   ]
  },
  {
   "cell_type": "code",
   "execution_count": null,
   "id": "21f225c5",
   "metadata": {},
   "outputs": [],
   "source": []
  },
  {
   "cell_type": "markdown",
   "id": "4618bcc8",
   "metadata": {},
   "source": [
    "# List comprehension\n",
    "\n",
    "            syntax:\n",
    "            \n",
    "                        [expression for var in iterable]"
   ]
  },
  {
   "cell_type": "code",
   "execution_count": null,
   "id": "0b3b9bd3",
   "metadata": {},
   "outputs": [],
   "source": []
  },
  {
   "cell_type": "code",
   "execution_count": 12,
   "id": "f000a7e6",
   "metadata": {},
   "outputs": [
    {
     "data": {
      "text/plain": [
       "[0, 1, 2, 3, 4]"
      ]
     },
     "execution_count": 12,
     "metadata": {},
     "output_type": "execute_result"
    }
   ],
   "source": [
    "ls = [i for i in range(5)]\n",
    "ls"
   ]
  },
  {
   "cell_type": "code",
   "execution_count": null,
   "id": "0ffd7917",
   "metadata": {},
   "outputs": [],
   "source": []
  },
  {
   "cell_type": "code",
   "execution_count": 13,
   "id": "1b867ad0",
   "metadata": {},
   "outputs": [
    {
     "data": {
      "text/plain": [
       "[1, 4, 9, 16, 25, 36, 49, 64, 81, 100]"
      ]
     },
     "execution_count": 13,
     "metadata": {},
     "output_type": "execute_result"
    }
   ],
   "source": [
    "[i**2 for i in range(1, 11)]"
   ]
  },
  {
   "cell_type": "code",
   "execution_count": 14,
   "id": "f456a637",
   "metadata": {},
   "outputs": [
    {
     "data": {
      "text/plain": [
       "[0, 1, 2, 3, 4]"
      ]
     },
     "execution_count": 14,
     "metadata": {},
     "output_type": "execute_result"
    }
   ],
   "source": [
    "ls "
   ]
  },
  {
   "cell_type": "code",
   "execution_count": 16,
   "id": "baa9f0b0",
   "metadata": {},
   "outputs": [
    {
     "data": {
      "text/plain": [
       "[0.0, 0.5, 1.0, 1.5, 2.0]"
      ]
     },
     "execution_count": 16,
     "metadata": {},
     "output_type": "execute_result"
    }
   ],
   "source": [
    "[i / 2 for i in ls]"
   ]
  },
  {
   "cell_type": "code",
   "execution_count": null,
   "id": "ec7c7b98",
   "metadata": {},
   "outputs": [],
   "source": []
  },
  {
   "cell_type": "code",
   "execution_count": 17,
   "id": "e8e738c0",
   "metadata": {},
   "outputs": [
    {
     "name": "stdout",
     "output_type": "stream",
     "text": [
      "5\n",
      "Enter valueaman\n",
      "Enter valuerohan\n",
      "Enter valueram\n",
      "Enter valuesachin\n",
      "Enter valuerahul\n",
      "['aman', 'rohan', 'ram', 'sachin', 'rahul']\n"
     ]
    }
   ],
   "source": [
    "N = int(input())\n",
    "ls = []\n",
    "for i in range(N):\n",
    "    v = input('Enter value')\n",
    "    ls.append(v)\n",
    "print(ls)"
   ]
  },
  {
   "cell_type": "code",
   "execution_count": null,
   "id": "93ded132",
   "metadata": {},
   "outputs": [],
   "source": []
  },
  {
   "cell_type": "code",
   "execution_count": 19,
   "id": "6b2ffd7f",
   "metadata": {},
   "outputs": [
    {
     "name": "stdout",
     "output_type": "stream",
     "text": [
      "Enter value 1: rohan\n",
      "Enter value 2: aman\n",
      "Enter value 3: rahul\n",
      "Enter value 4: anil\n",
      "Enter value 5: sunil\n"
     ]
    },
    {
     "data": {
      "text/plain": [
       "['rohan', 'aman', 'rahul', 'anil', 'sunil']"
      ]
     },
     "execution_count": 19,
     "metadata": {},
     "output_type": "execute_result"
    }
   ],
   "source": [
    "[input(f'Enter value {i+1}: ') for i in range(5)]"
   ]
  },
  {
   "cell_type": "code",
   "execution_count": null,
   "id": "1dc65b59",
   "metadata": {},
   "outputs": [],
   "source": []
  },
  {
   "cell_type": "code",
   "execution_count": 20,
   "id": "ef556d12",
   "metadata": {},
   "outputs": [
    {
     "name": "stdout",
     "output_type": "stream",
     "text": [
      "Enter number of values: 3\n",
      "Enter value 1: sachin\n",
      "Enter value 2: rohan\n",
      "Enter value 3: shiv\n",
      "['sachin', 'rohan', 'shiv']\n"
     ]
    }
   ],
   "source": [
    "print([input(f'Enter value {i+1}: ') for i in range(int(input('Enter number of values: ')))])"
   ]
  },
  {
   "cell_type": "code",
   "execution_count": null,
   "id": "73823648",
   "metadata": {},
   "outputs": [],
   "source": []
  },
  {
   "cell_type": "code",
   "execution_count": null,
   "id": "2b52bd65",
   "metadata": {},
   "outputs": [],
   "source": []
  },
  {
   "cell_type": "code",
   "execution_count": 21,
   "id": "599017b3",
   "metadata": {},
   "outputs": [
    {
     "name": "stdout",
     "output_type": "stream",
     "text": [
      "[(10, 100), (20, 400), (30, 900), (40, 1600), (50, 2500), (60, 3600), (70, 4900), (80, 6400), (90, 8100), (100, 10000)]\n"
     ]
    }
   ],
   "source": [
    "print([(i, i**2) for i in range(10, 101, 10)])"
   ]
  },
  {
   "cell_type": "code",
   "execution_count": null,
   "id": "bd5f093c",
   "metadata": {},
   "outputs": [],
   "source": []
  },
  {
   "cell_type": "code",
   "execution_count": 24,
   "id": "3b2b7446",
   "metadata": {},
   "outputs": [
    {
     "name": "stdout",
     "output_type": "stream",
     "text": [
      "Enter name 1: aman\n",
      "Enter your address: jaipur\n",
      "Enter name 2: rohan\n",
      "Enter your address: jaipur\n",
      "Enter name 3: ram\n",
      "Enter your address: jaipur\n",
      "Enter name 4: sachin\n",
      "Enter your address: jaipur\n",
      "Enter name 5: sachin\n",
      "Enter your address: jaipur\n"
     ]
    },
    {
     "data": {
      "text/plain": [
       "[['aman', 'jaipur'],\n",
       " ['rohan', 'jaipur'],\n",
       " ['ram', 'jaipur'],\n",
       " ['sachin', 'jaipur'],\n",
       " ['sachin', 'jaipur']]"
      ]
     },
     "execution_count": 24,
     "metadata": {},
     "output_type": "execute_result"
    }
   ],
   "source": [
    "data = [[input(f'Enter name {i + 1}: '), input('Enter your address: ')] for i in range(5)]\n",
    "data"
   ]
  },
  {
   "cell_type": "code",
   "execution_count": null,
   "id": "23902801",
   "metadata": {},
   "outputs": [],
   "source": []
  },
  {
   "cell_type": "code",
   "execution_count": 25,
   "id": "f682296f",
   "metadata": {},
   "outputs": [
    {
     "name": "stdout",
     "output_type": "stream",
     "text": [
      "[['aman', 'jaipur'], ['rohan', 'jaipur'], ['ram', 'jaipur'], ['sachin', 'jaipur'], ['sachin', 'jaipur']]\n"
     ]
    }
   ],
   "source": [
    "print(data)"
   ]
  },
  {
   "cell_type": "code",
   "execution_count": 26,
   "id": "4a3eb3b2",
   "metadata": {},
   "outputs": [
    {
     "data": {
      "text/plain": [
       "{'aman': 'jaipur', 'rohan': 'jaipur', 'ram': 'jaipur', 'sachin': 'jaipur'}"
      ]
     },
     "execution_count": 26,
     "metadata": {},
     "output_type": "execute_result"
    }
   ],
   "source": [
    "dict(data)"
   ]
  },
  {
   "cell_type": "code",
   "execution_count": null,
   "id": "7e6fc66c",
   "metadata": {},
   "outputs": [],
   "source": []
  },
  {
   "cell_type": "code",
   "execution_count": 28,
   "id": "8e1adc71",
   "metadata": {},
   "outputs": [
    {
     "name": "stdout",
     "output_type": "stream",
     "text": [
      "(0, 0)\n",
      "(0, 1)\n",
      "(0, 2)\n",
      "(1, 0)\n",
      "(1, 1)\n",
      "(1, 2)\n",
      "(2, 0)\n",
      "(2, 1)\n",
      "(2, 2)\n",
      "(3, 0)\n",
      "(3, 1)\n",
      "(3, 2)\n",
      "(4, 0)\n",
      "(4, 1)\n",
      "(4, 2)\n"
     ]
    }
   ],
   "source": [
    "for i in range(5):\n",
    "    for  j in range(3):\n",
    "        print((i,j))"
   ]
  },
  {
   "cell_type": "code",
   "execution_count": 27,
   "id": "8b6da6b4",
   "metadata": {},
   "outputs": [
    {
     "name": "stdout",
     "output_type": "stream",
     "text": [
      "[(0, 0), (0, 1), (0, 2), (1, 0), (1, 1), (1, 2), (2, 0), (2, 1), (2, 2), (3, 0), (3, 1), (3, 2), (4, 0), (4, 1), (4, 2)]\n"
     ]
    }
   ],
   "source": [
    "print([(i,j) for i in range(5) for j in range(3)])"
   ]
  },
  {
   "cell_type": "code",
   "execution_count": null,
   "id": "0e7147c5",
   "metadata": {},
   "outputs": [],
   "source": []
  },
  {
   "cell_type": "code",
   "execution_count": 29,
   "id": "6314e456",
   "metadata": {},
   "outputs": [
    {
     "name": "stdout",
     "output_type": "stream",
     "text": [
      "[0, 1, 2, 1, 2, 3, 2, 3, 4, 3, 4, 5, 4, 5, 6]\n"
     ]
    }
   ],
   "source": [
    "print([(i+j) for i in range(5) for j in range(3)])"
   ]
  },
  {
   "cell_type": "code",
   "execution_count": null,
   "id": "293b79d1",
   "metadata": {},
   "outputs": [],
   "source": []
  },
  {
   "cell_type": "markdown",
   "id": "dff4af8e",
   "metadata": {},
   "source": [
    "    [expression for var in iterable if condition]"
   ]
  },
  {
   "cell_type": "code",
   "execution_count": 30,
   "id": "fcb6e8eb",
   "metadata": {},
   "outputs": [
    {
     "name": "stdout",
     "output_type": "stream",
     "text": [
      "[0, 2, 4]\n"
     ]
    }
   ],
   "source": [
    "print([i for i in range(5) if i % 2 == 0])"
   ]
  },
  {
   "cell_type": "code",
   "execution_count": null,
   "id": "f5b82623",
   "metadata": {},
   "outputs": [],
   "source": []
  },
  {
   "cell_type": "code",
   "execution_count": 31,
   "id": "7873a57a",
   "metadata": {},
   "outputs": [],
   "source": [
    "names = ['rohan', 'aman', 'rahul', 'anil', 'sunil']"
   ]
  },
  {
   "cell_type": "code",
   "execution_count": 32,
   "id": "16dea44b",
   "metadata": {},
   "outputs": [
    {
     "data": {
      "text/plain": [
       "['ROHAN', 'AMAN', 'RAHUL', 'ANIL', 'SUNIL']"
      ]
     },
     "execution_count": 32,
     "metadata": {},
     "output_type": "execute_result"
    }
   ],
   "source": [
    "[i.upper() for i in names]"
   ]
  },
  {
   "cell_type": "code",
   "execution_count": 33,
   "id": "d0f6d88f",
   "metadata": {},
   "outputs": [
    {
     "data": {
      "text/plain": [
       "['AMAN', 'ANIL']"
      ]
     },
     "execution_count": 33,
     "metadata": {},
     "output_type": "execute_result"
    }
   ],
   "source": [
    "[i.upper() for i in names if i.startswith('a')]"
   ]
  },
  {
   "cell_type": "code",
   "execution_count": null,
   "id": "ad7e58ca",
   "metadata": {},
   "outputs": [],
   "source": []
  },
  {
   "cell_type": "code",
   "execution_count": 34,
   "id": "8584f7ec",
   "metadata": {},
   "outputs": [
    {
     "name": "stdout",
     "output_type": "stream",
     "text": [
      "['append', 'clear', 'copy', 'count', 'extend', 'index', 'insert', 'pop', 'remove', 'reverse', 'sort']\n"
     ]
    }
   ],
   "source": [
    "print([i for i in dir(list) if not i.startswith('__')])"
   ]
  },
  {
   "cell_type": "code",
   "execution_count": null,
   "id": "e199d651",
   "metadata": {},
   "outputs": [],
   "source": []
  },
  {
   "cell_type": "code",
   "execution_count": 35,
   "id": "fbf5dbd1",
   "metadata": {},
   "outputs": [
    {
     "name": "stdout",
     "output_type": "stream",
     "text": [
      "['__add__', '__class__', '__class_getitem__', '__contains__', '__delattr__', '__delitem__', '__dir__', '__doc__', '__eq__', '__format__', '__ge__', '__getattribute__', '__getitem__', '__gt__', '__hash__', '__iadd__', '__imul__', '__init__', '__init_subclass__', '__iter__', '__le__', '__len__', '__lt__', '__mul__', '__ne__', '__new__', '__reduce__', '__reduce_ex__', '__repr__', '__reversed__', '__rmul__', '__setattr__', '__setitem__', '__sizeof__', '__str__', '__subclasshook__', 'append', 'clear', 'copy', 'count', 'extend', 'index', 'insert', 'pop', 'remove', 'reverse', 'sort']\n"
     ]
    }
   ],
   "source": [
    "print(dir(list))"
   ]
  },
  {
   "cell_type": "code",
   "execution_count": 37,
   "id": "af1dd726",
   "metadata": {},
   "outputs": [
    {
     "name": "stdout",
     "output_type": "stream",
     "text": [
      "['__add__', '__class__', '__class_getitem__', '__contains__', '__delattr__', '__delitem__', '__dir__', '__doc__', '__eq__', '__format__', '__ge__', '__getattribute__', '__getitem__', '__gt__', '__hash__', '__iadd__', '__imul__', '__init__', '__init_subclass__', '__iter__', '__le__', '__len__', '__lt__', '__mul__', '__ne__', '__new__', '__reduce__', '__reduce_ex__', '__repr__', '__reversed__', '__rmul__', '__setattr__', '__setitem__', '__sizeof__', '__str__', '__subclasshook__', 'append', 'clear', 'copy', 'count', 'extend', 'index', 'insert', 'pop', 'remove', 'reverse', 'sort']\n"
     ]
    }
   ],
   "source": [
    "print([i for i in dir(list)])"
   ]
  },
  {
   "cell_type": "code",
   "execution_count": 40,
   "id": "d9323432",
   "metadata": {},
   "outputs": [
    {
     "name": "stdout",
     "output_type": "stream",
     "text": [
      "append\n",
      "clear\n",
      "copy\n",
      "count\n",
      "extend\n",
      "index\n",
      "insert\n",
      "pop\n",
      "remove\n",
      "reverse\n",
      "sort\n"
     ]
    }
   ],
   "source": [
    "for i in dir(list):\n",
    "    if not i.startswith('__'):\n",
    "        print(i)"
   ]
  },
  {
   "cell_type": "code",
   "execution_count": 41,
   "id": "87dc1e0f",
   "metadata": {},
   "outputs": [
    {
     "name": "stdout",
     "output_type": "stream",
     "text": [
      "['append', 'clear', 'copy', 'count', 'extend', 'index', 'insert', 'pop', 'remove', 'reverse', 'sort']\n"
     ]
    }
   ],
   "source": [
    "print([i for i in dir(list) if not i.startswith('__')])"
   ]
  },
  {
   "cell_type": "code",
   "execution_count": null,
   "id": "3f8c0feb",
   "metadata": {},
   "outputs": [],
   "source": []
  },
  {
   "cell_type": "markdown",
   "id": "f120ba7a",
   "metadata": {},
   "source": [
    "    "
   ]
  },
  {
   "cell_type": "code",
   "execution_count": null,
   "id": "6ca1fba9",
   "metadata": {},
   "outputs": [],
   "source": []
  },
  {
   "cell_type": "code",
   "execution_count": 42,
   "id": "1f431ec0",
   "metadata": {},
   "outputs": [
    {
     "ename": "SyntaxError",
     "evalue": "invalid syntax (394919515.py, line 1)",
     "output_type": "error",
     "traceback": [
      "\u001b[1;36m  Cell \u001b[1;32mIn[42], line 1\u001b[1;36m\u001b[0m\n\u001b[1;33m    print([i for i in range(5) if i % 2 == 0 else 5])\u001b[0m\n\u001b[1;37m                                             ^\u001b[0m\n\u001b[1;31mSyntaxError\u001b[0m\u001b[1;31m:\u001b[0m invalid syntax\n"
     ]
    }
   ],
   "source": [
    "print([i for i in range(5) if i % 2 == 0 else 5])"
   ]
  },
  {
   "cell_type": "code",
   "execution_count": null,
   "id": "cf065ad9",
   "metadata": {},
   "outputs": [],
   "source": []
  },
  {
   "cell_type": "code",
   "execution_count": 1,
   "id": "0964d2c4",
   "metadata": {},
   "outputs": [],
   "source": [
    "ls = [23,45,67,23,56,678,89,34,3,67]"
   ]
  },
  {
   "cell_type": "code",
   "execution_count": 2,
   "id": "292235b6",
   "metadata": {},
   "outputs": [
    {
     "data": {
      "text/plain": [
       "[56, 678, 34]"
      ]
     },
     "execution_count": 2,
     "metadata": {},
     "output_type": "execute_result"
    }
   ],
   "source": [
    "[i for i in ls if i % 2 == 0]"
   ]
  },
  {
   "cell_type": "code",
   "execution_count": 3,
   "id": "42d9f6fd",
   "metadata": {},
   "outputs": [
    {
     "data": {
      "text/plain": [
       "[False, False, False, False, True, True, False, True, False, False]"
      ]
     },
     "execution_count": 3,
     "metadata": {},
     "output_type": "execute_result"
    }
   ],
   "source": [
    "[True if i % 2 == 0 else False for i in ls]"
   ]
  },
  {
   "cell_type": "code",
   "execution_count": null,
   "id": "db287dc8",
   "metadata": {},
   "outputs": [],
   "source": []
  },
  {
   "cell_type": "code",
   "execution_count": 4,
   "id": "97c05c0b",
   "metadata": {},
   "outputs": [
    {
     "data": {
      "text/plain": [
       "['odd', 'odd', 'odd', 'odd', 'even', 'even', 'odd', 'even', 'odd', 'odd']"
      ]
     },
     "execution_count": 4,
     "metadata": {},
     "output_type": "execute_result"
    }
   ],
   "source": [
    "['even' if i % 2 == 0 else 'odd' for i in ls]"
   ]
  },
  {
   "cell_type": "code",
   "execution_count": null,
   "id": "59970f49",
   "metadata": {},
   "outputs": [],
   "source": []
  },
  {
   "cell_type": "code",
   "execution_count": 5,
   "id": "98acd2de",
   "metadata": {},
   "outputs": [],
   "source": [
    "names = ['anil', 'sunil', 'rahul', 'ashish']"
   ]
  },
  {
   "cell_type": "code",
   "execution_count": 6,
   "id": "09828dee",
   "metadata": {},
   "outputs": [
    {
     "data": {
      "text/plain": [
       "['ANIL', 'Sunil', 'Rahul', 'ASHISH']"
      ]
     },
     "execution_count": 6,
     "metadata": {},
     "output_type": "execute_result"
    }
   ],
   "source": [
    "[i.upper() if i.startswith('a') else i.title() for i in names]"
   ]
  },
  {
   "cell_type": "code",
   "execution_count": null,
   "id": "2c7f1242",
   "metadata": {},
   "outputs": [],
   "source": []
  },
  {
   "cell_type": "code",
   "execution_count": null,
   "id": "6e2cf298",
   "metadata": {},
   "outputs": [],
   "source": []
  },
  {
   "cell_type": "markdown",
   "id": "3dc74c40",
   "metadata": {},
   "source": [
    "## nested if \n",
    "## nested if else"
   ]
  },
  {
   "cell_type": "code",
   "execution_count": null,
   "id": "91a1313f",
   "metadata": {},
   "outputs": [],
   "source": []
  },
  {
   "cell_type": "code",
   "execution_count": null,
   "id": "e3bc581c",
   "metadata": {},
   "outputs": [],
   "source": []
  },
  {
   "cell_type": "markdown",
   "id": "d30de36a",
   "metadata": {},
   "source": [
    "## dict comprehension\n",
    "\n",
    "## tuple comprehension"
   ]
  },
  {
   "cell_type": "code",
   "execution_count": null,
   "id": "b5b41ed0",
   "metadata": {},
   "outputs": [],
   "source": []
  },
  {
   "cell_type": "code",
   "execution_count": null,
   "id": "7c86bdd7",
   "metadata": {},
   "outputs": [],
   "source": []
  }
 ],
 "metadata": {
  "kernelspec": {
   "display_name": "Python 3 (ipykernel)",
   "language": "python",
   "name": "python3"
  },
  "language_info": {
   "codemirror_mode": {
    "name": "ipython",
    "version": 3
   },
   "file_extension": ".py",
   "mimetype": "text/x-python",
   "name": "python",
   "nbconvert_exporter": "python",
   "pygments_lexer": "ipython3",
   "version": "3.10.9"
  }
 },
 "nbformat": 4,
 "nbformat_minor": 5
}
