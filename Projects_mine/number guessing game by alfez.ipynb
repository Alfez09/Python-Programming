{
 "cells": [
  {
   "cell_type": "markdown",
   "id": "e0712bac",
   "metadata": {},
   "source": [
    "# number gusseing game by alfez\n"
   ]
  },
  {
   "cell_type": "code",
   "execution_count": 38,
   "id": "95ed291d",
   "metadata": {},
   "outputs": [],
   "source": [
    "import random"
   ]
  },
  {
   "cell_type": "code",
   "execution_count": 39,
   "id": "c486a33b",
   "metadata": {},
   "outputs": [],
   "source": [
    "computer_guess = random.randint(1,20)  "
   ]
  },
  {
   "cell_type": "code",
   "execution_count": null,
   "id": "3ad3b392",
   "metadata": {},
   "outputs": [
    {
     "name": "stdout",
     "output_type": "stream",
     "text": [
      " guess[1]enter your guess :2\n",
      "think big number\n",
      " guess[2]enter your guess :21\n",
      " think a small number....\n"
     ]
    }
   ],
   "source": [
    "guess = 1\n",
    "while guess <= 5:\n",
    "    user_guess =int(input(f\" guess[{guess}]enter your guess :\"))\n",
    "    if computer_guess > 20 or user_guess < 1:\n",
    "        print(\"your guess is out of range!..\\n go and take another guess;\")\n",
    "        continue\n",
    "        \n",
    "    if computer_guess == user_guess:\n",
    "        print(\"you win this game.....\")\n",
    "        break\n",
    "    elif computer_guess > user_guess:\n",
    "        if guess == 5:\n",
    "            pass\n",
    "        else:\n",
    "            print(\"think big number\")\n",
    "    elif computer_guess < user_guess:\n",
    "        if guess == 5:\n",
    "            pass\n",
    "        else: print(\" think a small number....\")\n",
    "    guess += 1\n",
    "else: \n",
    "    print(\"you will loosse... the game.\")\n",
    "    print(\"computer_guess..\",computer_guess)\n",
    "    "
   ]
  },
  {
   "cell_type": "code",
   "execution_count": null,
   "id": "dfba4f9c",
   "metadata": {},
   "outputs": [],
   "source": []
  },
  {
   "cell_type": "code",
   "execution_count": 35,
   "id": "1e545a81",
   "metadata": {},
   "outputs": [
    {
     "data": {
      "text/plain": [
       "7"
      ]
     },
     "execution_count": 35,
     "metadata": {},
     "output_type": "execute_result"
    }
   ],
   "source": [
    "computer_guess"
   ]
  },
  {
   "cell_type": "code",
   "execution_count": null,
   "id": "c39c7520",
   "metadata": {},
   "outputs": [],
   "source": []
  },
  {
   "cell_type": "code",
   "execution_count": null,
   "id": "fa6c4bce",
   "metadata": {},
   "outputs": [],
   "source": []
  }
 ],
 "metadata": {
  "kernelspec": {
   "display_name": "Python 3 (ipykernel)",
   "language": "python",
   "name": "python3"
  },
  "language_info": {
   "codemirror_mode": {
    "name": "ipython",
    "version": 3
   },
   "file_extension": ".py",
   "mimetype": "text/x-python",
   "name": "python",
   "nbconvert_exporter": "python",
   "pygments_lexer": "ipython3",
   "version": "3.11.4"
  }
 },
 "nbformat": 4,
 "nbformat_minor": 5
}
