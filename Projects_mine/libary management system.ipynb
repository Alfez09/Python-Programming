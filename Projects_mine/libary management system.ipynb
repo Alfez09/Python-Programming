{
 "cells": [
  {
   "cell_type": "code",
   "execution_count": 17,
   "id": "e294d5b9",
   "metadata": {},
   "outputs": [
    {
     "name": "stdout",
     "output_type": "stream",
     "text": [
      "Book not available or invalid book ID.\n",
      "Book found with ID: 1\n",
      "Invalid book ID.\n"
     ]
    }
   ],
   "source": [
    "import datetime\n",
    "\n",
    "# Sample book data\n",
    "book_data = {\n",
    "    \"1\": {\"title\": \"Python Programming\", \"author\": \"John Smith\", \"copies_available\": 50},\n",
    "    \"2\": {\"title\": \"Introduction to Machine Learning\", \"author\": \"Alice Johnson\", \"copies_available\": 33},\n",
    "    \"3\": {\"title\": \"Data Structures and Algorithms\", \"author\": \"Bob Williams\", \"copies_available\": 12},\n",
    "      \"4\": {\"title\": \"C Programming\", \"author\": \"dennis rittchie\", \"copies_available\": 15},\n",
    "    \"5\": {\"title\": \"Artificial intelligence\", \"author\": \"xyz\", \"copies_available\": 10},\n",
    "    \"6\": {\"title\": \"Database system\", \"author\": \"XYZ\", \"copies_available\": 20}\n",
    "}\n",
    "\n",
    "\n",
    "# Function to issue a book\n",
    "def issue_book(book_id, member_id):\n",
    "    if book_id in book_data and book_data[book_id][\"copies_available\"] > 0:\n",
    "        book_data[book_id][\"copies_available\"] -= 1\n",
    "        current_date_time = datetime.datetime.now()\n",
    "        print(f\"Book '{book_data[book_id]['title']}' issued to member {member_id} on {current_date_time}.\")\n",
    "    else:\n",
    "        print(\"Book not available or invalid book ID.\")\n",
    "\n",
    "# Function to search for a book\n",
    "def search_book(book_title):\n",
    "    for book_id, book_info in book_data.items():\n",
    "        if book_info[\"title\"].lower() == book_title.lower():\n",
    "            print(f\"Book found with ID: {book_id}\")\n",
    "            return\n",
    "    print(\"Book not found.\")\n",
    "\n",
    "# Function to submit a book\n",
    "def submit_book(book_id):\n",
    "    if book_id in book_data:\n",
    "        book_data[book_id][\"copies_available\"] += 1\n",
    "        print(f\"Book '{book_data[book_id]['title']}' submitted successfully.\")\n",
    "    else:\n",
    "        print(\"Invalid book ID.\")\n",
    "\n",
    "\n"
   ]
  },
  {
   "cell_type": "code",
   "execution_count": 21,
   "id": "1aa17a95",
   "metadata": {},
   "outputs": [
    {
     "name": "stdout",
     "output_type": "stream",
     "text": [
      "Book 'Data Structures and Algorithms' submitted successfully.\n"
     ]
    }
   ],
   "source": [
    "submit_book('3')"
   ]
  },
  {
   "cell_type": "code",
   "execution_count": 22,
   "id": "a58c65d5",
   "metadata": {},
   "outputs": [
    {
     "name": "stdout",
     "output_type": "stream",
     "text": [
      "Book 'C Programming' submitted successfully.\n"
     ]
    }
   ],
   "source": [
    "submit_book('4')"
   ]
  },
  {
   "cell_type": "code",
   "execution_count": 23,
   "id": "fdf7a865",
   "metadata": {},
   "outputs": [
    {
     "name": "stdout",
     "output_type": "stream",
     "text": [
      "Book 'Artificial intelligence' issued to member A5 on 2024-04-01 17:28:17.766644.\n"
     ]
    }
   ],
   "source": [
    "issue_book('5',\"A5\")"
   ]
  },
  {
   "cell_type": "code",
   "execution_count": 25,
   "id": "4644d73f",
   "metadata": {},
   "outputs": [
    {
     "name": "stdout",
     "output_type": "stream",
     "text": [
      "Book 'Python Programming' issued to member p1 on 2024-04-01 17:31:27.826459.\n"
     ]
    }
   ],
   "source": [
    "issue_book(\"1\", \"p1\")\n"
   ]
  },
  {
   "cell_type": "code",
   "execution_count": 26,
   "id": "d2db1346",
   "metadata": {},
   "outputs": [
    {
     "name": "stdout",
     "output_type": "stream",
     "text": [
      "Book found with ID: 1\n"
     ]
    }
   ],
   "source": [
    "search_book(\"Python Programming\")\n"
   ]
  },
  {
   "cell_type": "code",
   "execution_count": 28,
   "id": "a6165e65",
   "metadata": {},
   "outputs": [
    {
     "name": "stdout",
     "output_type": "stream",
     "text": [
      "Book 'Data Structures and Algorithms' submitted successfully.\n"
     ]
    }
   ],
   "source": [
    "submit_book(\"3\")"
   ]
  },
  {
   "cell_type": "code",
   "execution_count": null,
   "id": "d61f5bec",
   "metadata": {},
   "outputs": [],
   "source": [
    "search_book(\"Python\")"
   ]
  },
  {
   "cell_type": "code",
   "execution_count": null,
   "id": "a948be7c",
   "metadata": {},
   "outputs": [],
   "source": []
  }
 ],
 "metadata": {
  "kernelspec": {
   "display_name": "Python 3 (ipykernel)",
   "language": "python",
   "name": "python3"
  },
  "language_info": {
   "codemirror_mode": {
    "name": "ipython",
    "version": 3
   },
   "file_extension": ".py",
   "mimetype": "text/x-python",
   "name": "python",
   "nbconvert_exporter": "python",
   "pygments_lexer": "ipython3",
   "version": "3.11.4"
  }
 },
 "nbformat": 4,
 "nbformat_minor": 5
}
