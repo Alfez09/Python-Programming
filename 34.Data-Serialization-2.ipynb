{
 "cells": [
  {
   "cell_type": "code",
   "execution_count": 1,
   "id": "8fba0bfe-e324-43fc-8c08-9595851363a8",
   "metadata": {},
   "outputs": [],
   "source": [
    "import json"
   ]
  },
  {
   "cell_type": "code",
   "execution_count": null,
   "id": "f127122c-d636-4e93-8b61-72b35e47611f",
   "metadata": {},
   "outputs": [],
   "source": []
  },
  {
   "cell_type": "code",
   "execution_count": 2,
   "id": "cf5ec5b6-ffb6-466e-a858-b3612be4f122",
   "metadata": {},
   "outputs": [],
   "source": [
    "data = {1:{'name':'rohan', 'age':24, 'address':'jaipur'}, \n",
    "        2:{'name':'ram', 'age':25, 'address':'jaipur'}\n",
    "       }"
   ]
  },
  {
   "cell_type": "code",
   "execution_count": 3,
   "id": "50be209a-d74d-4b32-9043-2f1177955942",
   "metadata": {},
   "outputs": [
    {
     "data": {
      "text/plain": [
       "{1: {'name': 'rohan', 'age': 24, 'address': 'jaipur'},\n",
       " 2: {'name': 'ram', 'age': 25, 'address': 'jaipur'}}"
      ]
     },
     "execution_count": 3,
     "metadata": {},
     "output_type": "execute_result"
    }
   ],
   "source": [
    "data"
   ]
  },
  {
   "cell_type": "code",
   "execution_count": null,
   "id": "7da8f145-96bd-4853-a402-71bbcf5edaf6",
   "metadata": {},
   "outputs": [],
   "source": []
  },
  {
   "cell_type": "code",
   "execution_count": 4,
   "id": "668cdf52-2766-4c89-bb62-9793448f497e",
   "metadata": {},
   "outputs": [],
   "source": [
    "with open('data1.json', 'w') as f:\n",
    "    json.dump(data, f)"
   ]
  },
  {
   "cell_type": "code",
   "execution_count": null,
   "id": "b60eb92d-5f64-42ad-acb1-a79755d39ac7",
   "metadata": {},
   "outputs": [],
   "source": []
  },
  {
   "cell_type": "code",
   "execution_count": 5,
   "id": "3dd2ed35-f4b7-41fd-9b18-4746c107d819",
   "metadata": {},
   "outputs": [],
   "source": [
    "with open('data1.json', 'r') as f:\n",
    "    data = json.load(f)"
   ]
  },
  {
   "cell_type": "code",
   "execution_count": 6,
   "id": "00344c45-60d2-4fab-8724-b251a734b36d",
   "metadata": {},
   "outputs": [
    {
     "data": {
      "text/plain": [
       "{'1': {'name': 'rohan', 'age': 24, 'address': 'jaipur'},\n",
       " '2': {'name': 'ram', 'age': 25, 'address': 'jaipur'}}"
      ]
     },
     "execution_count": 6,
     "metadata": {},
     "output_type": "execute_result"
    }
   ],
   "source": [
    "data"
   ]
  },
  {
   "cell_type": "code",
   "execution_count": null,
   "id": "542b7ca2-cd27-4a1d-9c71-507be7f87e87",
   "metadata": {},
   "outputs": [],
   "source": []
  },
  {
   "cell_type": "code",
   "execution_count": null,
   "id": "d05a78fd-bb3a-4c45-bdeb-2d98bd066f25",
   "metadata": {},
   "outputs": [],
   "source": []
  },
  {
   "cell_type": "code",
   "execution_count": 8,
   "id": "b6839253-c564-4539-9c24-f0128dd705e9",
   "metadata": {},
   "outputs": [
    {
     "data": {
      "text/plain": [
       "<zip at 0x1d16a89e380>"
      ]
     },
     "execution_count": 8,
     "metadata": {},
     "output_type": "execute_result"
    }
   ],
   "source": [
    "obj = zip([10,20,30], [100,200,300])\n",
    "obj"
   ]
  },
  {
   "cell_type": "code",
   "execution_count": 9,
   "id": "66b2643b-4ae6-485e-9492-d88269b9ad21",
   "metadata": {},
   "outputs": [
    {
     "ename": "TypeError",
     "evalue": "Object of type zip is not JSON serializable",
     "output_type": "error",
     "traceback": [
      "\u001b[1;31m---------------------------------------------------------------------------\u001b[0m",
      "\u001b[1;31mTypeError\u001b[0m                                 Traceback (most recent call last)",
      "Cell \u001b[1;32mIn[9], line 1\u001b[0m\n\u001b[1;32m----> 1\u001b[0m json\u001b[38;5;241m.\u001b[39mdumps(obj)\n",
      "File \u001b[1;32m~\\anaconda3\\Lib\\json\\__init__.py:231\u001b[0m, in \u001b[0;36mdumps\u001b[1;34m(obj, skipkeys, ensure_ascii, check_circular, allow_nan, cls, indent, separators, default, sort_keys, **kw)\u001b[0m\n\u001b[0;32m    226\u001b[0m \u001b[38;5;66;03m# cached encoder\u001b[39;00m\n\u001b[0;32m    227\u001b[0m \u001b[38;5;28;01mif\u001b[39;00m (\u001b[38;5;129;01mnot\u001b[39;00m skipkeys \u001b[38;5;129;01mand\u001b[39;00m ensure_ascii \u001b[38;5;129;01mand\u001b[39;00m\n\u001b[0;32m    228\u001b[0m     check_circular \u001b[38;5;129;01mand\u001b[39;00m allow_nan \u001b[38;5;129;01mand\u001b[39;00m\n\u001b[0;32m    229\u001b[0m     \u001b[38;5;28mcls\u001b[39m \u001b[38;5;129;01mis\u001b[39;00m \u001b[38;5;28;01mNone\u001b[39;00m \u001b[38;5;129;01mand\u001b[39;00m indent \u001b[38;5;129;01mis\u001b[39;00m \u001b[38;5;28;01mNone\u001b[39;00m \u001b[38;5;129;01mand\u001b[39;00m separators \u001b[38;5;129;01mis\u001b[39;00m \u001b[38;5;28;01mNone\u001b[39;00m \u001b[38;5;129;01mand\u001b[39;00m\n\u001b[0;32m    230\u001b[0m     default \u001b[38;5;129;01mis\u001b[39;00m \u001b[38;5;28;01mNone\u001b[39;00m \u001b[38;5;129;01mand\u001b[39;00m \u001b[38;5;129;01mnot\u001b[39;00m sort_keys \u001b[38;5;129;01mand\u001b[39;00m \u001b[38;5;129;01mnot\u001b[39;00m kw):\n\u001b[1;32m--> 231\u001b[0m     \u001b[38;5;28;01mreturn\u001b[39;00m _default_encoder\u001b[38;5;241m.\u001b[39mencode(obj)\n\u001b[0;32m    232\u001b[0m \u001b[38;5;28;01mif\u001b[39;00m \u001b[38;5;28mcls\u001b[39m \u001b[38;5;129;01mis\u001b[39;00m \u001b[38;5;28;01mNone\u001b[39;00m:\n\u001b[0;32m    233\u001b[0m     \u001b[38;5;28mcls\u001b[39m \u001b[38;5;241m=\u001b[39m JSONEncoder\n",
      "File \u001b[1;32m~\\anaconda3\\Lib\\json\\encoder.py:200\u001b[0m, in \u001b[0;36mJSONEncoder.encode\u001b[1;34m(self, o)\u001b[0m\n\u001b[0;32m    196\u001b[0m         \u001b[38;5;28;01mreturn\u001b[39;00m encode_basestring(o)\n\u001b[0;32m    197\u001b[0m \u001b[38;5;66;03m# This doesn't pass the iterator directly to ''.join() because the\u001b[39;00m\n\u001b[0;32m    198\u001b[0m \u001b[38;5;66;03m# exceptions aren't as detailed.  The list call should be roughly\u001b[39;00m\n\u001b[0;32m    199\u001b[0m \u001b[38;5;66;03m# equivalent to the PySequence_Fast that ''.join() would do.\u001b[39;00m\n\u001b[1;32m--> 200\u001b[0m chunks \u001b[38;5;241m=\u001b[39m \u001b[38;5;28mself\u001b[39m\u001b[38;5;241m.\u001b[39miterencode(o, _one_shot\u001b[38;5;241m=\u001b[39m\u001b[38;5;28;01mTrue\u001b[39;00m)\n\u001b[0;32m    201\u001b[0m \u001b[38;5;28;01mif\u001b[39;00m \u001b[38;5;129;01mnot\u001b[39;00m \u001b[38;5;28misinstance\u001b[39m(chunks, (\u001b[38;5;28mlist\u001b[39m, \u001b[38;5;28mtuple\u001b[39m)):\n\u001b[0;32m    202\u001b[0m     chunks \u001b[38;5;241m=\u001b[39m \u001b[38;5;28mlist\u001b[39m(chunks)\n",
      "File \u001b[1;32m~\\anaconda3\\Lib\\json\\encoder.py:258\u001b[0m, in \u001b[0;36mJSONEncoder.iterencode\u001b[1;34m(self, o, _one_shot)\u001b[0m\n\u001b[0;32m    253\u001b[0m \u001b[38;5;28;01melse\u001b[39;00m:\n\u001b[0;32m    254\u001b[0m     _iterencode \u001b[38;5;241m=\u001b[39m _make_iterencode(\n\u001b[0;32m    255\u001b[0m         markers, \u001b[38;5;28mself\u001b[39m\u001b[38;5;241m.\u001b[39mdefault, _encoder, \u001b[38;5;28mself\u001b[39m\u001b[38;5;241m.\u001b[39mindent, floatstr,\n\u001b[0;32m    256\u001b[0m         \u001b[38;5;28mself\u001b[39m\u001b[38;5;241m.\u001b[39mkey_separator, \u001b[38;5;28mself\u001b[39m\u001b[38;5;241m.\u001b[39mitem_separator, \u001b[38;5;28mself\u001b[39m\u001b[38;5;241m.\u001b[39msort_keys,\n\u001b[0;32m    257\u001b[0m         \u001b[38;5;28mself\u001b[39m\u001b[38;5;241m.\u001b[39mskipkeys, _one_shot)\n\u001b[1;32m--> 258\u001b[0m \u001b[38;5;28;01mreturn\u001b[39;00m _iterencode(o, \u001b[38;5;241m0\u001b[39m)\n",
      "File \u001b[1;32m~\\anaconda3\\Lib\\json\\encoder.py:180\u001b[0m, in \u001b[0;36mJSONEncoder.default\u001b[1;34m(self, o)\u001b[0m\n\u001b[0;32m    161\u001b[0m \u001b[38;5;28;01mdef\u001b[39;00m \u001b[38;5;21mdefault\u001b[39m(\u001b[38;5;28mself\u001b[39m, o):\n\u001b[0;32m    162\u001b[0m \u001b[38;5;250m    \u001b[39m\u001b[38;5;124;03m\"\"\"Implement this method in a subclass such that it returns\u001b[39;00m\n\u001b[0;32m    163\u001b[0m \u001b[38;5;124;03m    a serializable object for ``o``, or calls the base implementation\u001b[39;00m\n\u001b[0;32m    164\u001b[0m \u001b[38;5;124;03m    (to raise a ``TypeError``).\u001b[39;00m\n\u001b[1;32m   (...)\u001b[0m\n\u001b[0;32m    178\u001b[0m \n\u001b[0;32m    179\u001b[0m \u001b[38;5;124;03m    \"\"\"\u001b[39;00m\n\u001b[1;32m--> 180\u001b[0m     \u001b[38;5;28;01mraise\u001b[39;00m \u001b[38;5;167;01mTypeError\u001b[39;00m(\u001b[38;5;124mf\u001b[39m\u001b[38;5;124m'\u001b[39m\u001b[38;5;124mObject of type \u001b[39m\u001b[38;5;132;01m{\u001b[39;00mo\u001b[38;5;241m.\u001b[39m\u001b[38;5;18m__class__\u001b[39m\u001b[38;5;241m.\u001b[39m\u001b[38;5;18m__name__\u001b[39m\u001b[38;5;132;01m}\u001b[39;00m\u001b[38;5;124m \u001b[39m\u001b[38;5;124m'\u001b[39m\n\u001b[0;32m    181\u001b[0m                     \u001b[38;5;124mf\u001b[39m\u001b[38;5;124m'\u001b[39m\u001b[38;5;124mis not JSON serializable\u001b[39m\u001b[38;5;124m'\u001b[39m)\n",
      "\u001b[1;31mTypeError\u001b[0m: Object of type zip is not JSON serializable"
     ]
    }
   ],
   "source": [
    "json.dumps(obj)"
   ]
  },
  {
   "cell_type": "code",
   "execution_count": null,
   "id": "b09d1b03-d329-41df-a6d0-0b27f2b1442a",
   "metadata": {},
   "outputs": [],
   "source": []
  },
  {
   "cell_type": "markdown",
   "id": "0d08fdaf-613f-4c97-81a2-491b3cc77018",
   "metadata": {},
   "source": [
    "## Pickle\n",
    "\n",
    "                .pkl\n",
    "\n",
    "                python specific serializer\n",
    "\n",
    "                it works on bytes"
   ]
  },
  {
   "cell_type": "code",
   "execution_count": null,
   "id": "e3ca1b59-d33f-428e-b90e-266f8dab0b4c",
   "metadata": {},
   "outputs": [],
   "source": []
  },
  {
   "cell_type": "code",
   "execution_count": 10,
   "id": "d93316f3-3f9d-48aa-889d-c943e5da0a11",
   "metadata": {},
   "outputs": [],
   "source": [
    "import pickle"
   ]
  },
  {
   "cell_type": "code",
   "execution_count": 13,
   "id": "4ab8eb80-886b-4457-ac10-ea671a39aa86",
   "metadata": {},
   "outputs": [],
   "source": [
    "data = {1:{'name':'rohan', 'age':24, 'address':'jaipur'}, \n",
    "        2:{'name':'ram', 'age':25, 'address':'jaipur'}\n",
    "       }"
   ]
  },
  {
   "cell_type": "code",
   "execution_count": 14,
   "id": "8af5f9d8-70b3-4a80-a838-f617213a3428",
   "metadata": {},
   "outputs": [
    {
     "data": {
      "text/plain": [
       "{1: {'name': 'rohan', 'age': 24, 'address': 'jaipur'},\n",
       " 2: {'name': 'ram', 'age': 25, 'address': 'jaipur'}}"
      ]
     },
     "execution_count": 14,
     "metadata": {},
     "output_type": "execute_result"
    }
   ],
   "source": [
    "data"
   ]
  },
  {
   "cell_type": "code",
   "execution_count": 12,
   "id": "587b5dc7-b3de-4d06-9b10-f7df6214f458",
   "metadata": {},
   "outputs": [
    {
     "data": {
      "text/plain": [
       "<zip at 0x1d16a89e380>"
      ]
     },
     "execution_count": 12,
     "metadata": {},
     "output_type": "execute_result"
    }
   ],
   "source": [
    "obj"
   ]
  },
  {
   "cell_type": "code",
   "execution_count": null,
   "id": "ade45906-7dd7-427c-9bda-69428b5395ab",
   "metadata": {},
   "outputs": [],
   "source": []
  },
  {
   "cell_type": "code",
   "execution_count": 16,
   "id": "b774082c-bc73-4097-8e28-f0a7f78d724c",
   "metadata": {},
   "outputs": [],
   "source": [
    "with open('data.pkl', 'wb') as f:\n",
    "    pickle.dump(data, f)"
   ]
  },
  {
   "cell_type": "code",
   "execution_count": null,
   "id": "0bb21712-3ec6-472e-b655-439bd187fab6",
   "metadata": {},
   "outputs": [],
   "source": []
  },
  {
   "cell_type": "code",
   "execution_count": 17,
   "id": "1cc20e2b-dcae-409e-95ac-d2cd0e5a8c8a",
   "metadata": {},
   "outputs": [],
   "source": [
    "with open('data.pkl', 'rb') as f:\n",
    "    d = pickle.load(f)"
   ]
  },
  {
   "cell_type": "code",
   "execution_count": 18,
   "id": "0f8aaf2f-7082-48ae-a48a-99883505d2e2",
   "metadata": {},
   "outputs": [
    {
     "data": {
      "text/plain": [
       "{1: {'name': 'rohan', 'age': 24, 'address': 'jaipur'},\n",
       " 2: {'name': 'ram', 'age': 25, 'address': 'jaipur'}}"
      ]
     },
     "execution_count": 18,
     "metadata": {},
     "output_type": "execute_result"
    }
   ],
   "source": [
    "d"
   ]
  },
  {
   "cell_type": "code",
   "execution_count": null,
   "id": "a31eaaa2-361b-45ba-bd8c-94130e853a8c",
   "metadata": {},
   "outputs": [],
   "source": []
  },
  {
   "cell_type": "code",
   "execution_count": 19,
   "id": "ee6f0b29-910e-4906-a033-b4173b6782be",
   "metadata": {},
   "outputs": [],
   "source": [
    "tp = (12,34,56,67)"
   ]
  },
  {
   "cell_type": "code",
   "execution_count": 20,
   "id": "38893bd0-2501-4856-ad41-e8f5876e32f9",
   "metadata": {},
   "outputs": [
    {
     "data": {
      "text/plain": [
       "b'\\x80\\x04\\x95\\x0c\\x00\\x00\\x00\\x00\\x00\\x00\\x00(K\\x0cK\"K8KCt\\x94.'"
      ]
     },
     "execution_count": 20,
     "metadata": {},
     "output_type": "execute_result"
    }
   ],
   "source": [
    "pickle.dumps(tp)"
   ]
  },
  {
   "cell_type": "code",
   "execution_count": 21,
   "id": "8397205f-49f7-481a-9982-592c25a4f9cc",
   "metadata": {},
   "outputs": [
    {
     "data": {
      "text/plain": [
       "b'\\x80\\x04\\x95\\x0c\\x00\\x00\\x00\\x00\\x00\\x00\\x00(K\\x0cK\"K8KCt\\x94.'"
      ]
     },
     "execution_count": 21,
     "metadata": {},
     "output_type": "execute_result"
    }
   ],
   "source": [
    "dump = pickle.dumps(tp)\n",
    "dump"
   ]
  },
  {
   "cell_type": "code",
   "execution_count": 22,
   "id": "e368b452-e7eb-49a5-9456-1801693525ae",
   "metadata": {},
   "outputs": [
    {
     "data": {
      "text/plain": [
       "(12, 34, 56, 67)"
      ]
     },
     "execution_count": 22,
     "metadata": {},
     "output_type": "execute_result"
    }
   ],
   "source": [
    "pickle.loads(dump)"
   ]
  },
  {
   "cell_type": "code",
   "execution_count": null,
   "id": "73089b2c-5c36-41f7-baed-149b59d4e213",
   "metadata": {},
   "outputs": [],
   "source": []
  },
  {
   "cell_type": "code",
   "execution_count": null,
   "id": "3bb7c6cd-0723-42a5-b08c-459ea0455b01",
   "metadata": {},
   "outputs": [],
   "source": []
  },
  {
   "cell_type": "code",
   "execution_count": 24,
   "id": "fea9b2ae-c148-4d49-aa4c-987dac928019",
   "metadata": {},
   "outputs": [
    {
     "data": {
      "text/plain": [
       "<zip at 0x1d16a8a6700>"
      ]
     },
     "execution_count": 24,
     "metadata": {},
     "output_type": "execute_result"
    }
   ],
   "source": [
    "obj1 = zip(['aman', 'akshat', 'rahul'],[23,34,23])\n",
    "obj1"
   ]
  },
  {
   "cell_type": "code",
   "execution_count": null,
   "id": "fe861fc2-42ef-489d-a804-29569f2a213a",
   "metadata": {},
   "outputs": [],
   "source": []
  },
  {
   "cell_type": "code",
   "execution_count": 25,
   "id": "e5785f66-01b9-45f6-9a94-719e08162e9c",
   "metadata": {},
   "outputs": [
    {
     "data": {
      "text/plain": [
       "b'\\x80\\x04\\x95b\\x00\\x00\\x00\\x00\\x00\\x00\\x00\\x8c\\x08builtins\\x94\\x8c\\x03zip\\x94\\x93\\x94\\x8c\\x08builtins\\x94\\x8c\\x04iter\\x94\\x93\\x94]\\x94(\\x8c\\x04aman\\x94\\x8c\\x06akshat\\x94\\x8c\\x05rahul\\x94e\\x85\\x94R\\x94K\\x00bh\\x05]\\x94(K\\x17K\"K\\x17e\\x85\\x94R\\x94K\\x00b\\x86\\x94R\\x94.'"
      ]
     },
     "execution_count": 25,
     "metadata": {},
     "output_type": "execute_result"
    }
   ],
   "source": [
    "pickle.dumps(obj1)"
   ]
  },
  {
   "cell_type": "code",
   "execution_count": null,
   "id": "944cf227-2257-440d-95e3-1ac217e24237",
   "metadata": {},
   "outputs": [],
   "source": []
  },
  {
   "cell_type": "code",
   "execution_count": 26,
   "id": "069f2660-2d6b-43d1-a7eb-3f252a96c32b",
   "metadata": {},
   "outputs": [],
   "source": [
    "with open('zip.pkl', 'wb') as f:\n",
    "    pickle.dump(obj1, f)"
   ]
  },
  {
   "cell_type": "code",
   "execution_count": null,
   "id": "09cab183-58c0-4c4c-b7ff-96a6b1141816",
   "metadata": {},
   "outputs": [],
   "source": []
  },
  {
   "cell_type": "code",
   "execution_count": 27,
   "id": "3f2276aa-2a97-454e-a94a-9a53b3b2f6e0",
   "metadata": {},
   "outputs": [],
   "source": [
    "with open('zip.pkl', 'rb') as f:\n",
    "    v = pickle.load(f)"
   ]
  },
  {
   "cell_type": "code",
   "execution_count": 28,
   "id": "cd1c0bd0-0694-42a4-a9fd-3693d6bfbaf8",
   "metadata": {},
   "outputs": [
    {
     "data": {
      "text/plain": [
       "<zip at 0x1d16bd75b40>"
      ]
     },
     "execution_count": 28,
     "metadata": {},
     "output_type": "execute_result"
    }
   ],
   "source": [
    "v"
   ]
  },
  {
   "cell_type": "code",
   "execution_count": null,
   "id": "a15328cd-7278-42a4-a476-2665b9e9482a",
   "metadata": {},
   "outputs": [],
   "source": []
  },
  {
   "cell_type": "code",
   "execution_count": 29,
   "id": "f9b0730c-cd56-4819-8ad6-a2d364122155",
   "metadata": {},
   "outputs": [
    {
     "name": "stdout",
     "output_type": "stream",
     "text": [
      "('aman', 23)\n",
      "('akshat', 34)\n",
      "('rahul', 23)\n"
     ]
    }
   ],
   "source": [
    "for i in v:\n",
    "    print(i)"
   ]
  },
  {
   "cell_type": "code",
   "execution_count": 30,
   "id": "1ed5c67a-9080-41fc-a619-7a1a07b62d43",
   "metadata": {},
   "outputs": [],
   "source": [
    "for i in v:\n",
    "    print(i)"
   ]
  },
  {
   "cell_type": "code",
   "execution_count": null,
   "id": "5d99ba98-e326-4cb3-95dd-71a18d69823d",
   "metadata": {},
   "outputs": [],
   "source": []
  },
  {
   "cell_type": "code",
   "execution_count": 31,
   "id": "5500c4a4-df73-44c4-a129-4d0ca9b01b12",
   "metadata": {},
   "outputs": [],
   "source": [
    "set1 = {23,45,67,79,89,12,34,56}"
   ]
  },
  {
   "cell_type": "code",
   "execution_count": 32,
   "id": "dbb131ca-9f46-4277-8899-50c90a7f4a02",
   "metadata": {},
   "outputs": [
    {
     "data": {
      "text/plain": [
       "b'\\x80\\x04\\x95\\x15\\x00\\x00\\x00\\x00\\x00\\x00\\x00\\x8f\\x94(K\"KCK\\x0cK-KOK\\x17K8KY\\x90.'"
      ]
     },
     "execution_count": 32,
     "metadata": {},
     "output_type": "execute_result"
    }
   ],
   "source": [
    "pickle.dumps(set1)"
   ]
  },
  {
   "cell_type": "code",
   "execution_count": null,
   "id": "e5247121-581b-4cb9-85e6-dc7f4765a053",
   "metadata": {},
   "outputs": [],
   "source": []
  },
  {
   "cell_type": "code",
   "execution_count": 33,
   "id": "dfa9d3e9-2157-49ba-95ba-fc10eac4e895",
   "metadata": {},
   "outputs": [
    {
     "data": {
      "text/plain": [
       "b'c__builtin__\\nset\\np0\\n((lp1\\nI34\\naI67\\naI12\\naI45\\naI79\\naI23\\naI56\\naI89\\natp2\\nRp3\\n.'"
      ]
     },
     "execution_count": 33,
     "metadata": {},
     "output_type": "execute_result"
    }
   ],
   "source": [
    "pickle.dumps(set1, protocol=0)\n"
   ]
  },
  {
   "cell_type": "code",
   "execution_count": 34,
   "id": "557b4652-15bd-4f9b-967d-fd292386ce95",
   "metadata": {},
   "outputs": [
    {
     "data": {
      "text/plain": [
       "b'c__builtin__\\nset\\nq\\x00(]q\\x01(K\"KCK\\x0cK-KOK\\x17K8KYetq\\x02Rq\\x03.'"
      ]
     },
     "execution_count": 34,
     "metadata": {},
     "output_type": "execute_result"
    }
   ],
   "source": [
    "pickle.dumps(set1, protocol=1)\n"
   ]
  },
  {
   "cell_type": "code",
   "execution_count": 35,
   "id": "1ab8999e-8d86-417e-a3f9-88b2d25bf33e",
   "metadata": {},
   "outputs": [
    {
     "data": {
      "text/plain": [
       "b'\\x80\\x02c__builtin__\\nset\\nq\\x00]q\\x01(K\"KCK\\x0cK-KOK\\x17K8KYe\\x85q\\x02Rq\\x03.'"
      ]
     },
     "execution_count": 35,
     "metadata": {},
     "output_type": "execute_result"
    }
   ],
   "source": [
    "pickle.dumps(set1, protocol=2)\n"
   ]
  },
  {
   "cell_type": "code",
   "execution_count": null,
   "id": "257d2192-c358-4645-acd5-dee31c6a32f3",
   "metadata": {},
   "outputs": [],
   "source": []
  },
  {
   "cell_type": "code",
   "execution_count": null,
   "id": "4d108d3d-2fbd-48dd-9249-5d56d6930091",
   "metadata": {},
   "outputs": [],
   "source": []
  },
  {
   "cell_type": "code",
   "execution_count": 36,
   "id": "28df493f-93ff-47bd-8fac-971ab1b2c4f2",
   "metadata": {},
   "outputs": [
    {
     "data": {
      "text/plain": [
       "<_io.TextIOWrapper name='new.txt' mode='r' encoding='cp1252'>"
      ]
     },
     "execution_count": 36,
     "metadata": {},
     "output_type": "execute_result"
    }
   ],
   "source": [
    "file = open('new.txt')\n",
    "file"
   ]
  },
  {
   "cell_type": "code",
   "execution_count": null,
   "id": "002d044c-3b31-43cf-b054-21f7bfff8a9f",
   "metadata": {},
   "outputs": [],
   "source": []
  },
  {
   "cell_type": "code",
   "execution_count": null,
   "id": "4954650f-0e9a-4e75-acef-73ac13ddbad0",
   "metadata": {},
   "outputs": [],
   "source": []
  },
  {
   "cell_type": "code",
   "execution_count": 48,
   "id": "964fed94-395c-4fbb-808d-388c289651fc",
   "metadata": {},
   "outputs": [],
   "source": [
    "with open('hello1.txt', 'w', encoding='utf-16') as f:\n",
    "    f.write('we are learning data serialization')"
   ]
  },
  {
   "cell_type": "code",
   "execution_count": null,
   "id": "5181e20a-bf25-425d-b48f-4e3a306df26e",
   "metadata": {},
   "outputs": [],
   "source": []
  },
  {
   "cell_type": "code",
   "execution_count": 51,
   "id": "bcbdeb95-fe9e-4cce-b770-b3b4dffdb223",
   "metadata": {},
   "outputs": [
    {
     "data": {
      "text/plain": [
       "<_io.TextIOWrapper name='hello1.txt' mode='r' encoding='utf-16'>"
      ]
     },
     "execution_count": 51,
     "metadata": {},
     "output_type": "execute_result"
    }
   ],
   "source": [
    "file = open('hello1.txt', encoding='utf-16')\n",
    "file"
   ]
  },
  {
   "cell_type": "code",
   "execution_count": 52,
   "id": "524d3f23-21e1-4c07-9776-06bba29b8886",
   "metadata": {},
   "outputs": [
    {
     "data": {
      "text/plain": [
       "'we are learning data serialization'"
      ]
     },
     "execution_count": 52,
     "metadata": {},
     "output_type": "execute_result"
    }
   ],
   "source": [
    "file.read()"
   ]
  },
  {
   "cell_type": "code",
   "execution_count": null,
   "id": "cb8397d7-90fa-4c41-909d-c8535aa5a046",
   "metadata": {},
   "outputs": [],
   "source": []
  },
  {
   "cell_type": "code",
   "execution_count": 45,
   "id": "2b82819e-75ce-401a-ad12-9aaafb02c16a",
   "metadata": {},
   "outputs": [
    {
     "data": {
      "text/plain": [
       "'python'"
      ]
     },
     "execution_count": 45,
     "metadata": {},
     "output_type": "execute_result"
    }
   ],
   "source": [
    "s = 'python'\n",
    "s"
   ]
  },
  {
   "cell_type": "code",
   "execution_count": 46,
   "id": "4647ad4c-8980-4694-b9fd-f678a457dc17",
   "metadata": {},
   "outputs": [
    {
     "data": {
      "text/plain": [
       "b'python'"
      ]
     },
     "execution_count": 46,
     "metadata": {},
     "output_type": "execute_result"
    }
   ],
   "source": [
    "s.encode()"
   ]
  },
  {
   "cell_type": "code",
   "execution_count": null,
   "id": "4ee4339f-3056-4f33-a26f-a4187e1b54bf",
   "metadata": {},
   "outputs": [],
   "source": []
  },
  {
   "cell_type": "code",
   "execution_count": 47,
   "id": "1898b76c-9e72-478e-9b9b-40205675af88",
   "metadata": {},
   "outputs": [
    {
     "data": {
      "text/plain": [
       "b'\\xff\\xfep\\x00y\\x00t\\x00h\\x00o\\x00n\\x00'"
      ]
     },
     "execution_count": 47,
     "metadata": {},
     "output_type": "execute_result"
    }
   ],
   "source": [
    "s.encode('utf-16')"
   ]
  },
  {
   "cell_type": "code",
   "execution_count": 53,
   "id": "58d010d5-7a69-44ed-bd0d-06a0ef04e86d",
   "metadata": {},
   "outputs": [
    {
     "data": {
      "text/plain": [
       "b'python'"
      ]
     },
     "execution_count": 53,
     "metadata": {},
     "output_type": "execute_result"
    }
   ],
   "source": [
    "s.encode('latin')"
   ]
  },
  {
   "cell_type": "code",
   "execution_count": 55,
   "id": "411c4f69-82e0-4f81-bbd0-053520e55625",
   "metadata": {},
   "outputs": [
    {
     "data": {
      "text/plain": [
       "b'\\xff\\xfe\\x00\\x00p\\x00\\x00\\x00y\\x00\\x00\\x00t\\x00\\x00\\x00h\\x00\\x00\\x00o\\x00\\x00\\x00n\\x00\\x00\\x00'"
      ]
     },
     "execution_count": 55,
     "metadata": {},
     "output_type": "execute_result"
    }
   ],
   "source": [
    "encode = s.encode('utf-32')\n",
    "encode"
   ]
  },
  {
   "cell_type": "code",
   "execution_count": 56,
   "id": "c1640c3c-66a3-4941-96ee-ebc80843a43d",
   "metadata": {},
   "outputs": [
    {
     "ename": "UnicodeDecodeError",
     "evalue": "'utf-8' codec can't decode byte 0xff in position 0: invalid start byte",
     "output_type": "error",
     "traceback": [
      "\u001b[1;31m---------------------------------------------------------------------------\u001b[0m",
      "\u001b[1;31mUnicodeDecodeError\u001b[0m                        Traceback (most recent call last)",
      "Cell \u001b[1;32mIn[56], line 1\u001b[0m\n\u001b[1;32m----> 1\u001b[0m encode\u001b[38;5;241m.\u001b[39mdecode()\n",
      "\u001b[1;31mUnicodeDecodeError\u001b[0m: 'utf-8' codec can't decode byte 0xff in position 0: invalid start byte"
     ]
    }
   ],
   "source": [
    "encode.decode()"
   ]
  },
  {
   "cell_type": "code",
   "execution_count": null,
   "id": "2b403cdf-18bb-458c-b465-462e5ba501c6",
   "metadata": {},
   "outputs": [],
   "source": []
  },
  {
   "cell_type": "code",
   "execution_count": null,
   "id": "4bf5c62e-1ee6-4c5d-bd66-7c51f0790bd0",
   "metadata": {},
   "outputs": [],
   "source": []
  },
  {
   "cell_type": "code",
   "execution_count": 57,
   "id": "eea011ef-793f-44e6-9d79-6c61236baa88",
   "metadata": {},
   "outputs": [],
   "source": [
    "a = True"
   ]
  },
  {
   "cell_type": "code",
   "execution_count": 58,
   "id": "6824ee14-ae1c-4b5b-8f73-964baa82181a",
   "metadata": {},
   "outputs": [
    {
     "data": {
      "text/plain": [
       "'true'"
      ]
     },
     "execution_count": 58,
     "metadata": {},
     "output_type": "execute_result"
    }
   ],
   "source": [
    "json.dumps(a)"
   ]
  },
  {
   "cell_type": "code",
   "execution_count": null,
   "id": "8bbbaaa2-e28c-4fa9-8db9-54f65545d880",
   "metadata": {},
   "outputs": [],
   "source": []
  },
  {
   "cell_type": "code",
   "execution_count": 59,
   "id": "5e41ed7f-f9e8-426a-820a-a6991b463c8e",
   "metadata": {},
   "outputs": [],
   "source": [
    "b = None"
   ]
  },
  {
   "cell_type": "code",
   "execution_count": 60,
   "id": "ce751c26-6345-4591-ade3-16df5c4969bd",
   "metadata": {},
   "outputs": [
    {
     "data": {
      "text/plain": [
       "'null'"
      ]
     },
     "execution_count": 60,
     "metadata": {},
     "output_type": "execute_result"
    }
   ],
   "source": [
    "json.dumps(b)"
   ]
  },
  {
   "cell_type": "code",
   "execution_count": null,
   "id": "d24f5873-9db8-458f-ad88-0c30b6407f43",
   "metadata": {},
   "outputs": [],
   "source": []
  }
 ],
 "metadata": {
  "kernelspec": {
   "display_name": "Python 3 (ipykernel)",
   "language": "python",
   "name": "python3"
  },
  "language_info": {
   "codemirror_mode": {
    "name": "ipython",
    "version": 3
   },
   "file_extension": ".py",
   "mimetype": "text/x-python",
   "name": "python",
   "nbconvert_exporter": "python",
   "pygments_lexer": "ipython3",
   "version": "3.11.7"
  }
 },
 "nbformat": 4,
 "nbformat_minor": 5
}
