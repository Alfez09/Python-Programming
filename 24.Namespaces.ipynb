{
 "cells": [
  {
   "cell_type": "markdown",
   "id": "39903c26",
   "metadata": {},
   "source": [
    "# Namespaces\n",
    "\n",
    "\n",
    "            1. built-in namespace\n",
    "            \n",
    "            2. global namespace\n",
    "            \n",
    "            3. Enclosing space\n",
    "            \n",
    "            4. local space"
   ]
  },
  {
   "cell_type": "code",
   "execution_count": null,
   "id": "4c36a4ef",
   "metadata": {},
   "outputs": [],
   "source": []
  },
  {
   "cell_type": "code",
   "execution_count": 2,
   "id": "64d0e736",
   "metadata": {},
   "outputs": [],
   "source": [
    "a = 100"
   ]
  },
  {
   "cell_type": "code",
   "execution_count": 3,
   "id": "c6ed2e80",
   "metadata": {},
   "outputs": [
    {
     "data": {
      "text/plain": [
       "100"
      ]
     },
     "execution_count": 3,
     "metadata": {},
     "output_type": "execute_result"
    }
   ],
   "source": [
    "a"
   ]
  },
  {
   "cell_type": "code",
   "execution_count": 4,
   "id": "1d48d54c",
   "metadata": {},
   "outputs": [],
   "source": [
    "a = 10"
   ]
  },
  {
   "cell_type": "code",
   "execution_count": 5,
   "id": "600a4afc",
   "metadata": {},
   "outputs": [
    {
     "data": {
      "text/plain": [
       "10"
      ]
     },
     "execution_count": 5,
     "metadata": {},
     "output_type": "execute_result"
    }
   ],
   "source": [
    "a"
   ]
  },
  {
   "cell_type": "code",
   "execution_count": 6,
   "id": "d7f7aeae",
   "metadata": {},
   "outputs": [
    {
     "data": {
      "text/plain": [
       "10"
      ]
     },
     "execution_count": 6,
     "metadata": {},
     "output_type": "execute_result"
    }
   ],
   "source": [
    "a"
   ]
  },
  {
   "cell_type": "code",
   "execution_count": null,
   "id": "6ef6b5bd",
   "metadata": {},
   "outputs": [],
   "source": []
  },
  {
   "cell_type": "code",
   "execution_count": 1,
   "id": "ae780c1e",
   "metadata": {},
   "outputs": [
    {
     "ename": "NameError",
     "evalue": "name 'a' is not defined",
     "output_type": "error",
     "traceback": [
      "\u001b[1;31m---------------------------------------------------------------------------\u001b[0m",
      "\u001b[1;31mNameError\u001b[0m                                 Traceback (most recent call last)",
      "Cell \u001b[1;32mIn[1], line 1\u001b[0m\n\u001b[1;32m----> 1\u001b[0m \u001b[43ma\u001b[49m\n",
      "\u001b[1;31mNameError\u001b[0m: name 'a' is not defined"
     ]
    }
   ],
   "source": [
    "a"
   ]
  },
  {
   "cell_type": "code",
   "execution_count": null,
   "id": "df1b5170",
   "metadata": {},
   "outputs": [],
   "source": []
  },
  {
   "cell_type": "code",
   "execution_count": 6,
   "id": "3dd7034e",
   "metadata": {},
   "outputs": [
    {
     "name": "stdout",
     "output_type": "stream",
     "text": [
      "10\n",
      "20\n",
      "10\n"
     ]
    }
   ],
   "source": [
    "x = 10\n",
    "\n",
    "def func():\n",
    "    x = 20\n",
    "    print(x)\n",
    "    \n",
    "print(x)\n",
    "func()\n",
    "print(x)"
   ]
  },
  {
   "cell_type": "code",
   "execution_count": null,
   "id": "c68861d5",
   "metadata": {},
   "outputs": [],
   "source": []
  },
  {
   "cell_type": "code",
   "execution_count": 7,
   "id": "365e57ed",
   "metadata": {},
   "outputs": [
    {
     "name": "stdout",
     "output_type": "stream",
     "text": [
      "Name before calling function: sachin\n",
      "Inside function name: sachin\n",
      "Name after calling function: sachin\n"
     ]
    }
   ],
   "source": [
    "name = 'sachin'\n",
    "\n",
    "def foo():\n",
    "    name = 'sachin'\n",
    "    print(f\"Inside function name: {name}\")\n",
    "    \n",
    "print(f\"Name before calling function: {name}\")\n",
    "foo()\n",
    "print(f\"Name after calling function: {name}\")"
   ]
  },
  {
   "cell_type": "code",
   "execution_count": null,
   "id": "448ab4ed",
   "metadata": {},
   "outputs": [],
   "source": []
  },
  {
   "cell_type": "code",
   "execution_count": null,
   "id": "16ae52cc",
   "metadata": {},
   "outputs": [],
   "source": []
  },
  {
   "cell_type": "code",
   "execution_count": 8,
   "id": "2788d30a",
   "metadata": {},
   "outputs": [
    {
     "name": "stdout",
     "output_type": "stream",
     "text": [
      "Name before calling function: sachin\n",
      "Inside function name: nihcas\n",
      "Name after calling function: sachin\n"
     ]
    }
   ],
   "source": [
    "name = 'sachin'\n",
    "\n",
    "def foo():\n",
    "    name = 'sachin'\n",
    "    name = name[::-1]\n",
    "    print(f\"Inside function name: {name}\")\n",
    "    \n",
    "print(f\"Name before calling function: {name}\")\n",
    "foo()\n",
    "print(f\"Name after calling function: {name}\")"
   ]
  },
  {
   "cell_type": "code",
   "execution_count": null,
   "id": "f85b83e5",
   "metadata": {},
   "outputs": [],
   "source": []
  },
  {
   "cell_type": "code",
   "execution_count": null,
   "id": "04e257a8",
   "metadata": {},
   "outputs": [],
   "source": []
  },
  {
   "cell_type": "code",
   "execution_count": 9,
   "id": "fc9d9392",
   "metadata": {},
   "outputs": [
    {
     "name": "stdout",
     "output_type": "stream",
     "text": [
      "Name before calling function: sachin\n",
      "Inside function name: sachin\n",
      "Name after calling function: sachin\n"
     ]
    }
   ],
   "source": [
    "name = 'sachin'\n",
    "\n",
    "def foo():\n",
    "    print(f\"Inside function name: {name}\")\n",
    "    \n",
    "print(f\"Name before calling function: {name}\")\n",
    "foo()\n",
    "print(f\"Name after calling function: {name}\")"
   ]
  },
  {
   "cell_type": "code",
   "execution_count": null,
   "id": "04e946a2",
   "metadata": {},
   "outputs": [],
   "source": []
  },
  {
   "cell_type": "code",
   "execution_count": null,
   "id": "51a06d61",
   "metadata": {},
   "outputs": [],
   "source": []
  },
  {
   "cell_type": "code",
   "execution_count": 10,
   "id": "ba012eb4",
   "metadata": {},
   "outputs": [
    {
     "name": "stdout",
     "output_type": "stream",
     "text": [
      "Name before calling function: sachin\n",
      "Inside function name: nihcas\n",
      "Name after calling function: sachin\n"
     ]
    }
   ],
   "source": [
    "name = 'sachin'\n",
    "\n",
    "def foo():\n",
    "    print(f\"Inside function name: {name[::-1]}\")\n",
    "    \n",
    "print(f\"Name before calling function: {name}\")\n",
    "foo()\n",
    "print(f\"Name after calling function: {name}\")"
   ]
  },
  {
   "cell_type": "code",
   "execution_count": null,
   "id": "8d11154d",
   "metadata": {},
   "outputs": [],
   "source": []
  },
  {
   "cell_type": "code",
   "execution_count": null,
   "id": "fefea680",
   "metadata": {},
   "outputs": [],
   "source": []
  },
  {
   "cell_type": "code",
   "execution_count": 11,
   "id": "21039904",
   "metadata": {},
   "outputs": [
    {
     "name": "stdout",
     "output_type": "stream",
     "text": [
      "Name before calling function: sachin\n"
     ]
    },
    {
     "ename": "UnboundLocalError",
     "evalue": "local variable 'name' referenced before assignment",
     "output_type": "error",
     "traceback": [
      "\u001b[1;31m---------------------------------------------------------------------------\u001b[0m",
      "\u001b[1;31mUnboundLocalError\u001b[0m                         Traceback (most recent call last)",
      "Cell \u001b[1;32mIn[11], line 8\u001b[0m\n\u001b[0;32m      5\u001b[0m     \u001b[38;5;28mprint\u001b[39m(\u001b[38;5;124mf\u001b[39m\u001b[38;5;124m\"\u001b[39m\u001b[38;5;124mInside function name: \u001b[39m\u001b[38;5;132;01m{\u001b[39;00mname\u001b[38;5;132;01m}\u001b[39;00m\u001b[38;5;124m\"\u001b[39m)\n\u001b[0;32m      7\u001b[0m \u001b[38;5;28mprint\u001b[39m(\u001b[38;5;124mf\u001b[39m\u001b[38;5;124m\"\u001b[39m\u001b[38;5;124mName before calling function: \u001b[39m\u001b[38;5;132;01m{\u001b[39;00mname\u001b[38;5;132;01m}\u001b[39;00m\u001b[38;5;124m\"\u001b[39m)\n\u001b[1;32m----> 8\u001b[0m \u001b[43mfoo\u001b[49m\u001b[43m(\u001b[49m\u001b[43m)\u001b[49m\n\u001b[0;32m      9\u001b[0m \u001b[38;5;28mprint\u001b[39m(\u001b[38;5;124mf\u001b[39m\u001b[38;5;124m\"\u001b[39m\u001b[38;5;124mName after calling function: \u001b[39m\u001b[38;5;132;01m{\u001b[39;00mname\u001b[38;5;132;01m}\u001b[39;00m\u001b[38;5;124m\"\u001b[39m)\n",
      "Cell \u001b[1;32mIn[11], line 4\u001b[0m, in \u001b[0;36mfoo\u001b[1;34m()\u001b[0m\n\u001b[0;32m      3\u001b[0m \u001b[38;5;28;01mdef\u001b[39;00m \u001b[38;5;21mfoo\u001b[39m():\n\u001b[1;32m----> 4\u001b[0m     name \u001b[38;5;241m=\u001b[39m \u001b[43mname\u001b[49m[::\u001b[38;5;241m-\u001b[39m\u001b[38;5;241m1\u001b[39m]\n\u001b[0;32m      5\u001b[0m     \u001b[38;5;28mprint\u001b[39m(\u001b[38;5;124mf\u001b[39m\u001b[38;5;124m\"\u001b[39m\u001b[38;5;124mInside function name: \u001b[39m\u001b[38;5;132;01m{\u001b[39;00mname\u001b[38;5;132;01m}\u001b[39;00m\u001b[38;5;124m\"\u001b[39m)\n",
      "\u001b[1;31mUnboundLocalError\u001b[0m: local variable 'name' referenced before assignment"
     ]
    }
   ],
   "source": [
    "name = 'sachin'\n",
    "\n",
    "def foo():\n",
    "    name = name[::-1]\n",
    "    print(f\"Inside function name: {name}\")\n",
    "    \n",
    "print(f\"Name before calling function: {name}\")\n",
    "foo()\n",
    "print(f\"Name after calling function: {name}\")"
   ]
  },
  {
   "cell_type": "code",
   "execution_count": null,
   "id": "f9bb6c26",
   "metadata": {},
   "outputs": [],
   "source": []
  },
  {
   "cell_type": "code",
   "execution_count": null,
   "id": "2ca7fd68",
   "metadata": {},
   "outputs": [],
   "source": []
  },
  {
   "cell_type": "code",
   "execution_count": null,
   "id": "33aa5144",
   "metadata": {},
   "outputs": [],
   "source": [
    "name = 'sachin'\n",
    "\n",
    "def foo():\n",
    "    \n",
    "    name = 'sachin'[::-1]\n",
    "    print(f\"Inside function name: {name}\")\n",
    "    \n",
    "print(f\"Name before calling function: {name}\")\n",
    "foo()\n",
    "print(f\"Name after calling function: {name}\")"
   ]
  },
  {
   "cell_type": "code",
   "execution_count": null,
   "id": "06675813",
   "metadata": {},
   "outputs": [],
   "source": []
  },
  {
   "cell_type": "code",
   "execution_count": null,
   "id": "9053bf39",
   "metadata": {},
   "outputs": [],
   "source": []
  },
  {
   "cell_type": "code",
   "execution_count": 12,
   "id": "958a77fa",
   "metadata": {},
   "outputs": [
    {
     "name": "stdout",
     "output_type": "stream",
     "text": [
      "10\n",
      "10\n",
      "10\n"
     ]
    }
   ],
   "source": [
    "a = 10\n",
    "\n",
    "def fun():\n",
    "    n = a\n",
    "    print(n)\n",
    "\n",
    "print(a)\n",
    "fun()\n",
    "print(a)"
   ]
  },
  {
   "cell_type": "code",
   "execution_count": null,
   "id": "ff74cd64",
   "metadata": {},
   "outputs": [],
   "source": []
  },
  {
   "cell_type": "code",
   "execution_count": null,
   "id": "de5c66ba",
   "metadata": {},
   "outputs": [],
   "source": []
  },
  {
   "cell_type": "code",
   "execution_count": 13,
   "id": "0614d693",
   "metadata": {},
   "outputs": [
    {
     "ename": "NameError",
     "evalue": "name 'n' is not defined",
     "output_type": "error",
     "traceback": [
      "\u001b[1;31m---------------------------------------------------------------------------\u001b[0m",
      "\u001b[1;31mNameError\u001b[0m                                 Traceback (most recent call last)",
      "Cell \u001b[1;32mIn[13], line 1\u001b[0m\n\u001b[1;32m----> 1\u001b[0m \u001b[43mn\u001b[49m\n",
      "\u001b[1;31mNameError\u001b[0m: name 'n' is not defined"
     ]
    }
   ],
   "source": [
    "n"
   ]
  },
  {
   "cell_type": "code",
   "execution_count": 14,
   "id": "06165268",
   "metadata": {},
   "outputs": [
    {
     "name": "stdout",
     "output_type": "stream",
     "text": [
      "10\n"
     ]
    }
   ],
   "source": [
    "fun()"
   ]
  },
  {
   "cell_type": "code",
   "execution_count": null,
   "id": "a398a163",
   "metadata": {},
   "outputs": [],
   "source": []
  },
  {
   "cell_type": "code",
   "execution_count": null,
   "id": "226856b6",
   "metadata": {},
   "outputs": [],
   "source": []
  },
  {
   "cell_type": "code",
   "execution_count": 15,
   "id": "9f3f1c81",
   "metadata": {},
   "outputs": [
    {
     "name": "stdout",
     "output_type": "stream",
     "text": [
      "Name before calling function: sachin\n"
     ]
    },
    {
     "ename": "UnboundLocalError",
     "evalue": "local variable 'name' referenced before assignment",
     "output_type": "error",
     "traceback": [
      "\u001b[1;31m---------------------------------------------------------------------------\u001b[0m",
      "\u001b[1;31mUnboundLocalError\u001b[0m                         Traceback (most recent call last)",
      "Cell \u001b[1;32mIn[15], line 8\u001b[0m\n\u001b[0;32m      5\u001b[0m     \u001b[38;5;28mprint\u001b[39m(\u001b[38;5;124mf\u001b[39m\u001b[38;5;124m\"\u001b[39m\u001b[38;5;124mInside function name: \u001b[39m\u001b[38;5;132;01m{\u001b[39;00mname\u001b[38;5;132;01m}\u001b[39;00m\u001b[38;5;124m\"\u001b[39m)\n\u001b[0;32m      7\u001b[0m \u001b[38;5;28mprint\u001b[39m(\u001b[38;5;124mf\u001b[39m\u001b[38;5;124m\"\u001b[39m\u001b[38;5;124mName before calling function: \u001b[39m\u001b[38;5;132;01m{\u001b[39;00mname\u001b[38;5;132;01m}\u001b[39;00m\u001b[38;5;124m\"\u001b[39m)\n\u001b[1;32m----> 8\u001b[0m \u001b[43mfoo\u001b[49m\u001b[43m(\u001b[49m\u001b[43m)\u001b[49m\n\u001b[0;32m      9\u001b[0m \u001b[38;5;28mprint\u001b[39m(\u001b[38;5;124mf\u001b[39m\u001b[38;5;124m\"\u001b[39m\u001b[38;5;124mName after calling function: \u001b[39m\u001b[38;5;132;01m{\u001b[39;00mname\u001b[38;5;132;01m}\u001b[39;00m\u001b[38;5;124m\"\u001b[39m)\n",
      "Cell \u001b[1;32mIn[15], line 4\u001b[0m, in \u001b[0;36mfoo\u001b[1;34m()\u001b[0m\n\u001b[0;32m      3\u001b[0m \u001b[38;5;28;01mdef\u001b[39;00m \u001b[38;5;21mfoo\u001b[39m():\n\u001b[1;32m----> 4\u001b[0m     name \u001b[38;5;241m=\u001b[39m \u001b[43mname\u001b[49m\n\u001b[0;32m      5\u001b[0m     \u001b[38;5;28mprint\u001b[39m(\u001b[38;5;124mf\u001b[39m\u001b[38;5;124m\"\u001b[39m\u001b[38;5;124mInside function name: \u001b[39m\u001b[38;5;132;01m{\u001b[39;00mname\u001b[38;5;132;01m}\u001b[39;00m\u001b[38;5;124m\"\u001b[39m)\n",
      "\u001b[1;31mUnboundLocalError\u001b[0m: local variable 'name' referenced before assignment"
     ]
    }
   ],
   "source": [
    "name = 'sachin'\n",
    "\n",
    "def foo():\n",
    "    name = name\n",
    "    print(f\"Inside function name: {name}\")\n",
    "    \n",
    "print(f\"Name before calling function: {name}\")\n",
    "foo()\n",
    "print(f\"Name after calling function: {name}\")"
   ]
  },
  {
   "cell_type": "code",
   "execution_count": null,
   "id": "deadf218",
   "metadata": {},
   "outputs": [],
   "source": []
  },
  {
   "cell_type": "code",
   "execution_count": 16,
   "id": "b3547286",
   "metadata": {},
   "outputs": [],
   "source": [
    "import builtins"
   ]
  },
  {
   "cell_type": "code",
   "execution_count": 18,
   "id": "54b193e6",
   "metadata": {},
   "outputs": [
    {
     "name": "stdout",
     "output_type": "stream",
     "text": [
      "['ArithmeticError', 'AssertionError', 'AttributeError', 'BaseException', 'BlockingIOError', 'BrokenPipeError', 'BufferError', 'BytesWarning', 'ChildProcessError', 'ConnectionAbortedError', 'ConnectionError', 'ConnectionRefusedError', 'ConnectionResetError', 'DeprecationWarning', 'EOFError', 'Ellipsis', 'EncodingWarning', 'EnvironmentError', 'Exception', 'False', 'FileExistsError', 'FileNotFoundError', 'FloatingPointError', 'FutureWarning', 'GeneratorExit', 'IOError', 'ImportError', 'ImportWarning', 'IndentationError', 'IndexError', 'InterruptedError', 'IsADirectoryError', 'KeyError', 'KeyboardInterrupt', 'LookupError', 'MemoryError', 'ModuleNotFoundError', 'NameError', 'None', 'NotADirectoryError', 'NotImplemented', 'NotImplementedError', 'OSError', 'OverflowError', 'PendingDeprecationWarning', 'PermissionError', 'ProcessLookupError', 'RecursionError', 'ReferenceError', 'ResourceWarning', 'RuntimeError', 'RuntimeWarning', 'StopAsyncIteration', 'StopIteration', 'SyntaxError', 'SyntaxWarning', 'SystemError', 'SystemExit', 'TabError', 'TimeoutError', 'True', 'TypeError', 'UnboundLocalError', 'UnicodeDecodeError', 'UnicodeEncodeError', 'UnicodeError', 'UnicodeTranslateError', 'UnicodeWarning', 'UserWarning', 'ValueError', 'Warning', 'WindowsError', 'ZeroDivisionError', '__IPYTHON__', '__build_class__', '__debug__', '__doc__', '__import__', '__loader__', '__name__', '__package__', '__spec__', 'abs', 'aiter', 'all', 'anext', 'any', 'ascii', 'bin', 'bool', 'breakpoint', 'bytearray', 'bytes', 'callable', 'chr', 'classmethod', 'compile', 'complex', 'copyright', 'credits', 'delattr', 'dict', 'dir', 'display', 'divmod', 'enumerate', 'eval', 'exec', 'execfile', 'filter', 'float', 'format', 'frozenset', 'get_ipython', 'getattr', 'globals', 'hasattr', 'hash', 'help', 'hex', 'id', 'input', 'int', 'isinstance', 'issubclass', 'iter', 'len', 'license', 'list', 'locals', 'map', 'max', 'memoryview', 'min', 'next', 'object', 'oct', 'open', 'ord', 'pow', 'print', 'property', 'range', 'repr', 'reversed', 'round', 'runfile', 'set', 'setattr', 'slice', 'sorted', 'staticmethod', 'str', 'sum', 'super', 'tuple', 'type', 'vars', 'zip']\n"
     ]
    }
   ],
   "source": [
    "print(dir(builtins))"
   ]
  },
  {
   "cell_type": "code",
   "execution_count": null,
   "id": "a86d27b9",
   "metadata": {},
   "outputs": [],
   "source": []
  },
  {
   "cell_type": "code",
   "execution_count": null,
   "id": "ca9a6bc2",
   "metadata": {},
   "outputs": [],
   "source": []
  },
  {
   "cell_type": "code",
   "execution_count": 1,
   "id": "6532190e",
   "metadata": {},
   "outputs": [
    {
     "name": "stdout",
     "output_type": "stream",
     "text": [
      "100\n",
      "100\n",
      "110\n",
      "100\n"
     ]
    }
   ],
   "source": [
    "a = 100\n",
    "\n",
    "def fun(a):\n",
    "    print(a)\n",
    "    a = a + 10\n",
    "    print(a)\n",
    "    \n",
    "print(a)\n",
    "fun(100)\n",
    "print(a)"
   ]
  },
  {
   "cell_type": "code",
   "execution_count": null,
   "id": "3a4adfda",
   "metadata": {},
   "outputs": [],
   "source": []
  },
  {
   "cell_type": "code",
   "execution_count": 2,
   "id": "42189ea6",
   "metadata": {},
   "outputs": [
    {
     "name": "stdout",
     "output_type": "stream",
     "text": [
      "100\n"
     ]
    },
    {
     "ename": "UnboundLocalError",
     "evalue": "local variable 'a' referenced before assignment",
     "output_type": "error",
     "traceback": [
      "\u001b[1;31m---------------------------------------------------------------------------\u001b[0m",
      "\u001b[1;31mUnboundLocalError\u001b[0m                         Traceback (most recent call last)",
      "Cell \u001b[1;32mIn[2], line 9\u001b[0m\n\u001b[0;32m      6\u001b[0m     \u001b[38;5;28mprint\u001b[39m(a)\n\u001b[0;32m      8\u001b[0m \u001b[38;5;28mprint\u001b[39m(a)\n\u001b[1;32m----> 9\u001b[0m \u001b[43mfun\u001b[49m\u001b[43m(\u001b[49m\u001b[43m)\u001b[49m\n\u001b[0;32m     10\u001b[0m \u001b[38;5;28mprint\u001b[39m(a)\n",
      "Cell \u001b[1;32mIn[2], line 4\u001b[0m, in \u001b[0;36mfun\u001b[1;34m()\u001b[0m\n\u001b[0;32m      3\u001b[0m \u001b[38;5;28;01mdef\u001b[39;00m \u001b[38;5;21mfun\u001b[39m():\n\u001b[1;32m----> 4\u001b[0m     \u001b[38;5;28mprint\u001b[39m(\u001b[43ma\u001b[49m)\n\u001b[0;32m      5\u001b[0m     a \u001b[38;5;241m=\u001b[39m a \u001b[38;5;241m+\u001b[39m \u001b[38;5;241m10\u001b[39m\n\u001b[0;32m      6\u001b[0m     \u001b[38;5;28mprint\u001b[39m(a)\n",
      "\u001b[1;31mUnboundLocalError\u001b[0m: local variable 'a' referenced before assignment"
     ]
    }
   ],
   "source": [
    "a = 100\n",
    "\n",
    "def fun():\n",
    "    print(a)\n",
    "    a = a + 10\n",
    "    print(a)\n",
    "    \n",
    "print(a)\n",
    "fun()\n",
    "print(a)"
   ]
  },
  {
   "cell_type": "code",
   "execution_count": null,
   "id": "1bf86c77",
   "metadata": {},
   "outputs": [],
   "source": []
  },
  {
   "cell_type": "markdown",
   "id": "969efa7d",
   "metadata": {},
   "source": [
    "## global"
   ]
  },
  {
   "cell_type": "code",
   "execution_count": null,
   "id": "a1e7194b",
   "metadata": {},
   "outputs": [],
   "source": []
  },
  {
   "cell_type": "code",
   "execution_count": null,
   "id": "dd5a83d0",
   "metadata": {},
   "outputs": [],
   "source": []
  },
  {
   "cell_type": "code",
   "execution_count": 3,
   "id": "452ca46f",
   "metadata": {},
   "outputs": [
    {
     "name": "stdout",
     "output_type": "stream",
     "text": [
      "Before calling function: aman\n",
      "Inside function name: nama\n",
      "After calling function: nama\n"
     ]
    }
   ],
   "source": [
    "name = 'aman'\n",
    "\n",
    "def change():\n",
    "    global name\n",
    "    name = name[::-1]\n",
    "    print(f\"Inside function name: {name}\")\n",
    "    \n",
    "print(f\"Before calling function: {name}\")\n",
    "change()\n",
    "print(f\"After calling function: {name}\")"
   ]
  },
  {
   "cell_type": "code",
   "execution_count": 4,
   "id": "f8700e44",
   "metadata": {},
   "outputs": [
    {
     "data": {
      "text/plain": [
       "'nama'"
      ]
     },
     "execution_count": 4,
     "metadata": {},
     "output_type": "execute_result"
    }
   ],
   "source": [
    "name"
   ]
  },
  {
   "cell_type": "code",
   "execution_count": 5,
   "id": "9b40c36b",
   "metadata": {},
   "outputs": [
    {
     "name": "stdout",
     "output_type": "stream",
     "text": [
      "Before calling function: nama\n",
      "Inside function name: aman\n",
      "After calling function: aman\n"
     ]
    }
   ],
   "source": [
    "def change():\n",
    "    global name\n",
    "    name = name[::-1]\n",
    "    print(f\"Inside function name: {name}\")\n",
    "    \n",
    "print(f\"Before calling function: {name}\")\n",
    "change()\n",
    "print(f\"After calling function: {name}\")"
   ]
  },
  {
   "cell_type": "code",
   "execution_count": null,
   "id": "41ae63c8",
   "metadata": {},
   "outputs": [],
   "source": []
  },
  {
   "cell_type": "code",
   "execution_count": null,
   "id": "a16b4146",
   "metadata": {},
   "outputs": [],
   "source": []
  },
  {
   "cell_type": "code",
   "execution_count": 6,
   "id": "0671f61b",
   "metadata": {},
   "outputs": [],
   "source": [
    "v = 5\n",
    "\n",
    "\n",
    "def fun1():\n",
    "    global v\n",
    "    v += 1\n",
    "    \n",
    "def fun2():\n",
    "    fun1()\n",
    "    global v\n",
    "    v += 5\n",
    "    "
   ]
  },
  {
   "cell_type": "code",
   "execution_count": 7,
   "id": "b9333d52",
   "metadata": {},
   "outputs": [],
   "source": [
    "fun1()\n",
    "fun2()\n",
    "fun2()"
   ]
  },
  {
   "cell_type": "code",
   "execution_count": 8,
   "id": "654af94a",
   "metadata": {},
   "outputs": [
    {
     "data": {
      "text/plain": [
       "18"
      ]
     },
     "execution_count": 8,
     "metadata": {},
     "output_type": "execute_result"
    }
   ],
   "source": [
    "v"
   ]
  },
  {
   "cell_type": "code",
   "execution_count": null,
   "id": "f8255b92",
   "metadata": {},
   "outputs": [],
   "source": []
  },
  {
   "cell_type": "markdown",
   "id": "f5a9e3b5",
   "metadata": {},
   "source": [
    "    globals()\n",
    "    \n",
    "    locals()"
   ]
  },
  {
   "cell_type": "code",
   "execution_count": null,
   "id": "5af983be",
   "metadata": {},
   "outputs": [],
   "source": []
  },
  {
   "cell_type": "code",
   "execution_count": 11,
   "id": "dc116079",
   "metadata": {
    "scrolled": false
   },
   "outputs": [
    {
     "data": {
      "text/plain": [
       "{'__name__': '__main__',\n",
       " '__doc__': 'Automatically created module for IPython interactive environment',\n",
       " '__package__': None,\n",
       " '__loader__': None,\n",
       " '__spec__': None,\n",
       " '__builtin__': <module 'builtins' (built-in)>,\n",
       " '__builtins__': <module 'builtins' (built-in)>,\n",
       " '_ih': ['',\n",
       "  'a = 100\\n\\ndef fun(a):\\n    print(a)\\n    a = a + 10\\n    print(a)\\n    \\nprint(a)\\nfun(100)\\nprint(a)',\n",
       "  'a = 100\\n\\ndef fun():\\n    print(a)\\n    a = a + 10\\n    print(a)\\n    \\nprint(a)\\nfun()\\nprint(a)',\n",
       "  'name = \\'aman\\'\\n\\ndef change():\\n    global name\\n    name = name[::-1]\\n    print(f\"Inside function name: {name}\")\\n    \\nprint(f\"Before calling function: {name}\")\\nchange()\\nprint(f\"After calling function: {name}\")',\n",
       "  'name',\n",
       "  'def change():\\n    global name\\n    name = name[::-1]\\n    print(f\"Inside function name: {name}\")\\n    \\nprint(f\"Before calling function: {name}\")\\nchange()\\nprint(f\"After calling function: {name}\")',\n",
       "  'v = 5\\n\\n\\ndef fun1():\\n    global v\\n    v += 1\\n    \\ndef fun2():\\n    fun1()\\n    global v\\n    v += 5\\n    ',\n",
       "  'fun1()\\nfun2()\\nfun2()',\n",
       "  'v',\n",
       "  'globals()',\n",
       "  'print(__name__)',\n",
       "  'globals()              # symbol table'],\n",
       " '_oh': {4: 'nama', 8: 18, 9: {...}},\n",
       " '_dh': [WindowsPath('C:/Users/user/Desktop/Grras Solutions Pvt. Ltd/Python 6.30pm')],\n",
       " 'In': ['',\n",
       "  'a = 100\\n\\ndef fun(a):\\n    print(a)\\n    a = a + 10\\n    print(a)\\n    \\nprint(a)\\nfun(100)\\nprint(a)',\n",
       "  'a = 100\\n\\ndef fun():\\n    print(a)\\n    a = a + 10\\n    print(a)\\n    \\nprint(a)\\nfun()\\nprint(a)',\n",
       "  'name = \\'aman\\'\\n\\ndef change():\\n    global name\\n    name = name[::-1]\\n    print(f\"Inside function name: {name}\")\\n    \\nprint(f\"Before calling function: {name}\")\\nchange()\\nprint(f\"After calling function: {name}\")',\n",
       "  'name',\n",
       "  'def change():\\n    global name\\n    name = name[::-1]\\n    print(f\"Inside function name: {name}\")\\n    \\nprint(f\"Before calling function: {name}\")\\nchange()\\nprint(f\"After calling function: {name}\")',\n",
       "  'v = 5\\n\\n\\ndef fun1():\\n    global v\\n    v += 1\\n    \\ndef fun2():\\n    fun1()\\n    global v\\n    v += 5\\n    ',\n",
       "  'fun1()\\nfun2()\\nfun2()',\n",
       "  'v',\n",
       "  'globals()',\n",
       "  'print(__name__)',\n",
       "  'globals()              # symbol table'],\n",
       " 'Out': {4: 'nama', 8: 18, 9: {...}},\n",
       " 'get_ipython': <bound method InteractiveShell.get_ipython of <ipykernel.zmqshell.ZMQInteractiveShell object at 0x000001FF74113C10>>,\n",
       " 'exit': <IPython.core.autocall.ZMQExitAutocall at 0x1ff74111ba0>,\n",
       " 'quit': <IPython.core.autocall.ZMQExitAutocall at 0x1ff74111ba0>,\n",
       " 'open': <function io.open(file, mode='r', buffering=-1, encoding=None, errors=None, newline=None, closefd=True, opener=None)>,\n",
       " '_': {...},\n",
       " '__': 18,\n",
       " '___': 'nama',\n",
       " '_i': 'print(__name__)',\n",
       " '_ii': 'globals()',\n",
       " '_iii': 'v',\n",
       " '_i1': 'a = 100\\n\\ndef fun(a):\\n    print(a)\\n    a = a + 10\\n    print(a)\\n    \\nprint(a)\\nfun(100)\\nprint(a)',\n",
       " 'a': 100,\n",
       " 'fun': <function __main__.fun()>,\n",
       " '_i2': 'a = 100\\n\\ndef fun():\\n    print(a)\\n    a = a + 10\\n    print(a)\\n    \\nprint(a)\\nfun()\\nprint(a)',\n",
       " '_i3': 'name = \\'aman\\'\\n\\ndef change():\\n    global name\\n    name = name[::-1]\\n    print(f\"Inside function name: {name}\")\\n    \\nprint(f\"Before calling function: {name}\")\\nchange()\\nprint(f\"After calling function: {name}\")',\n",
       " 'name': 'aman',\n",
       " 'change': <function __main__.change()>,\n",
       " '_i4': 'name',\n",
       " '_4': 'nama',\n",
       " '_i5': 'def change():\\n    global name\\n    name = name[::-1]\\n    print(f\"Inside function name: {name}\")\\n    \\nprint(f\"Before calling function: {name}\")\\nchange()\\nprint(f\"After calling function: {name}\")',\n",
       " '_i6': 'v = 5\\n\\n\\ndef fun1():\\n    global v\\n    v += 1\\n    \\ndef fun2():\\n    fun1()\\n    global v\\n    v += 5\\n    ',\n",
       " 'v': 18,\n",
       " 'fun1': <function __main__.fun1()>,\n",
       " 'fun2': <function __main__.fun2()>,\n",
       " '_i7': 'fun1()\\nfun2()\\nfun2()',\n",
       " '_i8': 'v',\n",
       " '_8': 18,\n",
       " '_i9': 'globals()',\n",
       " '_9': {...},\n",
       " '_i10': 'print(__name__)',\n",
       " '_i11': 'globals()              # symbol table'}"
      ]
     },
     "execution_count": 11,
     "metadata": {},
     "output_type": "execute_result"
    }
   ],
   "source": [
    "globals()              # symbol table"
   ]
  },
  {
   "cell_type": "code",
   "execution_count": null,
   "id": "850f87c5",
   "metadata": {},
   "outputs": [],
   "source": []
  },
  {
   "cell_type": "code",
   "execution_count": 10,
   "id": "96c365f0",
   "metadata": {},
   "outputs": [
    {
     "name": "stdout",
     "output_type": "stream",
     "text": [
      "__main__\n"
     ]
    }
   ],
   "source": [
    "print(__name__)"
   ]
  },
  {
   "cell_type": "code",
   "execution_count": null,
   "id": "537a6d49",
   "metadata": {},
   "outputs": [],
   "source": []
  },
  {
   "cell_type": "code",
   "execution_count": 12,
   "id": "9c220a43",
   "metadata": {
    "scrolled": true
   },
   "outputs": [
    {
     "data": {
      "text/plain": [
       "{'__name__': '__main__',\n",
       " '__doc__': 'Automatically created module for IPython interactive environment',\n",
       " '__package__': None,\n",
       " '__loader__': None,\n",
       " '__spec__': None,\n",
       " '__builtin__': <module 'builtins' (built-in)>,\n",
       " '__builtins__': <module 'builtins' (built-in)>,\n",
       " '_ih': ['',\n",
       "  'a = 100\\n\\ndef fun(a):\\n    print(a)\\n    a = a + 10\\n    print(a)\\n    \\nprint(a)\\nfun(100)\\nprint(a)',\n",
       "  'a = 100\\n\\ndef fun():\\n    print(a)\\n    a = a + 10\\n    print(a)\\n    \\nprint(a)\\nfun()\\nprint(a)',\n",
       "  'name = \\'aman\\'\\n\\ndef change():\\n    global name\\n    name = name[::-1]\\n    print(f\"Inside function name: {name}\")\\n    \\nprint(f\"Before calling function: {name}\")\\nchange()\\nprint(f\"After calling function: {name}\")',\n",
       "  'name',\n",
       "  'def change():\\n    global name\\n    name = name[::-1]\\n    print(f\"Inside function name: {name}\")\\n    \\nprint(f\"Before calling function: {name}\")\\nchange()\\nprint(f\"After calling function: {name}\")',\n",
       "  'v = 5\\n\\n\\ndef fun1():\\n    global v\\n    v += 1\\n    \\ndef fun2():\\n    fun1()\\n    global v\\n    v += 5\\n    ',\n",
       "  'fun1()\\nfun2()\\nfun2()',\n",
       "  'v',\n",
       "  'globals()',\n",
       "  'print(__name__)',\n",
       "  'globals()              # symbol table',\n",
       "  'locals()'],\n",
       " '_oh': {4: 'nama', 8: 18, 9: {...}, 11: {...}},\n",
       " '_dh': [WindowsPath('C:/Users/user/Desktop/Grras Solutions Pvt. Ltd/Python 6.30pm')],\n",
       " 'In': ['',\n",
       "  'a = 100\\n\\ndef fun(a):\\n    print(a)\\n    a = a + 10\\n    print(a)\\n    \\nprint(a)\\nfun(100)\\nprint(a)',\n",
       "  'a = 100\\n\\ndef fun():\\n    print(a)\\n    a = a + 10\\n    print(a)\\n    \\nprint(a)\\nfun()\\nprint(a)',\n",
       "  'name = \\'aman\\'\\n\\ndef change():\\n    global name\\n    name = name[::-1]\\n    print(f\"Inside function name: {name}\")\\n    \\nprint(f\"Before calling function: {name}\")\\nchange()\\nprint(f\"After calling function: {name}\")',\n",
       "  'name',\n",
       "  'def change():\\n    global name\\n    name = name[::-1]\\n    print(f\"Inside function name: {name}\")\\n    \\nprint(f\"Before calling function: {name}\")\\nchange()\\nprint(f\"After calling function: {name}\")',\n",
       "  'v = 5\\n\\n\\ndef fun1():\\n    global v\\n    v += 1\\n    \\ndef fun2():\\n    fun1()\\n    global v\\n    v += 5\\n    ',\n",
       "  'fun1()\\nfun2()\\nfun2()',\n",
       "  'v',\n",
       "  'globals()',\n",
       "  'print(__name__)',\n",
       "  'globals()              # symbol table',\n",
       "  'locals()'],\n",
       " 'Out': {4: 'nama', 8: 18, 9: {...}, 11: {...}},\n",
       " 'get_ipython': <bound method InteractiveShell.get_ipython of <ipykernel.zmqshell.ZMQInteractiveShell object at 0x000001FF74113C10>>,\n",
       " 'exit': <IPython.core.autocall.ZMQExitAutocall at 0x1ff74111ba0>,\n",
       " 'quit': <IPython.core.autocall.ZMQExitAutocall at 0x1ff74111ba0>,\n",
       " 'open': <function io.open(file, mode='r', buffering=-1, encoding=None, errors=None, newline=None, closefd=True, opener=None)>,\n",
       " '_': {...},\n",
       " '__': {...},\n",
       " '___': 18,\n",
       " '_i': 'globals()              # symbol table',\n",
       " '_ii': 'print(__name__)',\n",
       " '_iii': 'globals()',\n",
       " '_i1': 'a = 100\\n\\ndef fun(a):\\n    print(a)\\n    a = a + 10\\n    print(a)\\n    \\nprint(a)\\nfun(100)\\nprint(a)',\n",
       " 'a': 100,\n",
       " 'fun': <function __main__.fun()>,\n",
       " '_i2': 'a = 100\\n\\ndef fun():\\n    print(a)\\n    a = a + 10\\n    print(a)\\n    \\nprint(a)\\nfun()\\nprint(a)',\n",
       " '_i3': 'name = \\'aman\\'\\n\\ndef change():\\n    global name\\n    name = name[::-1]\\n    print(f\"Inside function name: {name}\")\\n    \\nprint(f\"Before calling function: {name}\")\\nchange()\\nprint(f\"After calling function: {name}\")',\n",
       " 'name': 'aman',\n",
       " 'change': <function __main__.change()>,\n",
       " '_i4': 'name',\n",
       " '_4': 'nama',\n",
       " '_i5': 'def change():\\n    global name\\n    name = name[::-1]\\n    print(f\"Inside function name: {name}\")\\n    \\nprint(f\"Before calling function: {name}\")\\nchange()\\nprint(f\"After calling function: {name}\")',\n",
       " '_i6': 'v = 5\\n\\n\\ndef fun1():\\n    global v\\n    v += 1\\n    \\ndef fun2():\\n    fun1()\\n    global v\\n    v += 5\\n    ',\n",
       " 'v': 18,\n",
       " 'fun1': <function __main__.fun1()>,\n",
       " 'fun2': <function __main__.fun2()>,\n",
       " '_i7': 'fun1()\\nfun2()\\nfun2()',\n",
       " '_i8': 'v',\n",
       " '_8': 18,\n",
       " '_i9': 'globals()',\n",
       " '_9': {...},\n",
       " '_i10': 'print(__name__)',\n",
       " '_i11': 'globals()              # symbol table',\n",
       " '_11': {...},\n",
       " '_i12': 'locals()'}"
      ]
     },
     "execution_count": 12,
     "metadata": {},
     "output_type": "execute_result"
    }
   ],
   "source": [
    "locals()"
   ]
  },
  {
   "cell_type": "code",
   "execution_count": null,
   "id": "556dd161",
   "metadata": {},
   "outputs": [],
   "source": []
  },
  {
   "cell_type": "code",
   "execution_count": 13,
   "id": "7454ddbf",
   "metadata": {},
   "outputs": [
    {
     "data": {
      "text/plain": [
       "True"
      ]
     },
     "execution_count": 13,
     "metadata": {},
     "output_type": "execute_result"
    }
   ],
   "source": [
    "globals() == locals()"
   ]
  },
  {
   "cell_type": "code",
   "execution_count": null,
   "id": "7e22565a",
   "metadata": {},
   "outputs": [],
   "source": []
  },
  {
   "cell_type": "code",
   "execution_count": 15,
   "id": "bf46daa4",
   "metadata": {},
   "outputs": [],
   "source": [
    "def fun(a,b):\n",
    "    print(locals())\n",
    "    print(globals() == locals())\n",
    "    return a,b"
   ]
  },
  {
   "cell_type": "code",
   "execution_count": 16,
   "id": "3708988e",
   "metadata": {},
   "outputs": [
    {
     "name": "stdout",
     "output_type": "stream",
     "text": [
      "{'a': 5, 'b': 5}\n",
      "False\n"
     ]
    },
    {
     "data": {
      "text/plain": [
       "(5, 5)"
      ]
     },
     "execution_count": 16,
     "metadata": {},
     "output_type": "execute_result"
    }
   ],
   "source": [
    "fun(5,5)"
   ]
  },
  {
   "cell_type": "code",
   "execution_count": null,
   "id": "068aed09",
   "metadata": {},
   "outputs": [],
   "source": []
  },
  {
   "cell_type": "markdown",
   "id": "7f05d9da",
   "metadata": {},
   "source": [
    "## nested functions"
   ]
  },
  {
   "cell_type": "code",
   "execution_count": null,
   "id": "3473ff41",
   "metadata": {},
   "outputs": [],
   "source": []
  },
  {
   "cell_type": "code",
   "execution_count": null,
   "id": "5c6d2661",
   "metadata": {},
   "outputs": [],
   "source": []
  },
  {
   "cell_type": "code",
   "execution_count": null,
   "id": "6f32e9ae",
   "metadata": {},
   "outputs": [],
   "source": [
    "ls = [23,54,67,12,4,23,54,67,78,34,65,78,234,6]"
   ]
  },
  {
   "cell_type": "code",
   "execution_count": null,
   "id": "24ef96ae",
   "metadata": {},
   "outputs": [],
   "source": []
  },
  {
   "cell_type": "code",
   "execution_count": null,
   "id": "f07116b8",
   "metadata": {},
   "outputs": [],
   "source": []
  },
  {
   "cell_type": "code",
   "execution_count": null,
   "id": "89831146",
   "metadata": {},
   "outputs": [],
   "source": []
  },
  {
   "cell_type": "code",
   "execution_count": null,
   "id": "622234ef",
   "metadata": {},
   "outputs": [],
   "source": []
  },
  {
   "cell_type": "code",
   "execution_count": null,
   "id": "f9d602e6",
   "metadata": {},
   "outputs": [],
   "source": []
  }
 ],
 "metadata": {
  "kernelspec": {
   "display_name": "Python 3 (ipykernel)",
   "language": "python",
   "name": "python3"
  },
  "language_info": {
   "codemirror_mode": {
    "name": "ipython",
    "version": 3
   },
   "file_extension": ".py",
   "mimetype": "text/x-python",
   "name": "python",
   "nbconvert_exporter": "python",
   "pygments_lexer": "ipython3",
   "version": "3.10.9"
  }
 },
 "nbformat": 4,
 "nbformat_minor": 5
}
