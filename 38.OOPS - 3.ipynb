{
 "cells": [
  {
   "cell_type": "markdown",
   "id": "8ab85546-f744-47e5-9971-e968b42c290e",
   "metadata": {},
   "source": [
    "# Types of variables\n",
    "\n",
    "                There are two types of variables:\n",
    "\n",
    "                        1. Instance variable\n",
    "\n",
    "                        2. Class variable\n",
    "                        "
   ]
  },
  {
   "cell_type": "code",
   "execution_count": null,
   "id": "e172a1d5-0924-4fa4-9036-9f89191e6e48",
   "metadata": {},
   "outputs": [],
   "source": []
  },
  {
   "cell_type": "markdown",
   "id": "311ce4d8-292c-44c4-b2fe-92adaf3210a8",
   "metadata": {},
   "source": [
    "## Instance variable:\n",
    "\n",
    "                        Variable declare inside constructor are called Instance variable.\n",
    "                        As the object changes the value of instance variable change."
   ]
  },
  {
   "cell_type": "code",
   "execution_count": 42,
   "id": "7b031b1e-64c9-4d37-b367-02d2b160940c",
   "metadata": {},
   "outputs": [],
   "source": [
    "class Student:\n",
    "\n",
    "    def __init__(self, name, age):\n",
    "        self.name = name                  # Instance variable\n",
    "        self.age = age               \n",
    "\n",
    "    def show_details(self):\n",
    "        for key, value in self.__dict__.items():\n",
    "            print(f\"{key} : {value}\")\n",
    "\n",
    "    def change_name(self, name):\n",
    "        self.name = name\n",
    "\n",
    "    def add_marks(self, marks):\n",
    "        self.marks = marks"
   ]
  },
  {
   "cell_type": "code",
   "execution_count": 43,
   "id": "da774526-826b-4a9e-a4f5-c9ba75aa18c7",
   "metadata": {},
   "outputs": [],
   "source": [
    "s1 = Student('rohan', 23)\n",
    "s2 = Student('ram', 24)"
   ]
  },
  {
   "cell_type": "code",
   "execution_count": 44,
   "id": "a5423bad-af52-4220-81de-678f98686451",
   "metadata": {},
   "outputs": [],
   "source": [
    "s1.change_name('alfez')"
   ]
  },
  {
   "cell_type": "code",
   "execution_count": 45,
   "id": "e22388d6-a01e-4a3f-8748-6bc21a0dfc17",
   "metadata": {},
   "outputs": [
    {
     "data": {
      "text/plain": [
       "'alfez'"
      ]
     },
     "execution_count": 45,
     "metadata": {},
     "output_type": "execute_result"
    }
   ],
   "source": [
    "s1.name"
   ]
  },
  {
   "cell_type": "code",
   "execution_count": 46,
   "id": "55af1519-1e81-436a-8e55-e63e19e33921",
   "metadata": {},
   "outputs": [
    {
     "data": {
      "text/plain": [
       "23"
      ]
     },
     "execution_count": 46,
     "metadata": {},
     "output_type": "execute_result"
    }
   ],
   "source": [
    "s1.age"
   ]
  },
  {
   "cell_type": "code",
   "execution_count": 47,
   "id": "884d7ea5-9c99-4ada-b2eb-569f67a14bc6",
   "metadata": {},
   "outputs": [],
   "source": [
    "s1.name = 'sachin'"
   ]
  },
  {
   "cell_type": "code",
   "execution_count": 48,
   "id": "afe9207f-8ac1-4d8b-856c-4f449a5873d9",
   "metadata": {},
   "outputs": [
    {
     "name": "stdout",
     "output_type": "stream",
     "text": [
      "name : sachin\n",
      "age : 23\n"
     ]
    }
   ],
   "source": [
    "s1.show_details()"
   ]
  },
  {
   "cell_type": "code",
   "execution_count": 49,
   "id": "a25f9edc-4fe9-4e29-9ac5-4ac2089d37ba",
   "metadata": {},
   "outputs": [],
   "source": [
    "s1.change_name('rahul')"
   ]
  },
  {
   "cell_type": "code",
   "execution_count": 50,
   "id": "85481fee-db62-4ba8-acef-8b7e99ec525e",
   "metadata": {},
   "outputs": [
    {
     "name": "stdout",
     "output_type": "stream",
     "text": [
      "name : rahul\n",
      "age : 23\n"
     ]
    }
   ],
   "source": [
    "s1.show_details()"
   ]
  },
  {
   "cell_type": "code",
   "execution_count": null,
   "id": "cd627800-9dab-4697-b656-ace743591e95",
   "metadata": {},
   "outputs": [],
   "source": []
  },
  {
   "cell_type": "code",
   "execution_count": 51,
   "id": "6f0ac125-24ba-461c-9d72-1835b15b9729",
   "metadata": {},
   "outputs": [],
   "source": [
    "s2.add_marks([23,34,23])"
   ]
  },
  {
   "cell_type": "code",
   "execution_count": 52,
   "id": "73638fef-66cb-4e51-bc12-b66fe988a847",
   "metadata": {},
   "outputs": [
    {
     "name": "stdout",
     "output_type": "stream",
     "text": [
      "name : ram\n",
      "age : 24\n",
      "marks : [23, 34, 23]\n"
     ]
    }
   ],
   "source": [
    "s2.show_details()"
   ]
  },
  {
   "cell_type": "code",
   "execution_count": null,
   "id": "6cbae57f-5b9b-47d5-908a-debe79387182",
   "metadata": {},
   "outputs": [],
   "source": []
  },
  {
   "cell_type": "code",
   "execution_count": null,
   "id": "6c9716cf-a39a-4310-afb2-f673b27e5201",
   "metadata": {},
   "outputs": [],
   "source": []
  },
  {
   "cell_type": "code",
   "execution_count": 53,
   "id": "deac21c1-4c95-498c-a97f-477b595a03a1",
   "metadata": {},
   "outputs": [],
   "source": [
    "s1.marks = [23,56,34]"
   ]
  },
  {
   "cell_type": "code",
   "execution_count": 54,
   "id": "a87dd4e9-35d0-4bef-95a6-218bcb3127f5",
   "metadata": {},
   "outputs": [
    {
     "name": "stdout",
     "output_type": "stream",
     "text": [
      "name : rahul\n",
      "age : 23\n",
      "marks : [23, 56, 34]\n"
     ]
    }
   ],
   "source": [
    "s1.show_details()"
   ]
  },
  {
   "cell_type": "code",
   "execution_count": 55,
   "id": "5c1f6706-5a73-439e-b282-236a0460e914",
   "metadata": {},
   "outputs": [
    {
     "name": "stdout",
     "output_type": "stream",
     "text": [
      "name : ram\n",
      "age : 24\n",
      "marks : [23, 34, 23]\n"
     ]
    }
   ],
   "source": [
    "s2.show_details()"
   ]
  },
  {
   "cell_type": "code",
   "execution_count": null,
   "id": "f8a5654e-5b5e-49ab-85e1-05cd29b992f6",
   "metadata": {},
   "outputs": [],
   "source": []
  },
  {
   "cell_type": "code",
   "execution_count": 56,
   "id": "51724e11-d9d5-4a3a-ab8a-b5f3b10d1183",
   "metadata": {},
   "outputs": [],
   "source": [
    "s1.address = 'jaipur'\n",
    "s2.address = 'ajmer'"
   ]
  },
  {
   "cell_type": "code",
   "execution_count": 57,
   "id": "90a5e793-2c2d-40c5-b614-6e7f3c749c46",
   "metadata": {},
   "outputs": [
    {
     "name": "stdout",
     "output_type": "stream",
     "text": [
      "name : rahul\n",
      "age : 23\n",
      "marks : [23, 56, 34]\n",
      "address : jaipur\n"
     ]
    }
   ],
   "source": [
    "s1.show_details()"
   ]
  },
  {
   "cell_type": "code",
   "execution_count": 58,
   "id": "c657e5bc-69a1-4f35-a329-5e64ca8791f0",
   "metadata": {},
   "outputs": [
    {
     "name": "stdout",
     "output_type": "stream",
     "text": [
      "name : ram\n",
      "age : 24\n",
      "marks : [23, 34, 23]\n",
      "address : ajmer\n"
     ]
    }
   ],
   "source": [
    "s2.show_details()"
   ]
  },
  {
   "cell_type": "code",
   "execution_count": null,
   "id": "beb1e12e-3a4e-4536-8377-a509ae9ae0e9",
   "metadata": {},
   "outputs": [],
   "source": []
  },
  {
   "cell_type": "code",
   "execution_count": null,
   "id": "0bd3b66e-c716-4cac-a519-d91d815ad3bd",
   "metadata": {},
   "outputs": [],
   "source": []
  },
  {
   "cell_type": "markdown",
   "id": "b4f3ef21-6491-434d-a765-dd32bb531a14",
   "metadata": {},
   "source": [
    "## Class variable\n",
    "\n",
    "                    variable declare outside constructor(__init__) and inside class are called class variable.\n",
    "\n",
    "                    Common for all objects."
   ]
  },
  {
   "cell_type": "code",
   "execution_count": null,
   "id": "8f309fc0-7ccc-4676-ae9a-6fc039ad7952",
   "metadata": {},
   "outputs": [],
   "source": []
  },
  {
   "cell_type": "code",
   "execution_count": null,
   "id": "611f238e-e486-4aa1-a988-8db3a9020edf",
   "metadata": {},
   "outputs": [],
   "source": []
  },
  {
   "cell_type": "code",
   "execution_count": 59,
   "id": "6018b918-25d9-4378-8a4d-348ce7589c41",
   "metadata": {},
   "outputs": [],
   "source": [
    "class Student:\n",
    "\n",
    "    school = \"Grras solutions Pvt. Ltd.\"         # class variable  ---> stored in class namespace\n",
    "\n",
    "    def __init__(self, name, age, *marks):\n",
    "        self.name = name                # instance variable    --> stored in object namespace\n",
    "        self.age = age\n",
    "        self.marks = marks\n",
    "\n",
    "    def show_details(self):\n",
    "        for key, value in self.__dict__.items():\n",
    "            print(f\"{key} : {value}\")\n",
    "\n",
    "    def show_data(self):\n",
    "        print(self.name, self.age, self.marks, self.school, sep='\\n')\n"
   ]
  },
  {
   "cell_type": "code",
   "execution_count": 60,
   "id": "2622daf5-2ed3-41cc-a8dc-12d829667f70",
   "metadata": {},
   "outputs": [],
   "source": [
    "s1 = Student('rohan', 23, 23,45,67)\n",
    "s2 = Student('ram', 24, 34,45,67)"
   ]
  },
  {
   "cell_type": "code",
   "execution_count": null,
   "id": "3bd0442b-08ba-46e2-88e0-0ca79603ab0f",
   "metadata": {},
   "outputs": [],
   "source": []
  },
  {
   "cell_type": "code",
   "execution_count": 61,
   "id": "98a4f87c-ec97-45a8-9780-3c91e0ff01ea",
   "metadata": {},
   "outputs": [
    {
     "name": "stdout",
     "output_type": "stream",
     "text": [
      "rohan\n",
      "23\n",
      "(23, 45, 67)\n",
      "Grras solutions Pvt. Ltd.\n"
     ]
    }
   ],
   "source": [
    "s1.show_data()"
   ]
  },
  {
   "cell_type": "code",
   "execution_count": null,
   "id": "3f9f3a83-be85-48c0-b069-166edc63b164",
   "metadata": {},
   "outputs": [],
   "source": []
  },
  {
   "cell_type": "code",
   "execution_count": 62,
   "id": "4d66b073-cf52-40aa-8575-2deef1f5faa9",
   "metadata": {},
   "outputs": [
    {
     "data": {
      "text/plain": [
       "'Grras solutions Pvt. Ltd.'"
      ]
     },
     "execution_count": 62,
     "metadata": {},
     "output_type": "execute_result"
    }
   ],
   "source": [
    "s1.school"
   ]
  },
  {
   "cell_type": "code",
   "execution_count": 63,
   "id": "606edf74-8755-4c0f-95d0-d00bed4a00a4",
   "metadata": {},
   "outputs": [
    {
     "data": {
      "text/plain": [
       "'Grras solutions Pvt. Ltd.'"
      ]
     },
     "execution_count": 63,
     "metadata": {},
     "output_type": "execute_result"
    }
   ],
   "source": [
    "s2.school"
   ]
  },
  {
   "cell_type": "code",
   "execution_count": null,
   "id": "c49b4093-550c-4d1d-9a3e-35507d56e398",
   "metadata": {},
   "outputs": [],
   "source": []
  },
  {
   "cell_type": "code",
   "execution_count": 64,
   "id": "186eeec4-76e1-4065-a7f8-9f27bc085856",
   "metadata": {},
   "outputs": [
    {
     "data": {
      "text/plain": [
       "'Grras solutions Pvt. Ltd.'"
      ]
     },
     "execution_count": 64,
     "metadata": {},
     "output_type": "execute_result"
    }
   ],
   "source": [
    "Student.school"
   ]
  },
  {
   "cell_type": "code",
   "execution_count": null,
   "id": "c1b57671-7d28-45a2-9756-c725abd510ce",
   "metadata": {},
   "outputs": [],
   "source": []
  },
  {
   "cell_type": "code",
   "execution_count": null,
   "id": "cca670d6-36aa-43d3-99de-4dfa4a50a849",
   "metadata": {},
   "outputs": [],
   "source": []
  },
  {
   "cell_type": "code",
   "execution_count": 65,
   "id": "ee16705b-ee8c-4324-8574-948ceb1bfda7",
   "metadata": {},
   "outputs": [],
   "source": [
    "s1.school = 'Global IT Provider'"
   ]
  },
  {
   "cell_type": "code",
   "execution_count": 66,
   "id": "30aa2fed-fd97-4875-9410-1f06fb29fc53",
   "metadata": {},
   "outputs": [
    {
     "name": "stdout",
     "output_type": "stream",
     "text": [
      "rohan\n",
      "23\n",
      "(23, 45, 67)\n",
      "Global IT Provider\n"
     ]
    }
   ],
   "source": [
    "s1.show_data()"
   ]
  },
  {
   "cell_type": "code",
   "execution_count": null,
   "id": "dd3ce6cd-c49b-4799-851e-b676404b4d9f",
   "metadata": {},
   "outputs": [],
   "source": []
  },
  {
   "cell_type": "code",
   "execution_count": 67,
   "id": "de131234-d88f-4548-94f5-34f3ba206d2d",
   "metadata": {},
   "outputs": [
    {
     "name": "stdout",
     "output_type": "stream",
     "text": [
      "ram\n",
      "24\n",
      "(34, 45, 67)\n",
      "Grras solutions Pvt. Ltd.\n"
     ]
    }
   ],
   "source": [
    "s2.show_data()"
   ]
  },
  {
   "cell_type": "code",
   "execution_count": 68,
   "id": "4e2a613f-31bc-4734-aae2-a51427bfc91d",
   "metadata": {},
   "outputs": [
    {
     "name": "stdout",
     "output_type": "stream",
     "text": [
      "name : rohan\n",
      "age : 23\n",
      "marks : (23, 45, 67)\n",
      "school : Global IT Provider\n"
     ]
    }
   ],
   "source": [
    "s1.show_details()"
   ]
  },
  {
   "cell_type": "code",
   "execution_count": 69,
   "id": "ea73f70b-2c2e-419a-923a-205c1a72a969",
   "metadata": {},
   "outputs": [
    {
     "name": "stdout",
     "output_type": "stream",
     "text": [
      "name : ram\n",
      "age : 24\n",
      "marks : (34, 45, 67)\n"
     ]
    }
   ],
   "source": [
    "s2.show_details()"
   ]
  },
  {
   "cell_type": "code",
   "execution_count": null,
   "id": "665f428c-a18b-4259-ac1b-459a0f28c671",
   "metadata": {},
   "outputs": [],
   "source": []
  },
  {
   "cell_type": "code",
   "execution_count": 70,
   "id": "003b0b54-93de-4dbd-b8b6-85e609686f7a",
   "metadata": {},
   "outputs": [
    {
     "data": {
      "text/plain": [
       "'Grras solutions Pvt. Ltd.'"
      ]
     },
     "execution_count": 70,
     "metadata": {},
     "output_type": "execute_result"
    }
   ],
   "source": [
    "s2.school"
   ]
  },
  {
   "cell_type": "code",
   "execution_count": null,
   "id": "22a924e2-aa55-4651-95a1-518c0758cad3",
   "metadata": {},
   "outputs": [],
   "source": []
  },
  {
   "cell_type": "code",
   "execution_count": 71,
   "id": "b4cf88d3-4b8e-43c5-8e4a-8b5865b77946",
   "metadata": {},
   "outputs": [
    {
     "data": {
      "text/plain": [
       "'Grras solutions Pvt. Ltd.'"
      ]
     },
     "execution_count": 71,
     "metadata": {},
     "output_type": "execute_result"
    }
   ],
   "source": [
    "Student.school"
   ]
  },
  {
   "cell_type": "code",
   "execution_count": 72,
   "id": "eb8b9a8e-3eee-41f8-b378-5a1a7137f459",
   "metadata": {},
   "outputs": [],
   "source": [
    "Student.school = \"Global IT Provider\""
   ]
  },
  {
   "cell_type": "code",
   "execution_count": 73,
   "id": "391e2a96-5131-45c4-b428-7191a73dbea9",
   "metadata": {},
   "outputs": [
    {
     "name": "stdout",
     "output_type": "stream",
     "text": [
      "name : rohan\n",
      "age : 23\n",
      "marks : (23, 45, 67)\n",
      "school : Global IT Provider\n"
     ]
    }
   ],
   "source": [
    "s1.show_details()"
   ]
  },
  {
   "cell_type": "code",
   "execution_count": null,
   "id": "410c1a49-70ef-4622-9e48-01f59e32173d",
   "metadata": {},
   "outputs": [],
   "source": []
  },
  {
   "cell_type": "code",
   "execution_count": 74,
   "id": "0c5660c2-ad6f-42ce-a842-87cc47bc7ae5",
   "metadata": {},
   "outputs": [
    {
     "name": "stdout",
     "output_type": "stream",
     "text": [
      "name : ram\n",
      "age : 24\n",
      "marks : (34, 45, 67)\n"
     ]
    }
   ],
   "source": [
    "s2.show_details()"
   ]
  },
  {
   "cell_type": "code",
   "execution_count": null,
   "id": "27572f9e-bb7e-4db8-8f70-b4affade4cdb",
   "metadata": {},
   "outputs": [],
   "source": []
  },
  {
   "cell_type": "code",
   "execution_count": 75,
   "id": "04fac2c3-9a44-4904-8a30-bd794a378c53",
   "metadata": {},
   "outputs": [
    {
     "name": "stdout",
     "output_type": "stream",
     "text": [
      "rohan\n",
      "23\n",
      "(23, 45, 67)\n",
      "Global IT Provider\n"
     ]
    }
   ],
   "source": [
    "s1.show_data()"
   ]
  },
  {
   "cell_type": "code",
   "execution_count": null,
   "id": "dba592ac-1667-4590-8dcd-aa9afbca80a4",
   "metadata": {},
   "outputs": [],
   "source": []
  },
  {
   "cell_type": "code",
   "execution_count": 76,
   "id": "ad1325f9-fce5-4554-8c7d-e32de3c71a6f",
   "metadata": {},
   "outputs": [
    {
     "name": "stdout",
     "output_type": "stream",
     "text": [
      "ram\n",
      "24\n",
      "(34, 45, 67)\n",
      "Global IT Provider\n"
     ]
    }
   ],
   "source": [
    "s2.show_data()"
   ]
  },
  {
   "cell_type": "code",
   "execution_count": null,
   "id": "a8846fa0-6fb4-4216-a522-88fcbf9d2af5",
   "metadata": {},
   "outputs": [],
   "source": []
  },
  {
   "cell_type": "code",
   "execution_count": 77,
   "id": "8a3365b6-4aab-482c-89ed-96455b3d8152",
   "metadata": {},
   "outputs": [
    {
     "data": {
      "text/plain": [
       "{'name': 'rohan',\n",
       " 'age': 23,\n",
       " 'marks': (23, 45, 67),\n",
       " 'school': 'Global IT Provider'}"
      ]
     },
     "execution_count": 77,
     "metadata": {},
     "output_type": "execute_result"
    }
   ],
   "source": [
    "s1.__dict__"
   ]
  },
  {
   "cell_type": "code",
   "execution_count": 78,
   "id": "f1ea60fd-1bd0-48bd-bb37-39a73091b717",
   "metadata": {},
   "outputs": [
    {
     "data": {
      "text/plain": [
       "{'name': 'ram', 'age': 24, 'marks': (34, 45, 67)}"
      ]
     },
     "execution_count": 78,
     "metadata": {},
     "output_type": "execute_result"
    }
   ],
   "source": [
    "s2.__dict__"
   ]
  },
  {
   "cell_type": "code",
   "execution_count": null,
   "id": "302dbf6e-fb5f-4caa-b75d-d10dfb44ad1f",
   "metadata": {},
   "outputs": [],
   "source": []
  },
  {
   "cell_type": "code",
   "execution_count": 79,
   "id": "867b8d81-f40f-42cd-8d21-9f07c3dc0544",
   "metadata": {},
   "outputs": [
    {
     "data": {
      "text/plain": [
       "mappingproxy({'__module__': '__main__',\n",
       "              'school': 'Global IT Provider',\n",
       "              '__init__': <function __main__.Student.__init__(self, name, age, *marks)>,\n",
       "              'show_details': <function __main__.Student.show_details(self)>,\n",
       "              'show_data': <function __main__.Student.show_data(self)>,\n",
       "              '__dict__': <attribute '__dict__' of 'Student' objects>,\n",
       "              '__weakref__': <attribute '__weakref__' of 'Student' objects>,\n",
       "              '__doc__': None})"
      ]
     },
     "execution_count": 79,
     "metadata": {},
     "output_type": "execute_result"
    }
   ],
   "source": [
    "Student.__dict__"
   ]
  },
  {
   "cell_type": "code",
   "execution_count": null,
   "id": "6156a7dc-b516-417a-a07f-9cdc4e3974ec",
   "metadata": {},
   "outputs": [],
   "source": []
  },
  {
   "cell_type": "code",
   "execution_count": null,
   "id": "9afd0fb7-41a2-438c-b2a8-6d3ffe56d017",
   "metadata": {},
   "outputs": [],
   "source": []
  },
  {
   "cell_type": "code",
   "execution_count": 80,
   "id": "ef4f9476-84ba-4291-9d6c-523c065d0a6c",
   "metadata": {},
   "outputs": [
    {
     "data": {
      "text/plain": [
       "{'__name__': '__main__',\n",
       " '__doc__': 'Automatically created module for IPython interactive environment',\n",
       " '__package__': None,\n",
       " '__loader__': None,\n",
       " '__spec__': None,\n",
       " '__builtin__': <module 'builtins' (built-in)>,\n",
       " '__builtins__': <module 'builtins' (built-in)>,\n",
       " '_ih': ['',\n",
       "  \"s1.change_name('alfez')\",\n",
       "  'class Student:\\n\\n    def __init__(self, name, age):\\n        self.name = name                  # Instance variable\\n        self.age = age               \\n\\n    def show_details(self):\\n        for key, value in self.__dict__.items():\\n            print(f\"{key} : {value}\")\\n\\n    def change_name(self, name):\\n        self.name = name\\n\\n    def add_marks(self, marks):\\n        self.marks = marks',\n",
       "  \"s1 = Student('rohan', 23)\\ns2 = Student('ram', 24)\",\n",
       "  \"s1.change_name('alfez')\",\n",
       "  's1.name',\n",
       "  's1.age',\n",
       "  \"s1.name = 'sachin'\",\n",
       "  's1.show_details()',\n",
       "  \"s1.change_name('rahul')\",\n",
       "  's1.show_details()',\n",
       "  's2.add_marks([23,34,23])',\n",
       "  's2.show_details()',\n",
       "  's1.marks = [23,56,34]',\n",
       "  's1.show_details()',\n",
       "  's2.show_details()',\n",
       "  \"s1.address = 'jaipur'\\ns2.address = 'ajmer'\",\n",
       "  's1.show_details()',\n",
       "  's2.show_details()',\n",
       "  'class Student:\\n\\n    school = \"Grras solutions Pvt. Ltd.\"         # class variable  ---> stored in class namespace\\n\\n    def __init__(self, name, age, *marks):\\n        self.name = name                # instance variable    --> stored in object namespace\\n        self.age = age\\n        self.marks = marks\\n\\n    def show_details(self):\\n        for key, value in self.__dict__.items():\\n            print(f\"{key} : {value}\")\\n\\n    def show_data(self):\\n        print(self.name, self.age, self.marks, self.school, sep=\\'\\\\n\\')',\n",
       "  \"s1 = Student('rohan', 23, 23,45,67)\\ns2 = Student('ram', 24, 34,45,67)\",\n",
       "  's1.show_data()',\n",
       "  's1.school',\n",
       "  's2.school',\n",
       "  'Student.school',\n",
       "  \"s1.school = 'Global IT Provider'\",\n",
       "  's1.show_data()',\n",
       "  's2.show_data()',\n",
       "  's1.show_details()',\n",
       "  's2.show_details()',\n",
       "  's2.school',\n",
       "  'Student.school',\n",
       "  'Student.school = \"Global IT Provider\"',\n",
       "  's1.show_details()',\n",
       "  's2.show_details()',\n",
       "  's1.show_data()',\n",
       "  's2.show_data()',\n",
       "  's1.__dict__',\n",
       "  's2.__dict__',\n",
       "  'Student.__dict__',\n",
       "  'globals()',\n",
       "  's1.show_details()',\n",
       "  'class Student:\\n\\n    def __init__(self, name, age):\\n        self.name = name                  # Instance variable\\n        self.age = age               \\n\\n    def show_details(self):\\n        for key, value in self.__dict__.items():\\n            print(f\"{key} : {value}\")\\n\\n    def change_name(self, name):\\n        self.name = name\\n\\n    def add_marks(self, marks):\\n        self.marks = marks',\n",
       "  \"s1 = Student('rohan', 23)\\ns2 = Student('ram', 24)\",\n",
       "  \"s1.change_name('alfez')\",\n",
       "  's1.name',\n",
       "  's1.age',\n",
       "  \"s1.name = 'sachin'\",\n",
       "  's1.show_details()',\n",
       "  \"s1.change_name('rahul')\",\n",
       "  's1.show_details()',\n",
       "  's2.add_marks([23,34,23])',\n",
       "  's2.show_details()',\n",
       "  's1.marks = [23,56,34]',\n",
       "  's1.show_details()',\n",
       "  's2.show_details()',\n",
       "  \"s1.address = 'jaipur'\\ns2.address = 'ajmer'\",\n",
       "  's1.show_details()',\n",
       "  's2.show_details()',\n",
       "  'class Student:\\n\\n    school = \"Grras solutions Pvt. Ltd.\"         # class variable  ---> stored in class namespace\\n\\n    def __init__(self, name, age, *marks):\\n        self.name = name                # instance variable    --> stored in object namespace\\n        self.age = age\\n        self.marks = marks\\n\\n    def show_details(self):\\n        for key, value in self.__dict__.items():\\n            print(f\"{key} : {value}\")\\n\\n    def show_data(self):\\n        print(self.name, self.age, self.marks, self.school, sep=\\'\\\\n\\')',\n",
       "  \"s1 = Student('rohan', 23, 23,45,67)\\ns2 = Student('ram', 24, 34,45,67)\",\n",
       "  's1.show_data()',\n",
       "  's1.school',\n",
       "  's2.school',\n",
       "  'Student.school',\n",
       "  \"s1.school = 'Global IT Provider'\",\n",
       "  's1.show_data()',\n",
       "  's2.show_data()',\n",
       "  's1.show_details()',\n",
       "  's2.show_details()',\n",
       "  's2.school',\n",
       "  'Student.school',\n",
       "  'Student.school = \"Global IT Provider\"',\n",
       "  's1.show_details()',\n",
       "  's2.show_details()',\n",
       "  's1.show_data()',\n",
       "  's2.show_data()',\n",
       "  's1.__dict__',\n",
       "  's2.__dict__',\n",
       "  'Student.__dict__',\n",
       "  'globals()'],\n",
       " '_oh': {5: 'alfez',\n",
       "  6: 23,\n",
       "  22: 'Grras solutions Pvt. Ltd.',\n",
       "  23: 'Grras solutions Pvt. Ltd.',\n",
       "  24: 'Grras solutions Pvt. Ltd.',\n",
       "  30: 'Grras solutions Pvt. Ltd.',\n",
       "  31: 'Grras solutions Pvt. Ltd.',\n",
       "  37: {'name': 'rohan',\n",
       "   'age': 23,\n",
       "   'marks': (23, 45, 67),\n",
       "   'school': 'Global IT Provider'},\n",
       "  38: {'name': 'ram', 'age': 24, 'marks': (34, 45, 67)},\n",
       "  39: mappingproxy({'__module__': '__main__',\n",
       "                'school': 'Global IT Provider',\n",
       "                '__init__': <function __main__.Student.__init__(self, name, age, *marks)>,\n",
       "                'show_details': <function __main__.Student.show_details(self)>,\n",
       "                'show_data': <function __main__.Student.show_data(self)>,\n",
       "                '__dict__': <attribute '__dict__' of 'Student' objects>,\n",
       "                '__weakref__': <attribute '__weakref__' of 'Student' objects>,\n",
       "                '__doc__': None}),\n",
       "  40: {...},\n",
       "  45: 'alfez',\n",
       "  46: 23,\n",
       "  62: 'Grras solutions Pvt. Ltd.',\n",
       "  63: 'Grras solutions Pvt. Ltd.',\n",
       "  64: 'Grras solutions Pvt. Ltd.',\n",
       "  70: 'Grras solutions Pvt. Ltd.',\n",
       "  71: 'Grras solutions Pvt. Ltd.',\n",
       "  77: {'name': 'rohan',\n",
       "   'age': 23,\n",
       "   'marks': (23, 45, 67),\n",
       "   'school': 'Global IT Provider'},\n",
       "  78: {'name': 'ram', 'age': 24, 'marks': (34, 45, 67)},\n",
       "  79: mappingproxy({'__module__': '__main__',\n",
       "                'school': 'Global IT Provider',\n",
       "                '__init__': <function __main__.Student.__init__(self, name, age, *marks)>,\n",
       "                'show_details': <function __main__.Student.show_details(self)>,\n",
       "                'show_data': <function __main__.Student.show_data(self)>,\n",
       "                '__dict__': <attribute '__dict__' of 'Student' objects>,\n",
       "                '__weakref__': <attribute '__weakref__' of 'Student' objects>,\n",
       "                '__doc__': None})},\n",
       " '_dh': [WindowsPath('c:/Users/user/GRRAS SOLUTIONS PVT LTD_PYTHON/classcode new batch')],\n",
       " 'In': ['',\n",
       "  \"s1.change_name('alfez')\",\n",
       "  'class Student:\\n\\n    def __init__(self, name, age):\\n        self.name = name                  # Instance variable\\n        self.age = age               \\n\\n    def show_details(self):\\n        for key, value in self.__dict__.items():\\n            print(f\"{key} : {value}\")\\n\\n    def change_name(self, name):\\n        self.name = name\\n\\n    def add_marks(self, marks):\\n        self.marks = marks',\n",
       "  \"s1 = Student('rohan', 23)\\ns2 = Student('ram', 24)\",\n",
       "  \"s1.change_name('alfez')\",\n",
       "  's1.name',\n",
       "  's1.age',\n",
       "  \"s1.name = 'sachin'\",\n",
       "  's1.show_details()',\n",
       "  \"s1.change_name('rahul')\",\n",
       "  's1.show_details()',\n",
       "  's2.add_marks([23,34,23])',\n",
       "  's2.show_details()',\n",
       "  's1.marks = [23,56,34]',\n",
       "  's1.show_details()',\n",
       "  's2.show_details()',\n",
       "  \"s1.address = 'jaipur'\\ns2.address = 'ajmer'\",\n",
       "  's1.show_details()',\n",
       "  's2.show_details()',\n",
       "  'class Student:\\n\\n    school = \"Grras solutions Pvt. Ltd.\"         # class variable  ---> stored in class namespace\\n\\n    def __init__(self, name, age, *marks):\\n        self.name = name                # instance variable    --> stored in object namespace\\n        self.age = age\\n        self.marks = marks\\n\\n    def show_details(self):\\n        for key, value in self.__dict__.items():\\n            print(f\"{key} : {value}\")\\n\\n    def show_data(self):\\n        print(self.name, self.age, self.marks, self.school, sep=\\'\\\\n\\')',\n",
       "  \"s1 = Student('rohan', 23, 23,45,67)\\ns2 = Student('ram', 24, 34,45,67)\",\n",
       "  's1.show_data()',\n",
       "  's1.school',\n",
       "  's2.school',\n",
       "  'Student.school',\n",
       "  \"s1.school = 'Global IT Provider'\",\n",
       "  's1.show_data()',\n",
       "  's2.show_data()',\n",
       "  's1.show_details()',\n",
       "  's2.show_details()',\n",
       "  's2.school',\n",
       "  'Student.school',\n",
       "  'Student.school = \"Global IT Provider\"',\n",
       "  's1.show_details()',\n",
       "  's2.show_details()',\n",
       "  's1.show_data()',\n",
       "  's2.show_data()',\n",
       "  's1.__dict__',\n",
       "  's2.__dict__',\n",
       "  'Student.__dict__',\n",
       "  'globals()',\n",
       "  's1.show_details()',\n",
       "  'class Student:\\n\\n    def __init__(self, name, age):\\n        self.name = name                  # Instance variable\\n        self.age = age               \\n\\n    def show_details(self):\\n        for key, value in self.__dict__.items():\\n            print(f\"{key} : {value}\")\\n\\n    def change_name(self, name):\\n        self.name = name\\n\\n    def add_marks(self, marks):\\n        self.marks = marks',\n",
       "  \"s1 = Student('rohan', 23)\\ns2 = Student('ram', 24)\",\n",
       "  \"s1.change_name('alfez')\",\n",
       "  's1.name',\n",
       "  's1.age',\n",
       "  \"s1.name = 'sachin'\",\n",
       "  's1.show_details()',\n",
       "  \"s1.change_name('rahul')\",\n",
       "  's1.show_details()',\n",
       "  's2.add_marks([23,34,23])',\n",
       "  's2.show_details()',\n",
       "  's1.marks = [23,56,34]',\n",
       "  's1.show_details()',\n",
       "  's2.show_details()',\n",
       "  \"s1.address = 'jaipur'\\ns2.address = 'ajmer'\",\n",
       "  's1.show_details()',\n",
       "  's2.show_details()',\n",
       "  'class Student:\\n\\n    school = \"Grras solutions Pvt. Ltd.\"         # class variable  ---> stored in class namespace\\n\\n    def __init__(self, name, age, *marks):\\n        self.name = name                # instance variable    --> stored in object namespace\\n        self.age = age\\n        self.marks = marks\\n\\n    def show_details(self):\\n        for key, value in self.__dict__.items():\\n            print(f\"{key} : {value}\")\\n\\n    def show_data(self):\\n        print(self.name, self.age, self.marks, self.school, sep=\\'\\\\n\\')',\n",
       "  \"s1 = Student('rohan', 23, 23,45,67)\\ns2 = Student('ram', 24, 34,45,67)\",\n",
       "  's1.show_data()',\n",
       "  's1.school',\n",
       "  's2.school',\n",
       "  'Student.school',\n",
       "  \"s1.school = 'Global IT Provider'\",\n",
       "  's1.show_data()',\n",
       "  's2.show_data()',\n",
       "  's1.show_details()',\n",
       "  's2.show_details()',\n",
       "  's2.school',\n",
       "  'Student.school',\n",
       "  'Student.school = \"Global IT Provider\"',\n",
       "  's1.show_details()',\n",
       "  's2.show_details()',\n",
       "  's1.show_data()',\n",
       "  's2.show_data()',\n",
       "  's1.__dict__',\n",
       "  's2.__dict__',\n",
       "  'Student.__dict__',\n",
       "  'globals()'],\n",
       " 'Out': {5: 'alfez',\n",
       "  6: 23,\n",
       "  22: 'Grras solutions Pvt. Ltd.',\n",
       "  23: 'Grras solutions Pvt. Ltd.',\n",
       "  24: 'Grras solutions Pvt. Ltd.',\n",
       "  30: 'Grras solutions Pvt. Ltd.',\n",
       "  31: 'Grras solutions Pvt. Ltd.',\n",
       "  37: {'name': 'rohan',\n",
       "   'age': 23,\n",
       "   'marks': (23, 45, 67),\n",
       "   'school': 'Global IT Provider'},\n",
       "  38: {'name': 'ram', 'age': 24, 'marks': (34, 45, 67)},\n",
       "  39: mappingproxy({'__module__': '__main__',\n",
       "                'school': 'Global IT Provider',\n",
       "                '__init__': <function __main__.Student.__init__(self, name, age, *marks)>,\n",
       "                'show_details': <function __main__.Student.show_details(self)>,\n",
       "                'show_data': <function __main__.Student.show_data(self)>,\n",
       "                '__dict__': <attribute '__dict__' of 'Student' objects>,\n",
       "                '__weakref__': <attribute '__weakref__' of 'Student' objects>,\n",
       "                '__doc__': None}),\n",
       "  40: {...},\n",
       "  45: 'alfez',\n",
       "  46: 23,\n",
       "  62: 'Grras solutions Pvt. Ltd.',\n",
       "  63: 'Grras solutions Pvt. Ltd.',\n",
       "  64: 'Grras solutions Pvt. Ltd.',\n",
       "  70: 'Grras solutions Pvt. Ltd.',\n",
       "  71: 'Grras solutions Pvt. Ltd.',\n",
       "  77: {'name': 'rohan',\n",
       "   'age': 23,\n",
       "   'marks': (23, 45, 67),\n",
       "   'school': 'Global IT Provider'},\n",
       "  78: {'name': 'ram', 'age': 24, 'marks': (34, 45, 67)},\n",
       "  79: mappingproxy({'__module__': '__main__',\n",
       "                'school': 'Global IT Provider',\n",
       "                '__init__': <function __main__.Student.__init__(self, name, age, *marks)>,\n",
       "                'show_details': <function __main__.Student.show_details(self)>,\n",
       "                'show_data': <function __main__.Student.show_data(self)>,\n",
       "                '__dict__': <attribute '__dict__' of 'Student' objects>,\n",
       "                '__weakref__': <attribute '__weakref__' of 'Student' objects>,\n",
       "                '__doc__': None})},\n",
       " 'get_ipython': <bound method InteractiveShell.get_ipython of <ipykernel.zmqshell.ZMQInteractiveShell object at 0x000002AA52160050>>,\n",
       " 'exit': <IPython.core.autocall.ZMQExitAutocall at 0x2aa521604a0>,\n",
       " 'quit': <IPython.core.autocall.ZMQExitAutocall at 0x2aa521604a0>,\n",
       " 'open': <function _io.open(file, mode='r', buffering=-1, encoding=None, errors=None, newline=None, closefd=True, opener=None)>,\n",
       " '_': mappingproxy({'__module__': '__main__',\n",
       "               'school': 'Global IT Provider',\n",
       "               '__init__': <function __main__.Student.__init__(self, name, age, *marks)>,\n",
       "               'show_details': <function __main__.Student.show_details(self)>,\n",
       "               'show_data': <function __main__.Student.show_data(self)>,\n",
       "               '__dict__': <attribute '__dict__' of 'Student' objects>,\n",
       "               '__weakref__': <attribute '__weakref__' of 'Student' objects>,\n",
       "               '__doc__': None}),\n",
       " '__': {'name': 'ram', 'age': 24, 'marks': (34, 45, 67)},\n",
       " '___': {'name': 'rohan',\n",
       "  'age': 23,\n",
       "  'marks': (23, 45, 67),\n",
       "  'school': 'Global IT Provider'},\n",
       " '__vsc_ipynb_file__': 'c:\\\\Users\\\\user\\\\GRRAS SOLUTIONS PVT LTD_PYTHON\\\\classcode new batch\\\\39.OOPS - 3.ipynb',\n",
       " '_i': 'Student.__dict__',\n",
       " '_ii': 's2.__dict__',\n",
       " '_iii': 's1.__dict__',\n",
       " '_i1': \"s1.change_name('alfez')\",\n",
       " '_i2': 'class Student:\\n\\n    def __init__(self, name, age):\\n        self.name = name                  # Instance variable\\n        self.age = age               \\n\\n    def show_details(self):\\n        for key, value in self.__dict__.items():\\n            print(f\"{key} : {value}\")\\n\\n    def change_name(self, name):\\n        self.name = name\\n\\n    def add_marks(self, marks):\\n        self.marks = marks',\n",
       " 'Student': __main__.Student,\n",
       " '_i3': \"s1 = Student('rohan', 23)\\ns2 = Student('ram', 24)\",\n",
       " 's1': <__main__.Student at 0x2aa52293fe0>,\n",
       " 's2': <__main__.Student at 0x2aa52162870>,\n",
       " '_i4': \"s1.change_name('alfez')\",\n",
       " '_i5': 's1.name',\n",
       " '_5': 'alfez',\n",
       " '_i6': 's1.age',\n",
       " '_6': 23,\n",
       " '_i7': \"s1.name = 'sachin'\",\n",
       " '_i8': 's1.show_details()',\n",
       " '_i9': \"s1.change_name('rahul')\",\n",
       " '_i10': 's1.show_details()',\n",
       " '_i11': 's2.add_marks([23,34,23])',\n",
       " '_i12': 's2.show_details()',\n",
       " '_i13': 's1.marks = [23,56,34]',\n",
       " '_i14': 's1.show_details()',\n",
       " '_i15': 's2.show_details()',\n",
       " '_i16': \"s1.address = 'jaipur'\\ns2.address = 'ajmer'\",\n",
       " '_i17': 's1.show_details()',\n",
       " '_i18': 's2.show_details()',\n",
       " '_i19': 'class Student:\\n\\n    school = \"Grras solutions Pvt. Ltd.\"         # class variable  ---> stored in class namespace\\n\\n    def __init__(self, name, age, *marks):\\n        self.name = name                # instance variable    --> stored in object namespace\\n        self.age = age\\n        self.marks = marks\\n\\n    def show_details(self):\\n        for key, value in self.__dict__.items():\\n            print(f\"{key} : {value}\")\\n\\n    def show_data(self):\\n        print(self.name, self.age, self.marks, self.school, sep=\\'\\\\n\\')',\n",
       " '_i20': \"s1 = Student('rohan', 23, 23,45,67)\\ns2 = Student('ram', 24, 34,45,67)\",\n",
       " '_i21': 's1.show_data()',\n",
       " '_i22': 's1.school',\n",
       " '_22': 'Grras solutions Pvt. Ltd.',\n",
       " '_i23': 's2.school',\n",
       " '_23': 'Grras solutions Pvt. Ltd.',\n",
       " '_i24': 'Student.school',\n",
       " '_24': 'Grras solutions Pvt. Ltd.',\n",
       " '_i25': \"s1.school = 'Global IT Provider'\",\n",
       " '_i26': 's1.show_data()',\n",
       " '_i27': 's2.show_data()',\n",
       " '_i28': 's1.show_details()',\n",
       " '_i29': 's2.show_details()',\n",
       " '_i30': 's2.school',\n",
       " '_30': 'Grras solutions Pvt. Ltd.',\n",
       " '_i31': 'Student.school',\n",
       " '_31': 'Grras solutions Pvt. Ltd.',\n",
       " '_i32': 'Student.school = \"Global IT Provider\"',\n",
       " '_i33': 's1.show_details()',\n",
       " '_i34': 's2.show_details()',\n",
       " '_i35': 's1.show_data()',\n",
       " '_i36': 's2.show_data()',\n",
       " '_i37': 's1.__dict__',\n",
       " '_37': {'name': 'rohan',\n",
       "  'age': 23,\n",
       "  'marks': (23, 45, 67),\n",
       "  'school': 'Global IT Provider'},\n",
       " '_i38': 's2.__dict__',\n",
       " '_38': {'name': 'ram', 'age': 24, 'marks': (34, 45, 67)},\n",
       " '_i39': 'Student.__dict__',\n",
       " '_39': mappingproxy({'__module__': '__main__',\n",
       "               'school': 'Global IT Provider',\n",
       "               '__init__': <function __main__.Student.__init__(self, name, age, *marks)>,\n",
       "               'show_details': <function __main__.Student.show_details(self)>,\n",
       "               'show_data': <function __main__.Student.show_data(self)>,\n",
       "               '__dict__': <attribute '__dict__' of 'Student' objects>,\n",
       "               '__weakref__': <attribute '__weakref__' of 'Student' objects>,\n",
       "               '__doc__': None}),\n",
       " '_i40': 'globals()',\n",
       " '_40': {...},\n",
       " '_i41': 's1.show_details()',\n",
       " '_i42': 'class Student:\\n\\n    def __init__(self, name, age):\\n        self.name = name                  # Instance variable\\n        self.age = age               \\n\\n    def show_details(self):\\n        for key, value in self.__dict__.items():\\n            print(f\"{key} : {value}\")\\n\\n    def change_name(self, name):\\n        self.name = name\\n\\n    def add_marks(self, marks):\\n        self.marks = marks',\n",
       " '_i43': \"s1 = Student('rohan', 23)\\ns2 = Student('ram', 24)\",\n",
       " '_i44': \"s1.change_name('alfez')\",\n",
       " '_i45': 's1.name',\n",
       " '_45': 'alfez',\n",
       " '_i46': 's1.age',\n",
       " '_46': 23,\n",
       " '_i47': \"s1.name = 'sachin'\",\n",
       " '_i48': 's1.show_details()',\n",
       " '_i49': \"s1.change_name('rahul')\",\n",
       " '_i50': 's1.show_details()',\n",
       " '_i51': 's2.add_marks([23,34,23])',\n",
       " '_i52': 's2.show_details()',\n",
       " '_i53': 's1.marks = [23,56,34]',\n",
       " '_i54': 's1.show_details()',\n",
       " '_i55': 's2.show_details()',\n",
       " '_i56': \"s1.address = 'jaipur'\\ns2.address = 'ajmer'\",\n",
       " '_i57': 's1.show_details()',\n",
       " '_i58': 's2.show_details()',\n",
       " '_i59': 'class Student:\\n\\n    school = \"Grras solutions Pvt. Ltd.\"         # class variable  ---> stored in class namespace\\n\\n    def __init__(self, name, age, *marks):\\n        self.name = name                # instance variable    --> stored in object namespace\\n        self.age = age\\n        self.marks = marks\\n\\n    def show_details(self):\\n        for key, value in self.__dict__.items():\\n            print(f\"{key} : {value}\")\\n\\n    def show_data(self):\\n        print(self.name, self.age, self.marks, self.school, sep=\\'\\\\n\\')',\n",
       " '_i60': \"s1 = Student('rohan', 23, 23,45,67)\\ns2 = Student('ram', 24, 34,45,67)\",\n",
       " '_i61': 's1.show_data()',\n",
       " '_i62': 's1.school',\n",
       " '_62': 'Grras solutions Pvt. Ltd.',\n",
       " '_i63': 's2.school',\n",
       " '_63': 'Grras solutions Pvt. Ltd.',\n",
       " '_i64': 'Student.school',\n",
       " '_64': 'Grras solutions Pvt. Ltd.',\n",
       " '_i65': \"s1.school = 'Global IT Provider'\",\n",
       " '_i66': 's1.show_data()',\n",
       " '_i67': 's2.show_data()',\n",
       " '_i68': 's1.show_details()',\n",
       " '_i69': 's2.show_details()',\n",
       " '_i70': 's2.school',\n",
       " '_70': 'Grras solutions Pvt. Ltd.',\n",
       " '_i71': 'Student.school',\n",
       " '_71': 'Grras solutions Pvt. Ltd.',\n",
       " '_i72': 'Student.school = \"Global IT Provider\"',\n",
       " '_i73': 's1.show_details()',\n",
       " '_i74': 's2.show_details()',\n",
       " '_i75': 's1.show_data()',\n",
       " '_i76': 's2.show_data()',\n",
       " '_i77': 's1.__dict__',\n",
       " '_77': {'name': 'rohan',\n",
       "  'age': 23,\n",
       "  'marks': (23, 45, 67),\n",
       "  'school': 'Global IT Provider'},\n",
       " '_i78': 's2.__dict__',\n",
       " '_78': {'name': 'ram', 'age': 24, 'marks': (34, 45, 67)},\n",
       " '_i79': 'Student.__dict__',\n",
       " '_79': mappingproxy({'__module__': '__main__',\n",
       "               'school': 'Global IT Provider',\n",
       "               '__init__': <function __main__.Student.__init__(self, name, age, *marks)>,\n",
       "               'show_details': <function __main__.Student.show_details(self)>,\n",
       "               'show_data': <function __main__.Student.show_data(self)>,\n",
       "               '__dict__': <attribute '__dict__' of 'Student' objects>,\n",
       "               '__weakref__': <attribute '__weakref__' of 'Student' objects>,\n",
       "               '__doc__': None}),\n",
       " '_i80': 'globals()'}"
      ]
     },
     "execution_count": 80,
     "metadata": {},
     "output_type": "execute_result"
    }
   ],
   "source": [
    "globals()"
   ]
  },
  {
   "cell_type": "code",
   "execution_count": null,
   "id": "b3a40337-535a-4278-be54-8df67c401757",
   "metadata": {},
   "outputs": [],
   "source": []
  },
  {
   "cell_type": "code",
   "execution_count": null,
   "id": "18579935-6d9e-4e47-8f2f-2deaf9965ab4",
   "metadata": {},
   "outputs": [],
   "source": []
  }
 ],
 "metadata": {
  "kernelspec": {
   "display_name": "base",
   "language": "python",
   "name": "python3"
  },
  "language_info": {
   "codemirror_mode": {
    "name": "ipython",
    "version": 3
   },
   "file_extension": ".py",
   "mimetype": "text/x-python",
   "name": "python",
   "nbconvert_exporter": "python",
   "pygments_lexer": "ipython3",
   "version": "3.12.4"
  }
 },
 "nbformat": 4,
 "nbformat_minor": 5
}
