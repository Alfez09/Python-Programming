{
 "cells": [
  {
   "cell_type": "code",
   "execution_count": null,
   "id": "b4e81fa6-13f1-4ccb-a52c-0dbdc94a8cd1",
   "metadata": {},
   "outputs": [],
   "source": []
  },
  {
   "cell_type": "markdown",
   "id": "9fd3dcdd-3efc-4d77-86dc-08814aa0c5d2",
   "metadata": {},
   "source": [
    "## closures"
   ]
  },
  {
   "cell_type": "code",
   "execution_count": null,
   "id": "4a43f088-35ba-4510-8b8e-f3326ff6d3ce",
   "metadata": {},
   "outputs": [],
   "source": []
  },
  {
   "cell_type": "code",
   "execution_count": 3,
   "id": "4e504bd7-83bc-4556-9bca-679e8e1bfb22",
   "metadata": {},
   "outputs": [],
   "source": [
    "def main(v):\n",
    "    def inner():\n",
    "        return v\n",
    "    print(inner())"
   ]
  },
  {
   "cell_type": "code",
   "execution_count": 4,
   "id": "22daff2f-2199-4984-9973-b84e1120bb40",
   "metadata": {},
   "outputs": [
    {
     "name": "stdout",
     "output_type": "stream",
     "text": [
      "100\n"
     ]
    }
   ],
   "source": [
    "main(100)"
   ]
  },
  {
   "cell_type": "code",
   "execution_count": null,
   "id": "f398fc80-3676-4216-9f60-38a39b04a1a6",
   "metadata": {},
   "outputs": [],
   "source": []
  },
  {
   "cell_type": "code",
   "execution_count": 5,
   "id": "ce1a8c9f-4f87-4761-81d9-03b3b524d69c",
   "metadata": {},
   "outputs": [],
   "source": [
    "def main(v):\n",
    "    def inner():\n",
    "        return v\n",
    "    return inner"
   ]
  },
  {
   "cell_type": "code",
   "execution_count": 6,
   "id": "88b55713-26d2-45a7-97f6-2f254ca004a8",
   "metadata": {},
   "outputs": [
    {
     "data": {
      "text/plain": [
       "<function __main__.main.<locals>.inner()>"
      ]
     },
     "execution_count": 6,
     "metadata": {},
     "output_type": "execute_result"
    }
   ],
   "source": [
    "main(100)"
   ]
  },
  {
   "cell_type": "code",
   "execution_count": 7,
   "id": "83489f5f-d22e-4499-a187-62edfb8f05ec",
   "metadata": {},
   "outputs": [],
   "source": [
    "v = main(100)"
   ]
  },
  {
   "cell_type": "code",
   "execution_count": 8,
   "id": "e5874232-38c3-43ed-91a4-b38c080387fe",
   "metadata": {},
   "outputs": [
    {
     "data": {
      "text/plain": [
       "<function __main__.main.<locals>.inner()>"
      ]
     },
     "execution_count": 8,
     "metadata": {},
     "output_type": "execute_result"
    }
   ],
   "source": [
    "v"
   ]
  },
  {
   "cell_type": "code",
   "execution_count": 9,
   "id": "27e58d70-62c9-4626-b3e0-6c97a47d4c6c",
   "metadata": {},
   "outputs": [
    {
     "data": {
      "text/plain": [
       "100"
      ]
     },
     "execution_count": 9,
     "metadata": {},
     "output_type": "execute_result"
    }
   ],
   "source": [
    "v()"
   ]
  },
  {
   "cell_type": "code",
   "execution_count": 10,
   "id": "f5986dc1-97de-46d7-9d4a-1b504353146b",
   "metadata": {},
   "outputs": [
    {
     "ename": "NameError",
     "evalue": "name 'inner' is not defined",
     "output_type": "error",
     "traceback": [
      "\u001b[1;31m---------------------------------------------------------------------------\u001b[0m",
      "\u001b[1;31mNameError\u001b[0m                                 Traceback (most recent call last)",
      "Cell \u001b[1;32mIn[10], line 1\u001b[0m\n\u001b[1;32m----> 1\u001b[0m inner()\n",
      "\u001b[1;31mNameError\u001b[0m: name 'inner' is not defined"
     ]
    }
   ],
   "source": [
    "inner()"
   ]
  },
  {
   "cell_type": "code",
   "execution_count": null,
   "id": "c912f499-f5b9-4d05-9e4e-74c563378da2",
   "metadata": {},
   "outputs": [],
   "source": []
  },
  {
   "cell_type": "code",
   "execution_count": null,
   "id": "a683d52b-7dfb-4b69-b04b-5925178f91ba",
   "metadata": {},
   "outputs": [],
   "source": []
  },
  {
   "cell_type": "code",
   "execution_count": 11,
   "id": "e56e2f22-875c-429f-a1ef-cf11d0700656",
   "metadata": {},
   "outputs": [],
   "source": [
    "def outer(text):\n",
    "    text = text.upper()\n",
    "    def inner(text):\n",
    "        text = text[::-1]\n",
    "        return text\n",
    "    return inner\n",
    "        "
   ]
  },
  {
   "cell_type": "code",
   "execution_count": 12,
   "id": "f86cf6be-145e-4ffa-a9cc-9729ee0efe1f",
   "metadata": {},
   "outputs": [
    {
     "data": {
      "text/plain": [
       "<function __main__.outer.<locals>.inner(text)>"
      ]
     },
     "execution_count": 12,
     "metadata": {},
     "output_type": "execute_result"
    }
   ],
   "source": [
    "outer('hello world')"
   ]
  },
  {
   "cell_type": "code",
   "execution_count": 13,
   "id": "617ba3d3-59df-4843-be26-ec75ea6006f1",
   "metadata": {},
   "outputs": [
    {
     "data": {
      "text/plain": [
       "<function __main__.outer.<locals>.inner(text)>"
      ]
     },
     "execution_count": 13,
     "metadata": {},
     "output_type": "execute_result"
    }
   ],
   "source": [
    "v = outer('hello world')\n",
    "v"
   ]
  },
  {
   "cell_type": "code",
   "execution_count": 14,
   "id": "fabc66f7-92e3-462d-8f8a-fa4da92a17b9",
   "metadata": {},
   "outputs": [
    {
     "ename": "TypeError",
     "evalue": "outer.<locals>.inner() missing 1 required positional argument: 'text'",
     "output_type": "error",
     "traceback": [
      "\u001b[1;31m---------------------------------------------------------------------------\u001b[0m",
      "\u001b[1;31mTypeError\u001b[0m                                 Traceback (most recent call last)",
      "Cell \u001b[1;32mIn[14], line 1\u001b[0m\n\u001b[1;32m----> 1\u001b[0m v()\n",
      "\u001b[1;31mTypeError\u001b[0m: outer.<locals>.inner() missing 1 required positional argument: 'text'"
     ]
    }
   ],
   "source": [
    "v()"
   ]
  },
  {
   "cell_type": "code",
   "execution_count": 15,
   "id": "ddfab712-63d7-4ab3-8739-164554fbcb01",
   "metadata": {},
   "outputs": [
    {
     "data": {
      "text/plain": [
       "'dlrow olleh'"
      ]
     },
     "execution_count": 15,
     "metadata": {},
     "output_type": "execute_result"
    }
   ],
   "source": [
    "v('hello world')"
   ]
  },
  {
   "cell_type": "code",
   "execution_count": 16,
   "id": "4536340d-dd85-4381-93a5-12b1b605248b",
   "metadata": {},
   "outputs": [],
   "source": [
    "def outer(text):\n",
    "    text = text.upper()\n",
    "    def inner():\n",
    "        nonlocal text\n",
    "        text = text[::-1]\n",
    "        return text\n",
    "    return inner\n",
    "        "
   ]
  },
  {
   "cell_type": "code",
   "execution_count": 17,
   "id": "dccb1ec4-0446-4a66-9409-dd8edcd89053",
   "metadata": {},
   "outputs": [
    {
     "data": {
      "text/plain": [
       "<function __main__.outer.<locals>.inner()>"
      ]
     },
     "execution_count": 17,
     "metadata": {},
     "output_type": "execute_result"
    }
   ],
   "source": [
    "v = outer('hello world')\n",
    "v"
   ]
  },
  {
   "cell_type": "code",
   "execution_count": 18,
   "id": "4878d11c-25f5-4706-af80-1786a2c75dcc",
   "metadata": {},
   "outputs": [
    {
     "data": {
      "text/plain": [
       "'DLROW OLLEH'"
      ]
     },
     "execution_count": 18,
     "metadata": {},
     "output_type": "execute_result"
    }
   ],
   "source": [
    "v()"
   ]
  },
  {
   "cell_type": "code",
   "execution_count": null,
   "id": "9ba4449e-2924-4a94-9f43-461570227e61",
   "metadata": {},
   "outputs": [],
   "source": []
  },
  {
   "cell_type": "code",
   "execution_count": null,
   "id": "20b8c1d0-0cf0-4494-ab60-36ffa15a05ea",
   "metadata": {},
   "outputs": [],
   "source": []
  },
  {
   "cell_type": "markdown",
   "id": "d8968391-7885-41a1-8e8d-b0e32214c761",
   "metadata": {},
   "source": [
    "## decorator"
   ]
  },
  {
   "cell_type": "code",
   "execution_count": null,
   "id": "3fc2df77-cec0-4007-bf9a-a6a2451d1f37",
   "metadata": {},
   "outputs": [],
   "source": []
  },
  {
   "cell_type": "code",
   "execution_count": 19,
   "id": "369a8b27-72a5-4013-9003-64e0d8e22684",
   "metadata": {},
   "outputs": [],
   "source": [
    "def greet(name):\n",
    "    return f\"hello {name}\""
   ]
  },
  {
   "cell_type": "code",
   "execution_count": 20,
   "id": "900d391d-4277-419d-86ab-edfe19867252",
   "metadata": {},
   "outputs": [
    {
     "data": {
      "text/plain": [
       "'hello aman'"
      ]
     },
     "execution_count": 20,
     "metadata": {},
     "output_type": "execute_result"
    }
   ],
   "source": [
    "greet('aman')"
   ]
  },
  {
   "cell_type": "code",
   "execution_count": null,
   "id": "408161e6-8927-4f65-baca-3bd77ff9c376",
   "metadata": {},
   "outputs": [],
   "source": []
  },
  {
   "cell_type": "code",
   "execution_count": 21,
   "id": "330cb312-730d-463f-aeca-437981ad2243",
   "metadata": {},
   "outputs": [],
   "source": [
    "def decorator(func):\n",
    "    def show(name):\n",
    "        print('-'*100)\n",
    "        print('-'*100)\n",
    "        print(func(name))\n",
    "        print('-'*100)\n",
    "        print('-'*100)\n",
    "    return show"
   ]
  },
  {
   "cell_type": "code",
   "execution_count": 23,
   "id": "ecabdefa-a555-4cd9-a6ea-20165f5bbda7",
   "metadata": {},
   "outputs": [
    {
     "data": {
      "text/plain": [
       "<function __main__.decorator.<locals>.show(name)>"
      ]
     },
     "execution_count": 23,
     "metadata": {},
     "output_type": "execute_result"
    }
   ],
   "source": [
    "v = decorator(greet)\n",
    "v"
   ]
  },
  {
   "cell_type": "code",
   "execution_count": 25,
   "id": "fb0eba3a-ecc9-46d0-a89b-d0f3f802828a",
   "metadata": {},
   "outputs": [
    {
     "name": "stdout",
     "output_type": "stream",
     "text": [
      "----------------------------------------------------------------------------------------------------\n",
      "----------------------------------------------------------------------------------------------------\n",
      "hello aman\n",
      "----------------------------------------------------------------------------------------------------\n",
      "----------------------------------------------------------------------------------------------------\n"
     ]
    }
   ],
   "source": [
    "v('aman')"
   ]
  },
  {
   "cell_type": "code",
   "execution_count": null,
   "id": "7ae9b0d3-dc7a-48d7-8ab1-afcd937de598",
   "metadata": {},
   "outputs": [],
   "source": []
  },
  {
   "cell_type": "code",
   "execution_count": 26,
   "id": "c866779f-ef88-43bd-806f-ccd9bb68e045",
   "metadata": {},
   "outputs": [],
   "source": [
    "@decorator\n",
    "def greet(name):\n",
    "    return f\"hello {name}\""
   ]
  },
  {
   "cell_type": "code",
   "execution_count": 27,
   "id": "66476771-4502-4d6d-937a-d044961358a9",
   "metadata": {},
   "outputs": [
    {
     "name": "stdout",
     "output_type": "stream",
     "text": [
      "----------------------------------------------------------------------------------------------------\n",
      "----------------------------------------------------------------------------------------------------\n",
      "hello rohan\n",
      "----------------------------------------------------------------------------------------------------\n",
      "----------------------------------------------------------------------------------------------------\n"
     ]
    }
   ],
   "source": [
    "greet('rohan')"
   ]
  },
  {
   "cell_type": "code",
   "execution_count": null,
   "id": "2c66693e-03a8-494e-8891-89048794473a",
   "metadata": {},
   "outputs": [],
   "source": []
  },
  {
   "cell_type": "code",
   "execution_count": 28,
   "id": "a1688593-51f6-406c-917b-7f1f35802aa4",
   "metadata": {},
   "outputs": [],
   "source": [
    "\n",
    "def greet(name):\n",
    "    return f\"hello {name}\""
   ]
  },
  {
   "cell_type": "code",
   "execution_count": 29,
   "id": "01192446-c198-4958-9d24-c08ab37a46c9",
   "metadata": {},
   "outputs": [
    {
     "data": {
      "text/plain": [
       "'hello sachin'"
      ]
     },
     "execution_count": 29,
     "metadata": {},
     "output_type": "execute_result"
    }
   ],
   "source": [
    "greet('sachin')"
   ]
  },
  {
   "cell_type": "code",
   "execution_count": null,
   "id": "11b08a61-2245-42cb-8280-96581e906b74",
   "metadata": {},
   "outputs": [],
   "source": []
  }
 ],
 "metadata": {
  "kernelspec": {
   "display_name": "Python 3 (ipykernel)",
   "language": "python",
   "name": "python3"
  },
  "language_info": {
   "codemirror_mode": {
    "name": "ipython",
    "version": 3
   },
   "file_extension": ".py",
   "mimetype": "text/x-python",
   "name": "python",
   "nbconvert_exporter": "python",
   "pygments_lexer": "ipython3",
   "version": "3.11.7"
  }
 },
 "nbformat": 4,
 "nbformat_minor": 5
}
