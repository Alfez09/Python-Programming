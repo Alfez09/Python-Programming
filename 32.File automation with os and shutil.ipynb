{
 "cells": [
  {
   "cell_type": "code",
   "execution_count": 1,
   "id": "96b653ee-9e4f-4c7e-95f4-ce81d769844d",
   "metadata": {},
   "outputs": [],
   "source": [
    "import os\n",
    "import shutil"
   ]
  },
  {
   "cell_type": "code",
   "execution_count": null,
   "id": "185f4fae-4c0b-450f-9daa-7bcbe93b22e2",
   "metadata": {},
   "outputs": [],
   "source": []
  },
  {
   "cell_type": "code",
   "execution_count": 2,
   "id": "a509ac5e-382c-4adc-b4e1-d2d6465a4f71",
   "metadata": {},
   "outputs": [
    {
     "name": "stdin",
     "output_type": "stream",
     "text": [
      "Enter source path:  C:/Users/hello/personal_data/desktop\n",
      "Enter destination path:  C:/Users/hello/personal_data/new folder\n"
     ]
    }
   ],
   "source": [
    "source_path = input('Enter source path: ')\n",
    "destination_path = input('Enter destination path: ')\n"
   ]
  },
  {
   "cell_type": "code",
   "execution_count": null,
   "id": "7f571bc4-ea94-4376-8988-ffd29ea19945",
   "metadata": {},
   "outputs": [],
   "source": []
  },
  {
   "cell_type": "code",
   "execution_count": 3,
   "id": "e12733f1-dc15-43f6-971a-9e991e327dbc",
   "metadata": {},
   "outputs": [
    {
     "data": {
      "text/plain": [
       "True"
      ]
     },
     "execution_count": 3,
     "metadata": {},
     "output_type": "execute_result"
    }
   ],
   "source": [
    "os.path.exists(source_path)"
   ]
  },
  {
   "cell_type": "code",
   "execution_count": 4,
   "id": "ad175d90-d4de-42e5-a4af-540d42f5051f",
   "metadata": {},
   "outputs": [
    {
     "data": {
      "text/plain": [
       "True"
      ]
     },
     "execution_count": 4,
     "metadata": {},
     "output_type": "execute_result"
    }
   ],
   "source": [
    "os.path.exists(destination_path)\n"
   ]
  },
  {
   "cell_type": "code",
   "execution_count": 5,
   "id": "9ed85eca-efc4-4821-9d87-552d2a6d76bc",
   "metadata": {},
   "outputs": [
    {
     "data": {
      "text/plain": [
       "True"
      ]
     },
     "execution_count": 5,
     "metadata": {},
     "output_type": "execute_result"
    }
   ],
   "source": [
    "os.path.isdir(source_path)"
   ]
  },
  {
   "cell_type": "code",
   "execution_count": 6,
   "id": "5bf5869f-dd44-417b-9bb5-27ecb97c0636",
   "metadata": {},
   "outputs": [
    {
     "data": {
      "text/plain": [
       "True"
      ]
     },
     "execution_count": 6,
     "metadata": {},
     "output_type": "execute_result"
    }
   ],
   "source": [
    "os.path.isdir(destination_path)\n"
   ]
  },
  {
   "cell_type": "code",
   "execution_count": 12,
   "id": "7ba704e6-ab0d-43e4-a697-4222cae40fe7",
   "metadata": {},
   "outputs": [
    {
     "name": "stdout",
     "output_type": "stream",
     "text": [
      "['C:/Users/hello/personal_data/desktop\\\\1.Descriptive_Stats.ipynb', 'C:/Users/hello/personal_data/desktop\\\\CarPrice_Assignment.csv', 'C:/Users/hello/personal_data/desktop\\\\domains.xlsx', 'C:/Users/hello/personal_data/desktop\\\\GRRAS_Profile.pdf', 'C:/Users/hello/personal_data/desktop\\\\HospitalManagementSystem.zip', 'C:/Users/hello/personal_data/desktop\\\\itemInvoiceDownload.pdf', 'C:/Users/hello/personal_data/desktop\\\\Netflix.ipynb', 'C:/Users/hello/personal_data/desktop\\\\netflix_titles.csv', 'C:/Users/hello/personal_data/desktop\\\\Python_Mock_Test(1-280).xlsx', 'C:/Users/hello/personal_data/desktop\\\\YouTube.zip']\n",
      "All files moved to the dest path --> C:/Users/hello/personal_data/new folder\n"
     ]
    }
   ],
   "source": [
    "if os.path.exists(source_path) and os.path.isdir(source_path):\n",
    "    if os.path.exists(destination_path) and os.path.isdir(destination_path):\n",
    "        old_path = os.getcwd()\n",
    "        os.chdir(source_path)\n",
    "        data = os.listdir()\n",
    "        ls = [os.path.join(source_path, i) for i in data]\n",
    "        files_path = list(filter(lambda x: True if os.path.isfile(x) else False, ls))\n",
    "        for i in files_path:\n",
    "            shutil.move(i, destination_path)\n",
    "        else:\n",
    "            print(f\"All files moved to the dest path --> {destination_path}\")\n",
    "        os.chdir(old_path)\n",
    "    else:\n",
    "        print('destination path is not exists either not a dir')\n",
    "else:\n",
    "    print('source path is not exists either not a dir')"
   ]
  },
  {
   "cell_type": "code",
   "execution_count": 8,
   "id": "3f745e8c-4348-4560-845a-9989fb294482",
   "metadata": {},
   "outputs": [
    {
     "data": {
      "text/plain": [
       "'C:\\\\Users\\\\hello\\\\Grras_Data\\\\Grras Solutions Pvt. Ltd\\\\Python 6.30pm'"
      ]
     },
     "execution_count": 8,
     "metadata": {},
     "output_type": "execute_result"
    }
   ],
   "source": [
    "pwd"
   ]
  },
  {
   "cell_type": "code",
   "execution_count": null,
   "id": "22ad50bc-6a95-4e3b-915b-5d2ff1e25e45",
   "metadata": {},
   "outputs": [],
   "source": []
  },
  {
   "cell_type": "markdown",
   "id": "af7a2bbf-a36a-46dc-bd9b-97c2e267fb82",
   "metadata": {},
   "source": [
    "        os.walk()"
   ]
  },
  {
   "cell_type": "code",
   "execution_count": null,
   "id": "0feabf8d-8a8b-4890-a29a-84a3dfb34389",
   "metadata": {},
   "outputs": [],
   "source": []
  },
  {
   "cell_type": "code",
   "execution_count": null,
   "id": "36d5a01a-67d5-4b4c-a55d-2e7a2a32350e",
   "metadata": {},
   "outputs": [],
   "source": []
  },
  {
   "cell_type": "code",
   "execution_count": null,
   "id": "b45b5b07-f94e-423b-83bc-c61f24e43b6a",
   "metadata": {},
   "outputs": [],
   "source": []
  },
  {
   "cell_type": "code",
   "execution_count": null,
   "id": "827938c0-0a58-4450-8dee-640c604fa540",
   "metadata": {},
   "outputs": [],
   "source": []
  }
 ],
 "metadata": {
  "kernelspec": {
   "display_name": "Python 3 (ipykernel)",
   "language": "python",
   "name": "python3"
  },
  "language_info": {
   "codemirror_mode": {
    "name": "ipython",
    "version": 3
   },
   "file_extension": ".py",
   "mimetype": "text/x-python",
   "name": "python",
   "nbconvert_exporter": "python",
   "pygments_lexer": "ipython3",
   "version": "3.11.7"
  }
 },
 "nbformat": 4,
 "nbformat_minor": 5
}
