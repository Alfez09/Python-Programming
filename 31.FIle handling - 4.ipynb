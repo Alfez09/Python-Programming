{
 "cells": [
  {
   "cell_type": "markdown",
   "id": "64170342-a1b8-4432-87e7-09f4fdbc2dd3",
   "metadata": {},
   "source": [
    "## Student marksheet"
   ]
  },
  {
   "cell_type": "code",
   "execution_count": null,
   "id": "9734fbef-1eff-460f-b0f3-d6b0c2691c15",
   "metadata": {},
   "outputs": [],
   "source": []
  },
  {
   "cell_type": "code",
   "execution_count": 1,
   "id": "739e4865-444a-4cdb-b030-6ce1f4bcff0e",
   "metadata": {},
   "outputs": [],
   "source": [
    "header = \"Name,Physics,Chemistry,Math\\n\""
   ]
  },
  {
   "cell_type": "code",
   "execution_count": 2,
   "id": "0f3448a1-9e86-45c5-875e-0c0bb9f287bb",
   "metadata": {},
   "outputs": [],
   "source": [
    "with open('Student_marks.csv', 'w') as f:\n",
    "    f.write(header)"
   ]
  },
  {
   "cell_type": "code",
   "execution_count": 5,
   "id": "bc56b19b-b488-4f6f-abd4-a93b3cb252f7",
   "metadata": {},
   "outputs": [
    {
     "name": "stdin",
     "output_type": "stream",
     "text": [
      "Enter number of students:  3\n",
      "Enter student1 name:  ashish\n",
      "Enter Physics marks:  23\n",
      "Enter Chemistry marks:  34\n",
      "Enter Math marks:  45\n",
      "Enter student2 name:  vaibhav\n",
      "Enter Physics marks:  32\n",
      "Enter Chemistry marks:  34\n",
      "Enter Math marks:  56\n",
      "Enter student3 name:  aman\n",
      "Enter Physics marks:  32\n",
      "Enter Chemistry marks:  45\n",
      "Enter Math marks:  67\n"
     ]
    }
   ],
   "source": [
    "with open('Student_marks.csv') as f:\n",
    "    data = f.readline()\n",
    "    subjects = data.strip().split(',')[1:]\n",
    "\n",
    "with open('Student_marks.csv', 'a') as f:\n",
    "    for i in range(int(input('Enter number of students: '))):\n",
    "        name = input(f'Enter student{i+1} name: ')\n",
    "        line = f\"{name}\"\n",
    "        m = \"\"\n",
    "        for i in subjects:\n",
    "            marks = int(input(f'Enter {i} marks: '))\n",
    "            m += f\",{marks}\"\n",
    "        else:\n",
    "            line += f\"{m}\\n\"\n",
    "            f.write(line)\n",
    "        "
   ]
  },
  {
   "cell_type": "code",
   "execution_count": null,
   "id": "c5e64609-744d-4797-ac18-7b1b16747aaa",
   "metadata": {},
   "outputs": [],
   "source": []
  }
 ],
 "metadata": {
  "kernelspec": {
   "display_name": "Python 3 (ipykernel)",
   "language": "python",
   "name": "python3"
  },
  "language_info": {
   "codemirror_mode": {
    "name": "ipython",
    "version": 3
   },
   "file_extension": ".py",
   "mimetype": "text/x-python",
   "name": "python",
   "nbconvert_exporter": "python",
   "pygments_lexer": "ipython3",
   "version": "3.11.7"
  }
 },
 "nbformat": 4,
 "nbformat_minor": 5
}
