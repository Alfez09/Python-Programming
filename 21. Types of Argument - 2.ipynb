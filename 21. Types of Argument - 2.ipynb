{
 "cells": [
  {
   "cell_type": "markdown",
   "id": "75c17a41",
   "metadata": {},
   "source": [
    "## variable length argument\n",
    "            \n",
    "            *var_name"
   ]
  },
  {
   "cell_type": "code",
   "execution_count": null,
   "id": "88a09c99",
   "metadata": {},
   "outputs": [],
   "source": []
  },
  {
   "cell_type": "markdown",
   "id": "cb1cc14d",
   "metadata": {},
   "source": [
    "    "
   ]
  },
  {
   "cell_type": "markdown",
   "id": "25fc965b",
   "metadata": {},
   "source": [
    "    zip()"
   ]
  },
  {
   "cell_type": "markdown",
   "id": "8c4f2c79",
   "metadata": {},
   "source": [
    "    print()\n",
    "    \n",
    "    file=sys.stdout, flush=False"
   ]
  },
  {
   "cell_type": "code",
   "execution_count": null,
   "id": "e6473a55",
   "metadata": {},
   "outputs": [],
   "source": []
  },
  {
   "cell_type": "code",
   "execution_count": 1,
   "id": "1d610eb3",
   "metadata": {},
   "outputs": [],
   "source": [
    "def func(*var):          # packing\n",
    "    print(var)"
   ]
  },
  {
   "cell_type": "code",
   "execution_count": 2,
   "id": "c4fc9abd",
   "metadata": {},
   "outputs": [
    {
     "name": "stdout",
     "output_type": "stream",
     "text": [
      "(10, 20, 30, 40, 50)\n"
     ]
    }
   ],
   "source": [
    "func(10,20,30,40,50)"
   ]
  },
  {
   "cell_type": "code",
   "execution_count": null,
   "id": "d8691228",
   "metadata": {},
   "outputs": [],
   "source": []
  },
  {
   "cell_type": "code",
   "execution_count": 3,
   "id": "5a4bab77",
   "metadata": {},
   "outputs": [],
   "source": [
    "def func(*var):          # packing\n",
    "    print(var)\n",
    "    print(type(var))\n",
    "    for i in var:\n",
    "        print(i)"
   ]
  },
  {
   "cell_type": "code",
   "execution_count": 4,
   "id": "5a0bb6a0",
   "metadata": {},
   "outputs": [
    {
     "name": "stdout",
     "output_type": "stream",
     "text": [
      "(10, 20, 30, 40, 50)\n",
      "<class 'tuple'>\n",
      "10\n",
      "20\n",
      "30\n",
      "40\n",
      "50\n"
     ]
    }
   ],
   "source": [
    "func(10,20,30,40,50)"
   ]
  },
  {
   "cell_type": "code",
   "execution_count": null,
   "id": "dfc6b19d",
   "metadata": {},
   "outputs": [],
   "source": []
  },
  {
   "cell_type": "code",
   "execution_count": 5,
   "id": "1e6d6f9d",
   "metadata": {},
   "outputs": [],
   "source": [
    "def func(*var):          # packing\n",
    "    print(min(var))\n",
    "    print(max(var))\n",
    "    print(sum(var))"
   ]
  },
  {
   "cell_type": "code",
   "execution_count": 6,
   "id": "aafe0b53",
   "metadata": {},
   "outputs": [
    {
     "name": "stdout",
     "output_type": "stream",
     "text": [
      "10\n",
      "50\n",
      "150\n"
     ]
    }
   ],
   "source": [
    "func(10,20,30,40,50)"
   ]
  },
  {
   "cell_type": "code",
   "execution_count": null,
   "id": "b59ee0ff",
   "metadata": {},
   "outputs": [],
   "source": []
  },
  {
   "cell_type": "code",
   "execution_count": 7,
   "id": "aaf13fb4",
   "metadata": {},
   "outputs": [],
   "source": [
    "def fun(a,b,c,*var):\n",
    "    print(a)\n",
    "    print(b)\n",
    "    print(c)\n",
    "    print(var)"
   ]
  },
  {
   "cell_type": "code",
   "execution_count": 8,
   "id": "76c76e44",
   "metadata": {},
   "outputs": [
    {
     "name": "stdout",
     "output_type": "stream",
     "text": [
      "1\n",
      "2\n",
      "3\n",
      "(4, 5, 6, 7, 8, 9, 10)\n"
     ]
    }
   ],
   "source": [
    "fun(1,2,3,4,5,6,7,8,9,10)"
   ]
  },
  {
   "cell_type": "code",
   "execution_count": 9,
   "id": "1484788e",
   "metadata": {},
   "outputs": [
    {
     "ename": "TypeError",
     "evalue": "fun() missing 1 required positional argument: 'c'",
     "output_type": "error",
     "traceback": [
      "\u001b[1;31m---------------------------------------------------------------------------\u001b[0m",
      "\u001b[1;31mTypeError\u001b[0m                                 Traceback (most recent call last)",
      "Cell \u001b[1;32mIn[9], line 1\u001b[0m\n\u001b[1;32m----> 1\u001b[0m \u001b[43mfun\u001b[49m\u001b[43m(\u001b[49m\u001b[38;5;241;43m12\u001b[39;49m\u001b[43m,\u001b[49m\u001b[38;5;241;43m34\u001b[39;49m\u001b[43m)\u001b[49m\n",
      "\u001b[1;31mTypeError\u001b[0m: fun() missing 1 required positional argument: 'c'"
     ]
    }
   ],
   "source": [
    "fun(12,34)"
   ]
  },
  {
   "cell_type": "code",
   "execution_count": 10,
   "id": "3d8cf912",
   "metadata": {},
   "outputs": [
    {
     "name": "stdout",
     "output_type": "stream",
     "text": [
      "10\n",
      "20\n",
      "30\n",
      "()\n"
     ]
    }
   ],
   "source": [
    "fun(10,20,30)"
   ]
  },
  {
   "cell_type": "code",
   "execution_count": null,
   "id": "bd8e6e10",
   "metadata": {},
   "outputs": [],
   "source": []
  },
  {
   "cell_type": "code",
   "execution_count": 11,
   "id": "653c285a",
   "metadata": {},
   "outputs": [],
   "source": [
    "def fun(a,b,c=50,*var):\n",
    "    print(a)\n",
    "    print(b)\n",
    "    print(c)\n",
    "    print(var)"
   ]
  },
  {
   "cell_type": "code",
   "execution_count": 12,
   "id": "c94f8ade",
   "metadata": {},
   "outputs": [
    {
     "name": "stdout",
     "output_type": "stream",
     "text": [
      "10\n",
      "200\n",
      "3\n",
      "(40, 50)\n"
     ]
    }
   ],
   "source": [
    "fun(10, 200, 3, 40, 50)"
   ]
  },
  {
   "cell_type": "code",
   "execution_count": 13,
   "id": "d5762a91",
   "metadata": {},
   "outputs": [
    {
     "name": "stdout",
     "output_type": "stream",
     "text": [
      "10\n",
      "20\n",
      "50\n",
      "()\n"
     ]
    }
   ],
   "source": [
    "fun(10,20)"
   ]
  },
  {
   "cell_type": "code",
   "execution_count": null,
   "id": "18ba8617",
   "metadata": {},
   "outputs": [],
   "source": []
  },
  {
   "cell_type": "code",
   "execution_count": 14,
   "id": "d845e437",
   "metadata": {},
   "outputs": [],
   "source": [
    "def fun(a,b,*var, c=50):\n",
    "    print(a)\n",
    "    print(b)\n",
    "    print(c)\n",
    "    print(var)"
   ]
  },
  {
   "cell_type": "code",
   "execution_count": 15,
   "id": "287640d8",
   "metadata": {},
   "outputs": [
    {
     "name": "stdout",
     "output_type": "stream",
     "text": [
      "10\n",
      "20\n",
      "50\n",
      "(30,)\n"
     ]
    }
   ],
   "source": [
    "fun(10,20,30)"
   ]
  },
  {
   "cell_type": "code",
   "execution_count": null,
   "id": "143bb1fc",
   "metadata": {},
   "outputs": [],
   "source": []
  },
  {
   "cell_type": "code",
   "execution_count": 18,
   "id": "4068266e",
   "metadata": {},
   "outputs": [],
   "source": [
    "a = (23, )"
   ]
  },
  {
   "cell_type": "code",
   "execution_count": 19,
   "id": "b9287466",
   "metadata": {},
   "outputs": [
    {
     "data": {
      "text/plain": [
       "tuple"
      ]
     },
     "execution_count": 19,
     "metadata": {},
     "output_type": "execute_result"
    }
   ],
   "source": [
    "type(a)"
   ]
  },
  {
   "cell_type": "code",
   "execution_count": null,
   "id": "ec6c2bdb",
   "metadata": {},
   "outputs": [],
   "source": []
  },
  {
   "cell_type": "code",
   "execution_count": 20,
   "id": "101d0600",
   "metadata": {},
   "outputs": [
    {
     "name": "stdout",
     "output_type": "stream",
     "text": [
      "1 2 3 4 5\n"
     ]
    }
   ],
   "source": [
    "print(1,2,3,4,5)"
   ]
  },
  {
   "cell_type": "code",
   "execution_count": 21,
   "id": "ef6d01cb",
   "metadata": {},
   "outputs": [
    {
     "name": "stdout",
     "output_type": "stream",
     "text": [
      "1,2,3,4,5\n"
     ]
    }
   ],
   "source": [
    "print(1,2,3,4,5, sep=',')"
   ]
  },
  {
   "cell_type": "code",
   "execution_count": null,
   "id": "d779c538",
   "metadata": {},
   "outputs": [],
   "source": []
  },
  {
   "cell_type": "markdown",
   "id": "253518fb",
   "metadata": {},
   "source": [
    "## keyword variable length argument\n",
    "\n",
    "            **var_name"
   ]
  },
  {
   "cell_type": "code",
   "execution_count": null,
   "id": "495b29b2",
   "metadata": {},
   "outputs": [],
   "source": []
  },
  {
   "cell_type": "code",
   "execution_count": 22,
   "id": "515613bc",
   "metadata": {},
   "outputs": [],
   "source": [
    "def demo(**kwarg):\n",
    "    print(kwarg)"
   ]
  },
  {
   "cell_type": "code",
   "execution_count": 23,
   "id": "f6c101fa",
   "metadata": {},
   "outputs": [
    {
     "name": "stdout",
     "output_type": "stream",
     "text": [
      "{'name': 'aman', 'age': 25, 'address': 'jaipur'}\n"
     ]
    }
   ],
   "source": [
    "demo(name='aman', age=25, address='jaipur')"
   ]
  },
  {
   "cell_type": "code",
   "execution_count": null,
   "id": "246bac05",
   "metadata": {},
   "outputs": [],
   "source": []
  },
  {
   "cell_type": "code",
   "execution_count": 24,
   "id": "343e6b85",
   "metadata": {},
   "outputs": [
    {
     "ename": "SyntaxError",
     "evalue": "keyword argument repeated: name (3556073658.py, line 1)",
     "output_type": "error",
     "traceback": [
      "\u001b[1;36m  Cell \u001b[1;32mIn[24], line 1\u001b[1;36m\u001b[0m\n\u001b[1;33m    demo(name='aman', age=25, address='jaipur', name='rohan')\u001b[0m\n\u001b[1;37m                                                ^\u001b[0m\n\u001b[1;31mSyntaxError\u001b[0m\u001b[1;31m:\u001b[0m keyword argument repeated: name\n"
     ]
    }
   ],
   "source": [
    "demo(name='aman', age=25, address='jaipur', name='rohan')"
   ]
  },
  {
   "cell_type": "code",
   "execution_count": null,
   "id": "0066cbb1",
   "metadata": {},
   "outputs": [],
   "source": []
  },
  {
   "cell_type": "code",
   "execution_count": null,
   "id": "b17a19f8",
   "metadata": {},
   "outputs": [],
   "source": []
  },
  {
   "cell_type": "code",
   "execution_count": 25,
   "id": "9872f394",
   "metadata": {},
   "outputs": [],
   "source": [
    "def final_func(positional, default=40, *var, **kwarg):\n",
    "    print(f\"Required / Positional Arguments: {positional}\")\n",
    "    print(f\"Default Argument: {default}\")\n",
    "    print(f\"Variable length Argument: {var}\")\n",
    "    print(f\"Keyword variable length argument: {kwarg}\")"
   ]
  },
  {
   "cell_type": "code",
   "execution_count": 26,
   "id": "03cc268d",
   "metadata": {},
   "outputs": [
    {
     "name": "stdout",
     "output_type": "stream",
     "text": [
      "Required / Positional Arguments: 100\n",
      "Default Argument: 40\n",
      "Variable length Argument: ()\n",
      "Keyword variable length argument: {}\n"
     ]
    }
   ],
   "source": [
    "final_func(100)"
   ]
  },
  {
   "cell_type": "code",
   "execution_count": 27,
   "id": "1402c869",
   "metadata": {},
   "outputs": [
    {
     "ename": "TypeError",
     "evalue": "final_func() missing 1 required positional argument: 'positional'",
     "output_type": "error",
     "traceback": [
      "\u001b[1;31m---------------------------------------------------------------------------\u001b[0m",
      "\u001b[1;31mTypeError\u001b[0m                                 Traceback (most recent call last)",
      "Cell \u001b[1;32mIn[27], line 1\u001b[0m\n\u001b[1;32m----> 1\u001b[0m \u001b[43mfinal_func\u001b[49m\u001b[43m(\u001b[49m\u001b[43m)\u001b[49m\n",
      "\u001b[1;31mTypeError\u001b[0m: final_func() missing 1 required positional argument: 'positional'"
     ]
    }
   ],
   "source": [
    "final_func()"
   ]
  },
  {
   "cell_type": "code",
   "execution_count": 28,
   "id": "5e9093ab",
   "metadata": {},
   "outputs": [
    {
     "name": "stdout",
     "output_type": "stream",
     "text": [
      "Required / Positional Arguments: 10\n",
      "Default Argument: 20\n",
      "Variable length Argument: (30, 40)\n",
      "Keyword variable length argument: {'name': 'rohan', 'age': 25}\n"
     ]
    }
   ],
   "source": [
    "final_func(10,20,30,40,name='rohan', age=25)"
   ]
  },
  {
   "cell_type": "code",
   "execution_count": null,
   "id": "27aea7dd",
   "metadata": {},
   "outputs": [],
   "source": []
  }
 ],
 "metadata": {
  "kernelspec": {
   "display_name": "Python 3 (ipykernel)",
   "language": "python",
   "name": "python3"
  },
  "language_info": {
   "codemirror_mode": {
    "name": "ipython",
    "version": 3
   },
   "file_extension": ".py",
   "mimetype": "text/x-python",
   "name": "python",
   "nbconvert_exporter": "python",
   "pygments_lexer": "ipython3",
   "version": "3.10.9"
  }
 },
 "nbformat": 4,
 "nbformat_minor": 5
}
