{
 "cells": [
  {
   "cell_type": "markdown",
   "id": "21baf32c",
   "metadata": {},
   "source": [
    "# for in loop\n",
    "\n",
    "                        syntax:\n",
    "                                for var in iterable:\n",
    "                                    # block of statement"
   ]
  },
  {
   "cell_type": "code",
   "execution_count": null,
   "id": "7dcab844",
   "metadata": {},
   "outputs": [],
   "source": []
  },
  {
   "cell_type": "code",
   "execution_count": 1,
   "id": "f3f41866",
   "metadata": {},
   "outputs": [
    {
     "name": "stdout",
     "output_type": "stream",
     "text": [
      "10\n",
      "20\n",
      "30\n",
      "40\n",
      "50\n"
     ]
    }
   ],
   "source": [
    "for var in [10,20,30,40,50]:\n",
    "    print(var)"
   ]
  },
  {
   "cell_type": "code",
   "execution_count": null,
   "id": "06a43109",
   "metadata": {},
   "outputs": [],
   "source": []
  },
  {
   "cell_type": "code",
   "execution_count": 2,
   "id": "adc234d4",
   "metadata": {},
   "outputs": [
    {
     "name": "stdout",
     "output_type": "stream",
     "text": [
      "10\n",
      "20\n",
      "30\n"
     ]
    }
   ],
   "source": [
    "i = 0\n",
    "\n",
    "for var in [10,20,30,40,50]:\n",
    "    if i == 3:\n",
    "        break\n",
    "    print(var)\n",
    "    i += 1"
   ]
  },
  {
   "cell_type": "code",
   "execution_count": null,
   "id": "00bb9ee6",
   "metadata": {},
   "outputs": [],
   "source": []
  },
  {
   "cell_type": "code",
   "execution_count": 3,
   "id": "fa3d4179",
   "metadata": {},
   "outputs": [
    {
     "name": "stdout",
     "output_type": "stream",
     "text": [
      "p\n",
      "y\n",
      "t\n",
      "h\n",
      "o\n",
      "n\n"
     ]
    }
   ],
   "source": [
    "for i in 'python':\n",
    "    print(i)"
   ]
  },
  {
   "cell_type": "code",
   "execution_count": null,
   "id": "2802ff46",
   "metadata": {},
   "outputs": [],
   "source": []
  },
  {
   "cell_type": "code",
   "execution_count": 4,
   "id": "bfac6c74",
   "metadata": {},
   "outputs": [
    {
     "name": "stdout",
     "output_type": "stream",
     "text": [
      "56\n",
      "78\n",
      "345\n",
      "78\n",
      "89\n",
      "78\n"
     ]
    }
   ],
   "source": [
    "ls = [23,45,56,78,345,78,89,45,78]\n",
    "\n",
    "for i in ls:\n",
    "    if i > 50:\n",
    "        print(i)"
   ]
  },
  {
   "cell_type": "code",
   "execution_count": 5,
   "id": "e542a8b7",
   "metadata": {},
   "outputs": [
    {
     "data": {
      "text/plain": [
       "[23, 45, 56, 78, 345, 78, 89, 45, 78]"
      ]
     },
     "execution_count": 5,
     "metadata": {},
     "output_type": "execute_result"
    }
   ],
   "source": [
    "ls"
   ]
  },
  {
   "cell_type": "code",
   "execution_count": 6,
   "id": "e1a1c2f6",
   "metadata": {},
   "outputs": [
    {
     "name": "stdout",
     "output_type": "stream",
     "text": [
      "56 is even number\n",
      "78 is even number\n",
      "78 is even number\n",
      "78 is even number\n"
     ]
    }
   ],
   "source": [
    "for i in ls:\n",
    "    if i % 2 == 0:\n",
    "        print(f\"{i} is even number\")"
   ]
  },
  {
   "cell_type": "code",
   "execution_count": null,
   "id": "8e60760e",
   "metadata": {},
   "outputs": [],
   "source": []
  },
  {
   "cell_type": "code",
   "execution_count": 7,
   "id": "d01eaee0",
   "metadata": {},
   "outputs": [],
   "source": [
    "l1 = [1,2,3,4,5,6,7,8,9,10]"
   ]
  },
  {
   "cell_type": "code",
   "execution_count": 9,
   "id": "4c5eb346",
   "metadata": {},
   "outputs": [],
   "source": [
    "l2 = []"
   ]
  },
  {
   "cell_type": "code",
   "execution_count": 10,
   "id": "e3774516",
   "metadata": {},
   "outputs": [],
   "source": [
    "for i in l1:\n",
    "    l2.append(i**3)"
   ]
  },
  {
   "cell_type": "code",
   "execution_count": 11,
   "id": "f2c72128",
   "metadata": {},
   "outputs": [
    {
     "data": {
      "text/plain": [
       "[1, 8, 27, 64, 125, 216, 343, 512, 729, 1000]"
      ]
     },
     "execution_count": 11,
     "metadata": {},
     "output_type": "execute_result"
    }
   ],
   "source": [
    "l2"
   ]
  },
  {
   "cell_type": "code",
   "execution_count": null,
   "id": "b267882e",
   "metadata": {},
   "outputs": [],
   "source": []
  },
  {
   "cell_type": "code",
   "execution_count": 12,
   "id": "5ed48ae7",
   "metadata": {},
   "outputs": [],
   "source": [
    "names = ['anil', 'rohan', 'ashish', 'sunil', 'vaibhav']"
   ]
  },
  {
   "cell_type": "code",
   "execution_count": 13,
   "id": "3a19015e",
   "metadata": {},
   "outputs": [
    {
     "name": "stdout",
     "output_type": "stream",
     "text": [
      "ANIL\n",
      "Rohan\n",
      "ASHISH\n",
      "Sunil\n",
      "Vaibhav\n"
     ]
    }
   ],
   "source": [
    "for i in names:\n",
    "    if i.startswith('a'):\n",
    "        print(i.upper())\n",
    "    else:\n",
    "        print(i.title())"
   ]
  },
  {
   "cell_type": "code",
   "execution_count": null,
   "id": "a291fb2b",
   "metadata": {},
   "outputs": [],
   "source": []
  },
  {
   "cell_type": "code",
   "execution_count": 14,
   "id": "fe08b1c3",
   "metadata": {},
   "outputs": [],
   "source": [
    "ls = ['10', '20', '30', '40', '50']"
   ]
  },
  {
   "cell_type": "code",
   "execution_count": null,
   "id": "a49184d9",
   "metadata": {},
   "outputs": [],
   "source": []
  },
  {
   "cell_type": "code",
   "execution_count": 16,
   "id": "daf1e527",
   "metadata": {},
   "outputs": [
    {
     "data": {
      "text/plain": [
       "10"
      ]
     },
     "execution_count": 16,
     "metadata": {},
     "output_type": "execute_result"
    }
   ],
   "source": [
    "int(ls[0])"
   ]
  },
  {
   "cell_type": "code",
   "execution_count": 17,
   "id": "5bce2799",
   "metadata": {},
   "outputs": [
    {
     "name": "stdout",
     "output_type": "stream",
     "text": [
      "10\n",
      "20\n",
      "30\n",
      "40\n",
      "50\n"
     ]
    }
   ],
   "source": [
    "for i in ls:\n",
    "    print(int(i))"
   ]
  },
  {
   "cell_type": "code",
   "execution_count": null,
   "id": "3336c133",
   "metadata": {},
   "outputs": [],
   "source": []
  },
  {
   "cell_type": "code",
   "execution_count": null,
   "id": "49436d91",
   "metadata": {},
   "outputs": [],
   "source": []
  },
  {
   "cell_type": "code",
   "execution_count": 19,
   "id": "6c0cde1f",
   "metadata": {},
   "outputs": [
    {
     "name": "stdout",
     "output_type": "stream",
     "text": [
      "10\n",
      "20\n",
      "30\n",
      "40\n",
      "50\n"
     ]
    }
   ],
   "source": [
    "for i in ls:\n",
    "    print(i)\n",
    "    continue"
   ]
  },
  {
   "cell_type": "code",
   "execution_count": null,
   "id": "fe13c421",
   "metadata": {},
   "outputs": [],
   "source": []
  },
  {
   "cell_type": "code",
   "execution_count": 20,
   "id": "03a66e41",
   "metadata": {},
   "outputs": [
    {
     "data": {
      "text/plain": [
       "['10', '20', '30', '40', '50']"
      ]
     },
     "execution_count": 20,
     "metadata": {},
     "output_type": "execute_result"
    }
   ],
   "source": [
    "ls"
   ]
  },
  {
   "cell_type": "code",
   "execution_count": null,
   "id": "bfc94f5b",
   "metadata": {},
   "outputs": [],
   "source": []
  },
  {
   "cell_type": "code",
   "execution_count": 21,
   "id": "1e1d15ae",
   "metadata": {},
   "outputs": [
    {
     "data": {
      "text/plain": [
       "['anil', 'rohan', 'ashish', 'sunil', 'vaibhav']"
      ]
     },
     "execution_count": 21,
     "metadata": {},
     "output_type": "execute_result"
    }
   ],
   "source": [
    "names"
   ]
  },
  {
   "cell_type": "code",
   "execution_count": 22,
   "id": "bee8e2e1",
   "metadata": {},
   "outputs": [
    {
     "name": "stdout",
     "output_type": "stream",
     "text": [
      "anil\n",
      "rohan\n",
      "sunil\n"
     ]
    }
   ],
   "source": [
    "for i in names:\n",
    "    if len(i) > 5:\n",
    "        continue\n",
    "    else:\n",
    "        print(i)"
   ]
  },
  {
   "cell_type": "code",
   "execution_count": null,
   "id": "754f354d",
   "metadata": {},
   "outputs": [],
   "source": []
  },
  {
   "cell_type": "code",
   "execution_count": 1,
   "id": "e5bc76db",
   "metadata": {},
   "outputs": [],
   "source": [
    "languages = ['python', 'java', 'c++', 'c', 'perl', 'ruby', 'solidity']"
   ]
  },
  {
   "cell_type": "code",
   "execution_count": null,
   "id": "0cd44965",
   "metadata": {},
   "outputs": [],
   "source": []
  },
  {
   "cell_type": "code",
   "execution_count": 2,
   "id": "dfed2e8b",
   "metadata": {},
   "outputs": [
    {
     "name": "stdout",
     "output_type": "stream",
     "text": [
      "Most popular language: python\n",
      "Most popular language: java\n",
      "Old is gold: c++\n",
      "Old is gold: c\n",
      "perl is used for specific purpose\n",
      "ruby is used for specific purpose\n",
      "solidity is used for specific purpose\n"
     ]
    }
   ],
   "source": [
    "for i in languages:\n",
    "    if i == 'python' or i == 'java':\n",
    "        print(f\"Most popular language: {i}\")\n",
    "        \n",
    "    elif i == 'c++' or i =='c':\n",
    "        print(f\"Old is gold: {i}\")\n",
    "    \n",
    "    else:\n",
    "        print(f\"{i} is used for specific purpose\")"
   ]
  },
  {
   "cell_type": "code",
   "execution_count": null,
   "id": "5985eb16",
   "metadata": {},
   "outputs": [],
   "source": []
  },
  {
   "cell_type": "code",
   "execution_count": null,
   "id": "269d4265",
   "metadata": {},
   "outputs": [],
   "source": []
  },
  {
   "cell_type": "code",
   "execution_count": 3,
   "id": "daa8c42d",
   "metadata": {},
   "outputs": [],
   "source": [
    "s = {23,45,56,67,89,90}"
   ]
  },
  {
   "cell_type": "code",
   "execution_count": 4,
   "id": "0d60b45e",
   "metadata": {},
   "outputs": [
    {
     "data": {
      "text/plain": [
       "{23, 45, 56, 67, 89, 90}"
      ]
     },
     "execution_count": 4,
     "metadata": {},
     "output_type": "execute_result"
    }
   ],
   "source": [
    "s"
   ]
  },
  {
   "cell_type": "code",
   "execution_count": 5,
   "id": "b1d90978",
   "metadata": {},
   "outputs": [],
   "source": [
    "s1 = {23,'python', 'java', 23,56,78,34}"
   ]
  },
  {
   "cell_type": "code",
   "execution_count": 6,
   "id": "4f8a3f64",
   "metadata": {},
   "outputs": [
    {
     "data": {
      "text/plain": [
       "{23, 34, 56, 78, 'java', 'python'}"
      ]
     },
     "execution_count": 6,
     "metadata": {},
     "output_type": "execute_result"
    }
   ],
   "source": [
    "s1"
   ]
  },
  {
   "cell_type": "code",
   "execution_count": null,
   "id": "f1420c75",
   "metadata": {},
   "outputs": [],
   "source": []
  },
  {
   "cell_type": "code",
   "execution_count": 7,
   "id": "7b6db603",
   "metadata": {},
   "outputs": [
    {
     "name": "stdout",
     "output_type": "stream",
     "text": [
      "34\n",
      "java\n",
      "23\n",
      "56\n",
      "python\n",
      "78\n"
     ]
    }
   ],
   "source": [
    "for i in s1:\n",
    "    print(i)"
   ]
  },
  {
   "cell_type": "code",
   "execution_count": null,
   "id": "0dc8ca9c",
   "metadata": {},
   "outputs": [],
   "source": []
  },
  {
   "cell_type": "code",
   "execution_count": 9,
   "id": "cf33d2cb",
   "metadata": {},
   "outputs": [],
   "source": [
    "dict1 = {\n",
    "    'name':'aman',\n",
    "    'age':25,\n",
    "    'address':'jaipur'\n",
    "}"
   ]
  },
  {
   "cell_type": "code",
   "execution_count": null,
   "id": "e4fea036",
   "metadata": {},
   "outputs": [],
   "source": []
  },
  {
   "cell_type": "code",
   "execution_count": 10,
   "id": "49750c44",
   "metadata": {},
   "outputs": [
    {
     "name": "stdout",
     "output_type": "stream",
     "text": [
      "name\n",
      "age\n",
      "address\n"
     ]
    }
   ],
   "source": [
    "for i in dict1:\n",
    "    print(i)"
   ]
  },
  {
   "cell_type": "code",
   "execution_count": 11,
   "id": "52b0d6ae",
   "metadata": {},
   "outputs": [
    {
     "data": {
      "text/plain": [
       "'aman'"
      ]
     },
     "execution_count": 11,
     "metadata": {},
     "output_type": "execute_result"
    }
   ],
   "source": [
    "dict1['name']"
   ]
  },
  {
   "cell_type": "code",
   "execution_count": 12,
   "id": "3240fc4d",
   "metadata": {},
   "outputs": [
    {
     "name": "stdout",
     "output_type": "stream",
     "text": [
      "aman\n",
      "25\n",
      "jaipur\n"
     ]
    }
   ],
   "source": [
    "for i in dict1:\n",
    "    print(dict1[i])"
   ]
  },
  {
   "cell_type": "code",
   "execution_count": null,
   "id": "bc1a750d",
   "metadata": {},
   "outputs": [],
   "source": []
  },
  {
   "cell_type": "code",
   "execution_count": 13,
   "id": "4c4f93a6",
   "metadata": {},
   "outputs": [
    {
     "data": {
      "text/plain": [
       "dict_values(['aman', 25, 'jaipur'])"
      ]
     },
     "execution_count": 13,
     "metadata": {},
     "output_type": "execute_result"
    }
   ],
   "source": [
    "dict1.values()"
   ]
  },
  {
   "cell_type": "code",
   "execution_count": 14,
   "id": "47195d70",
   "metadata": {},
   "outputs": [
    {
     "name": "stdout",
     "output_type": "stream",
     "text": [
      "aman\n",
      "25\n",
      "jaipur\n"
     ]
    }
   ],
   "source": [
    "for i in dict1.values():\n",
    "    print(i)"
   ]
  },
  {
   "cell_type": "code",
   "execution_count": null,
   "id": "4c6590cb",
   "metadata": {},
   "outputs": [],
   "source": []
  },
  {
   "cell_type": "code",
   "execution_count": 16,
   "id": "c01a5956",
   "metadata": {},
   "outputs": [
    {
     "name": "stdout",
     "output_type": "stream",
     "text": [
      "name : aman\n",
      "age : 25\n",
      "address : jaipur\n"
     ]
    }
   ],
   "source": [
    "for i in dict1:\n",
    "    print(f\"{i} : {dict1[i]}\")"
   ]
  },
  {
   "cell_type": "code",
   "execution_count": null,
   "id": "5c8f2df1",
   "metadata": {},
   "outputs": [],
   "source": []
  },
  {
   "cell_type": "code",
   "execution_count": 17,
   "id": "17dc005f",
   "metadata": {},
   "outputs": [
    {
     "data": {
      "text/plain": [
       "dict_items([('name', 'aman'), ('age', 25), ('address', 'jaipur')])"
      ]
     },
     "execution_count": 17,
     "metadata": {},
     "output_type": "execute_result"
    }
   ],
   "source": [
    "dict1.items()"
   ]
  },
  {
   "cell_type": "code",
   "execution_count": null,
   "id": "b6859b53",
   "metadata": {},
   "outputs": [],
   "source": []
  },
  {
   "cell_type": "code",
   "execution_count": 18,
   "id": "5a1f21b5",
   "metadata": {},
   "outputs": [
    {
     "name": "stdout",
     "output_type": "stream",
     "text": [
      "('name', 'aman')\n",
      "('age', 25)\n",
      "('address', 'jaipur')\n"
     ]
    }
   ],
   "source": [
    "for i in dict1.items():\n",
    "    print(i)"
   ]
  },
  {
   "cell_type": "code",
   "execution_count": null,
   "id": "7ce7c2cf",
   "metadata": {},
   "outputs": [],
   "source": []
  },
  {
   "cell_type": "markdown",
   "id": "d43e097e",
   "metadata": {},
   "source": [
    "    i = ('name', 'aman')\n",
    "    i = ('age', 25)\n",
    "    i = ('address', 'jaipur')"
   ]
  },
  {
   "cell_type": "code",
   "execution_count": 19,
   "id": "32b3186e",
   "metadata": {},
   "outputs": [
    {
     "name": "stdout",
     "output_type": "stream",
     "text": [
      "name : aman\n",
      "age : 25\n",
      "address : jaipur\n"
     ]
    }
   ],
   "source": [
    "for i in dict1.items():\n",
    "    print(f\"{i[0]} : {i[1]}\")"
   ]
  },
  {
   "cell_type": "code",
   "execution_count": null,
   "id": "c672eeef",
   "metadata": {},
   "outputs": [],
   "source": []
  },
  {
   "cell_type": "markdown",
   "id": "9e8fb4bf",
   "metadata": {},
   "source": [
    "## nested for loop"
   ]
  },
  {
   "cell_type": "code",
   "execution_count": null,
   "id": "029721b8",
   "metadata": {},
   "outputs": [],
   "source": []
  },
  {
   "cell_type": "code",
   "execution_count": 21,
   "id": "c5f9104f",
   "metadata": {},
   "outputs": [
    {
     "name": "stdout",
     "output_type": "stream",
     "text": [
      "110\n",
      "120\n",
      "130\n",
      "\n",
      "210\n",
      "220\n",
      "230\n",
      "\n",
      "310\n",
      "320\n",
      "330\n",
      "\n",
      "410\n",
      "420\n",
      "430\n",
      "\n",
      "510\n",
      "520\n",
      "530\n",
      "\n"
     ]
    }
   ],
   "source": [
    "for i in [100,200,300,400,500]:\n",
    "    for j in [10,20,30]:\n",
    "        print(i+j)\n",
    "    print()"
   ]
  },
  {
   "cell_type": "code",
   "execution_count": null,
   "id": "9f3b0459",
   "metadata": {},
   "outputs": [],
   "source": []
  },
  {
   "cell_type": "code",
   "execution_count": null,
   "id": "8961fc51",
   "metadata": {},
   "outputs": [],
   "source": []
  },
  {
   "cell_type": "code",
   "execution_count": 22,
   "id": "2fd66f7c",
   "metadata": {},
   "outputs": [],
   "source": [
    "ls = [10,20,30,40,50]"
   ]
  },
  {
   "cell_type": "code",
   "execution_count": 23,
   "id": "9ebe0b9a",
   "metadata": {},
   "outputs": [],
   "source": [
    "ls1 = []"
   ]
  },
  {
   "cell_type": "code",
   "execution_count": 24,
   "id": "9fd8bf4a",
   "metadata": {},
   "outputs": [
    {
     "name": "stdout",
     "output_type": "stream",
     "text": [
      "Old list: [10, 20]\n",
      "New list: [50, 40, 30]\n"
     ]
    }
   ],
   "source": [
    "for i in ls:\n",
    "    v = ls.pop()\n",
    "    ls1.append(v)\n",
    "\n",
    "print(f\"Old list: {ls}\")\n",
    "print(f\"New list: {ls1}\")"
   ]
  },
  {
   "cell_type": "code",
   "execution_count": null,
   "id": "a272dfae",
   "metadata": {},
   "outputs": [],
   "source": []
  },
  {
   "cell_type": "code",
   "execution_count": 25,
   "id": "ee08f55b",
   "metadata": {},
   "outputs": [],
   "source": [
    "ls = [23,45,23,45,56,23,5]"
   ]
  },
  {
   "cell_type": "code",
   "execution_count": 26,
   "id": "e56b0d4e",
   "metadata": {},
   "outputs": [],
   "source": [
    "ls1 = []"
   ]
  },
  {
   "cell_type": "code",
   "execution_count": 27,
   "id": "c06abee7",
   "metadata": {},
   "outputs": [
    {
     "name": "stdout",
     "output_type": "stream",
     "text": [
      "Old list: [56, 23, 5]\n",
      "New list: [23, 45, 23, 45]\n"
     ]
    }
   ],
   "source": [
    "for i in ls:\n",
    "    v = ls.pop(0)\n",
    "    ls1.append(v)\n",
    "\n",
    "print(f\"Old list: {ls}\")\n",
    "print(f\"New list: {ls1}\")"
   ]
  },
  {
   "cell_type": "code",
   "execution_count": null,
   "id": "444223bc",
   "metadata": {},
   "outputs": [],
   "source": []
  },
  {
   "cell_type": "code",
   "execution_count": null,
   "id": "2b36a35e",
   "metadata": {},
   "outputs": [],
   "source": []
  },
  {
   "cell_type": "code",
   "execution_count": null,
   "id": "b3cb79c7",
   "metadata": {},
   "outputs": [],
   "source": []
  },
  {
   "cell_type": "code",
   "execution_count": null,
   "id": "02bfdc31",
   "metadata": {},
   "outputs": [],
   "source": []
  },
  {
   "cell_type": "code",
   "execution_count": 28,
   "id": "a33ad16d",
   "metadata": {},
   "outputs": [],
   "source": [
    "ls = [23,45,56,78,34,67,79,3,47,8,90,34,78,90,56,56,78,90,34,67,798]"
   ]
  },
  {
   "cell_type": "code",
   "execution_count": 29,
   "id": "480eaaac",
   "metadata": {},
   "outputs": [
    {
     "data": {
      "text/plain": [
       "21"
      ]
     },
     "execution_count": 29,
     "metadata": {},
     "output_type": "execute_result"
    }
   ],
   "source": [
    "len(ls)"
   ]
  },
  {
   "cell_type": "code",
   "execution_count": null,
   "id": "a62a496a",
   "metadata": {},
   "outputs": [],
   "source": []
  },
  {
   "cell_type": "code",
   "execution_count": null,
   "id": "101c6372",
   "metadata": {},
   "outputs": [],
   "source": []
  },
  {
   "cell_type": "code",
   "execution_count": 31,
   "id": "aa2a392f",
   "metadata": {},
   "outputs": [],
   "source": [
    "import random"
   ]
  },
  {
   "cell_type": "code",
   "execution_count": 32,
   "id": "0b5e0783",
   "metadata": {},
   "outputs": [
    {
     "name": "stdout",
     "output_type": "stream",
     "text": [
      "['BPF', 'LOG4', 'NV_MAGICCONST', 'RECIP_BPF', 'Random', 'SG_MAGICCONST', 'SystemRandom', 'TWOPI', '_ONE', '_Sequence', '_Set', '__all__', '__builtins__', '__cached__', '__doc__', '__file__', '__loader__', '__name__', '__package__', '__spec__', '_accumulate', '_acos', '_bisect', '_ceil', '_cos', '_e', '_exp', '_floor', '_index', '_inst', '_isfinite', '_log', '_os', '_pi', '_random', '_repeat', '_sha512', '_sin', '_sqrt', '_test', '_test_generator', '_urandom', '_warn', 'betavariate', 'choice', 'choices', 'expovariate', 'gammavariate', 'gauss', 'getrandbits', 'getstate', 'lognormvariate', 'normalvariate', 'paretovariate', 'randbytes', 'randint', 'random', 'randrange', 'sample', 'seed', 'setstate', 'shuffle', 'triangular', 'uniform', 'vonmisesvariate', 'weibullvariate']\n"
     ]
    }
   ],
   "source": [
    "print(dir(random))"
   ]
  },
  {
   "cell_type": "code",
   "execution_count": null,
   "id": "e098c559",
   "metadata": {},
   "outputs": [],
   "source": []
  },
  {
   "cell_type": "code",
   "execution_count": 41,
   "id": "08057359",
   "metadata": {},
   "outputs": [
    {
     "data": {
      "text/plain": [
       "57"
      ]
     },
     "execution_count": 41,
     "metadata": {},
     "output_type": "execute_result"
    }
   ],
   "source": [
    "random.randint(20, 100)"
   ]
  },
  {
   "cell_type": "code",
   "execution_count": 42,
   "id": "0771a153",
   "metadata": {},
   "outputs": [],
   "source": [
    "ls = []\n",
    "i = 0\n",
    "\n",
    "while i < 100:\n",
    "    ls.append(random.randint(20, 100))\n",
    "    i += 1"
   ]
  },
  {
   "cell_type": "code",
   "execution_count": 43,
   "id": "323c3bf9",
   "metadata": {},
   "outputs": [
    {
     "name": "stdout",
     "output_type": "stream",
     "text": [
      "[76, 58, 99, 70, 52, 99, 67, 54, 30, 23, 88, 83, 47, 96, 44, 37, 22, 51, 25, 71, 27, 40, 39, 44, 27, 80, 75, 94, 33, 22, 56, 46, 31, 71, 89, 21, 92, 97, 88, 69, 69, 45, 62, 85, 61, 79, 90, 57, 71, 67, 34, 20, 61, 42, 70, 24, 81, 54, 57, 96, 44, 81, 78, 75, 89, 59, 76, 42, 44, 45, 52, 97, 27, 56, 25, 49, 81, 56, 40, 26, 64, 51, 51, 60, 98, 93, 72, 76, 69, 39, 47, 43, 62, 55, 90, 51, 41, 82, 66, 66]\n"
     ]
    }
   ],
   "source": [
    "print(ls)"
   ]
  },
  {
   "cell_type": "code",
   "execution_count": null,
   "id": "c40ed324",
   "metadata": {},
   "outputs": [],
   "source": []
  },
  {
   "cell_type": "code",
   "execution_count": 44,
   "id": "e27a4611",
   "metadata": {},
   "outputs": [
    {
     "name": "stdout",
     "output_type": "stream",
     "text": [
      "[76, 58, 99, 70, 52, 99, 67, 54, 30, 23, 88, 83, 47, 96, 44, 37, 22, 51, 25, 71, 27, 40, 39, 44, 27, 80, 75, 94, 33, 22, 56, 46, 31, 71, 89, 21, 92, 97, 88, 69, 69, 45, 62, 85, 61, 79, 90, 57, 71, 67, 34, 20, 61, 42, 70, 24, 81, 54, 57, 96, 44, 81, 78, 75, 89, 59, 76, 42, 44, 45, 52, 97, 27, 56, 25, 49, 81, 56, 40, 26, 64, 51, 51, 60, 98, 93, 72, 76, 69, 39, 47, 43, 62, 55, 90, 51, 41, 82, 66, 66]\n"
     ]
    }
   ],
   "source": [
    "print(ls)"
   ]
  },
  {
   "cell_type": "code",
   "execution_count": null,
   "id": "86da450f",
   "metadata": {},
   "outputs": [],
   "source": []
  },
  {
   "cell_type": "code",
   "execution_count": 1,
   "id": "9f03f3e4",
   "metadata": {},
   "outputs": [],
   "source": [
    "import numpy"
   ]
  },
  {
   "cell_type": "code",
   "execution_count": 5,
   "id": "e4d54aed",
   "metadata": {},
   "outputs": [
    {
     "name": "stdout",
     "output_type": "stream",
     "text": [
      "[36, 21, 96, 25, 28, 73, 60, 21, 56, 52, 86, 25, 22, 85, 42, 50, 57, 60, 41, 46, 20, 26, 56, 27, 55, 35, 70, 72, 54, 78, 46, 82, 95, 45, 98, 65, 37, 62, 45, 22, 83, 46, 27, 83, 34, 35, 37, 81, 86, 94, 43, 31, 40, 90, 42, 52, 37, 78, 69, 30, 74, 96, 32, 45, 76, 37, 52, 35, 76, 32, 22, 78, 60, 43, 30, 78, 61, 59, 96, 28, 86, 48, 51, 28, 58, 53, 51, 61, 92, 36, 20, 34, 51, 77, 73, 73, 77, 79, 83, 99]\n"
     ]
    }
   ],
   "source": [
    "data = list(numpy.random.randint(20,100,100))\n",
    "print(data)"
   ]
  },
  {
   "cell_type": "code",
   "execution_count": 47,
   "id": "9fb55d31",
   "metadata": {},
   "outputs": [
    {
     "data": {
      "text/plain": [
       "numpy.ndarray"
      ]
     },
     "execution_count": 47,
     "metadata": {},
     "output_type": "execute_result"
    }
   ],
   "source": [
    "type(data)"
   ]
  },
  {
   "cell_type": "code",
   "execution_count": 48,
   "id": "df0e152d",
   "metadata": {},
   "outputs": [
    {
     "name": "stdout",
     "output_type": "stream",
     "text": [
      "[85, 86, 32, 69, 56, 93, 89, 96, 37, 73, 90, 86, 61, 92, 75, 64, 29, 82, 97, 59, 29, 63, 57, 92, 76, 98, 29, 86, 42, 50, 34, 65, 51, 79, 84, 79, 61, 69, 80, 23, 35, 69, 96, 81, 65, 79, 95, 69, 26, 62, 69, 78, 68, 84, 65, 33, 23, 40, 37, 22, 87, 56, 57, 93, 83, 84, 35, 25, 70, 72, 24, 64, 63, 88, 89, 27, 25, 87, 36, 66, 43, 87, 75, 26, 24, 48, 37, 99, 73, 79, 87, 60, 58, 62, 98, 57, 26, 69, 76, 68]\n"
     ]
    }
   ],
   "source": [
    "print(list(data))"
   ]
  },
  {
   "cell_type": "code",
   "execution_count": null,
   "id": "3ba94980",
   "metadata": {},
   "outputs": [],
   "source": []
  },
  {
   "cell_type": "code",
   "execution_count": 49,
   "id": "91b00a92",
   "metadata": {
    "scrolled": true
   },
   "outputs": [
    {
     "name": "stdout",
     "output_type": "stream",
     "text": [
      "['ALLOW_THREADS', 'AxisError', 'BUFSIZE', 'CLIP', 'ComplexWarning', 'DataSource', 'ERR_CALL', 'ERR_DEFAULT', 'ERR_IGNORE', 'ERR_LOG', 'ERR_PRINT', 'ERR_RAISE', 'ERR_WARN', 'FLOATING_POINT_SUPPORT', 'FPE_DIVIDEBYZERO', 'FPE_INVALID', 'FPE_OVERFLOW', 'FPE_UNDERFLOW', 'False_', 'Inf', 'Infinity', 'MAXDIMS', 'MAY_SHARE_BOUNDS', 'MAY_SHARE_EXACT', 'ModuleDeprecationWarning', 'NAN', 'NINF', 'NZERO', 'NaN', 'PINF', 'PZERO', 'RAISE', 'RankWarning', 'SHIFT_DIVIDEBYZERO', 'SHIFT_INVALID', 'SHIFT_OVERFLOW', 'SHIFT_UNDERFLOW', 'ScalarType', 'Tester', 'TooHardError', 'True_', 'UFUNC_BUFSIZE_DEFAULT', 'UFUNC_PYVALS_NAME', 'VisibleDeprecationWarning', 'WRAP', '_CopyMode', '_NoValue', '_UFUNC_API', '__NUMPY_SETUP__', '__all__', '__builtins__', '__cached__', '__config__', '__deprecated_attrs__', '__dir__', '__doc__', '__expired_functions__', '__file__', '__getattr__', '__git_version__', '__loader__', '__mkl_version__', '__name__', '__package__', '__path__', '__spec__', '__version__', '_add_newdoc_ufunc', '_distributor_init', '_financial_names', '_globals', '_mat', '_pyinstaller_hooks_dir', '_pytesttester', '_version', 'abs', 'absolute', 'add', 'add_docstring', 'add_newdoc', 'add_newdoc_ufunc', 'all', 'allclose', 'alltrue', 'amax', 'amin', 'angle', 'any', 'append', 'apply_along_axis', 'apply_over_axes', 'arange', 'arccos', 'arccosh', 'arcsin', 'arcsinh', 'arctan', 'arctan2', 'arctanh', 'argmax', 'argmin', 'argpartition', 'argsort', 'argwhere', 'around', 'array', 'array2string', 'array_equal', 'array_equiv', 'array_repr', 'array_split', 'array_str', 'asanyarray', 'asarray', 'asarray_chkfinite', 'ascontiguousarray', 'asfarray', 'asfortranarray', 'asmatrix', 'atleast_1d', 'atleast_2d', 'atleast_3d', 'average', 'bartlett', 'base_repr', 'binary_repr', 'bincount', 'bitwise_and', 'bitwise_not', 'bitwise_or', 'bitwise_xor', 'blackman', 'block', 'bmat', 'bool8', 'bool_', 'broadcast', 'broadcast_arrays', 'broadcast_shapes', 'broadcast_to', 'busday_count', 'busday_offset', 'busdaycalendar', 'byte', 'byte_bounds', 'bytes0', 'bytes_', 'c_', 'can_cast', 'cast', 'cbrt', 'cdouble', 'ceil', 'cfloat', 'char', 'character', 'chararray', 'choose', 'clip', 'clongdouble', 'clongfloat', 'column_stack', 'common_type', 'compare_chararrays', 'compat', 'complex128', 'complex64', 'complex_', 'complexfloating', 'compress', 'concatenate', 'conj', 'conjugate', 'convolve', 'copy', 'copysign', 'copyto', 'core', 'corrcoef', 'correlate', 'cos', 'cosh', 'count_nonzero', 'cov', 'cross', 'csingle', 'ctypeslib', 'cumprod', 'cumproduct', 'cumsum', 'datetime64', 'datetime_as_string', 'datetime_data', 'deg2rad', 'degrees', 'delete', 'deprecate', 'deprecate_with_doc', 'diag', 'diag_indices', 'diag_indices_from', 'diagflat', 'diagonal', 'diff', 'digitize', 'disp', 'divide', 'divmod', 'dot', 'double', 'dsplit', 'dstack', 'dtype', 'e', 'ediff1d', 'einsum', 'einsum_path', 'emath', 'empty', 'empty_like', 'equal', 'errstate', 'euler_gamma', 'exp', 'exp2', 'expand_dims', 'expm1', 'extract', 'eye', 'fabs', 'fastCopyAndTranspose', 'fft', 'fill_diagonal', 'find_common_type', 'finfo', 'fix', 'flatiter', 'flatnonzero', 'flexible', 'flip', 'fliplr', 'flipud', 'float16', 'float32', 'float64', 'float_', 'float_power', 'floating', 'floor', 'floor_divide', 'fmax', 'fmin', 'fmod', 'format_float_positional', 'format_float_scientific', 'format_parser', 'frexp', 'from_dlpack', 'frombuffer', 'fromfile', 'fromfunction', 'fromiter', 'frompyfunc', 'fromregex', 'fromstring', 'full', 'full_like', 'gcd', 'generic', 'genfromtxt', 'geomspace', 'get_array_wrap', 'get_include', 'get_printoptions', 'getbufsize', 'geterr', 'geterrcall', 'geterrobj', 'gradient', 'greater', 'greater_equal', 'half', 'hamming', 'hanning', 'heaviside', 'histogram', 'histogram2d', 'histogram_bin_edges', 'histogramdd', 'hsplit', 'hstack', 'hypot', 'i0', 'identity', 'iinfo', 'imag', 'in1d', 'index_exp', 'indices', 'inexact', 'inf', 'info', 'infty', 'inner', 'insert', 'int0', 'int16', 'int32', 'int64', 'int8', 'int_', 'intc', 'integer', 'interp', 'intersect1d', 'intp', 'invert', 'is_busday', 'isclose', 'iscomplex', 'iscomplexobj', 'isfinite', 'isfortran', 'isin', 'isinf', 'isnan', 'isnat', 'isneginf', 'isposinf', 'isreal', 'isrealobj', 'isscalar', 'issctype', 'issubclass_', 'issubdtype', 'issubsctype', 'iterable', 'ix_', 'kaiser', 'kron', 'lcm', 'ldexp', 'left_shift', 'less', 'less_equal', 'lexsort', 'lib', 'linalg', 'linspace', 'little_endian', 'load', 'loadtxt', 'log', 'log10', 'log1p', 'log2', 'logaddexp', 'logaddexp2', 'logical_and', 'logical_not', 'logical_or', 'logical_xor', 'logspace', 'longcomplex', 'longdouble', 'longfloat', 'longlong', 'lookfor', 'ma', 'mask_indices', 'mat', 'math', 'matmul', 'matrix', 'matrixlib', 'max', 'maximum', 'maximum_sctype', 'may_share_memory', 'mean', 'median', 'memmap', 'meshgrid', 'mgrid', 'min', 'min_scalar_type', 'minimum', 'mintypecode', 'mkl', 'mod', 'modf', 'moveaxis', 'msort', 'multiply', 'nan', 'nan_to_num', 'nanargmax', 'nanargmin', 'nancumprod', 'nancumsum', 'nanmax', 'nanmean', 'nanmedian', 'nanmin', 'nanpercentile', 'nanprod', 'nanquantile', 'nanstd', 'nansum', 'nanvar', 'nbytes', 'ndarray', 'ndenumerate', 'ndim', 'ndindex', 'nditer', 'negative', 'nested_iters', 'newaxis', 'nextafter', 'nonzero', 'not_equal', 'numarray', 'number', 'obj2sctype', 'object0', 'object_', 'ogrid', 'oldnumeric', 'ones', 'ones_like', 'os', 'outer', 'packbits', 'pad', 'partition', 'percentile', 'pi', 'piecewise', 'place', 'poly', 'poly1d', 'polyadd', 'polyder', 'polydiv', 'polyfit', 'polyint', 'polymul', 'polynomial', 'polysub', 'polyval', 'positive', 'power', 'printoptions', 'prod', 'product', 'promote_types', 'ptp', 'put', 'put_along_axis', 'putmask', 'quantile', 'r_', 'rad2deg', 'radians', 'random', 'ravel', 'ravel_multi_index', 'real', 'real_if_close', 'rec', 'recarray', 'recfromcsv', 'recfromtxt', 'reciprocal', 'record', 'remainder', 'repeat', 'require', 'reshape', 'resize', 'result_type', 'right_shift', 'rint', 'roll', 'rollaxis', 'roots', 'rot90', 'round', 'round_', 'row_stack', 's_', 'safe_eval', 'save', 'savetxt', 'savez', 'savez_compressed', 'sctype2char', 'sctypeDict', 'sctypes', 'searchsorted', 'select', 'set_numeric_ops', 'set_printoptions', 'set_string_function', 'setbufsize', 'setdiff1d', 'seterr', 'seterrcall', 'seterrobj', 'setxor1d', 'shape', 'shares_memory', 'short', 'show_config', 'sign', 'signbit', 'signedinteger', 'sin', 'sinc', 'single', 'singlecomplex', 'sinh', 'size', 'sometrue', 'sort', 'sort_complex', 'source', 'spacing', 'split', 'sqrt', 'square', 'squeeze', 'stack', 'std', 'str0', 'str_', 'string_', 'subtract', 'sum', 'swapaxes', 'sys', 'take', 'take_along_axis', 'tan', 'tanh', 'tensordot', 'test', 'testing', 'tile', 'timedelta64', 'trace', 'tracemalloc_domain', 'transpose', 'trapz', 'tri', 'tril', 'tril_indices', 'tril_indices_from', 'trim_zeros', 'triu', 'triu_indices', 'triu_indices_from', 'true_divide', 'trunc', 'typecodes', 'typename', 'ubyte', 'ufunc', 'uint', 'uint0', 'uint16', 'uint32', 'uint64', 'uint8', 'uintc', 'uintp', 'ulonglong', 'unicode_', 'union1d', 'unique', 'unpackbits', 'unravel_index', 'unsignedinteger', 'unwrap', 'use_hugepage', 'ushort', 'vander', 'var', 'vdot', 'vectorize', 'version', 'void', 'void0', 'vsplit', 'vstack', 'warnings', 'where', 'who', 'zeros', 'zeros_like']\n"
     ]
    }
   ],
   "source": [
    "print(dir(numpy))"
   ]
  },
  {
   "cell_type": "code",
   "execution_count": null,
   "id": "32fa4a9e",
   "metadata": {},
   "outputs": [],
   "source": []
  },
  {
   "cell_type": "code",
   "execution_count": null,
   "id": "fe02468c",
   "metadata": {},
   "outputs": [],
   "source": []
  },
  {
   "cell_type": "code",
   "execution_count": 50,
   "id": "581e30f9",
   "metadata": {},
   "outputs": [
    {
     "name": "stdout",
     "output_type": "stream",
     "text": [
      "[85 86 32 69 56 93 89 96 37 73 90 86 61 92 75 64 29 82 97 59 29 63 57 92\n",
      " 76 98 29 86 42 50 34 65 51 79 84 79 61 69 80 23 35 69 96 81 65 79 95 69\n",
      " 26 62 69 78 68 84 65 33 23 40 37 22 87 56 57 93 83 84 35 25 70 72 24 64\n",
      " 63 88 89 27 25 87 36 66 43 87 75 26 24 48 37 99 73 79 87 60 58 62 98 57\n",
      " 26 69 76 68]\n"
     ]
    }
   ],
   "source": [
    "print(data)"
   ]
  },
  {
   "cell_type": "markdown",
   "id": "711c1cee",
   "metadata": {},
   "source": [
    "    find the count of each element and store it into a dictionary"
   ]
  },
  {
   "cell_type": "code",
   "execution_count": 6,
   "id": "4c671e26",
   "metadata": {},
   "outputs": [
    {
     "name": "stdout",
     "output_type": "stream",
     "text": [
      "[36, 21, 96, 25, 28, 73, 60, 21, 56, 52, 86, 25, 22, 85, 42, 50, 57, 60, 41, 46, 20, 26, 56, 27, 55, 35, 70, 72, 54, 78, 46, 82, 95, 45, 98, 65, 37, 62, 45, 22, 83, 46, 27, 83, 34, 35, 37, 81, 86, 94, 43, 31, 40, 90, 42, 52, 37, 78, 69, 30, 74, 96, 32, 45, 76, 37, 52, 35, 76, 32, 22, 78, 60, 43, 30, 78, 61, 59, 96, 28, 86, 48, 51, 28, 58, 53, 51, 61, 92, 36, 20, 34, 51, 77, 73, 73, 77, 79, 83, 99]\n"
     ]
    }
   ],
   "source": [
    "print(data)"
   ]
  },
  {
   "cell_type": "code",
   "execution_count": 9,
   "id": "4b71d379",
   "metadata": {},
   "outputs": [
    {
     "data": {
      "text/plain": [
       "2"
      ]
     },
     "execution_count": 9,
     "metadata": {},
     "output_type": "execute_result"
    }
   ],
   "source": [
    "data.count(36)"
   ]
  },
  {
   "cell_type": "code",
   "execution_count": 10,
   "id": "54e4dc02",
   "metadata": {},
   "outputs": [
    {
     "name": "stdout",
     "output_type": "stream",
     "text": [
      "[36, 21, 96, 25, 28, 73, 60, 21, 56, 52, 86, 25, 22, 85, 42, 50, 57, 60, 41, 46, 20, 26, 56, 27, 55, 35, 70, 72, 54, 78, 46, 82, 95, 45, 98, 65, 37, 62, 45, 22, 83, 46, 27, 83, 34, 35, 37, 81, 86, 94, 43, 31, 40, 90, 42, 52, 37, 78, 69, 30, 74, 96, 32, 45, 76, 37, 52, 35, 76, 32, 22, 78, 60, 43, 30, 78, 61, 59, 96, 28, 86, 48, 51, 28, 58, 53, 51, 61, 92, 36, 20, 34, 51, 77, 73, 73, 77, 79, 83, 99]\n"
     ]
    }
   ],
   "source": [
    "print(data)"
   ]
  },
  {
   "cell_type": "code",
   "execution_count": 12,
   "id": "e2b71071",
   "metadata": {},
   "outputs": [],
   "source": [
    "count = {}"
   ]
  },
  {
   "cell_type": "code",
   "execution_count": 13,
   "id": "c4000b46",
   "metadata": {},
   "outputs": [],
   "source": [
    "for i in data:\n",
    "    if i not in count:\n",
    "        count[i] = 1\n",
    "    else:\n",
    "        count[i] += 1"
   ]
  },
  {
   "cell_type": "code",
   "execution_count": 14,
   "id": "c1a1e00b",
   "metadata": {},
   "outputs": [
    {
     "name": "stdout",
     "output_type": "stream",
     "text": [
      "{36: 2, 21: 2, 96: 3, 25: 2, 28: 3, 73: 3, 60: 3, 56: 2, 52: 3, 86: 3, 22: 3, 85: 1, 42: 2, 50: 1, 57: 1, 41: 1, 46: 3, 20: 2, 26: 1, 27: 2, 55: 1, 35: 3, 70: 1, 72: 1, 54: 1, 78: 4, 82: 1, 95: 1, 45: 3, 98: 1, 65: 1, 37: 4, 62: 1, 83: 3, 34: 2, 81: 1, 94: 1, 43: 2, 31: 1, 40: 1, 90: 1, 69: 1, 30: 2, 74: 1, 32: 2, 76: 2, 61: 2, 59: 1, 48: 1, 51: 3, 58: 1, 53: 1, 92: 1, 77: 2, 79: 1, 99: 1}\n"
     ]
    }
   ],
   "source": [
    "print(count)"
   ]
  },
  {
   "cell_type": "code",
   "execution_count": null,
   "id": "b9ed39ef",
   "metadata": {},
   "outputs": [],
   "source": []
  },
  {
   "cell_type": "code",
   "execution_count": null,
   "id": "6bc244b9",
   "metadata": {},
   "outputs": [],
   "source": []
  },
  {
   "cell_type": "code",
   "execution_count": 15,
   "id": "07e14105",
   "metadata": {},
   "outputs": [
    {
     "name": "stdout",
     "output_type": "stream",
     "text": [
      "[36, 21, 96, 25, 28, 73, 60, 21, 56, 52, 86, 25, 22, 85, 42, 50, 57, 60, 41, 46, 20, 26, 56, 27, 55, 35, 70, 72, 54, 78, 46, 82, 95, 45, 98, 65, 37, 62, 45, 22, 83, 46, 27, 83, 34, 35, 37, 81, 86, 94, 43, 31, 40, 90, 42, 52, 37, 78, 69, 30, 74, 96, 32, 45, 76, 37, 52, 35, 76, 32, 22, 78, 60, 43, 30, 78, 61, 59, 96, 28, 86, 48, 51, 28, 58, 53, 51, 61, 92, 36, 20, 34, 51, 77, 73, 73, 77, 79, 83, 99]\n"
     ]
    }
   ],
   "source": [
    "print(data)"
   ]
  },
  {
   "cell_type": "code",
   "execution_count": 17,
   "id": "adf458e8",
   "metadata": {},
   "outputs": [
    {
     "data": {
      "text/plain": [
       "100"
      ]
     },
     "execution_count": 17,
     "metadata": {},
     "output_type": "execute_result"
    }
   ],
   "source": [
    "len(data)"
   ]
  },
  {
   "cell_type": "code",
   "execution_count": 18,
   "id": "f9bc1bb5",
   "metadata": {},
   "outputs": [
    {
     "name": "stdout",
     "output_type": "stream",
     "text": [
      "[36, 96, 28, 60, 56, 86, 22, 42, 57, 41, 20, 56, 55, 70, 54, 46, 95, 98, 37, 45, 83, 27, 34, 37, 86, 43, 40, 42, 37, 69, 74, 32, 76, 52, 76, 22, 60, 30, 61, 96, 86, 51, 58, 51, 92, 20, 51, 73, 77, 83]\n"
     ]
    }
   ],
   "source": [
    "ls = data[::2]\n",
    "print(ls)"
   ]
  },
  {
   "cell_type": "code",
   "execution_count": null,
   "id": "d3edd4d1",
   "metadata": {},
   "outputs": [],
   "source": []
  },
  {
   "cell_type": "code",
   "execution_count": 24,
   "id": "2b9f7ac6",
   "metadata": {},
   "outputs": [
    {
     "name": "stdout",
     "output_type": "stream",
     "text": [
      "{20: 0, 22: 0, 27: 0, 28: 0, 30: 0, 32: 0, 34: 0, 36: 0, 37: 0, 40: 0, 41: 0, 42: 0, 43: 0, 45: 0, 46: 0, 51: 0, 52: 0, 54: 0, 55: 0, 56: 0, 57: 0, 58: 0, 60: 0, 61: 0, 69: 0, 70: 0, 73: 0, 74: 0, 76: 0, 77: 0, 83: 0, 86: 0, 92: 0, 95: 0, 96: 0, 98: 0}\n"
     ]
    }
   ],
   "source": [
    "d = dict.fromkeys(set(ls), 0)\n",
    "print(d)"
   ]
  },
  {
   "cell_type": "code",
   "execution_count": 22,
   "id": "8fe90368",
   "metadata": {},
   "outputs": [],
   "source": []
  },
  {
   "cell_type": "code",
   "execution_count": 25,
   "id": "cc48b7da",
   "metadata": {},
   "outputs": [],
   "source": [
    "for i in ls:\n",
    "    d[i] += 1"
   ]
  },
  {
   "cell_type": "code",
   "execution_count": 26,
   "id": "6ec5b6d2",
   "metadata": {},
   "outputs": [
    {
     "name": "stdout",
     "output_type": "stream",
     "text": [
      "{20: 2, 22: 2, 27: 1, 28: 1, 30: 1, 32: 1, 34: 1, 36: 1, 37: 3, 40: 1, 41: 1, 42: 2, 43: 1, 45: 1, 46: 1, 51: 3, 52: 1, 54: 1, 55: 1, 56: 2, 57: 1, 58: 1, 60: 2, 61: 1, 69: 1, 70: 1, 73: 1, 74: 1, 76: 2, 77: 1, 83: 2, 86: 3, 92: 1, 95: 1, 96: 2, 98: 1}\n"
     ]
    }
   ],
   "source": [
    "print(d)"
   ]
  },
  {
   "cell_type": "code",
   "execution_count": null,
   "id": "124a7558",
   "metadata": {},
   "outputs": [],
   "source": []
  },
  {
   "cell_type": "code",
   "execution_count": null,
   "id": "5c220780",
   "metadata": {},
   "outputs": [],
   "source": []
  },
  {
   "cell_type": "code",
   "execution_count": null,
   "id": "ee7b77e8",
   "metadata": {},
   "outputs": [],
   "source": []
  },
  {
   "cell_type": "markdown",
   "id": "392f7971",
   "metadata": {},
   "source": [
    "## looping technique / iteration technique\n",
    "        \n",
    "        range()\n",
    "        \n",
    "        zip()\n",
    "        \n",
    "        enumerate()\n"
   ]
  },
  {
   "cell_type": "code",
   "execution_count": null,
   "id": "75988780",
   "metadata": {},
   "outputs": [],
   "source": []
  }
 ],
 "metadata": {
  "kernelspec": {
   "display_name": "Python 3 (ipykernel)",
   "language": "python",
   "name": "python3"
  },
  "language_info": {
   "codemirror_mode": {
    "name": "ipython",
    "version": 3
   },
   "file_extension": ".py",
   "mimetype": "text/x-python",
   "name": "python",
   "nbconvert_exporter": "python",
   "pygments_lexer": "ipython3",
   "version": "3.10.9"
  }
 },
 "nbformat": 4,
 "nbformat_minor": 5
}
