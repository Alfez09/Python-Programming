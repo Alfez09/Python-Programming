{
 "cells": [
  {
   "cell_type": "markdown",
   "id": "923e5ea1-851e-4df8-8ba4-b3ad136e2ab6",
   "metadata": {},
   "source": [
    "# Types of Methods\n",
    "\n",
    "            There are three types of methods:\n",
    "\n",
    "                    1. Instance Methods\n",
    "\n",
    "                    2. Class Methods\n",
    "\n",
    "                    3. Static Methods"
   ]
  },
  {
   "cell_type": "code",
   "execution_count": null,
   "id": "4a86a3ae-8dd7-4878-9378-d297b7535eac",
   "metadata": {},
   "outputs": [],
   "source": []
  },
  {
   "cell_type": "markdown",
   "id": "571bceac-94b1-48ba-93a6-bb5c1f51eb4e",
   "metadata": {},
   "source": [
    "# Instance Methods"
   ]
  },
  {
   "cell_type": "code",
   "execution_count": null,
   "id": "3616954d-6eb5-45a1-8ce2-49dc19e46827",
   "metadata": {},
   "outputs": [],
   "source": []
  },
  {
   "cell_type": "code",
   "execution_count": 2,
   "id": "2b9b0ee3-3f02-42a1-a366-feff84311f73",
   "metadata": {},
   "outputs": [],
   "source": [
    "class Rooms:\n",
    "\n",
    "    def __init__(self, tables, lights, chairs):\n",
    "        self.tables = tables           # instance variable\n",
    "        self.lights = lights\n",
    "        self.chairs = chairs\n",
    "\n",
    "    def show_attrs(self):               # instance method\n",
    "        for key, value in self.__dict__.items():\n",
    "            print(f\"{key} : {value}\")\n",
    "            "
   ]
  },
  {
   "cell_type": "code",
   "execution_count": 3,
   "id": "fce5cc27-c4cb-4cdb-9c5a-b447d9689c76",
   "metadata": {},
   "outputs": [],
   "source": [
    "r1= Rooms(23,32,11)\n",
    "r2 = Rooms(32,34,23)"
   ]
  },
  {
   "cell_type": "code",
   "execution_count": 4,
   "id": "eaf0ac98-6c8b-48cc-a3d5-d02b2c396e77",
   "metadata": {},
   "outputs": [
    {
     "name": "stdout",
     "output_type": "stream",
     "text": [
      "tables : 23\n",
      "lights : 32\n",
      "chairs : 11\n"
     ]
    }
   ],
   "source": [
    "r1.show_attrs()"
   ]
  },
  {
   "cell_type": "code",
   "execution_count": 5,
   "id": "ebb2c22f-5785-4bb4-8be2-94ef48bdcc8a",
   "metadata": {},
   "outputs": [
    {
     "name": "stdout",
     "output_type": "stream",
     "text": [
      "tables : 32\n",
      "lights : 34\n",
      "chairs : 23\n"
     ]
    }
   ],
   "source": [
    "r2.show_attrs()"
   ]
  },
  {
   "cell_type": "code",
   "execution_count": null,
   "id": "9674c25f-f524-4fcc-a9d4-f52f1665d276",
   "metadata": {},
   "outputs": [],
   "source": []
  },
  {
   "cell_type": "markdown",
   "id": "3fc183af-1795-460a-80d1-287a054f89a1",
   "metadata": {},
   "source": [
    "### There are two types of instance methods:\n",
    "\n",
    "            1. Accessor   /  getters\n",
    "\n",
    "            2. Mutator   /  setters"
   ]
  },
  {
   "cell_type": "code",
   "execution_count": null,
   "id": "dd9ef692-8299-4bd3-ae73-88ac87777542",
   "metadata": {},
   "outputs": [],
   "source": []
  },
  {
   "cell_type": "code",
   "execution_count": 6,
   "id": "d4ca5325-1f92-42ed-b1ac-807c4654a573",
   "metadata": {},
   "outputs": [],
   "source": [
    "class Rooms:\n",
    "\n",
    "    def __init__(self, tables, lights, chairs):\n",
    "        self.tables = tables           # instance variable\n",
    "        self.lights = lights\n",
    "        self.chairs = chairs\n",
    "\n",
    "    def show_attrs(self):               # instance method\n",
    "        for key, value in self.__dict__.items():\n",
    "            print(f\"{key} : {value}\")\n",
    "\n",
    "    def get_tables(self):            # accessor / getters\n",
    "        print(self.tables)\n",
    "\n",
    "    def change_tables(self, no):\n",
    "        self.tables = no             # mutator / setters"
   ]
  },
  {
   "cell_type": "code",
   "execution_count": 7,
   "id": "925e64d6-2545-4b21-9206-2e059569a7d2",
   "metadata": {},
   "outputs": [],
   "source": [
    "r1= Rooms(23,32,11)\n",
    "r2 = Rooms(32,34,23)"
   ]
  },
  {
   "cell_type": "code",
   "execution_count": 8,
   "id": "b3668216-4d15-4a6a-85ef-cec58a37f22b",
   "metadata": {},
   "outputs": [
    {
     "name": "stdout",
     "output_type": "stream",
     "text": [
      "23\n"
     ]
    }
   ],
   "source": [
    "r1.get_tables()"
   ]
  },
  {
   "cell_type": "code",
   "execution_count": 9,
   "id": "b63dd0b2-8b80-4f00-a2bd-c537d0996491",
   "metadata": {},
   "outputs": [
    {
     "name": "stdout",
     "output_type": "stream",
     "text": [
      "32\n"
     ]
    }
   ],
   "source": [
    "r2.get_tables()"
   ]
  },
  {
   "cell_type": "code",
   "execution_count": 10,
   "id": "e90423ad-95ff-4bcd-b779-3329d162775c",
   "metadata": {},
   "outputs": [],
   "source": [
    "r1.change_tables(40)"
   ]
  },
  {
   "cell_type": "code",
   "execution_count": 11,
   "id": "e4c61aeb-e4cb-4ec2-a703-bcb339fd2cd2",
   "metadata": {},
   "outputs": [
    {
     "name": "stdout",
     "output_type": "stream",
     "text": [
      "tables : 40\n",
      "lights : 32\n",
      "chairs : 11\n"
     ]
    }
   ],
   "source": [
    "r1.show_attrs()"
   ]
  },
  {
   "cell_type": "code",
   "execution_count": null,
   "id": "45ee5914-021b-4629-8ce6-7658dcc24147",
   "metadata": {},
   "outputs": [],
   "source": []
  },
  {
   "cell_type": "code",
   "execution_count": null,
   "id": "3804e3bb-e80f-4873-9794-7da745bc9cc9",
   "metadata": {},
   "outputs": [],
   "source": []
  },
  {
   "cell_type": "code",
   "execution_count": 12,
   "id": "f2ed6067-4143-4251-8524-ebbb7d982052",
   "metadata": {},
   "outputs": [],
   "source": [
    "ls = [23,45,67,798]"
   ]
  },
  {
   "cell_type": "code",
   "execution_count": 13,
   "id": "2808ac7a-4180-4ee9-a590-6f98de788a38",
   "metadata": {},
   "outputs": [],
   "source": [
    "ls.append(100)"
   ]
  },
  {
   "cell_type": "code",
   "execution_count": 14,
   "id": "253af26c-c502-4eab-af62-55f89cff6d23",
   "metadata": {},
   "outputs": [
    {
     "data": {
      "text/plain": [
       "[23, 45, 67, 798, 100]"
      ]
     },
     "execution_count": 14,
     "metadata": {},
     "output_type": "execute_result"
    }
   ],
   "source": [
    "ls"
   ]
  },
  {
   "cell_type": "code",
   "execution_count": null,
   "id": "cf2621f7-62a1-43a3-8a17-6ae8d35dda42",
   "metadata": {},
   "outputs": [],
   "source": []
  },
  {
   "cell_type": "code",
   "execution_count": 15,
   "id": "275a5864-10c1-4019-8f16-e7fa226b9f81",
   "metadata": {},
   "outputs": [],
   "source": [
    "d = {'name':'aman', 'age':23}"
   ]
  },
  {
   "cell_type": "code",
   "execution_count": null,
   "id": "ae736c29-d708-43c0-9a58-67f5ce53b40d",
   "metadata": {},
   "outputs": [],
   "source": []
  },
  {
   "cell_type": "code",
   "execution_count": null,
   "id": "fa8d60ac-944b-4717-9be4-6442daa65a57",
   "metadata": {},
   "outputs": [],
   "source": []
  },
  {
   "cell_type": "code",
   "execution_count": 16,
   "id": "a4882471-20ea-48bd-b902-61da80c9b7d2",
   "metadata": {},
   "outputs": [
    {
     "data": {
      "text/plain": [
       "{10: None, 20: None, 30: None, 40: None}"
      ]
     },
     "execution_count": 16,
     "metadata": {},
     "output_type": "execute_result"
    }
   ],
   "source": [
    "dict.fromkeys([10,20,30,40])"
   ]
  },
  {
   "cell_type": "code",
   "execution_count": 17,
   "id": "549d3fc0-115f-4432-a01c-e7d5968164f0",
   "metadata": {},
   "outputs": [
    {
     "data": {
      "text/plain": [
       "dict"
      ]
     },
     "execution_count": 17,
     "metadata": {},
     "output_type": "execute_result"
    }
   ],
   "source": [
    "dict"
   ]
  },
  {
   "cell_type": "code",
   "execution_count": null,
   "id": "dd49b2ca-fa79-49bf-ab30-f5cd68bc73e8",
   "metadata": {},
   "outputs": [],
   "source": []
  },
  {
   "cell_type": "markdown",
   "id": "c132e086-f055-4eff-9bff-d6c1340303c9",
   "metadata": {},
   "source": [
    "## class methods\n"
   ]
  },
  {
   "cell_type": "code",
   "execution_count": null,
   "id": "4cb1f1e5-a66d-4afb-a8ea-96b04b137d4e",
   "metadata": {},
   "outputs": [],
   "source": []
  },
  {
   "cell_type": "code",
   "execution_count": 18,
   "id": "980d2fe2-1b81-4a2a-b6ef-b21c1074ce16",
   "metadata": {},
   "outputs": [],
   "source": [
    "class Student:\n",
    "\n",
    "    school = \"grras solutions pvt. ltd\"\n",
    "\n",
    "    def __init__(self, name, age):\n",
    "        self.name = name\n",
    "        self.age = age\n",
    "\n",
    "    def get_attrs(self):\n",
    "        for key, value in self.__dict__.items():\n",
    "            print(f\"{key} : {value}\")\n",
    "\n",
    "    def change_school(self):\n",
    "        self.school = \"Global it providers\"\n",
    "\n",
    "        "
   ]
  },
  {
   "cell_type": "code",
   "execution_count": 19,
   "id": "a6d6aa4e-fc91-4d5a-8a78-cdcca59084f8",
   "metadata": {},
   "outputs": [],
   "source": [
    "s1 = Student('rohan', 23)\n",
    "s2 = Student('ram', 22)"
   ]
  },
  {
   "cell_type": "code",
   "execution_count": 20,
   "id": "cc21b7f6-fb16-4892-8190-9011a7400e03",
   "metadata": {},
   "outputs": [
    {
     "data": {
      "text/plain": [
       "'grras solutions pvt. ltd'"
      ]
     },
     "execution_count": 20,
     "metadata": {},
     "output_type": "execute_result"
    }
   ],
   "source": [
    "s1.school"
   ]
  },
  {
   "cell_type": "code",
   "execution_count": 21,
   "id": "653e6660-4ae5-4ef5-a13d-e6e001d0ce7d",
   "metadata": {},
   "outputs": [
    {
     "data": {
      "text/plain": [
       "'grras solutions pvt. ltd'"
      ]
     },
     "execution_count": 21,
     "metadata": {},
     "output_type": "execute_result"
    }
   ],
   "source": [
    "s2.school"
   ]
  },
  {
   "cell_type": "code",
   "execution_count": null,
   "id": "756bd684-44ef-41da-bb0a-04b20149a3de",
   "metadata": {},
   "outputs": [],
   "source": []
  },
  {
   "cell_type": "code",
   "execution_count": null,
   "id": "df3457ce-6203-48ca-afb2-23f833770fd5",
   "metadata": {},
   "outputs": [
    {
     "name": "stdout",
     "output_type": "stream",
     "text": [
      "None\n"
     ]
    }
   ],
   "source": [
    "s1.change_school()"
   ]
  },
  {
   "cell_type": "code",
   "execution_count": 23,
   "id": "a58c4959-5f95-4845-8180-397158f2c2fb",
   "metadata": {},
   "outputs": [
    {
     "name": "stdout",
     "output_type": "stream",
     "text": [
      "name : rohan\n",
      "age : 23\n",
      "school : Global it providers\n"
     ]
    }
   ],
   "source": [
    "s1.get_attrs()"
   ]
  },
  {
   "cell_type": "code",
   "execution_count": null,
   "id": "1c7fb5ae-6a35-4f2b-a4ab-0e16e11df06b",
   "metadata": {},
   "outputs": [],
   "source": []
  },
  {
   "cell_type": "code",
   "execution_count": 24,
   "id": "467aa7e4-aaa3-4a4c-ab09-f229f9078807",
   "metadata": {},
   "outputs": [
    {
     "name": "stdout",
     "output_type": "stream",
     "text": [
      "name : ram\n",
      "age : 22\n"
     ]
    }
   ],
   "source": [
    "s2.get_attrs()"
   ]
  },
  {
   "cell_type": "code",
   "execution_count": null,
   "id": "cc5846ee-0ead-4c6a-aab9-468835715ef9",
   "metadata": {},
   "outputs": [],
   "source": []
  },
  {
   "cell_type": "code",
   "execution_count": 25,
   "id": "d8c6409d-e456-4a63-ba74-a7d5cf8f930a",
   "metadata": {},
   "outputs": [
    {
     "data": {
      "text/plain": [
       "'grras solutions pvt. ltd'"
      ]
     },
     "execution_count": 25,
     "metadata": {},
     "output_type": "execute_result"
    }
   ],
   "source": [
    "Student.school"
   ]
  },
  {
   "cell_type": "code",
   "execution_count": null,
   "id": "f43381e8-181f-4035-917a-0bbdb93f16a4",
   "metadata": {},
   "outputs": [],
   "source": []
  },
  {
   "cell_type": "code",
   "execution_count": 26,
   "id": "7617456f-4fd7-4f1c-b821-da9ba55a129e",
   "metadata": {},
   "outputs": [
    {
     "ename": "TypeError",
     "evalue": "Student.change_school() missing 1 required positional argument: 'self'",
     "output_type": "error",
     "traceback": [
      "\u001b[1;31m---------------------------------------------------------------------------\u001b[0m",
      "\u001b[1;31mTypeError\u001b[0m                                 Traceback (most recent call last)",
      "Cell \u001b[1;32mIn[26], line 1\u001b[0m\n\u001b[1;32m----> 1\u001b[0m \u001b[43mStudent\u001b[49m\u001b[38;5;241;43m.\u001b[39;49m\u001b[43mchange_school\u001b[49m\u001b[43m(\u001b[49m\u001b[43m)\u001b[49m\n",
      "\u001b[1;31mTypeError\u001b[0m: Student.change_school() missing 1 required positional argument: 'self'"
     ]
    }
   ],
   "source": [
    "Student.change_school()"
   ]
  },
  {
   "cell_type": "code",
   "execution_count": null,
   "id": "4c60405c-d92d-4bb5-9420-86014d8a812b",
   "metadata": {},
   "outputs": [],
   "source": []
  },
  {
   "cell_type": "code",
   "execution_count": null,
   "id": "6bf42983-26b2-4671-a130-64be0cfe8120",
   "metadata": {},
   "outputs": [],
   "source": [
    "class Student:\n",
    "\n",
    "    school = \"grras solutions pvt. ltd\"\n",
    "\n",
    "    def __init__(self, name, age):\n",
    "        self.name = name\n",
    "        self.age = age\n",
    "\n",
    "    def get_attrs(self):\n",
    "        for key, value in self.__dict__.items():\n",
    "            print(f\"{key} : {value}\")\n",
    "\n",
    "    def change_school(self):\n",
    "        self.school = \"Global it providers\"\n",
    "    "
   ]
  },
  {
   "cell_type": "code",
   "execution_count": null,
   "id": "8c4774ae-5dfa-4f2d-b2d9-a5016d164417",
   "metadata": {},
   "outputs": [],
   "source": [
    "s1 = Student('rohan', 23)\n",
    "s2 = Student('ram', 22)"
   ]
  },
  {
   "cell_type": "code",
   "execution_count": null,
   "id": "1790ce4f-4052-426d-b2d9-87bfdd36db7d",
   "metadata": {},
   "outputs": [],
   "source": []
  },
  {
   "cell_type": "code",
   "execution_count": null,
   "id": "2936ee46-bb8c-4749-92a3-96587d1c352c",
   "metadata": {},
   "outputs": [],
   "source": [
    "s1.change_school()"
   ]
  },
  {
   "cell_type": "code",
   "execution_count": null,
   "id": "55a5a085-8b63-4a4c-bed9-2727eccf8ce9",
   "metadata": {},
   "outputs": [
    {
     "data": {
      "text/plain": [
       "'Global it providers'"
      ]
     },
     "execution_count": 59,
     "metadata": {},
     "output_type": "execute_result"
    }
   ],
   "source": [
    "s1.school"
   ]
  },
  {
   "cell_type": "code",
   "execution_count": null,
   "id": "654ab730-6333-47aa-aeae-1bb5facf504a",
   "metadata": {},
   "outputs": [
    {
     "data": {
      "text/plain": [
       "'grras solutions pvt. ltd'"
      ]
     },
     "execution_count": 60,
     "metadata": {},
     "output_type": "execute_result"
    }
   ],
   "source": [
    "s2.school"
   ]
  },
  {
   "cell_type": "code",
   "execution_count": null,
   "id": "96f27ac2-496d-41b3-a3dd-d1beebafd54e",
   "metadata": {},
   "outputs": [
    {
     "data": {
      "text/plain": [
       "{'name': 'rohan', 'age': 23, 'school': 'Global it providers'}"
      ]
     },
     "execution_count": 61,
     "metadata": {},
     "output_type": "execute_result"
    }
   ],
   "source": [
    "s1.__dict__"
   ]
  },
  {
   "cell_type": "code",
   "execution_count": null,
   "id": "e5a27b09-8302-41f3-8a12-97e61290d31f",
   "metadata": {},
   "outputs": [
    {
     "data": {
      "text/plain": [
       "{'name': 'ram', 'age': 22}"
      ]
     },
     "execution_count": 62,
     "metadata": {},
     "output_type": "execute_result"
    }
   ],
   "source": [
    "s2.__dict__"
   ]
  },
  {
   "cell_type": "code",
   "execution_count": null,
   "id": "d37fee16-a9e1-4bc2-a716-cd25fb1e0132",
   "metadata": {},
   "outputs": [],
   "source": []
  },
  {
   "cell_type": "code",
   "execution_count": null,
   "id": "c8120df7-71e4-4039-8812-77bea7d3d202",
   "metadata": {},
   "outputs": [
    {
     "ename": "TypeError",
     "evalue": "Student.change_school() missing 1 required positional argument: 'self'",
     "output_type": "error",
     "traceback": [
      "\u001b[1;31m---------------------------------------------------------------------------\u001b[0m",
      "\u001b[1;31mTypeError\u001b[0m                                 Traceback (most recent call last)",
      "Cell \u001b[1;32mIn[63], line 1\u001b[0m\n\u001b[1;32m----> 1\u001b[0m Student\u001b[38;5;241m.\u001b[39mchange_school()\n",
      "\u001b[1;31mTypeError\u001b[0m: Student.change_school() missing 1 required positional argument: 'self'"
     ]
    }
   ],
   "source": [
    "Student.change_school()"
   ]
  },
  {
   "cell_type": "code",
   "execution_count": null,
   "id": "d72724cc-3ff7-455a-9967-70f3bdc9ae33",
   "metadata": {},
   "outputs": [],
   "source": []
  },
  {
   "cell_type": "code",
   "execution_count": null,
   "id": "ac3dbce8-bd6d-490a-a6dd-fd9945f0da86",
   "metadata": {},
   "outputs": [],
   "source": [
    "class Student:\n",
    "\n",
    "    school = \"grras solutions pvt. ltd\"\n",
    "\n",
    "    def __init__(self, name, age):\n",
    "        self.name = name\n",
    "        self.age = age\n",
    "\n",
    "    def get_attrs(self):\n",
    "        for key, value in self.__dict__.items():\n",
    "            print(f\"{key} : {value}\")\n",
    "\n",
    "    def change_school(self):\n",
    "        self.school = \"Global it providers\"\n",
    "\n",
    "    @classmethod\n",
    "    def change(cls):\n",
    "        cls.school = 'Global it providers'\n",
    "    "
   ]
  },
  {
   "cell_type": "code",
   "execution_count": null,
   "id": "bbe231cb-8ad2-49e9-b91f-9d3c36e0d5ec",
   "metadata": {},
   "outputs": [],
   "source": [
    "s1 = Student('rohan', 23)\n",
    "s2 = Student('ram', 22)"
   ]
  },
  {
   "cell_type": "code",
   "execution_count": null,
   "id": "f44fad62-00f7-4458-bfc0-42bd79ae44e6",
   "metadata": {},
   "outputs": [
    {
     "data": {
      "text/plain": [
       "'grras solutions pvt. ltd'"
      ]
     },
     "execution_count": 67,
     "metadata": {},
     "output_type": "execute_result"
    }
   ],
   "source": [
    "s1.school"
   ]
  },
  {
   "cell_type": "code",
   "execution_count": null,
   "id": "87eb4274-fee7-4043-8332-32b6accc1969",
   "metadata": {},
   "outputs": [
    {
     "data": {
      "text/plain": [
       "'grras solutions pvt. ltd'"
      ]
     },
     "execution_count": 68,
     "metadata": {},
     "output_type": "execute_result"
    }
   ],
   "source": [
    "s2.school"
   ]
  },
  {
   "cell_type": "code",
   "execution_count": null,
   "id": "07100ed3-2bdc-45a5-9759-0e0bb6c29a8e",
   "metadata": {},
   "outputs": [],
   "source": []
  },
  {
   "cell_type": "code",
   "execution_count": null,
   "id": "324e9eea-aab1-424f-9236-bbf46e43c4dd",
   "metadata": {},
   "outputs": [],
   "source": [
    "Student.change()"
   ]
  },
  {
   "cell_type": "code",
   "execution_count": null,
   "id": "49854eb0-04a9-420d-ac52-5bda7ee940da",
   "metadata": {},
   "outputs": [
    {
     "data": {
      "text/plain": [
       "'Global it providers'"
      ]
     },
     "execution_count": 70,
     "metadata": {},
     "output_type": "execute_result"
    }
   ],
   "source": [
    "s1.school"
   ]
  },
  {
   "cell_type": "code",
   "execution_count": null,
   "id": "417d4b47-16e4-4932-8f99-d71242cda9a7",
   "metadata": {},
   "outputs": [
    {
     "data": {
      "text/plain": [
       "'Global it providers'"
      ]
     },
     "execution_count": 71,
     "metadata": {},
     "output_type": "execute_result"
    }
   ],
   "source": [
    "s2.school"
   ]
  },
  {
   "cell_type": "code",
   "execution_count": null,
   "id": "3958ef87-7d80-483e-acc6-c5a4ea3a657a",
   "metadata": {},
   "outputs": [
    {
     "data": {
      "text/plain": [
       "{'name': 'rohan', 'age': 23}"
      ]
     },
     "execution_count": 72,
     "metadata": {},
     "output_type": "execute_result"
    }
   ],
   "source": [
    "s1.__dict__"
   ]
  },
  {
   "cell_type": "code",
   "execution_count": null,
   "id": "1d8c3c47-c95d-4952-9048-47f5803ff440",
   "metadata": {},
   "outputs": [
    {
     "data": {
      "text/plain": [
       "{'name': 'ram', 'age': 22}"
      ]
     },
     "execution_count": 73,
     "metadata": {},
     "output_type": "execute_result"
    }
   ],
   "source": [
    "s2.__dict__"
   ]
  },
  {
   "cell_type": "code",
   "execution_count": null,
   "id": "0db6628f-6fe6-4e90-9e04-7eebf2ecba2f",
   "metadata": {},
   "outputs": [],
   "source": []
  },
  {
   "cell_type": "code",
   "execution_count": null,
   "id": "14da6f45-5242-4acf-8bb1-1c9bc76d289d",
   "metadata": {},
   "outputs": [],
   "source": [
    "class Family:\n",
    "\n",
    "    home = \"Raj Bhavan\"\n",
    "\n",
    "    def __init__(self, role, name, age):\n",
    "        self.role = role\n",
    "        self.name = name\n",
    "        self.age = age\n",
    "\n",
    "    def show_attrs(self):\n",
    "        for key, value in self.__dict__.items():\n",
    "            print(f\"{key} : {value}\")\n",
    "\n",
    "    def change_name(self):\n",
    "        self.name = input('Enter new name: ')"
   ]
  },
  {
   "cell_type": "code",
   "execution_count": null,
   "id": "584972a2-6e82-460e-97cb-64a78aa3cecd",
   "metadata": {},
   "outputs": [],
   "source": [
    "obj1 = Family('father', 'ram', 56)\n",
    "obj2 = Family('mother', 'simran', 45)\n"
   ]
  },
  {
   "cell_type": "code",
   "execution_count": null,
   "id": "0f12000e-4727-4674-b96f-debdea4b2238",
   "metadata": {},
   "outputs": [
    {
     "name": "stdout",
     "output_type": "stream",
     "text": [
      "role : father\n",
      "name : ram\n",
      "age : 56\n"
     ]
    }
   ],
   "source": [
    "obj1.show_attrs()"
   ]
  },
  {
   "cell_type": "code",
   "execution_count": null,
   "id": "8ad0aa0f-4571-4406-8cd8-f33685e9c362",
   "metadata": {},
   "outputs": [
    {
     "name": "stdout",
     "output_type": "stream",
     "text": [
      "Enter new name:  rohan\n"
     ]
    }
   ],
   "source": [
    "obj1.change_name()"
   ]
  },
  {
   "cell_type": "code",
   "execution_count": null,
   "id": "1f4aab9e-112c-403d-888f-269098f913c4",
   "metadata": {},
   "outputs": [
    {
     "name": "stdout",
     "output_type": "stream",
     "text": [
      "role : father\n",
      "name : rohan\n",
      "age : 56\n"
     ]
    }
   ],
   "source": [
    "obj1.show_attrs()"
   ]
  },
  {
   "cell_type": "code",
   "execution_count": null,
   "id": "8b39a0c7-ca6a-49f0-b7fe-bde4f049265e",
   "metadata": {},
   "outputs": [
    {
     "data": {
      "text/plain": [
       "'Raj Bhavan'"
      ]
     },
     "execution_count": 10,
     "metadata": {},
     "output_type": "execute_result"
    }
   ],
   "source": [
    "obj1.home"
   ]
  },
  {
   "cell_type": "code",
   "execution_count": null,
   "id": "eeccbb6a-2758-44f6-aa90-893c25026216",
   "metadata": {},
   "outputs": [],
   "source": []
  },
  {
   "cell_type": "code",
   "execution_count": null,
   "id": "6da46ac9-be29-4a42-9386-e8a4147d9f8b",
   "metadata": {},
   "outputs": [],
   "source": [
    "class Family:\n",
    "\n",
    "    home = \"Raj Bhavan\"\n",
    "\n",
    "    def __init__(self, role, name, age):\n",
    "        self.role = role\n",
    "        self.name = name\n",
    "        self.age = age\n",
    "\n",
    "    def show_attrs(self):\n",
    "        for key, value in self.__dict__.items():\n",
    "            print(f\"{key} : {value}\")\n",
    "\n",
    "    def change_name(self):\n",
    "        self.name = input('Enter new name: ')\n",
    "\n",
    "    def change_home(self):\n",
    "        self.home = input('Enter new home name: ')"
   ]
  },
  {
   "cell_type": "code",
   "execution_count": null,
   "id": "a6ee2d26-854c-4c6c-b058-4153e89dbeb3",
   "metadata": {},
   "outputs": [],
   "source": [
    "obj1 = Family('father', 'ram', 56)\n",
    "obj2 = Family('mother', 'simran', 45)\n"
   ]
  },
  {
   "cell_type": "code",
   "execution_count": null,
   "id": "1aadbe0d-31b0-4f4f-bdd4-6467652536b8",
   "metadata": {},
   "outputs": [
    {
     "data": {
      "text/plain": [
       "'Raj Bhavan'"
      ]
     },
     "execution_count": 13,
     "metadata": {},
     "output_type": "execute_result"
    }
   ],
   "source": [
    "obj1.home"
   ]
  },
  {
   "cell_type": "code",
   "execution_count": null,
   "id": "7637c0c5-aa81-404c-a71b-572aa01ad5ce",
   "metadata": {},
   "outputs": [
    {
     "data": {
      "text/plain": [
       "'Raj Bhavan'"
      ]
     },
     "execution_count": 14,
     "metadata": {},
     "output_type": "execute_result"
    }
   ],
   "source": [
    "obj2.home"
   ]
  },
  {
   "cell_type": "code",
   "execution_count": null,
   "id": "cd6ae432-a4ce-4693-88e3-26edd60eb40f",
   "metadata": {},
   "outputs": [
    {
     "data": {
      "text/plain": [
       "'Raj Bhavan'"
      ]
     },
     "execution_count": 15,
     "metadata": {},
     "output_type": "execute_result"
    }
   ],
   "source": [
    "Family.home"
   ]
  },
  {
   "cell_type": "code",
   "execution_count": null,
   "id": "ed281325-8723-48e4-bbf9-ab536738fa8e",
   "metadata": {},
   "outputs": [
    {
     "name": "stdout",
     "output_type": "stream",
     "text": [
      "Enter new home name:  shanti villa\n"
     ]
    }
   ],
   "source": [
    "obj1.change_home()"
   ]
  },
  {
   "cell_type": "code",
   "execution_count": null,
   "id": "b9c15a2d-03bd-449c-b923-966ad052e952",
   "metadata": {},
   "outputs": [
    {
     "data": {
      "text/plain": [
       "'shanti villa'"
      ]
     },
     "execution_count": 17,
     "metadata": {},
     "output_type": "execute_result"
    }
   ],
   "source": [
    "obj1.home"
   ]
  },
  {
   "cell_type": "code",
   "execution_count": null,
   "id": "517d2b6b-d688-4ab0-93a4-fddf7f61c239",
   "metadata": {},
   "outputs": [
    {
     "data": {
      "text/plain": [
       "'Raj Bhavan'"
      ]
     },
     "execution_count": 18,
     "metadata": {},
     "output_type": "execute_result"
    }
   ],
   "source": [
    "obj2.home"
   ]
  },
  {
   "cell_type": "code",
   "execution_count": null,
   "id": "8c3baf25-a175-45fa-a617-b8d2ea7dd37c",
   "metadata": {},
   "outputs": [
    {
     "data": {
      "text/plain": [
       "{'role': 'father', 'name': 'ram', 'age': 56, 'home': 'shanti villa'}"
      ]
     },
     "execution_count": 19,
     "metadata": {},
     "output_type": "execute_result"
    }
   ],
   "source": [
    "obj1.__dict__"
   ]
  },
  {
   "cell_type": "code",
   "execution_count": null,
   "id": "0bf568ce-ae9d-4377-8370-48cc3728e2b7",
   "metadata": {},
   "outputs": [],
   "source": []
  },
  {
   "cell_type": "code",
   "execution_count": null,
   "id": "95b17c53-e412-4415-86bb-a9ee65cfc21b",
   "metadata": {},
   "outputs": [
    {
     "ename": "TypeError",
     "evalue": "Family.change_home() missing 1 required positional argument: 'self'",
     "output_type": "error",
     "traceback": [
      "\u001b[1;31m---------------------------------------------------------------------------\u001b[0m",
      "\u001b[1;31mTypeError\u001b[0m                                 Traceback (most recent call last)",
      "Cell \u001b[1;32mIn[20], line 1\u001b[0m\n\u001b[1;32m----> 1\u001b[0m Family\u001b[38;5;241m.\u001b[39mchange_home()\n",
      "\u001b[1;31mTypeError\u001b[0m: Family.change_home() missing 1 required positional argument: 'self'"
     ]
    }
   ],
   "source": [
    "Family.change_home()"
   ]
  },
  {
   "cell_type": "code",
   "execution_count": null,
   "id": "b3b04791-e681-4fea-aa65-849cc6c7b16e",
   "metadata": {},
   "outputs": [],
   "source": []
  },
  {
   "cell_type": "code",
   "execution_count": null,
   "id": "fc46eb29-0a61-4f73-b547-f3354b4a9d59",
   "metadata": {},
   "outputs": [],
   "source": []
  },
  {
   "cell_type": "code",
   "execution_count": null,
   "id": "28189d91-fb44-4a8b-8879-483d10beffe7",
   "metadata": {},
   "outputs": [],
   "source": [
    "class Family:\n",
    "\n",
    "    home = \"Raj Bhavan\"\n",
    "\n",
    "    def __init__(self, role, name, age):\n",
    "        self.role = role\n",
    "        self.name = name\n",
    "        self.age = age\n",
    "\n",
    "    def show_attrs(self):\n",
    "        for key, value in self.__dict__.items():\n",
    "            print(f\"{key} : {value}\")\n",
    "\n",
    "    def change_name(self):\n",
    "        self.name = input('Enter new name: ')\n",
    "\n",
    "    @classmethod\n",
    "    def change_home(cls):\n",
    "        cls.home = input('Enter new home name: ')"
   ]
  },
  {
   "cell_type": "code",
   "execution_count": null,
   "id": "3eee263c-7481-402a-8b28-f24254dd24ec",
   "metadata": {},
   "outputs": [],
   "source": [
    "obj1 = Family('father', 'ram', 56)\n",
    "obj2 = Family('mother', 'simran', 45)\n"
   ]
  },
  {
   "cell_type": "code",
   "execution_count": null,
   "id": "413816d7-f8b0-4ce9-8193-0fa42dcc3b5c",
   "metadata": {},
   "outputs": [
    {
     "name": "stdout",
     "output_type": "stream",
     "text": [
      "Enter new home name:  ashish bhawan\n"
     ]
    }
   ],
   "source": [
    "Family.change_home()"
   ]
  },
  {
   "cell_type": "code",
   "execution_count": null,
   "id": "741956ee-fa05-4a5b-b10e-ea1b50dd68c0",
   "metadata": {},
   "outputs": [
    {
     "data": {
      "text/plain": [
       "'ashish bhawan'"
      ]
     },
     "execution_count": 24,
     "metadata": {},
     "output_type": "execute_result"
    }
   ],
   "source": [
    "obj1.home"
   ]
  },
  {
   "cell_type": "code",
   "execution_count": null,
   "id": "809f0da8-b788-4c40-91b0-f3f254a4a4c7",
   "metadata": {},
   "outputs": [
    {
     "data": {
      "text/plain": [
       "'ashish bhawan'"
      ]
     },
     "execution_count": 25,
     "metadata": {},
     "output_type": "execute_result"
    }
   ],
   "source": [
    "obj2.home"
   ]
  },
  {
   "cell_type": "code",
   "execution_count": null,
   "id": "d3e988bc-7c9d-4179-b577-c3252bd92ebe",
   "metadata": {},
   "outputs": [],
   "source": []
  },
  {
   "cell_type": "code",
   "execution_count": null,
   "id": "2769508d-3964-4fc3-9f9f-30439a1120eb",
   "metadata": {},
   "outputs": [],
   "source": []
  },
  {
   "cell_type": "code",
   "execution_count": null,
   "id": "46003251-93df-463f-ac45-d9ece30df7f0",
   "metadata": {},
   "outputs": [
    {
     "name": "stdout",
     "output_type": "stream",
     "text": [
      "Enter new home name:  new\n"
     ]
    }
   ],
   "source": [
    "obj1.change_home()"
   ]
  },
  {
   "cell_type": "code",
   "execution_count": null,
   "id": "e8d2f256-69f4-4169-b082-0214b757629f",
   "metadata": {},
   "outputs": [],
   "source": []
  },
  {
   "cell_type": "code",
   "execution_count": null,
   "id": "3968fc06-377d-4d09-a7f0-d95cc625cf44",
   "metadata": {},
   "outputs": [
    {
     "data": {
      "text/plain": [
       "'new'"
      ]
     },
     "execution_count": 27,
     "metadata": {},
     "output_type": "execute_result"
    }
   ],
   "source": [
    "Family.home"
   ]
  },
  {
   "cell_type": "code",
   "execution_count": null,
   "id": "8f535183-1ea2-4173-9fd6-7cf2f59e5c0d",
   "metadata": {},
   "outputs": [],
   "source": []
  },
  {
   "cell_type": "code",
   "execution_count": null,
   "id": "4895f482-152f-41af-9c57-f0eb960bec98",
   "metadata": {},
   "outputs": [
    {
     "data": {
      "text/plain": [
       "{'role': 'father', 'name': 'ram', 'age': 56}"
      ]
     },
     "execution_count": 28,
     "metadata": {},
     "output_type": "execute_result"
    }
   ],
   "source": [
    "obj1.__dict__"
   ]
  },
  {
   "cell_type": "code",
   "execution_count": null,
   "id": "e95a5587-f719-447a-aa9b-2922d8fd504a",
   "metadata": {},
   "outputs": [],
   "source": []
  },
  {
   "cell_type": "markdown",
   "id": "33dc13aa-f040-4ccf-8fe8-c8a960f2218d",
   "metadata": {},
   "source": [
    "## static method"
   ]
  },
  {
   "cell_type": "code",
   "execution_count": null,
   "id": "299ac2f1-9d65-4b88-8577-8f303659e878",
   "metadata": {},
   "outputs": [],
   "source": []
  },
  {
   "cell_type": "code",
   "execution_count": null,
   "id": "c27fc8f4-838c-40b6-abff-a67aedf2cde3",
   "metadata": {},
   "outputs": [],
   "source": [
    "class Family:\n",
    "\n",
    "    home = \"Raj Bhavan\"\n",
    "\n",
    "    def __init__(self, role, name, age):\n",
    "        self.role = role\n",
    "        self.name = name\n",
    "        self.age = age\n",
    "\n",
    "    def show_attrs(self):\n",
    "        for key, value in self.__dict__.items():\n",
    "            print(f\"{key} : {value}\")\n",
    "\n",
    "    def change_name(self):\n",
    "        self.name = input('Enter new name: ')\n",
    "\n",
    "    @classmethod\n",
    "    def change_home(cls):\n",
    "        cls.home = input('Enter new home name: ')\n",
    "\n",
    "    def show():\n",
    "        print(\"this is static method inside Family class\")"
   ]
  },
  {
   "cell_type": "code",
   "execution_count": null,
   "id": "06bd3a30-1694-4b79-b447-cfe00645f730",
   "metadata": {},
   "outputs": [],
   "source": [
    "obj1 = Family('father', 'ram', 56)\n",
    "obj2 = Family('mother', 'simran', 45)\n"
   ]
  },
  {
   "cell_type": "code",
   "execution_count": null,
   "id": "25f4ab6a-f5a4-4458-bea6-7490d320da0c",
   "metadata": {},
   "outputs": [
    {
     "ename": "TypeError",
     "evalue": "Family.show() takes 0 positional arguments but 1 was given",
     "output_type": "error",
     "traceback": [
      "\u001b[1;31m---------------------------------------------------------------------------\u001b[0m",
      "\u001b[1;31mTypeError\u001b[0m                                 Traceback (most recent call last)",
      "Cell \u001b[1;32mIn[31], line 1\u001b[0m\n\u001b[1;32m----> 1\u001b[0m obj1\u001b[38;5;241m.\u001b[39mshow()\n",
      "\u001b[1;31mTypeError\u001b[0m: Family.show() takes 0 positional arguments but 1 was given"
     ]
    }
   ],
   "source": [
    "obj1.show()"
   ]
  },
  {
   "cell_type": "code",
   "execution_count": null,
   "id": "8b7d2797-9457-475c-8797-ba97790bc13d",
   "metadata": {},
   "outputs": [],
   "source": []
  },
  {
   "cell_type": "code",
   "execution_count": null,
   "id": "c246a7ac-0462-42af-a73f-d9053cd71bb3",
   "metadata": {},
   "outputs": [],
   "source": []
  },
  {
   "cell_type": "code",
   "execution_count": null,
   "id": "08e10cab-c851-4aa4-a92e-f8ff8c296ae9",
   "metadata": {},
   "outputs": [],
   "source": [
    "class Family:\n",
    "\n",
    "    home = \"Raj Bhavan\"\n",
    "\n",
    "    def __init__(self, role, name, age):\n",
    "        self.role = role\n",
    "        self.name = name\n",
    "        self.age = age\n",
    "\n",
    "    def show_attrs(self):\n",
    "        for key, value in self.__dict__.items():\n",
    "            print(f\"{key} : {value}\")\n",
    "\n",
    "    def change_name(self):\n",
    "        self.name = input('Enter new name: ')\n",
    "\n",
    "    @classmethod\n",
    "    def change_home(cls):\n",
    "        cls.home = input('Enter new home name: ')\n",
    "    \n",
    "    @staticmethod\n",
    "    def show():\n",
    "        print(\"this is static method inside Family class\")"
   ]
  },
  {
   "cell_type": "code",
   "execution_count": null,
   "id": "b47923c7-72f5-4c97-8415-437cd7d7472d",
   "metadata": {},
   "outputs": [],
   "source": [
    "obj1 = Family('father', 'ram', 56)\n",
    "obj2 = Family('mother', 'simran', 45)\n"
   ]
  },
  {
   "cell_type": "code",
   "execution_count": null,
   "id": "838e4d3f-1d10-4a23-bbfd-784320d16f32",
   "metadata": {},
   "outputs": [
    {
     "name": "stdout",
     "output_type": "stream",
     "text": [
      "this is static method inside Family class\n"
     ]
    }
   ],
   "source": [
    "obj1.show()"
   ]
  },
  {
   "cell_type": "code",
   "execution_count": null,
   "id": "05620e1b-12a2-4e16-aaf9-50b5ed236fa8",
   "metadata": {},
   "outputs": [],
   "source": []
  },
  {
   "cell_type": "markdown",
   "id": "6375d57d-3d01-47f8-a85d-cd8bff34235f",
   "metadata": {},
   "source": [
    "    __str__\n",
    "\n",
    "    __repr__"
   ]
  },
  {
   "cell_type": "code",
   "execution_count": null,
   "id": "04ad9022-ae9d-4874-840c-894e6d65e0b4",
   "metadata": {},
   "outputs": [],
   "source": []
  },
  {
   "cell_type": "code",
   "execution_count": null,
   "id": "20c01437-443f-4ce2-81b6-9a2505968b17",
   "metadata": {},
   "outputs": [
    {
     "name": "stdout",
     "output_type": "stream",
     "text": [
      "<__main__.Family object at 0x0000017416E64510>\n"
     ]
    }
   ],
   "source": [
    "print(obj1)"
   ]
  },
  {
   "cell_type": "code",
   "execution_count": null,
   "id": "de79b997-1936-4eae-aa69-5ad0672e1db0",
   "metadata": {},
   "outputs": [
    {
     "name": "stdout",
     "output_type": "stream",
     "text": [
      "ram\n"
     ]
    }
   ],
   "source": [
    "print(obj1.name)"
   ]
  },
  {
   "cell_type": "code",
   "execution_count": null,
   "id": "26e59993-22bb-4ced-8349-720956cd86b5",
   "metadata": {},
   "outputs": [],
   "source": []
  },
  {
   "cell_type": "code",
   "execution_count": null,
   "id": "64d365c0-ba0e-4b7b-a49e-e879a49c12f1",
   "metadata": {},
   "outputs": [],
   "source": [
    "class Family:\n",
    "\n",
    "    home = \"Raj Bhavan\"\n",
    "\n",
    "    def __init__(self, role, name, age):\n",
    "        self.role = role\n",
    "        self.name = name\n",
    "        self.age = age\n",
    "\n",
    "    def show_attrs(self):\n",
    "        for key, value in self.__dict__.items():\n",
    "            print(f\"{key} : {value}\")\n",
    "\n",
    "    def change_name(self):\n",
    "        self.name = input('Enter new name: ')\n",
    "\n",
    "    @classmethod\n",
    "    def change_home(cls):\n",
    "        cls.home = input('Enter new home name: ')\n",
    "    \n",
    "    @staticmethod\n",
    "    def show():\n",
    "        print(\"this is static method inside Family class\")\n",
    "\n",
    "    def __str__(self):\n",
    "        return f\"Role: {self.role}\\nName: {self.name}\\nAge: {self.age}\"\n",
    "\n",
    "    def __repr__(self):\n",
    "        return f\"Role: {self.role}\\nName: {self.name}\\nAge: {self.age}\""
   ]
  },
  {
   "cell_type": "code",
   "execution_count": null,
   "id": "d8fcc4c8-223c-4bc2-9270-720f0eba0a8e",
   "metadata": {},
   "outputs": [],
   "source": [
    "obj1 = Family('father', 'ram', 56)\n",
    "obj2 = Family('mother', 'simran', 45)\n"
   ]
  },
  {
   "cell_type": "code",
   "execution_count": null,
   "id": "59871cc8-d53f-40f3-9d5c-690abbe1ca52",
   "metadata": {},
   "outputs": [
    {
     "name": "stdout",
     "output_type": "stream",
     "text": [
      "Role: father\n",
      "Name: ram\n",
      "Age: 56\n"
     ]
    }
   ],
   "source": [
    "print(obj1)"
   ]
  },
  {
   "cell_type": "code",
   "execution_count": null,
   "id": "27561f00-8375-47b7-8462-cb79e24d19f8",
   "metadata": {},
   "outputs": [
    {
     "data": {
      "text/plain": [
       "Role: father\n",
       "Name: ram\n",
       "Age: 56"
      ]
     },
     "execution_count": 45,
     "metadata": {},
     "output_type": "execute_result"
    }
   ],
   "source": [
    "obj1"
   ]
  },
  {
   "cell_type": "code",
   "execution_count": null,
   "id": "5668bb69-d285-404a-aaa5-57d7bbb249d4",
   "metadata": {},
   "outputs": [],
   "source": []
  },
  {
   "cell_type": "code",
   "execution_count": null,
   "id": "b5c45330-f100-4798-ae20-dd113590fbee",
   "metadata": {},
   "outputs": [
    {
     "ename": "TypeError",
     "evalue": "'>' not supported between instances of 'Family' and 'Family'",
     "output_type": "error",
     "traceback": [
      "\u001b[1;31m---------------------------------------------------------------------------\u001b[0m",
      "\u001b[1;31mTypeError\u001b[0m                                 Traceback (most recent call last)",
      "Cell \u001b[1;32mIn[46], line 1\u001b[0m\n\u001b[1;32m----> 1\u001b[0m obj1 \u001b[38;5;241m>\u001b[39m obj2\n",
      "\u001b[1;31mTypeError\u001b[0m: '>' not supported between instances of 'Family' and 'Family'"
     ]
    }
   ],
   "source": [
    "obj1 > obj2"
   ]
  },
  {
   "cell_type": "code",
   "execution_count": null,
   "id": "b4c4e5b7-1909-407e-a0dc-cdb9f94ac370",
   "metadata": {},
   "outputs": [],
   "source": []
  }
 ],
 "metadata": {
  "kernelspec": {
   "display_name": "base",
   "language": "python",
   "name": "python3"
  },
  "language_info": {
   "codemirror_mode": {
    "name": "ipython",
    "version": 3
   },
   "file_extension": ".py",
   "mimetype": "text/x-python",
   "name": "python",
   "nbconvert_exporter": "python",
   "pygments_lexer": "ipython3",
   "version": "3.12.4"
  }
 },
 "nbformat": 4,
 "nbformat_minor": 5
}
