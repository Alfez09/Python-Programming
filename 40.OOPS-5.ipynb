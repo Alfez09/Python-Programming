{
 "cells": [
  {
   "cell_type": "markdown",
   "id": "2af67121-b82a-4065-b5fa-8c87409988ed",
   "metadata": {},
   "source": [
    "# Inheritance\n"
   ]
  },
  {
   "cell_type": "code",
   "execution_count": null,
   "id": "cc5237e7-6e54-4eb7-aa34-f31426e16569",
   "metadata": {},
   "outputs": [],
   "source": []
  },
  {
   "cell_type": "code",
   "execution_count": 7,
   "id": "3156ab57-59db-42d6-9c0d-fa29f6cbd8d7",
   "metadata": {},
   "outputs": [],
   "source": [
    "class A:\n",
    "    def method1(self):\n",
    "        print('this is method-1')\n",
    "\n",
    "    def method2(self):\n",
    "        print('this is method-2')"
   ]
  },
  {
   "cell_type": "code",
   "execution_count": 11,
   "id": "fc489544-cae4-483f-962c-f9cd091a161d",
   "metadata": {},
   "outputs": [],
   "source": [
    "class B:\n",
    "    def method3(self):\n",
    "        print('this is method-3')\n",
    "\n",
    "    def method4(self):\n",
    "        print('this is method-4')"
   ]
  },
  {
   "cell_type": "code",
   "execution_count": 12,
   "id": "87f4ed08-5b03-40ee-a29d-0ba14b87af2f",
   "metadata": {},
   "outputs": [],
   "source": [
    "obj1 = B()"
   ]
  },
  {
   "cell_type": "code",
   "execution_count": 13,
   "id": "45900a53-a056-4108-8f7e-176c25e2b702",
   "metadata": {},
   "outputs": [
    {
     "name": "stdout",
     "output_type": "stream",
     "text": [
      "this is method-3\n"
     ]
    }
   ],
   "source": [
    "obj1.method3()"
   ]
  },
  {
   "cell_type": "code",
   "execution_count": null,
   "id": "5ee2b839-505f-440b-a00e-ba84dbaf8c86",
   "metadata": {},
   "outputs": [],
   "source": []
  },
  {
   "cell_type": "code",
   "execution_count": 14,
   "id": "93b01425-8366-4a38-a57b-1c8b65adfda7",
   "metadata": {},
   "outputs": [
    {
     "ename": "AttributeError",
     "evalue": "'B' object has no attribute 'method1'",
     "output_type": "error",
     "traceback": [
      "\u001b[1;31m---------------------------------------------------------------------------\u001b[0m",
      "\u001b[1;31mAttributeError\u001b[0m                            Traceback (most recent call last)",
      "Cell \u001b[1;32mIn[14], line 1\u001b[0m\n\u001b[1;32m----> 1\u001b[0m obj1\u001b[38;5;241m.\u001b[39mmethod1()\n",
      "\u001b[1;31mAttributeError\u001b[0m: 'B' object has no attribute 'method1'"
     ]
    }
   ],
   "source": [
    "obj1.method1()"
   ]
  },
  {
   "cell_type": "code",
   "execution_count": null,
   "id": "93ca7098-50a0-439f-a2dd-e930e752a118",
   "metadata": {},
   "outputs": [],
   "source": []
  },
  {
   "cell_type": "code",
   "execution_count": 15,
   "id": "90f76f72-3997-45e4-b2f4-0127f4d99463",
   "metadata": {},
   "outputs": [],
   "source": [
    "class A:            # parent class / super class\n",
    "    def method1(self):\n",
    "        print('this is method-1')\n",
    "\n",
    "    def method2(self):\n",
    "        print('this is method-2')"
   ]
  },
  {
   "cell_type": "code",
   "execution_count": 20,
   "id": "a8590b74-e616-4217-ae09-0130bc52318a",
   "metadata": {},
   "outputs": [],
   "source": [
    "class B(A):   # child class / sub class\n",
    "    pass"
   ]
  },
  {
   "cell_type": "code",
   "execution_count": 21,
   "id": "df2838b7-0b47-4d53-829a-202b74a9b744",
   "metadata": {},
   "outputs": [],
   "source": [
    "obj1 = B()"
   ]
  },
  {
   "cell_type": "code",
   "execution_count": 22,
   "id": "e9b53f6a-88c6-4551-9d62-141c4ac167c0",
   "metadata": {},
   "outputs": [
    {
     "name": "stdout",
     "output_type": "stream",
     "text": [
      "this is method-1\n"
     ]
    }
   ],
   "source": [
    "obj1.method1()"
   ]
  },
  {
   "cell_type": "code",
   "execution_count": null,
   "id": "bf46b7fd-cd17-41bd-a203-b18c2baedccc",
   "metadata": {},
   "outputs": [],
   "source": []
  },
  {
   "cell_type": "code",
   "execution_count": 24,
   "id": "31bcd996-1ac9-42a3-9db0-3878b909b93e",
   "metadata": {},
   "outputs": [],
   "source": [
    "class A:            # parent class / super class\n",
    "    def method1(self):\n",
    "        print('this is method-1')\n",
    "\n",
    "    def method2(self):\n",
    "        print('this is method-2')"
   ]
  },
  {
   "cell_type": "code",
   "execution_count": 25,
   "id": "a1c0fc74-1c58-40b9-aa72-7b53a67ad7ce",
   "metadata": {},
   "outputs": [],
   "source": [
    "class B(A):   # child class / sub class\n",
    "    def method1(self):\n",
    "        print('this is method-1-B')"
   ]
  },
  {
   "cell_type": "code",
   "execution_count": 26,
   "id": "f23113c8-a9a8-4a0a-9342-f4dbd7810feb",
   "metadata": {},
   "outputs": [],
   "source": [
    "obj1 = B()"
   ]
  },
  {
   "cell_type": "code",
   "execution_count": 27,
   "id": "059f0f2c-a666-49ac-a457-fb51d53dfa9e",
   "metadata": {},
   "outputs": [
    {
     "name": "stdout",
     "output_type": "stream",
     "text": [
      "this is method-1-B\n"
     ]
    }
   ],
   "source": [
    "obj1.method1()"
   ]
  },
  {
   "cell_type": "code",
   "execution_count": null,
   "id": "48c4a5a9-d08a-40da-b0a7-f45d254152ae",
   "metadata": {},
   "outputs": [],
   "source": []
  },
  {
   "cell_type": "markdown",
   "id": "c7e3e2bd-d9d0-43bd-83b4-0937d7b5f5aa",
   "metadata": {},
   "source": [
    "## multilevel inheritance"
   ]
  },
  {
   "cell_type": "code",
   "execution_count": 29,
   "id": "ee17ac74-7962-458a-80b3-558e19c83400",
   "metadata": {},
   "outputs": [],
   "source": [
    "\n",
    "class A:\n",
    "    def method1(self):\n",
    "        print('this is method-1')\n",
    "\n",
    "    def method2(self):\n",
    "        print('this is method-2')\n",
    "\n",
    "class B(A):\n",
    "    def method3(self):\n",
    "        print('this is method-3')\n",
    "\n",
    "    def method4(self):\n",
    "        print('this is method-4')\n",
    "\n",
    "class C(B):\n",
    "    def method5(self):\n",
    "        print('this is method-5')"
   ]
  },
  {
   "cell_type": "code",
   "execution_count": 30,
   "id": "6441cc47-dc76-4dec-bb9b-565271e569a0",
   "metadata": {},
   "outputs": [],
   "source": [
    "obj1 = C()"
   ]
  },
  {
   "cell_type": "code",
   "execution_count": 32,
   "id": "927c31f7-57ad-4674-871b-f2b6c2729d98",
   "metadata": {},
   "outputs": [
    {
     "name": "stdout",
     "output_type": "stream",
     "text": [
      "this is method-2\n"
     ]
    }
   ],
   "source": [
    "obj1.method2()"
   ]
  },
  {
   "cell_type": "code",
   "execution_count": 33,
   "id": "b54f68ee-d580-423b-82b1-e6b33f47edc8",
   "metadata": {},
   "outputs": [
    {
     "name": "stdout",
     "output_type": "stream",
     "text": [
      "this is method-3\n"
     ]
    }
   ],
   "source": [
    "obj1.method3()"
   ]
  },
  {
   "cell_type": "code",
   "execution_count": null,
   "id": "62cbf10e-2668-490c-9f06-8d6a03526a96",
   "metadata": {},
   "outputs": [],
   "source": []
  },
  {
   "cell_type": "markdown",
   "id": "ad927f73-4dfc-4dff-91a2-360274816417",
   "metadata": {},
   "source": [
    "## Multiple Inheritance"
   ]
  },
  {
   "cell_type": "code",
   "execution_count": null,
   "id": "252e02bc-ef15-4e12-85e0-2ce2a0399e81",
   "metadata": {},
   "outputs": [],
   "source": []
  },
  {
   "cell_type": "code",
   "execution_count": 41,
   "id": "b5c2be93-cac1-4385-a47c-f3784c1ca83f",
   "metadata": {},
   "outputs": [],
   "source": [
    "\n",
    "class A:\n",
    "    def method1(self):\n",
    "        print('this is method-1-A')\n",
    "\n",
    "    def method2(self):\n",
    "        print('this is method-2')\n",
    "\n",
    "class B:\n",
    "    def method3(self):\n",
    "        print('this is method-3')\n",
    "\n",
    "    def method1(self):\n",
    "        print('this is method-1-B')\n",
    "\n",
    "    def method4(self):\n",
    "        print('this is method-4')\n",
    "\n",
    "class C(A,B):   # MRO   --> Method resolution order\n",
    "    def method5(self):\n",
    "        print('this is method-5')"
   ]
  },
  {
   "cell_type": "code",
   "execution_count": 42,
   "id": "aa9b2032-1e5c-4d82-b05b-9a75a90deb80",
   "metadata": {},
   "outputs": [],
   "source": [
    "obj1 = C()"
   ]
  },
  {
   "cell_type": "code",
   "execution_count": 43,
   "id": "2741e436-7b58-4d38-b1c2-74ef73d3881f",
   "metadata": {},
   "outputs": [
    {
     "name": "stdout",
     "output_type": "stream",
     "text": [
      "this is method-1-A\n"
     ]
    }
   ],
   "source": [
    "obj1.method1()"
   ]
  },
  {
   "cell_type": "code",
   "execution_count": null,
   "id": "91796699-16ea-402b-8ea8-e08867b5d412",
   "metadata": {},
   "outputs": [],
   "source": []
  },
  {
   "cell_type": "code",
   "execution_count": 44,
   "id": "2b98a8f3-b067-4cf9-91af-1e44fbbf2a1d",
   "metadata": {},
   "outputs": [],
   "source": [
    "\n",
    "class A:\n",
    "    # def method1(self):\n",
    "    #     print('this is method-1-A')\n",
    "\n",
    "    def method2(self):\n",
    "        print('this is method-2')\n",
    "\n",
    "class B:\n",
    "    def method3(self):\n",
    "        print('this is method-3')\n",
    "\n",
    "    def method1(self):\n",
    "        print('this is method-1-B')\n",
    "\n",
    "    def method4(self):\n",
    "        print('this is method-4')\n",
    "\n",
    "class C(A,B):   # MRO   --> Method resolution order\n",
    "    def method5(self):\n",
    "        print('this is method-5')"
   ]
  },
  {
   "cell_type": "code",
   "execution_count": 45,
   "id": "e589775d-70d7-49ca-957c-0ff58592a275",
   "metadata": {},
   "outputs": [],
   "source": [
    "obj1 = C()"
   ]
  },
  {
   "cell_type": "code",
   "execution_count": 46,
   "id": "643bb4c6-8012-4528-8ff0-7d41c57f1265",
   "metadata": {},
   "outputs": [
    {
     "name": "stdout",
     "output_type": "stream",
     "text": [
      "this is method-1-B\n"
     ]
    }
   ],
   "source": [
    "obj1.method1()"
   ]
  },
  {
   "cell_type": "code",
   "execution_count": null,
   "id": "dd24dc2a-f05a-49c9-b1f9-8f2d52c21874",
   "metadata": {},
   "outputs": [],
   "source": []
  },
  {
   "cell_type": "code",
   "execution_count": null,
   "id": "67eb54f3-f477-432f-a02c-0657634ea812",
   "metadata": {},
   "outputs": [],
   "source": []
  },
  {
   "cell_type": "code",
   "execution_count": 47,
   "id": "6df28db1-f4e7-48aa-a79b-1e851f530a2b",
   "metadata": {},
   "outputs": [
    {
     "ename": "TypeError",
     "evalue": "Cannot create a consistent method resolution\norder (MRO) for bases A, B",
     "output_type": "error",
     "traceback": [
      "\u001b[1;31m---------------------------------------------------------------------------\u001b[0m",
      "\u001b[1;31mTypeError\u001b[0m                                 Traceback (most recent call last)",
      "Cell \u001b[1;32mIn[47], line 18\u001b[0m\n\u001b[0;32m     15\u001b[0m     \u001b[38;5;28;01mdef\u001b[39;00m \u001b[38;5;21mmethod4\u001b[39m(\u001b[38;5;28mself\u001b[39m):\n\u001b[0;32m     16\u001b[0m         \u001b[38;5;28mprint\u001b[39m(\u001b[38;5;124m'\u001b[39m\u001b[38;5;124mthis is method-4\u001b[39m\u001b[38;5;124m'\u001b[39m)\n\u001b[1;32m---> 18\u001b[0m \u001b[38;5;28;01mclass\u001b[39;00m \u001b[38;5;21;01mC\u001b[39;00m(A,B):   \u001b[38;5;66;03m# MRO   --> Method resolution order\u001b[39;00m\n\u001b[0;32m     19\u001b[0m     \u001b[38;5;28;01mdef\u001b[39;00m \u001b[38;5;21mmethod5\u001b[39m(\u001b[38;5;28mself\u001b[39m):\n\u001b[0;32m     20\u001b[0m         \u001b[38;5;28mprint\u001b[39m(\u001b[38;5;124m'\u001b[39m\u001b[38;5;124mthis is method-5\u001b[39m\u001b[38;5;124m'\u001b[39m)\n",
      "\u001b[1;31mTypeError\u001b[0m: Cannot create a consistent method resolution\norder (MRO) for bases A, B"
     ]
    }
   ],
   "source": [
    "\n",
    "class A:\n",
    "    # def method1(self):\n",
    "    #     print('this is method-1-A')\n",
    "\n",
    "    def method2(self):\n",
    "        print('this is method-2')\n",
    "\n",
    "class B(A):\n",
    "    def method3(self):\n",
    "        print('this is method-3')\n",
    "\n",
    "    def method1(self):\n",
    "        print('this is method-1-B')\n",
    "\n",
    "    def method4(self):\n",
    "        print('this is method-4')\n",
    "\n",
    "class C(A,B):   # MRO   --> Method resolution order\n",
    "    def method5(self):\n",
    "        print('this is method-5')"
   ]
  },
  {
   "cell_type": "code",
   "execution_count": null,
   "id": "f8cecef8-cd33-4802-9a76-e4f778193ca8",
   "metadata": {},
   "outputs": [],
   "source": []
  },
  {
   "cell_type": "code",
   "execution_count": null,
   "id": "d6227d93-efaf-4f72-b687-074c291dc176",
   "metadata": {},
   "outputs": [],
   "source": []
  },
  {
   "cell_type": "code",
   "execution_count": null,
   "id": "bee677bc-daf7-418f-9e3e-2131f088d272",
   "metadata": {},
   "outputs": [],
   "source": []
  },
  {
   "cell_type": "code",
   "execution_count": 53,
   "id": "117263b4-48fc-46b6-9cc2-4f18126309b6",
   "metadata": {},
   "outputs": [],
   "source": [
    "\n",
    "class A:\n",
    "    def method1(self):\n",
    "        print('this is method-1-A')\n",
    "\n",
    "    def method2(self):\n",
    "        print('this is method-2')\n",
    "\n",
    "class B:\n",
    "    def method3(self):\n",
    "        print('this is method-3')\n",
    "\n",
    "    # def method1(self):\n",
    "    #     print('this is method-1-B')\n",
    "\n",
    "    def method4(self):\n",
    "        print('this is method-4')\n",
    "\n",
    "class C(B,A):   # MRO   --> Method resolution order\n",
    "    def method5(self):\n",
    "        print('this is method-5')"
   ]
  },
  {
   "cell_type": "code",
   "execution_count": 54,
   "id": "5bbee30d-9847-44d3-a981-370be797ddbb",
   "metadata": {},
   "outputs": [],
   "source": [
    "obj1 = C()"
   ]
  },
  {
   "cell_type": "code",
   "execution_count": 55,
   "id": "5ed149ea-5d02-4947-a0e9-35beafd4c306",
   "metadata": {},
   "outputs": [
    {
     "name": "stdout",
     "output_type": "stream",
     "text": [
      "this is method-1-A\n"
     ]
    }
   ],
   "source": [
    "obj1.method1()"
   ]
  },
  {
   "cell_type": "code",
   "execution_count": null,
   "id": "60cc8095-9c50-4f59-b048-1dff7677e502",
   "metadata": {},
   "outputs": [],
   "source": []
  },
  {
   "cell_type": "markdown",
   "id": "0eaa8579-4c5b-421e-a446-c7b813cd626c",
   "metadata": {},
   "source": [
    "## Constructor's beahaviour in inheritance"
   ]
  },
  {
   "cell_type": "code",
   "execution_count": null,
   "id": "4535c1e7-dfd4-4a64-af01-f98df4a420e3",
   "metadata": {},
   "outputs": [],
   "source": []
  },
  {
   "cell_type": "code",
   "execution_count": 56,
   "id": "ef098ade-002f-4b53-9c22-23f25ae2d809",
   "metadata": {},
   "outputs": [],
   "source": [
    "\n",
    "class A:\n",
    "\n",
    "    def __init__(self):\n",
    "        print('init of class -A')\n",
    "    \n",
    "    def method1(self):\n",
    "        print('this is method-1-A')\n",
    "\n",
    "    def method2(self):\n",
    "        print('this is method-2')\n",
    "\n",
    "class B:\n",
    "\n",
    "    def __init__(self):\n",
    "        print('init of class -B')\n",
    "    \n",
    "    def method3(self):\n",
    "        print('this is method-3')\n",
    "\n",
    "    # def method1(self):\n",
    "    #     print('this is method-1-B')\n",
    "\n",
    "    def method4(self):\n",
    "        print('this is method-4')\n",
    "\n",
    "class C:   \n",
    "    def __init__(self):\n",
    "        print('init of class -C')\n",
    "        \n",
    "    def method5(self):\n",
    "        print('this is method-5')"
   ]
  },
  {
   "cell_type": "code",
   "execution_count": 57,
   "id": "c8924c15-37dc-428f-b9d8-e6a784bf2307",
   "metadata": {},
   "outputs": [
    {
     "name": "stdout",
     "output_type": "stream",
     "text": [
      "init of class -C\n"
     ]
    }
   ],
   "source": [
    "obj1 = C()"
   ]
  },
  {
   "cell_type": "code",
   "execution_count": null,
   "id": "f0fec21e-cdc7-4c82-be85-61eca93641e7",
   "metadata": {},
   "outputs": [],
   "source": []
  },
  {
   "cell_type": "code",
   "execution_count": 58,
   "id": "dbe9bf94-8991-4b61-be8c-ea17ffa34b67",
   "metadata": {},
   "outputs": [],
   "source": [
    "\n",
    "class A:\n",
    "\n",
    "    def __init__(self):\n",
    "        print('init of class -A')\n",
    "    \n",
    "    def method1(self):\n",
    "        print('this is method-1-A')\n",
    "\n",
    "    def method2(self):\n",
    "        print('this is method-2')\n",
    "\n",
    "class B:\n",
    "\n",
    "    def __init__(self):\n",
    "        print('init of class -B')\n",
    "    \n",
    "    def method3(self):\n",
    "        print('this is method-3')\n",
    "\n",
    "    # def method1(self):\n",
    "    #     print('this is method-1-B')\n",
    "\n",
    "    def method4(self):\n",
    "        print('this is method-4')\n",
    "\n",
    "class C(A,B):   \n",
    "    # def __init__(self):\n",
    "    #     print('init of class -C')\n",
    "        \n",
    "    def method5(self):\n",
    "        print('this is method-5')"
   ]
  },
  {
   "cell_type": "code",
   "execution_count": 59,
   "id": "8310f2b8-c3ba-4c71-b918-570db4c3d837",
   "metadata": {},
   "outputs": [
    {
     "name": "stdout",
     "output_type": "stream",
     "text": [
      "init of class -A\n"
     ]
    }
   ],
   "source": [
    "obj1 = C()"
   ]
  },
  {
   "cell_type": "code",
   "execution_count": null,
   "id": "26effb44-5eb4-4cff-880a-cc327d1d31fc",
   "metadata": {},
   "outputs": [],
   "source": []
  },
  {
   "cell_type": "code",
   "execution_count": null,
   "id": "cade4c94-47e7-4268-8278-f875f6ef9626",
   "metadata": {},
   "outputs": [],
   "source": []
  },
  {
   "cell_type": "code",
   "execution_count": 62,
   "id": "a7d2a215-791a-4401-aeaf-b490b993b1cb",
   "metadata": {},
   "outputs": [],
   "source": [
    "\n",
    "class A:\n",
    "\n",
    "    def __init__(self):\n",
    "        print('init of class -A')\n",
    "    \n",
    "    def method1(self):\n",
    "        print('this is method-1-A')\n",
    "\n",
    "    def method2(self):\n",
    "        print('this is method-2')\n",
    "\n",
    "class B:\n",
    "\n",
    "    def __init__(self):\n",
    "        print('init of class -B')\n",
    "    \n",
    "    def method3(self):\n",
    "        print('this is method-3')\n",
    "\n",
    "    # def method1(self):\n",
    "    #     print('this is method-1-B')\n",
    "\n",
    "    def method4(self):\n",
    "        print('this is method-4')\n",
    "\n",
    "class C(A,B):   \n",
    "    def __init__(self):\n",
    "        super().__init__()\n",
    "        print('init of class -C')\n",
    "        \n",
    "    def method5(self):\n",
    "        print('this is method-5')"
   ]
  },
  {
   "cell_type": "code",
   "execution_count": 63,
   "id": "2d2dea10-3898-4906-a913-db645c5826da",
   "metadata": {},
   "outputs": [
    {
     "name": "stdout",
     "output_type": "stream",
     "text": [
      "init of class -A\n",
      "init of class -C\n"
     ]
    }
   ],
   "source": [
    "obj1 = C()\n"
   ]
  },
  {
   "cell_type": "code",
   "execution_count": null,
   "id": "ecb02e60-eb90-4f63-a47c-42883dcf4af9",
   "metadata": {},
   "outputs": [],
   "source": []
  },
  {
   "cell_type": "code",
   "execution_count": null,
   "id": "beb5e840-f67a-4bea-a675-51682da8358e",
   "metadata": {},
   "outputs": [],
   "source": []
  },
  {
   "cell_type": "code",
   "execution_count": 67,
   "id": "ab380c95-bdd4-49c5-9829-7dc624f1fdfd",
   "metadata": {},
   "outputs": [],
   "source": [
    "\n",
    "class A:\n",
    "\n",
    "    def __init__(self):\n",
    "        print('init of class -A')\n",
    "    \n",
    "    def method1(self):\n",
    "        print('this is method-1-A')\n",
    "\n",
    "    def method2(self):\n",
    "        print('this is method-2')\n",
    "\n",
    "class B:\n",
    "\n",
    "    def __init__(self):\n",
    "        print('init of class -B')\n",
    "    \n",
    "    def method3(self):\n",
    "        print('this is method-3')\n",
    "\n",
    "    # def method1(self):\n",
    "    #     print('this is method-1-B')\n",
    "\n",
    "    def method4(self):\n",
    "        print('this is method-4')\n",
    "\n",
    "class C(A,B):   \n",
    "    def __init__(self):\n",
    "        super().__init__()\n",
    "        B.__init__(self)\n",
    "        print('init of class -C')\n",
    "        \n",
    "    def method5(self):\n",
    "        print('this is method-5')"
   ]
  },
  {
   "cell_type": "code",
   "execution_count": 68,
   "id": "f958bef1-91de-40ad-9a35-8f381f341351",
   "metadata": {},
   "outputs": [
    {
     "name": "stdout",
     "output_type": "stream",
     "text": [
      "init of class -A\n",
      "init of class -B\n",
      "init of class -C\n"
     ]
    }
   ],
   "source": [
    "obj1 = C()"
   ]
  },
  {
   "cell_type": "code",
   "execution_count": null,
   "id": "98853281-3e98-4e64-9377-99bca9a14518",
   "metadata": {},
   "outputs": [],
   "source": []
  },
  {
   "cell_type": "code",
   "execution_count": null,
   "id": "e46ce2c5-214e-4899-a0fa-cb5e69f919cd",
   "metadata": {},
   "outputs": [],
   "source": []
  }
 ],
 "metadata": {
  "kernelspec": {
   "display_name": "Python 3 (ipykernel)",
   "language": "python",
   "name": "python3"
  },
  "language_info": {
   "codemirror_mode": {
    "name": "ipython",
    "version": 3
   },
   "file_extension": ".py",
   "mimetype": "text/x-python",
   "name": "python",
   "nbconvert_exporter": "python",
   "pygments_lexer": "ipython3",
   "version": "3.11.7"
  }
 },
 "nbformat": 4,
 "nbformat_minor": 5
}
