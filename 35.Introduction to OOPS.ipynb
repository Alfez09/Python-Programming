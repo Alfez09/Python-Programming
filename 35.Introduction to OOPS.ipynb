{
 "cells": [
  {
   "cell_type": "code",
   "execution_count": null,
   "id": "50d0ec9d-62ba-414b-880f-b40be2c5db67",
   "metadata": {},
   "outputs": [],
   "source": []
  },
  {
   "cell_type": "code",
   "execution_count": 1,
   "id": "945be724-a5ef-453f-b381-151fa521e95a",
   "metadata": {},
   "outputs": [],
   "source": [
    "def fun(a,b):\n",
    "    return a + b"
   ]
  },
  {
   "cell_type": "code",
   "execution_count": 2,
   "id": "68ea553c-ba8f-4c4a-931e-24de62b81474",
   "metadata": {},
   "outputs": [],
   "source": [
    "def fun(a,b,c):\n",
    "    return a+b+c"
   ]
  },
  {
   "cell_type": "code",
   "execution_count": 3,
   "id": "aabdf649-57bf-4931-952c-02e3f50d613c",
   "metadata": {},
   "outputs": [
    {
     "ename": "TypeError",
     "evalue": "fun() missing 1 required positional argument: 'c'",
     "output_type": "error",
     "traceback": [
      "\u001b[1;31m---------------------------------------------------------------------------\u001b[0m",
      "\u001b[1;31mTypeError\u001b[0m                                 Traceback (most recent call last)",
      "Cell \u001b[1;32mIn[3], line 1\u001b[0m\n\u001b[1;32m----> 1\u001b[0m fun(\u001b[38;5;241m2\u001b[39m,\u001b[38;5;241m3\u001b[39m)\n",
      "\u001b[1;31mTypeError\u001b[0m: fun() missing 1 required positional argument: 'c'"
     ]
    }
   ],
   "source": [
    "fun(2,3)"
   ]
  },
  {
   "cell_type": "code",
   "execution_count": null,
   "id": "386757b5-1499-4921-8ecf-8c49b0dbf845",
   "metadata": {},
   "outputs": [],
   "source": []
  },
  {
   "cell_type": "code",
   "execution_count": null,
   "id": "24765179-3436-4d49-ad2f-15f4b4b37df0",
   "metadata": {},
   "outputs": [],
   "source": []
  },
  {
   "cell_type": "markdown",
   "id": "ad5229b6-863e-48f4-8f73-a844fa0d1d96",
   "metadata": {},
   "source": [
    "\n",
    "        syntax:\n",
    "\n",
    "                    class class_name:\n",
    "                        # methods"
   ]
  },
  {
   "cell_type": "code",
   "execution_count": null,
   "id": "fce74670-5ba1-4839-bac3-61f7ffb98683",
   "metadata": {},
   "outputs": [],
   "source": []
  },
  {
   "cell_type": "code",
   "execution_count": 4,
   "id": "94b7118c-b5bf-498b-8cf4-f3a8ca606179",
   "metadata": {},
   "outputs": [],
   "source": [
    "class Human:\n",
    "\n",
    "    def laugh():\n",
    "        print('you are laughing')\n",
    "    def cry():\n",
    "        print('you are crying')\n",
    "    def eat():\n",
    "        print('you are eating')"
   ]
  },
  {
   "cell_type": "code",
   "execution_count": null,
   "id": "9ef0f6c7-0be8-42be-b977-38832169afb1",
   "metadata": {},
   "outputs": [],
   "source": []
  },
  {
   "cell_type": "code",
   "execution_count": 5,
   "id": "705f20af-9a2d-41a2-b3ec-472748c19d46",
   "metadata": {},
   "outputs": [],
   "source": [
    "obj1 = Human()  # object creation"
   ]
  },
  {
   "cell_type": "code",
   "execution_count": null,
   "id": "0f413752-58dc-41ac-a4f3-6a04c455d1eb",
   "metadata": {},
   "outputs": [],
   "source": []
  },
  {
   "cell_type": "code",
   "execution_count": 6,
   "id": "4bbe584b-bb55-4cb0-902d-f4b79a502f31",
   "metadata": {},
   "outputs": [],
   "source": [
    "ls = [10,20,30,40]"
   ]
  },
  {
   "cell_type": "code",
   "execution_count": 7,
   "id": "f15a2de2-6650-4509-90b4-76eb4426ec45",
   "metadata": {},
   "outputs": [
    {
     "name": "stdout",
     "output_type": "stream",
     "text": [
      "<class 'list'>\n"
     ]
    }
   ],
   "source": [
    "print(type(ls))"
   ]
  },
  {
   "cell_type": "code",
   "execution_count": null,
   "id": "a5bf7392-58d2-48af-9c57-e38efe7f8c4d",
   "metadata": {},
   "outputs": [],
   "source": []
  },
  {
   "cell_type": "code",
   "execution_count": 8,
   "id": "2f1b8aca-fa7a-478a-a8d5-44a0501dfe4c",
   "metadata": {},
   "outputs": [
    {
     "name": "stdout",
     "output_type": "stream",
     "text": [
      "<class '__main__.Human'>\n"
     ]
    }
   ],
   "source": [
    "print(type(obj1))"
   ]
  },
  {
   "cell_type": "code",
   "execution_count": 25,
   "id": "275273dd-dd4a-4d7b-a15d-9e1eb760662d",
   "metadata": {},
   "outputs": [],
   "source": [
    "class Human:\n",
    "    def laugh():\n",
    "        print('you are laughing')\n",
    "    def cry():\n",
    "        print('you are crying')\n",
    "    def eat():\n",
    "        print('you are eating')"
   ]
  },
  {
   "cell_type": "code",
   "execution_count": 11,
   "id": "0b8c3851-c47e-4a16-a2b0-34ef30eb6aa0",
   "metadata": {},
   "outputs": [
    {
     "ename": "TypeError",
     "evalue": "Human.laugh() takes 0 positional arguments but 1 was given",
     "output_type": "error",
     "traceback": [
      "\u001b[1;31m---------------------------------------------------------------------------\u001b[0m",
      "\u001b[1;31mTypeError\u001b[0m                                 Traceback (most recent call last)",
      "Cell \u001b[1;32mIn[11], line 1\u001b[0m\n\u001b[1;32m----> 1\u001b[0m obj1\u001b[38;5;241m.\u001b[39mlaugh()\n",
      "\u001b[1;31mTypeError\u001b[0m: Human.laugh() takes 0 positional arguments but 1 was given"
     ]
    }
   ],
   "source": [
    "obj1.laugh()"
   ]
  },
  {
   "cell_type": "code",
   "execution_count": null,
   "id": "474dca25-0098-4614-9095-cf598d678a38",
   "metadata": {},
   "outputs": [],
   "source": []
  },
  {
   "cell_type": "code",
   "execution_count": 18,
   "id": "eef409ed-9093-4d6c-9663-95af3dcb34d1",
   "metadata": {},
   "outputs": [],
   "source": [
    "class Human:\n",
    "\n",
    "    def laugh(self):\n",
    "        print(self)\n",
    "        print('you are laughing')\n",
    "    def cry(self):\n",
    "        print('you are crying')\n",
    "    def eat(self):\n",
    "        print('you are eating')"
   ]
  },
  {
   "cell_type": "code",
   "execution_count": 19,
   "id": "68107547-54c0-4176-ba51-f5bf7551480c",
   "metadata": {},
   "outputs": [],
   "source": [
    "obj1 = Human()\n",
    "obj2 = Human()\n",
    "obj3 = Human()"
   ]
  },
  {
   "cell_type": "code",
   "execution_count": null,
   "id": "c811479f-444f-4b4b-9b6d-d5263179feee",
   "metadata": {},
   "outputs": [],
   "source": []
  },
  {
   "cell_type": "code",
   "execution_count": 20,
   "id": "f90c0dcf-5182-48fe-bc45-ce20e5c534cc",
   "metadata": {},
   "outputs": [
    {
     "name": "stdout",
     "output_type": "stream",
     "text": [
      "<__main__.Human object at 0x000002000A412C90>\n",
      "you are laughing\n"
     ]
    }
   ],
   "source": [
    "obj1.laugh()"
   ]
  },
  {
   "cell_type": "code",
   "execution_count": 21,
   "id": "2bd84594-1ac9-4a30-a6e1-ee7429a9b1d9",
   "metadata": {},
   "outputs": [
    {
     "name": "stdout",
     "output_type": "stream",
     "text": [
      "<__main__.Human object at 0x000002000A4013D0>\n",
      "you are laughing\n"
     ]
    }
   ],
   "source": [
    "obj2.laugh()"
   ]
  },
  {
   "cell_type": "code",
   "execution_count": 22,
   "id": "e262cc98-42f4-4dd4-9b4f-9a75cc42a03e",
   "metadata": {},
   "outputs": [
    {
     "data": {
      "text/plain": [
       "<__main__.Human at 0x2000a412c90>"
      ]
     },
     "execution_count": 22,
     "metadata": {},
     "output_type": "execute_result"
    }
   ],
   "source": [
    "obj1"
   ]
  },
  {
   "cell_type": "code",
   "execution_count": 23,
   "id": "19967922-13b0-4c39-b0a1-8ede809c53c6",
   "metadata": {},
   "outputs": [
    {
     "data": {
      "text/plain": [
       "<__main__.Human at 0x2000a4013d0>"
      ]
     },
     "execution_count": 23,
     "metadata": {},
     "output_type": "execute_result"
    }
   ],
   "source": [
    "obj2"
   ]
  },
  {
   "cell_type": "code",
   "execution_count": 24,
   "id": "511ca60b-dc2d-4f87-9e23-c404af9fec29",
   "metadata": {},
   "outputs": [
    {
     "name": "stdout",
     "output_type": "stream",
     "text": [
      "<__main__.Human object at 0x000002000A412C90>\n"
     ]
    }
   ],
   "source": [
    "print(obj1)"
   ]
  },
  {
   "cell_type": "code",
   "execution_count": null,
   "id": "a06a79ee-d47f-4b7f-893f-a75b9e943582",
   "metadata": {},
   "outputs": [],
   "source": []
  },
  {
   "cell_type": "code",
   "execution_count": null,
   "id": "7a2b521b-e7f5-47e0-a580-1edab4bd014e",
   "metadata": {},
   "outputs": [],
   "source": []
  },
  {
   "cell_type": "code",
   "execution_count": 26,
   "id": "0460747a-4f25-418e-a1bd-9e98f1296e70",
   "metadata": {},
   "outputs": [],
   "source": [
    "class Human:\n",
    "    def laugh():\n",
    "        print('you are laughing')\n",
    "    def cry():\n",
    "        print('you are crying')\n",
    "    def eat():\n",
    "        print('you are eating')"
   ]
  },
  {
   "cell_type": "code",
   "execution_count": 27,
   "id": "6e993421-e5ab-45f2-be98-2b21a5d6c333",
   "metadata": {},
   "outputs": [],
   "source": [
    "obj1 = Human"
   ]
  },
  {
   "cell_type": "code",
   "execution_count": 28,
   "id": "3766413d-d3b4-4ac5-83e5-82f8576e8127",
   "metadata": {},
   "outputs": [
    {
     "name": "stdout",
     "output_type": "stream",
     "text": [
      "you are laughing\n"
     ]
    }
   ],
   "source": [
    "obj1.laugh()"
   ]
  },
  {
   "cell_type": "code",
   "execution_count": 29,
   "id": "21d35b37-0c7d-4a9e-a95c-c76f90cb0aa4",
   "metadata": {},
   "outputs": [
    {
     "name": "stdout",
     "output_type": "stream",
     "text": [
      "you are laughing\n"
     ]
    }
   ],
   "source": [
    "Human.laugh()"
   ]
  },
  {
   "cell_type": "code",
   "execution_count": null,
   "id": "7eeb65a0-29c9-4cb1-a494-f16f22d8943a",
   "metadata": {},
   "outputs": [],
   "source": []
  }
 ],
 "metadata": {
  "kernelspec": {
   "display_name": "Python 3 (ipykernel)",
   "language": "python",
   "name": "python3"
  },
  "language_info": {
   "codemirror_mode": {
    "name": "ipython",
    "version": 3
   },
   "file_extension": ".py",
   "mimetype": "text/x-python",
   "name": "python",
   "nbconvert_exporter": "python",
   "pygments_lexer": "ipython3",
   "version": "3.11.7"
  }
 },
 "nbformat": 4,
 "nbformat_minor": 5
}
