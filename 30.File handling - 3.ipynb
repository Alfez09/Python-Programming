{
 "cells": [
  {
   "cell_type": "markdown",
   "id": "91555b31-774f-4fe9-ab58-a7bc35206885",
   "metadata": {},
   "source": [
    "## working on csv files\n",
    "\n"
   ]
  },
  {
   "cell_type": "code",
   "execution_count": null,
   "id": "5c9ffaa2-d860-4feb-a135-28218bd2251c",
   "metadata": {},
   "outputs": [],
   "source": []
  },
  {
   "cell_type": "code",
   "execution_count": 5,
   "id": "0765f7e6-79e3-42a8-a3b4-84fc3928fe63",
   "metadata": {},
   "outputs": [],
   "source": [
    "header = \"Name,Age,Address\\n\""
   ]
  },
  {
   "cell_type": "code",
   "execution_count": 2,
   "id": "07bebba9-911e-4fce-8130-53fa6ef2aafe",
   "metadata": {},
   "outputs": [],
   "source": [
    "with open('new2.txt', 'w') as f:\n",
    "    f.write(header)"
   ]
  },
  {
   "cell_type": "code",
   "execution_count": null,
   "id": "8c8a5c29-e9b8-45cf-bb75-c11c001a79a3",
   "metadata": {},
   "outputs": [],
   "source": []
  },
  {
   "cell_type": "code",
   "execution_count": 6,
   "id": "63baffa0-377b-48d8-84f3-4e271c09ad1a",
   "metadata": {},
   "outputs": [],
   "source": [
    "with open('data.csv', 'w') as f:\n",
    "    f.write(header)"
   ]
  },
  {
   "cell_type": "code",
   "execution_count": null,
   "id": "ea3f735b-e701-4c61-aa84-10424697fe7b",
   "metadata": {},
   "outputs": [],
   "source": []
  },
  {
   "cell_type": "code",
   "execution_count": 9,
   "id": "27a5aa78-1c56-470b-bdfd-d2ce3aeca013",
   "metadata": {},
   "outputs": [
    {
     "name": "stdin",
     "output_type": "stream",
     "text": [
      "How many rows you want to insert:  5\n",
      "Enter your name:  ashish\n",
      "Enter your age:  25\n",
      "Enter your address:  jaipur\n",
      "Enter your name:  rohan\n",
      "Enter your age:  25\n",
      "Enter your address:  jaipur\n",
      "Enter your name:  rahul\n",
      "Enter your age:  26\n",
      "Enter your address:  jaipur\n",
      "Enter your name:  akshat\n",
      "Enter your age:  29\n",
      "Enter your address:  jaipur\n",
      "Enter your name:  pratham\n",
      "Enter your age:  25\n",
      "Enter your address:  jaipur\n"
     ]
    }
   ],
   "source": [
    "with open('data.csv', 'a') as f:\n",
    "    N = int(input('How many rows you want to insert: '))\n",
    "    lines = \"\"\n",
    "    for i in range(N):\n",
    "        name = input('Enter your name: ')\n",
    "        age = int(input('Enter your age: '))\n",
    "        address = input('Enter your address: ')\n",
    "        row = f\"{name},{age},{address}\\n\"\n",
    "        lines += row\n",
    "    else:\n",
    "        f.write(lines)"
   ]
  },
  {
   "cell_type": "code",
   "execution_count": null,
   "id": "bcb7a683-6b40-45f1-a668-fe4d7762fae2",
   "metadata": {},
   "outputs": [],
   "source": []
  },
  {
   "cell_type": "code",
   "execution_count": null,
   "id": "5da01c09-8005-4274-a507-d13c439226b4",
   "metadata": {},
   "outputs": [],
   "source": []
  },
  {
   "cell_type": "code",
   "execution_count": null,
   "id": "0b15d571-6aa8-4d09-be34-a07a0768d650",
   "metadata": {},
   "outputs": [],
   "source": []
  },
  {
   "cell_type": "code",
   "execution_count": 7,
   "id": "aeb4b16a-1957-454b-8a96-1b5a02c50b93",
   "metadata": {},
   "outputs": [
    {
     "name": "stdin",
     "output_type": "stream",
     "text": [
      "How many rows you want to insert:  3\n",
      "Enter your name:  ashish\n",
      "Enter your age:  25\n",
      "Enter your address:  address\n",
      "Enter your name:  vaibhav\n",
      "Enter your age:  25\n",
      "Enter your address:  jaipur\n",
      "Enter your name:  aman\n",
      "Enter your age:  25\n",
      "Enter your address:  jaipur\n"
     ]
    }
   ],
   "source": [
    "N = int(input('How many rows you want to insert: '))\n",
    "lines = \"\"\n",
    "for i in range(N):\n",
    "    name = input('Enter your name: ')\n",
    "    age = int(input('Enter your age: '))\n",
    "    address = input('Enter your address: ')\n",
    "    row = f\"{name},{age},{address}\\n\"\n",
    "    lines += row"
   ]
  },
  {
   "cell_type": "code",
   "execution_count": 8,
   "id": "18d96844-e4d6-4b4d-be6a-35290d9bca05",
   "metadata": {},
   "outputs": [
    {
     "name": "stdout",
     "output_type": "stream",
     "text": [
      "ashish,25,address\n",
      "vaibhav,25,jaipur\n",
      "aman,25,jaipur\n",
      "\n"
     ]
    }
   ],
   "source": [
    "print(lines)"
   ]
  },
  {
   "cell_type": "code",
   "execution_count": null,
   "id": "4786670c-56b9-47c9-9cfc-741db77f7424",
   "metadata": {},
   "outputs": [],
   "source": []
  },
  {
   "cell_type": "code",
   "execution_count": null,
   "id": "45ed5eaa-6dfd-4e22-94bf-5cdc9e19da9e",
   "metadata": {},
   "outputs": [],
   "source": []
  },
  {
   "cell_type": "code",
   "execution_count": null,
   "id": "e0c30c90-3bea-430b-9be9-9f17db6096bb",
   "metadata": {},
   "outputs": [],
   "source": []
  }
 ],
 "metadata": {
  "kernelspec": {
   "display_name": "Python 3 (ipykernel)",
   "language": "python",
   "name": "python3"
  },
  "language_info": {
   "codemirror_mode": {
    "name": "ipython",
    "version": 3
   },
   "file_extension": ".py",
   "mimetype": "text/x-python",
   "name": "python",
   "nbconvert_exporter": "python",
   "pygments_lexer": "ipython3",
   "version": "3.11.7"
  }
 },
 "nbformat": 4,
 "nbformat_minor": 5
}
